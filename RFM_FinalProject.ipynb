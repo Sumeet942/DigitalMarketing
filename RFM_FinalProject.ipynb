{
 "cells": [
  {
   "cell_type": "code",
   "execution_count": 67,
   "metadata": {
    "scrolled": true
   },
   "outputs": [],
   "source": [
    "import numpy as np # linear algebra\n",
    "import pandas as pd # data processing, CSV file I/O (e.g. pd.read_csv)\n",
    "import seaborn as sns # visualizations\n",
    "import os\n",
    "from faker import Faker\n",
    "import csv\n",
    "import random\n",
    "fake = Faker('en_US')\n",
    "Faker.seed(0)\n",
    "from matplotlib import pyplot as plt\n",
    "import warnings\n",
    "warnings.simplefilter(\"ignore\")\n",
    "\n",
    "\n",
    "# import libraries\n",
    "from datetime import datetime, timedelta\n",
    "%matplotlib inline\n",
    "import matplotlib.pyplot as plt\n",
    "#from __future__ import division\n",
    "\n",
    "#import plotly.plotly as py\n",
    "#import plotly.offline as pyoff\n",
    "#import plotly.graph_objs as go\n",
    "\n",
    "#inititate Plotly\n",
    "#pyoff.init_notebook_mode()"
   ]
  },
  {
   "cell_type": "code",
   "execution_count": 68,
   "metadata": {},
   "outputs": [],
   "source": [
    "df = pd.read_csv('C:/Users/sumee/Downloads/e_commerce_synthetic_data.csv')"
   ]
  },
  {
   "cell_type": "code",
   "execution_count": 69,
   "metadata": {},
   "outputs": [
    {
     "data": {
      "text/plain": [
       "Index(['Unnamed: 0', 'user_session', 'campaign', 'promotion', 'channel',\n",
       "       'discount', 'user_id', 'Street Address', 'City', 'State', 'ZipCode',\n",
       "       'event_time', 'event_type', 'product_id', 'category_id',\n",
       "       'category_code', 'brand', 'price', 'selling_price'],\n",
       "      dtype='object')"
      ]
     },
     "execution_count": 69,
     "metadata": {},
     "output_type": "execute_result"
    }
   ],
   "source": [
    "df.columns"
   ]
  },
  {
   "cell_type": "code",
   "execution_count": 70,
   "metadata": {},
   "outputs": [],
   "source": [
    "df = df.drop(['Unnamed: 0'],axis =1)"
   ]
  },
  {
   "cell_type": "code",
   "execution_count": 71,
   "metadata": {},
   "outputs": [
    {
     "data": {
      "text/html": [
       "<div>\n",
       "<style scoped>\n",
       "    .dataframe tbody tr th:only-of-type {\n",
       "        vertical-align: middle;\n",
       "    }\n",
       "\n",
       "    .dataframe tbody tr th {\n",
       "        vertical-align: top;\n",
       "    }\n",
       "\n",
       "    .dataframe thead th {\n",
       "        text-align: right;\n",
       "    }\n",
       "</style>\n",
       "<table border=\"1\" class=\"dataframe\">\n",
       "  <thead>\n",
       "    <tr style=\"text-align: right;\">\n",
       "      <th></th>\n",
       "      <th>user_session</th>\n",
       "      <th>campaign</th>\n",
       "      <th>promotion</th>\n",
       "      <th>channel</th>\n",
       "      <th>discount</th>\n",
       "      <th>user_id</th>\n",
       "      <th>Street Address</th>\n",
       "      <th>City</th>\n",
       "      <th>State</th>\n",
       "      <th>ZipCode</th>\n",
       "      <th>event_time</th>\n",
       "      <th>event_type</th>\n",
       "      <th>product_id</th>\n",
       "      <th>category_id</th>\n",
       "      <th>category_code</th>\n",
       "      <th>brand</th>\n",
       "      <th>price</th>\n",
       "      <th>selling_price</th>\n",
       "    </tr>\n",
       "  </thead>\n",
       "  <tbody>\n",
       "    <tr>\n",
       "      <th>0</th>\n",
       "      <td>52dfd59b-9b58-40da-92ba-a62689d57bf6</td>\n",
       "      <td>Social Media</td>\n",
       "      <td>Discount</td>\n",
       "      <td>Desktop</td>\n",
       "      <td>15</td>\n",
       "      <td>526262645</td>\n",
       "      <td>9709 Mayo Forges</td>\n",
       "      <td>North Courtney</td>\n",
       "      <td>California</td>\n",
       "      <td>49901</td>\n",
       "      <td>2019-12-07 08:38:40 UTC</td>\n",
       "      <td>view</td>\n",
       "      <td>5560760</td>\n",
       "      <td>1487580006300255120</td>\n",
       "      <td>NaN</td>\n",
       "      <td>strong</td>\n",
       "      <td>201.59</td>\n",
       "      <td>171.3515</td>\n",
       "    </tr>\n",
       "    <tr>\n",
       "      <th>1</th>\n",
       "      <td>fb89ee20-a199-44ef-a88d-45a87b83fdc6</td>\n",
       "      <td>Social Media</td>\n",
       "      <td>Discount</td>\n",
       "      <td>Desktop</td>\n",
       "      <td>15</td>\n",
       "      <td>587745891</td>\n",
       "      <td>658 Garcia Road Apt. 885</td>\n",
       "      <td>North Jason</td>\n",
       "      <td>Wisconsin</td>\n",
       "      <td>86227</td>\n",
       "      <td>2019-12-16 16:23:23 UTC</td>\n",
       "      <td>view</td>\n",
       "      <td>5698325</td>\n",
       "      <td>1487580011752849537</td>\n",
       "      <td>NaN</td>\n",
       "      <td>estelare</td>\n",
       "      <td>5.16</td>\n",
       "      <td>4.3860</td>\n",
       "    </tr>\n",
       "    <tr>\n",
       "      <th>2</th>\n",
       "      <td>2549b8b7-e140-4201-9c00-a300d468da60</td>\n",
       "      <td>E-mail</td>\n",
       "      <td>Discount</td>\n",
       "      <td>Desktop</td>\n",
       "      <td>10</td>\n",
       "      <td>609425296</td>\n",
       "      <td>068 Mark Ville</td>\n",
       "      <td>Port Richard</td>\n",
       "      <td>Illinois</td>\n",
       "      <td>26100</td>\n",
       "      <td>2020-02-02 10:51:18 UTC</td>\n",
       "      <td>view</td>\n",
       "      <td>5769925</td>\n",
       "      <td>1487580013841613016</td>\n",
       "      <td>NaN</td>\n",
       "      <td>kapous</td>\n",
       "      <td>4.22</td>\n",
       "      <td>3.7980</td>\n",
       "    </tr>\n",
       "    <tr>\n",
       "      <th>3</th>\n",
       "      <td>4cf6df21-216a-409e-ba43-e8c4d4bf0c6d</td>\n",
       "      <td>Social Media</td>\n",
       "      <td>Discount</td>\n",
       "      <td>Desktop</td>\n",
       "      <td>10</td>\n",
       "      <td>553325629</td>\n",
       "      <td>6753 Haas Streets Apt. 170</td>\n",
       "      <td>Markbury</td>\n",
       "      <td>Illinois</td>\n",
       "      <td>13534</td>\n",
       "      <td>2019-11-04 13:54:47 UTC</td>\n",
       "      <td>view</td>\n",
       "      <td>5584836</td>\n",
       "      <td>1487580013581566154</td>\n",
       "      <td>NaN</td>\n",
       "      <td>levissime</td>\n",
       "      <td>4.95</td>\n",
       "      <td>4.4550</td>\n",
       "    </tr>\n",
       "    <tr>\n",
       "      <th>4</th>\n",
       "      <td>4cf6df21-216a-409e-ba43-e8c4d4bf0c6d</td>\n",
       "      <td>Social Media</td>\n",
       "      <td>Discount</td>\n",
       "      <td>Desktop</td>\n",
       "      <td>10</td>\n",
       "      <td>553325629</td>\n",
       "      <td>6753 Haas Streets Apt. 170</td>\n",
       "      <td>Markbury</td>\n",
       "      <td>Illinois</td>\n",
       "      <td>13534</td>\n",
       "      <td>2019-11-04 13:55:09 UTC</td>\n",
       "      <td>cart</td>\n",
       "      <td>5304</td>\n",
       "      <td>1487580009471148064</td>\n",
       "      <td>NaN</td>\n",
       "      <td>runail</td>\n",
       "      <td>0.32</td>\n",
       "      <td>0.2880</td>\n",
       "    </tr>\n",
       "  </tbody>\n",
       "</table>\n",
       "</div>"
      ],
      "text/plain": [
       "                           user_session      campaign promotion  channel  \\\n",
       "0  52dfd59b-9b58-40da-92ba-a62689d57bf6  Social Media  Discount  Desktop   \n",
       "1  fb89ee20-a199-44ef-a88d-45a87b83fdc6  Social Media  Discount  Desktop   \n",
       "2  2549b8b7-e140-4201-9c00-a300d468da60        E-mail  Discount  Desktop   \n",
       "3  4cf6df21-216a-409e-ba43-e8c4d4bf0c6d  Social Media  Discount  Desktop   \n",
       "4  4cf6df21-216a-409e-ba43-e8c4d4bf0c6d  Social Media  Discount  Desktop   \n",
       "\n",
       "   discount    user_id              Street Address            City  \\\n",
       "0        15  526262645            9709 Mayo Forges  North Courtney   \n",
       "1        15  587745891    658 Garcia Road Apt. 885     North Jason   \n",
       "2        10  609425296              068 Mark Ville    Port Richard   \n",
       "3        10  553325629  6753 Haas Streets Apt. 170        Markbury   \n",
       "4        10  553325629  6753 Haas Streets Apt. 170        Markbury   \n",
       "\n",
       "        State  ZipCode               event_time event_type  product_id  \\\n",
       "0  California    49901  2019-12-07 08:38:40 UTC       view     5560760   \n",
       "1   Wisconsin    86227  2019-12-16 16:23:23 UTC       view     5698325   \n",
       "2    Illinois    26100  2020-02-02 10:51:18 UTC       view     5769925   \n",
       "3    Illinois    13534  2019-11-04 13:54:47 UTC       view     5584836   \n",
       "4    Illinois    13534  2019-11-04 13:55:09 UTC       cart        5304   \n",
       "\n",
       "           category_id category_code      brand   price  selling_price  \n",
       "0  1487580006300255120           NaN     strong  201.59       171.3515  \n",
       "1  1487580011752849537           NaN   estelare    5.16         4.3860  \n",
       "2  1487580013841613016           NaN     kapous    4.22         3.7980  \n",
       "3  1487580013581566154           NaN  levissime    4.95         4.4550  \n",
       "4  1487580009471148064           NaN     runail    0.32         0.2880  "
      ]
     },
     "execution_count": 71,
     "metadata": {},
     "output_type": "execute_result"
    }
   ],
   "source": [
    "df.head()"
   ]
  },
  {
   "cell_type": "code",
   "execution_count": 72,
   "metadata": {},
   "outputs": [
    {
     "data": {
      "text/plain": [
       "count    1.193275e+07\n",
       "mean     9.469737e+00\n",
       "std      2.150771e+01\n",
       "min      0.000000e+00\n",
       "25%      2.210000e+00\n",
       "50%      4.110000e+00\n",
       "75%      7.140000e+00\n",
       "max      3.277800e+02\n",
       "Name: price, dtype: float64"
      ]
     },
     "execution_count": 72,
     "metadata": {},
     "output_type": "execute_result"
    }
   ],
   "source": [
    "df.price.describe()"
   ]
  },
  {
   "cell_type": "code",
   "execution_count": 73,
   "metadata": {},
   "outputs": [
    {
     "data": {
      "image/png": "[encoded data removed]",
      "text/plain": [
       "<Figure size 432x288 with 1 Axes>"
      ]
     },
     "metadata": {
      "needs_background": "light"
     },
     "output_type": "display_data"
    }
   ],
   "source": [
    "null_values = pd.DataFrame(100*(df.isnull().sum()/len(df)),columns=['count_value'])\n",
    "ax = sns.barplot(null_values.count_value,null_values.index)"
   ]
  },
  {
   "cell_type": "code",
   "execution_count": 74,
   "metadata": {},
   "outputs": [],
   "source": [
    "# df = df.drop(['category_code'],axis =1)"
   ]
  },
  {
   "cell_type": "code",
   "execution_count": 75,
   "metadata": {},
   "outputs": [
    {
     "data": {
      "text/plain": [
       "737314"
      ]
     },
     "execution_count": 75,
     "metadata": {},
     "output_type": "execute_result"
    }
   ],
   "source": [
    "len(df[df.event_type == 'purchase'])"
   ]
  },
  {
   "cell_type": "code",
   "execution_count": 76,
   "metadata": {},
   "outputs": [],
   "source": [
    "df_purchased = df[df.event_type == 'purchase'].reset_index(drop = True)"
   ]
  },
  {
   "cell_type": "code",
   "execution_count": 158,
   "metadata": {
    "scrolled": true
   },
   "outputs": [
    {
     "name": "stdout",
     "output_type": "stream",
     "text": [
      "<class 'pandas.core.frame.DataFrame'>\n",
      "RangeIndex: 737314 entries, 0 to 737313\n",
      "Data columns (total 18 columns):\n",
      " #   Column          Non-Null Count   Dtype         \n",
      "---  ------          --------------   -----         \n",
      " 0   user_session    737314 non-null  object        \n",
      " 1   campaign        737314 non-null  object        \n",
      " 2   promotion       737314 non-null  object        \n",
      " 3   channel         737314 non-null  object        \n",
      " 4   discount        737314 non-null  int64         \n",
      " 5   user_id         737314 non-null  int64         \n",
      " 6   Street Address  737314 non-null  object        \n",
      " 7   City            737314 non-null  object        \n",
      " 8   State           737314 non-null  object        \n",
      " 9   ZipCode         737314 non-null  int64         \n",
      " 10  event_time      737314 non-null  datetime64[ns]\n",
      " 11  event_type      737314 non-null  object        \n",
      " 12  product_id      737314 non-null  int64         \n",
      " 13  category_id     737314 non-null  int64         \n",
      " 14  category_code   13847 non-null   object        \n",
      " 15  brand           737314 non-null  object        \n",
      " 16  price           737314 non-null  float64       \n",
      " 17  selling_price   737314 non-null  float64       \n",
      "dtypes: datetime64[ns](1), float64(2), int64(5), object(10)\n",
      "memory usage: 101.3+ MB\n"
     ]
    }
   ],
   "source": [
    "df_purchased.info()"
   ]
  },
  {
   "cell_type": "code",
   "execution_count": 78,
   "metadata": {},
   "outputs": [],
   "source": [
    "#create a generic user dataframe to keep CustomerID and new segmentation scores\n",
    "df_users_purchased = pd.DataFrame(df_purchased['user_id'].unique())"
   ]
  },
  {
   "cell_type": "code",
   "execution_count": 79,
   "metadata": {},
   "outputs": [],
   "source": [
    "df_users_purchased.columns = ['user_id']"
   ]
  },
  {
   "cell_type": "code",
   "execution_count": 155,
   "metadata": {},
   "outputs": [
    {
     "ename": "AttributeError",
     "evalue": "'DataFrame' object has no attribute 'selling_price'",
     "output_type": "error",
     "traceback": [
      "\u001b[1;31m---------------------------------------------------------------------------\u001b[0m",
      "\u001b[1;31mAttributeError\u001b[0m                            Traceback (most recent call last)",
      "\u001b[1;32m<ipython-input-155-0c622a632bbe>\u001b[0m in \u001b[0;36m<module>\u001b[1;34m\u001b[0m\n\u001b[1;32m----> 1\u001b[1;33m \u001b[0mdf_users_purchased\u001b[0m\u001b[1;33m.\u001b[0m\u001b[0mselling_price\u001b[0m\u001b[1;33m.\u001b[0m\u001b[0minfo\u001b[0m\u001b[1;33m(\u001b[0m\u001b[1;33m)\u001b[0m\u001b[1;33m\u001b[0m\u001b[1;33m\u001b[0m\u001b[0m\n\u001b[0m",
      "\u001b[1;32m~\\Anaconda3\\lib\\site-packages\\pandas\\core\\generic.py\u001b[0m in \u001b[0;36m__getattr__\u001b[1;34m(self, name)\u001b[0m\n\u001b[0;32m   5272\u001b[0m             \u001b[1;32mif\u001b[0m \u001b[0mself\u001b[0m\u001b[1;33m.\u001b[0m\u001b[0m_info_axis\u001b[0m\u001b[1;33m.\u001b[0m\u001b[0m_can_hold_identifiers_and_holds_name\u001b[0m\u001b[1;33m(\u001b[0m\u001b[0mname\u001b[0m\u001b[1;33m)\u001b[0m\u001b[1;33m:\u001b[0m\u001b[1;33m\u001b[0m\u001b[1;33m\u001b[0m\u001b[0m\n\u001b[0;32m   5273\u001b[0m                 \u001b[1;32mreturn\u001b[0m \u001b[0mself\u001b[0m\u001b[1;33m[\u001b[0m\u001b[0mname\u001b[0m\u001b[1;33m]\u001b[0m\u001b[1;33m\u001b[0m\u001b[1;33m\u001b[0m\u001b[0m\n\u001b[1;32m-> 5274\u001b[1;33m             \u001b[1;32mreturn\u001b[0m \u001b[0mobject\u001b[0m\u001b[1;33m.\u001b[0m\u001b[0m__getattribute__\u001b[0m\u001b[1;33m(\u001b[0m\u001b[0mself\u001b[0m\u001b[1;33m,\u001b[0m \u001b[0mname\u001b[0m\u001b[1;33m)\u001b[0m\u001b[1;33m\u001b[0m\u001b[1;33m\u001b[0m\u001b[0m\n\u001b[0m\u001b[0;32m   5275\u001b[0m \u001b[1;33m\u001b[0m\u001b[0m\n\u001b[0;32m   5276\u001b[0m     \u001b[1;32mdef\u001b[0m \u001b[0m__setattr__\u001b[0m\u001b[1;33m(\u001b[0m\u001b[0mself\u001b[0m\u001b[1;33m,\u001b[0m \u001b[0mname\u001b[0m\u001b[1;33m:\u001b[0m \u001b[0mstr\u001b[0m\u001b[1;33m,\u001b[0m \u001b[0mvalue\u001b[0m\u001b[1;33m)\u001b[0m \u001b[1;33m->\u001b[0m \u001b[1;32mNone\u001b[0m\u001b[1;33m:\u001b[0m\u001b[1;33m\u001b[0m\u001b[1;33m\u001b[0m\u001b[0m\n",
      "\u001b[1;31mAttributeError\u001b[0m: 'DataFrame' object has no attribute 'selling_price'"
     ]
    }
   ],
   "source": [
    "len(df_users_purchased)"
   ]
  },
  {
   "cell_type": "code",
   "execution_count": 81,
   "metadata": {},
   "outputs": [],
   "source": [
    "recency_df = df_purchased.groupby('user_id').event_time.max().reset_index()\n",
    "recency_df.columns = ['user_id','LastPurchaseDate']"
   ]
  },
  {
   "cell_type": "code",
   "execution_count": 82,
   "metadata": {},
   "outputs": [
    {
     "data": {
      "text/plain": [
       "98458"
      ]
     },
     "execution_count": 82,
     "metadata": {},
     "output_type": "execute_result"
    }
   ],
   "source": [
    "len(recency_df)"
   ]
  },
  {
   "cell_type": "code",
   "execution_count": 83,
   "metadata": {},
   "outputs": [
    {
     "name": "stdout",
     "output_type": "stream",
     "text": [
      "<class 'pandas.core.frame.DataFrame'>\n",
      "RangeIndex: 98458 entries, 0 to 98457\n",
      "Data columns (total 2 columns):\n",
      " #   Column            Non-Null Count  Dtype \n",
      "---  ------            --------------  ----- \n",
      " 0   user_id           98458 non-null  int64 \n",
      " 1   LastPurchaseDate  98458 non-null  object\n",
      "dtypes: int64(1), object(1)\n",
      "memory usage: 1.5+ MB\n"
     ]
    }
   ],
   "source": [
    "recency_df.info()"
   ]
  },
  {
   "cell_type": "code",
   "execution_count": 84,
   "metadata": {},
   "outputs": [],
   "source": [
    "recency_df['LastPurchaseDate'] = pd.to_datetime(recency_df['LastPurchaseDate'])"
   ]
  },
  {
   "cell_type": "code",
   "execution_count": 85,
   "metadata": {},
   "outputs": [],
   "source": [
    "recency_df['LastPurchaseDate'] = recency_df['LastPurchaseDate'].dt.tz_localize(None)"
   ]
  },
  {
   "cell_type": "code",
   "execution_count": 86,
   "metadata": {},
   "outputs": [],
   "source": [
    "import datetime as dt\n",
    "import timezones\n",
    "from datetime import datetime, timezone\n",
    "\n",
    "now = datetime(2020, 3, 31, 0, 0, 0)"
   ]
  },
  {
   "cell_type": "code",
   "execution_count": 87,
   "metadata": {},
   "outputs": [],
   "source": [
    "recency_df['Recency'] = recency_df.LastPurchaseDate.apply(lambda x : (now - x).days)"
   ]
  },
  {
   "cell_type": "code",
   "execution_count": 88,
   "metadata": {},
   "outputs": [
    {
     "data": {
      "text/html": [
       "<div>\n",
       "<style scoped>\n",
       "    .dataframe tbody tr th:only-of-type {\n",
       "        vertical-align: middle;\n",
       "    }\n",
       "\n",
       "    .dataframe tbody tr th {\n",
       "        vertical-align: top;\n",
       "    }\n",
       "\n",
       "    .dataframe thead th {\n",
       "        text-align: right;\n",
       "    }\n",
       "</style>\n",
       "<table border=\"1\" class=\"dataframe\">\n",
       "  <thead>\n",
       "    <tr style=\"text-align: right;\">\n",
       "      <th></th>\n",
       "      <th>user_id</th>\n",
       "      <th>LastPurchaseDate</th>\n",
       "      <th>Recency</th>\n",
       "    </tr>\n",
       "  </thead>\n",
       "  <tbody>\n",
       "    <tr>\n",
       "      <th>0</th>\n",
       "      <td>9794320</td>\n",
       "      <td>2019-11-25 05:07:13</td>\n",
       "      <td>126</td>\n",
       "    </tr>\n",
       "    <tr>\n",
       "      <th>1</th>\n",
       "      <td>10079204</td>\n",
       "      <td>2019-11-06 10:43:30</td>\n",
       "      <td>145</td>\n",
       "    </tr>\n",
       "    <tr>\n",
       "      <th>2</th>\n",
       "      <td>10280338</td>\n",
       "      <td>2020-02-19 15:21:31</td>\n",
       "      <td>40</td>\n",
       "    </tr>\n",
       "    <tr>\n",
       "      <th>3</th>\n",
       "      <td>12055855</td>\n",
       "      <td>2019-12-20 12:05:29</td>\n",
       "      <td>101</td>\n",
       "    </tr>\n",
       "    <tr>\n",
       "      <th>4</th>\n",
       "      <td>12936739</td>\n",
       "      <td>2020-01-17 07:51:19</td>\n",
       "      <td>73</td>\n",
       "    </tr>\n",
       "  </tbody>\n",
       "</table>\n",
       "</div>"
      ],
      "text/plain": [
       "    user_id    LastPurchaseDate  Recency\n",
       "0   9794320 2019-11-25 05:07:13      126\n",
       "1  10079204 2019-11-06 10:43:30      145\n",
       "2  10280338 2020-02-19 15:21:31       40\n",
       "3  12055855 2019-12-20 12:05:29      101\n",
       "4  12936739 2020-01-17 07:51:19       73"
      ]
     },
     "execution_count": 88,
     "metadata": {},
     "output_type": "execute_result"
    }
   ],
   "source": [
    "recency_df.head()"
   ]
  },
  {
   "cell_type": "code",
   "execution_count": 89,
   "metadata": {},
   "outputs": [
    {
     "data": {
      "text/plain": [
       "98458"
      ]
     },
     "execution_count": 89,
     "metadata": {},
     "output_type": "execute_result"
    }
   ],
   "source": [
    "len(recency_df.user_id)"
   ]
  },
  {
   "cell_type": "code",
   "execution_count": 90,
   "metadata": {},
   "outputs": [],
   "source": [
    "df_purchased['event_time'] = pd.to_datetime(df_purchased['event_time'])"
   ]
  },
  {
   "cell_type": "code",
   "execution_count": 91,
   "metadata": {},
   "outputs": [],
   "source": [
    "df_purchased['event_time'] = df_purchased['event_time'].dt.tz_localize(None)"
   ]
  },
  {
   "cell_type": "code",
   "execution_count": 92,
   "metadata": {
    "scrolled": true
   },
   "outputs": [
    {
     "data": {
      "text/html": [
       "<div>\n",
       "<style scoped>\n",
       "    .dataframe tbody tr th:only-of-type {\n",
       "        vertical-align: middle;\n",
       "    }\n",
       "\n",
       "    .dataframe tbody tr th {\n",
       "        vertical-align: top;\n",
       "    }\n",
       "\n",
       "    .dataframe thead th {\n",
       "        text-align: right;\n",
       "    }\n",
       "</style>\n",
       "<table border=\"1\" class=\"dataframe\">\n",
       "  <thead>\n",
       "    <tr style=\"text-align: right;\">\n",
       "      <th></th>\n",
       "      <th>user_id</th>\n",
       "      <th>Frequency</th>\n",
       "    </tr>\n",
       "  </thead>\n",
       "  <tbody>\n",
       "    <tr>\n",
       "      <th>0</th>\n",
       "      <td>9794320</td>\n",
       "      <td>1</td>\n",
       "    </tr>\n",
       "    <tr>\n",
       "      <th>1</th>\n",
       "      <td>10079204</td>\n",
       "      <td>1</td>\n",
       "    </tr>\n",
       "    <tr>\n",
       "      <th>2</th>\n",
       "      <td>10280338</td>\n",
       "      <td>5</td>\n",
       "    </tr>\n",
       "    <tr>\n",
       "      <th>3</th>\n",
       "      <td>12055855</td>\n",
       "      <td>1</td>\n",
       "    </tr>\n",
       "    <tr>\n",
       "      <th>4</th>\n",
       "      <td>12936739</td>\n",
       "      <td>1</td>\n",
       "    </tr>\n",
       "  </tbody>\n",
       "</table>\n",
       "</div>"
      ],
      "text/plain": [
       "    user_id  Frequency\n",
       "0   9794320          1\n",
       "1  10079204          1\n",
       "2  10280338          5\n",
       "3  12055855          1\n",
       "4  12936739          1"
      ]
     },
     "execution_count": 92,
     "metadata": {},
     "output_type": "execute_result"
    }
   ],
   "source": [
    "#check frequency of customer means how many transaction has been done..\n",
    "\n",
    "frequency_df = df_purchased.copy()\n",
    "frequency_df.drop_duplicates(subset=['user_id','event_time'], keep=\"first\", inplace=True) \n",
    "frequency_df = frequency_df.groupby('user_id',as_index=False)['event_time'].count()\n",
    "frequency_df.columns = ['user_id','Frequency']\n",
    "frequency_df.head()"
   ]
  },
  {
   "cell_type": "code",
   "execution_count": 93,
   "metadata": {},
   "outputs": [
    {
     "data": {
      "text/plain": [
       "98458"
      ]
     },
     "execution_count": 93,
     "metadata": {},
     "output_type": "execute_result"
    }
   ],
   "source": [
    "len(frequency_df.user_id.unique())"
   ]
  },
  {
   "cell_type": "code",
   "execution_count": 159,
   "metadata": {},
   "outputs": [],
   "source": [
    "monetary_df=df_purchased.groupby(['user_id'],as_index=False)['selling_price'].sum()\n",
    "monetary_df.columns = ['user_id','Monetary']"
   ]
  },
  {
   "cell_type": "code",
   "execution_count": 160,
   "metadata": {},
   "outputs": [
    {
     "data": {
      "text/plain": [
       "count    98458.000000\n",
       "mean        36.069116\n",
       "std         56.513231\n",
       "min          0.051000\n",
       "25%          9.639000\n",
       "50%         19.411500\n",
       "75%         40.180000\n",
       "max       2357.095000\n",
       "Name: Monetary, dtype: float64"
      ]
     },
     "execution_count": 160,
     "metadata": {},
     "output_type": "execute_result"
    }
   ],
   "source": [
    "monetary_df.Monetary.describe()"
   ]
  },
  {
   "cell_type": "code",
   "execution_count": 161,
   "metadata": {},
   "outputs": [
    {
     "data": {
      "text/html": [
       "<div>\n",
       "<style scoped>\n",
       "    .dataframe tbody tr th:only-of-type {\n",
       "        vertical-align: middle;\n",
       "    }\n",
       "\n",
       "    .dataframe tbody tr th {\n",
       "        vertical-align: top;\n",
       "    }\n",
       "\n",
       "    .dataframe thead th {\n",
       "        text-align: right;\n",
       "    }\n",
       "</style>\n",
       "<table border=\"1\" class=\"dataframe\">\n",
       "  <thead>\n",
       "    <tr style=\"text-align: right;\">\n",
       "      <th></th>\n",
       "      <th>LastPurchaseDate</th>\n",
       "      <th>Recency</th>\n",
       "      <th>Frequency</th>\n",
       "      <th>Monetary</th>\n",
       "    </tr>\n",
       "    <tr>\n",
       "      <th>user_id</th>\n",
       "      <th></th>\n",
       "      <th></th>\n",
       "      <th></th>\n",
       "      <th></th>\n",
       "    </tr>\n",
       "  </thead>\n",
       "  <tbody>\n",
       "    <tr>\n",
       "      <th>9794320</th>\n",
       "      <td>2019-11-25 05:07:13</td>\n",
       "      <td>126</td>\n",
       "      <td>1</td>\n",
       "      <td>10.778</td>\n",
       "    </tr>\n",
       "    <tr>\n",
       "      <th>10079204</th>\n",
       "      <td>2019-11-06 10:43:30</td>\n",
       "      <td>145</td>\n",
       "      <td>1</td>\n",
       "      <td>20.648</td>\n",
       "    </tr>\n",
       "    <tr>\n",
       "      <th>10280338</th>\n",
       "      <td>2020-02-19 15:21:31</td>\n",
       "      <td>40</td>\n",
       "      <td>5</td>\n",
       "      <td>62.616</td>\n",
       "    </tr>\n",
       "    <tr>\n",
       "      <th>12055855</th>\n",
       "      <td>2019-12-20 12:05:29</td>\n",
       "      <td>101</td>\n",
       "      <td>1</td>\n",
       "      <td>16.540</td>\n",
       "    </tr>\n",
       "    <tr>\n",
       "      <th>12936739</th>\n",
       "      <td>2020-01-17 07:51:19</td>\n",
       "      <td>73</td>\n",
       "      <td>1</td>\n",
       "      <td>26.970</td>\n",
       "    </tr>\n",
       "  </tbody>\n",
       "</table>\n",
       "</div>"
      ],
      "text/plain": [
       "            LastPurchaseDate  Recency  Frequency  Monetary\n",
       "user_id                                                   \n",
       "9794320  2019-11-25 05:07:13      126          1    10.778\n",
       "10079204 2019-11-06 10:43:30      145          1    20.648\n",
       "10280338 2020-02-19 15:21:31       40          5    62.616\n",
       "12055855 2019-12-20 12:05:29      101          1    16.540\n",
       "12936739 2020-01-17 07:51:19       73          1    26.970"
      ]
     },
     "execution_count": 161,
     "metadata": {},
     "output_type": "execute_result"
    }
   ],
   "source": [
    "#Combine all together all dataframe in so we have recency, frequency and monetary values together..\n",
    "\n",
    "#combine first recency and frequency.\n",
    "rf = recency_df.merge(frequency_df,on='user_id')\n",
    "\n",
    "#combibe rf frame with monetary values.\n",
    "\n",
    "rfm = rf.merge(monetary_df,left_on='user_id',right_on='user_id')\n",
    "\n",
    "rfm.set_index('user_id',inplace=True)\n",
    "\n",
    "rfm.head()"
   ]
  },
  {
   "cell_type": "code",
   "execution_count": 162,
   "metadata": {},
   "outputs": [],
   "source": [
    "rfm = rfm.drop(['LastPurchaseDate'], axis=1)"
   ]
  },
  {
   "cell_type": "code",
   "execution_count": 163,
   "metadata": {},
   "outputs": [
    {
     "data": {
      "text/html": [
       "<div>\n",
       "<style scoped>\n",
       "    .dataframe tbody tr th:only-of-type {\n",
       "        vertical-align: middle;\n",
       "    }\n",
       "\n",
       "    .dataframe tbody tr th {\n",
       "        vertical-align: top;\n",
       "    }\n",
       "\n",
       "    .dataframe thead th {\n",
       "        text-align: right;\n",
       "    }\n",
       "</style>\n",
       "<table border=\"1\" class=\"dataframe\">\n",
       "  <thead>\n",
       "    <tr style=\"text-align: right;\">\n",
       "      <th></th>\n",
       "      <th>Recency</th>\n",
       "      <th>Frequency</th>\n",
       "      <th>Monetary</th>\n",
       "    </tr>\n",
       "    <tr>\n",
       "      <th>user_id</th>\n",
       "      <th></th>\n",
       "      <th></th>\n",
       "      <th></th>\n",
       "    </tr>\n",
       "  </thead>\n",
       "  <tbody>\n",
       "    <tr>\n",
       "      <th>9794320</th>\n",
       "      <td>126</td>\n",
       "      <td>1</td>\n",
       "      <td>10.778</td>\n",
       "    </tr>\n",
       "    <tr>\n",
       "      <th>10079204</th>\n",
       "      <td>145</td>\n",
       "      <td>1</td>\n",
       "      <td>20.648</td>\n",
       "    </tr>\n",
       "    <tr>\n",
       "      <th>10280338</th>\n",
       "      <td>40</td>\n",
       "      <td>5</td>\n",
       "      <td>62.616</td>\n",
       "    </tr>\n",
       "    <tr>\n",
       "      <th>12055855</th>\n",
       "      <td>101</td>\n",
       "      <td>1</td>\n",
       "      <td>16.540</td>\n",
       "    </tr>\n",
       "    <tr>\n",
       "      <th>12936739</th>\n",
       "      <td>73</td>\n",
       "      <td>1</td>\n",
       "      <td>26.970</td>\n",
       "    </tr>\n",
       "  </tbody>\n",
       "</table>\n",
       "</div>"
      ],
      "text/plain": [
       "          Recency  Frequency  Monetary\n",
       "user_id                               \n",
       "9794320       126          1    10.778\n",
       "10079204      145          1    20.648\n",
       "10280338       40          5    62.616\n",
       "12055855      101          1    16.540\n",
       "12936739       73          1    26.970"
      ]
     },
     "execution_count": 163,
     "metadata": {},
     "output_type": "execute_result"
    }
   ],
   "source": [
    "rfm.head()"
   ]
  },
  {
   "cell_type": "code",
   "execution_count": 164,
   "metadata": {},
   "outputs": [],
   "source": [
    "rfm_segmentation = rfm.copy()"
   ]
  },
  {
   "cell_type": "code",
   "execution_count": 165,
   "metadata": {
    "scrolled": true
   },
   "outputs": [
    {
     "data": {
      "text/html": [
       "<div>\n",
       "<style scoped>\n",
       "    .dataframe tbody tr th:only-of-type {\n",
       "        vertical-align: middle;\n",
       "    }\n",
       "\n",
       "    .dataframe tbody tr th {\n",
       "        vertical-align: top;\n",
       "    }\n",
       "\n",
       "    .dataframe thead th {\n",
       "        text-align: right;\n",
       "    }\n",
       "</style>\n",
       "<table border=\"1\" class=\"dataframe\">\n",
       "  <thead>\n",
       "    <tr style=\"text-align: right;\">\n",
       "      <th></th>\n",
       "      <th>Recency</th>\n",
       "      <th>Frequency</th>\n",
       "      <th>Monetary</th>\n",
       "    </tr>\n",
       "    <tr>\n",
       "      <th>user_id</th>\n",
       "      <th></th>\n",
       "      <th></th>\n",
       "      <th></th>\n",
       "    </tr>\n",
       "  </thead>\n",
       "  <tbody>\n",
       "    <tr>\n",
       "      <th>9794320</th>\n",
       "      <td>126</td>\n",
       "      <td>1</td>\n",
       "      <td>10.778</td>\n",
       "    </tr>\n",
       "    <tr>\n",
       "      <th>10079204</th>\n",
       "      <td>145</td>\n",
       "      <td>1</td>\n",
       "      <td>20.648</td>\n",
       "    </tr>\n",
       "    <tr>\n",
       "      <th>10280338</th>\n",
       "      <td>40</td>\n",
       "      <td>5</td>\n",
       "      <td>62.616</td>\n",
       "    </tr>\n",
       "    <tr>\n",
       "      <th>12055855</th>\n",
       "      <td>101</td>\n",
       "      <td>1</td>\n",
       "      <td>16.540</td>\n",
       "    </tr>\n",
       "    <tr>\n",
       "      <th>12936739</th>\n",
       "      <td>73</td>\n",
       "      <td>1</td>\n",
       "      <td>26.970</td>\n",
       "    </tr>\n",
       "  </tbody>\n",
       "</table>\n",
       "</div>"
      ],
      "text/plain": [
       "          Recency  Frequency  Monetary\n",
       "user_id                               \n",
       "9794320       126          1    10.778\n",
       "10079204      145          1    20.648\n",
       "10280338       40          5    62.616\n",
       "12055855      101          1    16.540\n",
       "12936739       73          1    26.970"
      ]
     },
     "execution_count": 165,
     "metadata": {},
     "output_type": "execute_result"
    }
   ],
   "source": [
    "rfm_segmentation.head()"
   ]
  },
  {
   "cell_type": "markdown",
   "metadata": {},
   "source": [
    "We are going to apply K-means clustering to assign a recency score. But we should tell how many clusters we need to K-means algorithm. To find it out, we will apply Elbow Method. Elbow Method simply tells the optimal cluster number for optimal inertia"
   ]
  },
  {
   "cell_type": "code",
   "execution_count": 166,
   "metadata": {},
   "outputs": [
    {
     "data": {
      "image/png": "[encoded data removed]",
      "text/plain": [
       "<Figure size 432x288 with 1 Axes>"
      ]
     },
     "metadata": {
      "needs_background": "light"
     },
     "output_type": "display_data"
    }
   ],
   "source": [
    "from sklearn.cluster import KMeans\n",
    "# get right number of cluster for K-means so we neeed to loop from 1 to 20 number of cluster and check score.\n",
    "#Elbow method is used to represnt that. \n",
    "Nc = range(1, 10)\n",
    "kmeans = [KMeans(n_clusters=i) for i in Nc]\n",
    "score = [kmeans[i].fit(rfm_segmentation).score(rfm_segmentation) for i in range(len(kmeans))]\n",
    "plt.plot(Nc,score)\n",
    "plt.xlabel('Number of Clusters')\n",
    "plt.ylabel('Score')\n",
    "plt.title('Elbow Curve')\n",
    "plt.show()"
   ]
  },
  {
   "cell_type": "code",
   "execution_count": 167,
   "metadata": {},
   "outputs": [],
   "source": [
    "#fitting data in Kmeans theorem.\n",
    "kmeans = KMeans(n_clusters=3, random_state=0).fit(rfm_segmentation)"
   ]
  },
  {
   "cell_type": "code",
   "execution_count": 168,
   "metadata": {},
   "outputs": [],
   "source": [
    "# this creates a new column called cluster which has cluster number for each row respectively.\n",
    "rfm_segmentation['cluster'] = kmeans.labels_"
   ]
  },
  {
   "cell_type": "code",
   "execution_count": 169,
   "metadata": {},
   "outputs": [
    {
     "data": {
      "text/plain": [
       "1    48167\n",
       "0    45833\n",
       "2     4458\n",
       "Name: cluster, dtype: int64"
      ]
     },
     "execution_count": 169,
     "metadata": {},
     "output_type": "execute_result"
    }
   ],
   "source": [
    "#check our hypothesis\n",
    "\n",
    "rfm_segmentation.cluster.value_counts()"
   ]
  },
  {
   "cell_type": "code",
   "execution_count": 170,
   "metadata": {},
   "outputs": [
    {
     "data": {
      "text/html": [
       "<div>\n",
       "<style scoped>\n",
       "    .dataframe tbody tr th:only-of-type {\n",
       "        vertical-align: middle;\n",
       "    }\n",
       "\n",
       "    .dataframe tbody tr th {\n",
       "        vertical-align: top;\n",
       "    }\n",
       "\n",
       "    .dataframe thead th {\n",
       "        text-align: right;\n",
       "    }\n",
       "</style>\n",
       "<table border=\"1\" class=\"dataframe\">\n",
       "  <thead>\n",
       "    <tr style=\"text-align: right;\">\n",
       "      <th></th>\n",
       "      <th>Recency</th>\n",
       "      <th>Frequency</th>\n",
       "      <th>Monetary</th>\n",
       "      <th>cluster</th>\n",
       "    </tr>\n",
       "    <tr>\n",
       "      <th>user_id</th>\n",
       "      <th></th>\n",
       "      <th></th>\n",
       "      <th></th>\n",
       "      <th></th>\n",
       "    </tr>\n",
       "  </thead>\n",
       "  <tbody>\n",
       "    <tr>\n",
       "      <th>9794320</th>\n",
       "      <td>126</td>\n",
       "      <td>1</td>\n",
       "      <td>10.778</td>\n",
       "      <td>1</td>\n",
       "    </tr>\n",
       "    <tr>\n",
       "      <th>10079204</th>\n",
       "      <td>145</td>\n",
       "      <td>1</td>\n",
       "      <td>20.648</td>\n",
       "      <td>1</td>\n",
       "    </tr>\n",
       "    <tr>\n",
       "      <th>10280338</th>\n",
       "      <td>40</td>\n",
       "      <td>5</td>\n",
       "      <td>62.616</td>\n",
       "      <td>0</td>\n",
       "    </tr>\n",
       "    <tr>\n",
       "      <th>12055855</th>\n",
       "      <td>101</td>\n",
       "      <td>1</td>\n",
       "      <td>16.540</td>\n",
       "      <td>1</td>\n",
       "    </tr>\n",
       "    <tr>\n",
       "      <th>12936739</th>\n",
       "      <td>73</td>\n",
       "      <td>1</td>\n",
       "      <td>26.970</td>\n",
       "      <td>0</td>\n",
       "    </tr>\n",
       "  </tbody>\n",
       "</table>\n",
       "</div>"
      ],
      "text/plain": [
       "          Recency  Frequency  Monetary  cluster\n",
       "user_id                                        \n",
       "9794320       126          1    10.778        1\n",
       "10079204      145          1    20.648        1\n",
       "10280338       40          5    62.616        0\n",
       "12055855      101          1    16.540        1\n",
       "12936739       73          1    26.970        0"
      ]
     },
     "execution_count": 170,
     "metadata": {},
     "output_type": "execute_result"
    }
   ],
   "source": [
    "rfm_segmentation.head()"
   ]
  },
  {
   "cell_type": "code",
   "execution_count": 171,
   "metadata": {},
   "outputs": [],
   "source": [
    "rfm_segmentation = rfm_segmentation.reset_index()"
   ]
  },
  {
   "cell_type": "code",
   "execution_count": 172,
   "metadata": {},
   "outputs": [
    {
     "data": {
      "text/html": [
       "<div>\n",
       "<style scoped>\n",
       "    .dataframe tbody tr th:only-of-type {\n",
       "        vertical-align: middle;\n",
       "    }\n",
       "\n",
       "    .dataframe tbody tr th {\n",
       "        vertical-align: top;\n",
       "    }\n",
       "\n",
       "    .dataframe thead th {\n",
       "        text-align: right;\n",
       "    }\n",
       "</style>\n",
       "<table border=\"1\" class=\"dataframe\">\n",
       "  <thead>\n",
       "    <tr style=\"text-align: right;\">\n",
       "      <th></th>\n",
       "      <th>user_id</th>\n",
       "      <th>Recency</th>\n",
       "      <th>Frequency</th>\n",
       "      <th>Monetary</th>\n",
       "      <th>cluster</th>\n",
       "    </tr>\n",
       "  </thead>\n",
       "  <tbody>\n",
       "    <tr>\n",
       "      <th>0</th>\n",
       "      <td>9794320</td>\n",
       "      <td>126</td>\n",
       "      <td>1</td>\n",
       "      <td>10.778</td>\n",
       "      <td>1</td>\n",
       "    </tr>\n",
       "    <tr>\n",
       "      <th>1</th>\n",
       "      <td>10079204</td>\n",
       "      <td>145</td>\n",
       "      <td>1</td>\n",
       "      <td>20.648</td>\n",
       "      <td>1</td>\n",
       "    </tr>\n",
       "    <tr>\n",
       "      <th>2</th>\n",
       "      <td>10280338</td>\n",
       "      <td>40</td>\n",
       "      <td>5</td>\n",
       "      <td>62.616</td>\n",
       "      <td>0</td>\n",
       "    </tr>\n",
       "    <tr>\n",
       "      <th>3</th>\n",
       "      <td>12055855</td>\n",
       "      <td>101</td>\n",
       "      <td>1</td>\n",
       "      <td>16.540</td>\n",
       "      <td>1</td>\n",
       "    </tr>\n",
       "    <tr>\n",
       "      <th>4</th>\n",
       "      <td>12936739</td>\n",
       "      <td>73</td>\n",
       "      <td>1</td>\n",
       "      <td>26.970</td>\n",
       "      <td>0</td>\n",
       "    </tr>\n",
       "  </tbody>\n",
       "</table>\n",
       "</div>"
      ],
      "text/plain": [
       "    user_id  Recency  Frequency  Monetary  cluster\n",
       "0   9794320      126          1    10.778        1\n",
       "1  10079204      145          1    20.648        1\n",
       "2  10280338       40          5    62.616        0\n",
       "3  12055855      101          1    16.540        1\n",
       "4  12936739       73          1    26.970        0"
      ]
     },
     "execution_count": 172,
     "metadata": {},
     "output_type": "execute_result"
    }
   ],
   "source": [
    "rfm_segmentation.head()"
   ]
  },
  {
   "cell_type": "code",
   "execution_count": 173,
   "metadata": {},
   "outputs": [
    {
     "data": {
      "text/html": [
       "<div>\n",
       "<style scoped>\n",
       "    .dataframe tbody tr th:only-of-type {\n",
       "        vertical-align: middle;\n",
       "    }\n",
       "\n",
       "    .dataframe tbody tr th {\n",
       "        vertical-align: top;\n",
       "    }\n",
       "\n",
       "    .dataframe thead th {\n",
       "        text-align: right;\n",
       "    }\n",
       "</style>\n",
       "<table border=\"1\" class=\"dataframe\">\n",
       "  <thead>\n",
       "    <tr style=\"text-align: right;\">\n",
       "      <th></th>\n",
       "      <th>user_id</th>\n",
       "    </tr>\n",
       "  </thead>\n",
       "  <tbody>\n",
       "    <tr>\n",
       "      <th>0</th>\n",
       "      <td>9794320</td>\n",
       "    </tr>\n",
       "    <tr>\n",
       "      <th>1</th>\n",
       "      <td>10079204</td>\n",
       "    </tr>\n",
       "    <tr>\n",
       "      <th>2</th>\n",
       "      <td>10280338</td>\n",
       "    </tr>\n",
       "    <tr>\n",
       "      <th>3</th>\n",
       "      <td>12055855</td>\n",
       "    </tr>\n",
       "    <tr>\n",
       "      <th>4</th>\n",
       "      <td>12936739</td>\n",
       "    </tr>\n",
       "  </tbody>\n",
       "</table>\n",
       "</div>"
      ],
      "text/plain": [
       "    user_id\n",
       "0   9794320\n",
       "1  10079204\n",
       "2  10280338\n",
       "3  12055855\n",
       "4  12936739"
      ]
     },
     "execution_count": 173,
     "metadata": {},
     "output_type": "execute_result"
    }
   ],
   "source": [
    "rfm_segmentation_users = pd.DataFrame(rfm_segmentation.user_id)\n",
    "rfm_segmentation_users.head()"
   ]
  },
  {
   "cell_type": "code",
   "execution_count": 174,
   "metadata": {},
   "outputs": [
    {
     "data": {
      "text/html": [
       "<div>\n",
       "<style scoped>\n",
       "    .dataframe tbody tr th:only-of-type {\n",
       "        vertical-align: middle;\n",
       "    }\n",
       "\n",
       "    .dataframe tbody tr th {\n",
       "        vertical-align: top;\n",
       "    }\n",
       "\n",
       "    .dataframe thead th {\n",
       "        text-align: right;\n",
       "    }\n",
       "</style>\n",
       "<table border=\"1\" class=\"dataframe\">\n",
       "  <thead>\n",
       "    <tr style=\"text-align: right;\">\n",
       "      <th></th>\n",
       "      <th>Recency</th>\n",
       "      <th>Frequency</th>\n",
       "      <th>Monetary</th>\n",
       "      <th>cluster</th>\n",
       "    </tr>\n",
       "  </thead>\n",
       "  <tbody>\n",
       "    <tr>\n",
       "      <th>0</th>\n",
       "      <td>126</td>\n",
       "      <td>1</td>\n",
       "      <td>10.778</td>\n",
       "      <td>1</td>\n",
       "    </tr>\n",
       "    <tr>\n",
       "      <th>1</th>\n",
       "      <td>145</td>\n",
       "      <td>1</td>\n",
       "      <td>20.648</td>\n",
       "      <td>1</td>\n",
       "    </tr>\n",
       "    <tr>\n",
       "      <th>2</th>\n",
       "      <td>40</td>\n",
       "      <td>5</td>\n",
       "      <td>62.616</td>\n",
       "      <td>0</td>\n",
       "    </tr>\n",
       "    <tr>\n",
       "      <th>3</th>\n",
       "      <td>101</td>\n",
       "      <td>1</td>\n",
       "      <td>16.540</td>\n",
       "      <td>1</td>\n",
       "    </tr>\n",
       "    <tr>\n",
       "      <th>4</th>\n",
       "      <td>73</td>\n",
       "      <td>1</td>\n",
       "      <td>26.970</td>\n",
       "      <td>0</td>\n",
       "    </tr>\n",
       "  </tbody>\n",
       "</table>\n",
       "</div>"
      ],
      "text/plain": [
       "   Recency  Frequency  Monetary  cluster\n",
       "0      126          1    10.778        1\n",
       "1      145          1    20.648        1\n",
       "2       40          5    62.616        0\n",
       "3      101          1    16.540        1\n",
       "4       73          1    26.970        0"
      ]
     },
     "execution_count": 174,
     "metadata": {},
     "output_type": "execute_result"
    }
   ],
   "source": [
    "rfm_segmentation = rfm_segmentation.drop(['user_id'],axis =1)\n",
    "rfm_segmentation.head()"
   ]
  },
  {
   "cell_type": "code",
   "execution_count": 175,
   "metadata": {},
   "outputs": [],
   "source": [
    "rfm_segmentation['Status'] = 0\n",
    "for i in range(0,len(rfm_segmentation)):\n",
    "    if(rfm_segmentation['cluster'][i] == 0):\n",
    "        rfm_segmentation['Status'][i] = \"Silver\"\n",
    "    elif(rfm_segmentation['cluster'][i] == 1):\n",
    "        rfm_segmentation['Status'][i]= \"Gold\"\n",
    "    else:\n",
    "        rfm_segmentation['Status'][i] =\"Platinum\""
   ]
  },
  {
   "cell_type": "code",
   "execution_count": 176,
   "metadata": {},
   "outputs": [
    {
     "data": {
      "text/html": [
       "<div>\n",
       "<style scoped>\n",
       "    .dataframe tbody tr th:only-of-type {\n",
       "        vertical-align: middle;\n",
       "    }\n",
       "\n",
       "    .dataframe tbody tr th {\n",
       "        vertical-align: top;\n",
       "    }\n",
       "\n",
       "    .dataframe thead th {\n",
       "        text-align: right;\n",
       "    }\n",
       "</style>\n",
       "<table border=\"1\" class=\"dataframe\">\n",
       "  <thead>\n",
       "    <tr style=\"text-align: right;\">\n",
       "      <th></th>\n",
       "      <th>Recency</th>\n",
       "      <th>Frequency</th>\n",
       "      <th>Monetary</th>\n",
       "      <th>cluster</th>\n",
       "      <th>Status</th>\n",
       "    </tr>\n",
       "  </thead>\n",
       "  <tbody>\n",
       "    <tr>\n",
       "      <th>0</th>\n",
       "      <td>126</td>\n",
       "      <td>1</td>\n",
       "      <td>10.778</td>\n",
       "      <td>1</td>\n",
       "      <td>Gold</td>\n",
       "    </tr>\n",
       "    <tr>\n",
       "      <th>1</th>\n",
       "      <td>145</td>\n",
       "      <td>1</td>\n",
       "      <td>20.648</td>\n",
       "      <td>1</td>\n",
       "      <td>Gold</td>\n",
       "    </tr>\n",
       "    <tr>\n",
       "      <th>2</th>\n",
       "      <td>40</td>\n",
       "      <td>5</td>\n",
       "      <td>62.616</td>\n",
       "      <td>0</td>\n",
       "      <td>Silver</td>\n",
       "    </tr>\n",
       "    <tr>\n",
       "      <th>3</th>\n",
       "      <td>101</td>\n",
       "      <td>1</td>\n",
       "      <td>16.540</td>\n",
       "      <td>1</td>\n",
       "      <td>Gold</td>\n",
       "    </tr>\n",
       "    <tr>\n",
       "      <th>4</th>\n",
       "      <td>73</td>\n",
       "      <td>1</td>\n",
       "      <td>26.970</td>\n",
       "      <td>0</td>\n",
       "      <td>Silver</td>\n",
       "    </tr>\n",
       "  </tbody>\n",
       "</table>\n",
       "</div>"
      ],
      "text/plain": [
       "   Recency  Frequency  Monetary  cluster  Status\n",
       "0      126          1    10.778        1    Gold\n",
       "1      145          1    20.648        1    Gold\n",
       "2       40          5    62.616        0  Silver\n",
       "3      101          1    16.540        1    Gold\n",
       "4       73          1    26.970        0  Silver"
      ]
     },
     "execution_count": 176,
     "metadata": {},
     "output_type": "execute_result"
    }
   ],
   "source": [
    "rfm_segmentation.head()"
   ]
  },
  {
   "cell_type": "code",
   "execution_count": 177,
   "metadata": {
    "scrolled": true
   },
   "outputs": [],
   "source": [
    "rfm_segmentation = pd.merge(rfm_segmentation_users,rfm_segmentation, left_index=True, right_index=True)"
   ]
  },
  {
   "cell_type": "code",
   "execution_count": 178,
   "metadata": {},
   "outputs": [
    {
     "data": {
      "text/html": [
       "<div>\n",
       "<style scoped>\n",
       "    .dataframe tbody tr th:only-of-type {\n",
       "        vertical-align: middle;\n",
       "    }\n",
       "\n",
       "    .dataframe tbody tr th {\n",
       "        vertical-align: top;\n",
       "    }\n",
       "\n",
       "    .dataframe thead th {\n",
       "        text-align: right;\n",
       "    }\n",
       "</style>\n",
       "<table border=\"1\" class=\"dataframe\">\n",
       "  <thead>\n",
       "    <tr style=\"text-align: right;\">\n",
       "      <th></th>\n",
       "      <th>user_id</th>\n",
       "      <th>Recency</th>\n",
       "      <th>Frequency</th>\n",
       "      <th>Monetary</th>\n",
       "      <th>cluster</th>\n",
       "      <th>Status</th>\n",
       "    </tr>\n",
       "  </thead>\n",
       "  <tbody>\n",
       "    <tr>\n",
       "      <th>0</th>\n",
       "      <td>9794320</td>\n",
       "      <td>126</td>\n",
       "      <td>1</td>\n",
       "      <td>10.778</td>\n",
       "      <td>1</td>\n",
       "      <td>Gold</td>\n",
       "    </tr>\n",
       "    <tr>\n",
       "      <th>1</th>\n",
       "      <td>10079204</td>\n",
       "      <td>145</td>\n",
       "      <td>1</td>\n",
       "      <td>20.648</td>\n",
       "      <td>1</td>\n",
       "      <td>Gold</td>\n",
       "    </tr>\n",
       "    <tr>\n",
       "      <th>2</th>\n",
       "      <td>10280338</td>\n",
       "      <td>40</td>\n",
       "      <td>5</td>\n",
       "      <td>62.616</td>\n",
       "      <td>0</td>\n",
       "      <td>Silver</td>\n",
       "    </tr>\n",
       "    <tr>\n",
       "      <th>3</th>\n",
       "      <td>12055855</td>\n",
       "      <td>101</td>\n",
       "      <td>1</td>\n",
       "      <td>16.540</td>\n",
       "      <td>1</td>\n",
       "      <td>Gold</td>\n",
       "    </tr>\n",
       "    <tr>\n",
       "      <th>4</th>\n",
       "      <td>12936739</td>\n",
       "      <td>73</td>\n",
       "      <td>1</td>\n",
       "      <td>26.970</td>\n",
       "      <td>0</td>\n",
       "      <td>Silver</td>\n",
       "    </tr>\n",
       "  </tbody>\n",
       "</table>\n",
       "</div>"
      ],
      "text/plain": [
       "    user_id  Recency  Frequency  Monetary  cluster  Status\n",
       "0   9794320      126          1    10.778        1    Gold\n",
       "1  10079204      145          1    20.648        1    Gold\n",
       "2  10280338       40          5    62.616        0  Silver\n",
       "3  12055855      101          1    16.540        1    Gold\n",
       "4  12936739       73          1    26.970        0  Silver"
      ]
     },
     "execution_count": 178,
     "metadata": {},
     "output_type": "execute_result"
    }
   ],
   "source": [
    "rfm_segmentation.head()"
   ]
  },
  {
   "cell_type": "markdown",
   "metadata": {},
   "source": [
    "# CUSTOMER LIFETIME VALUE"
   ]
  },
  {
   "cell_type": "markdown",
   "metadata": {},
   "source": [
    "1.Define an appropriate time frame for Customer Lifetime Value calculation\n",
    "2.Identify the features we are going to use to predict future and create them\n",
    "3 Calculate lifetime value (LTV) for training the machine learning model\n",
    "4 Build and run the machine learning model"
   ]
  },
  {
   "cell_type": "code",
   "execution_count": 154,
   "metadata": {},
   "outputs": [],
   "source": [
    "import xgboost as xgb\n",
    "from sklearn.model_selection import KFold, cross_val_score, train_test_split"
   ]
  },
  {
   "cell_type": "code",
   "execution_count": null,
   "metadata": {},
   "outputs": [],
   "source": []
  }
 ],
 "metadata": {
  "kernelspec": {
   "display_name": "Python 3",
   "language": "python",
   "name": "python3"
  },
  "language_info": {
   "codemirror_mode": {
    "name": "ipython",
    "version": 3
   },
   "file_extension": ".py",
   "mimetype": "text/x-python",
   "name": "python",
   "nbconvert_exporter": "python",
   "pygments_lexer": "ipython3",
   "version": "3.7.4"
  }
 },
 "nbformat": 4,
 "nbformat_minor": 4
}
