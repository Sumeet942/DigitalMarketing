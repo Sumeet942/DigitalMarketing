{
 "cells": [
  {
   "cell_type": "code",
   "execution_count": 1,
   "metadata": {},
   "outputs": [
    {
     "ename": "ModuleNotFoundError",
     "evalue": "No module named 'streamlit'",
     "output_type": "error",
     "traceback": [
      "\u001b[1;31m---------------------------------------------------------------------------\u001b[0m",
      "\u001b[1;31mModuleNotFoundError\u001b[0m                       Traceback (most recent call last)",
      "\u001b[1;32m<ipython-input-1-b20390ea88d1>\u001b[0m in \u001b[0;36m<module>\u001b[1;34m\u001b[0m\n\u001b[0;32m      9\u001b[0m \u001b[1;32mfrom\u001b[0m \u001b[0msklearn\u001b[0m\u001b[1;33m.\u001b[0m\u001b[0mmodel_selection\u001b[0m \u001b[1;32mimport\u001b[0m \u001b[0mtrain_test_split\u001b[0m\u001b[1;33m\u001b[0m\u001b[1;33m\u001b[0m\u001b[0m\n\u001b[0;32m     10\u001b[0m \u001b[1;33m\u001b[0m\u001b[0m\n\u001b[1;32m---> 11\u001b[1;33m \u001b[1;32mimport\u001b[0m \u001b[0mstreamlit\u001b[0m \u001b[1;32mas\u001b[0m \u001b[0mst\u001b[0m\u001b[1;33m\u001b[0m\u001b[1;33m\u001b[0m\u001b[0m\n\u001b[0m\u001b[0;32m     12\u001b[0m \u001b[1;33m\u001b[0m\u001b[0m\n\u001b[0;32m     13\u001b[0m \u001b[1;32mimport\u001b[0m \u001b[0mwarnings\u001b[0m\u001b[1;33m\u001b[0m\u001b[1;33m\u001b[0m\u001b[0m\n",
      "\u001b[1;31mModuleNotFoundError\u001b[0m: No module named 'streamlit'"
     ]
    }
   ],
   "source": [
    "import pandas as pd\n",
    "import numpy as np\n",
    "from datetime import datetime, timedelta\n",
    "import matplotlib.pyplot as plt\n",
    "import seaborn as sns\n",
    "\n",
    "from sklearn.utils import resample\n",
    "from sklearn.preprocessing import MinMaxScaler\n",
    "from sklearn.model_selection import train_test_split\n",
    "\n",
    "import streamlit as st\n",
    "\n",
    "import warnings\n",
    "warnings.filterwarnings(\"ignore\")"
   ]
  },
  {
   "cell_type": "code",
   "execution_count": 2,
   "metadata": {},
   "outputs": [
    {
     "name": "stdout",
     "output_type": "stream",
     "text": [
      "Collecting streamlit\n",
      "  Downloading streamlit-0.57.0-py2.py3-none-any.whl (7.1 MB)\n",
      "Collecting tzlocal\n",
      "  Downloading tzlocal-2.0.0-py2.py3-none-any.whl (15 kB)\n",
      "Collecting enum-compat\n",
      "  Downloading enum_compat-0.0.3-py3-none-any.whl (1.3 kB)\n",
      "Requirement already satisfied: python-dateutil in c:\\users\\nancy\\anaconda3\\lib\\site-packages (from streamlit) (2.8.0)\n",
      "Requirement already satisfied: toml in c:\\users\\nancy\\anaconda3\\lib\\site-packages (from streamlit) (0.10.0)\n",
      "Requirement already satisfied: boto3 in c:\\users\\nancy\\anaconda3\\lib\\site-packages (from streamlit) (1.12.28)\n",
      "Requirement already satisfied: cachetools>=4.0 in c:\\users\\nancy\\anaconda3\\lib\\site-packages (from streamlit) (4.0.0)\n",
      "Collecting altair>=3.2.0\n",
      "  Downloading altair-4.0.1-py3-none-any.whl (708 kB)\n",
      "Requirement already satisfied: botocore>=1.13.44 in c:\\users\\nancy\\anaconda3\\lib\\site-packages (from streamlit) (1.15.28)\n",
      "Requirement already satisfied: pandas>=0.21.0 in c:\\users\\nancy\\anaconda3\\lib\\site-packages (from streamlit) (0.25.1)\n",
      "Requirement already satisfied: future in c:\\users\\nancy\\anaconda3\\lib\\site-packages (from streamlit) (0.17.1)\n",
      "Requirement already satisfied: packaging in c:\\users\\nancy\\anaconda3\\lib\\site-packages (from streamlit) (19.2)\n",
      "Requirement already satisfied: numpy in c:\\users\\nancy\\anaconda3\\lib\\site-packages (from streamlit) (1.18.1)\n",
      "Requirement already satisfied: pillow>=6.2.0 in c:\\users\\nancy\\anaconda3\\lib\\site-packages (from streamlit) (6.2.0)\n",
      "Requirement already satisfied: protobuf>=3.6.0 in c:\\users\\nancy\\anaconda3\\lib\\site-packages (from streamlit) (3.11.4)\n",
      "Requirement already satisfied: click>=7.0 in c:\\users\\nancy\\anaconda3\\lib\\site-packages (from streamlit) (7.0)\n",
      "Requirement already satisfied: astor in c:\\users\\nancy\\anaconda3\\lib\\site-packages (from streamlit) (0.8.1)\n",
      "Collecting base58\n",
      "  Downloading base58-2.0.0-py3-none-any.whl (6.0 kB)\n",
      "Collecting tornado<6.0,>=5.0\n",
      "  Downloading tornado-5.1.1-cp37-cp37m-win_amd64.whl (455 kB)\n",
      "Requirement already satisfied: requests in c:\\users\\nancy\\anaconda3\\lib\\site-packages (from streamlit) (2.23.0)\n",
      "Requirement already satisfied: blinker in c:\\users\\nancy\\anaconda3\\lib\\site-packages (from streamlit) (1.4)\n",
      "Collecting watchdog\n",
      "  Downloading watchdog-0.10.2.tar.gz (95 kB)\n",
      "Collecting pydeck>=0.1.dev5\n",
      "  Downloading pydeck-0.3.0b2-py2.py3-none-any.whl (4.8 MB)\n",
      "Collecting validators\n",
      "  Downloading validators-0.14.2.tar.gz (25 kB)\n",
      "Requirement already satisfied: pytz in c:\\users\\nancy\\anaconda3\\lib\\site-packages (from tzlocal->streamlit) (2019.3)\n",
      "Requirement already satisfied: six>=1.5 in c:\\users\\nancy\\anaconda3\\lib\\site-packages (from python-dateutil->streamlit) (1.14.0)\n",
      "Requirement already satisfied: s3transfer<0.4.0,>=0.3.0 in c:\\users\\nancy\\anaconda3\\lib\\site-packages (from boto3->streamlit) (0.3.3)\n",
      "Requirement already satisfied: jmespath<1.0.0,>=0.7.1 in c:\\users\\nancy\\anaconda3\\lib\\site-packages (from boto3->streamlit) (0.9.5)\n",
      "Requirement already satisfied: jsonschema in c:\\users\\nancy\\anaconda3\\lib\\site-packages (from altair>=3.2.0->streamlit) (3.0.2)\n",
      "Requirement already satisfied: jinja2 in c:\\users\\nancy\\anaconda3\\lib\\site-packages (from altair>=3.2.0->streamlit) (2.10.3)\n",
      "Requirement already satisfied: toolz in c:\\users\\nancy\\anaconda3\\lib\\site-packages (from altair>=3.2.0->streamlit) (0.10.0)\n",
      "Requirement already satisfied: entrypoints in c:\\users\\nancy\\anaconda3\\lib\\site-packages (from altair>=3.2.0->streamlit) (0.3)\n",
      "Requirement already satisfied: urllib3<1.26,>=1.20; python_version != \"3.4\" in c:\\users\\nancy\\anaconda3\\lib\\site-packages (from botocore>=1.13.44->streamlit) (1.25.8)\n",
      "Requirement already satisfied: docutils<0.16,>=0.10 in c:\\users\\nancy\\anaconda3\\lib\\site-packages (from botocore>=1.13.44->streamlit) (0.15.2)\n",
      "Requirement already satisfied: pyparsing>=2.0.2 in c:\\users\\nancy\\anaconda3\\lib\\site-packages (from packaging->streamlit) (2.4.2)\n",
      "Requirement already satisfied: setuptools in c:\\users\\nancy\\anaconda3\\lib\\site-packages (from protobuf>=3.6.0->streamlit) (45.2.0)\n",
      "Requirement already satisfied: certifi>=2017.4.17 in c:\\users\\nancy\\anaconda3\\lib\\site-packages (from requests->streamlit) (2019.11.28)\n",
      "Requirement already satisfied: idna<3,>=2.5 in c:\\users\\nancy\\anaconda3\\lib\\site-packages (from requests->streamlit) (2.9)\n",
      "Requirement already satisfied: chardet<4,>=3.0.2 in c:\\users\\nancy\\anaconda3\\lib\\site-packages (from requests->streamlit) (3.0.4)\n",
      "Collecting pathtools>=0.1.1\n",
      "  Downloading pathtools-0.1.2.tar.gz (11 kB)\n",
      "Requirement already satisfied: ipywidgets>=7.0.0 in c:\\users\\nancy\\anaconda3\\lib\\site-packages (from pydeck>=0.1.dev5->streamlit) (7.5.1)\n",
      "Requirement already satisfied: traitlets>=4.3.2 in c:\\users\\nancy\\anaconda3\\lib\\site-packages (from pydeck>=0.1.dev5->streamlit) (4.3.3)\n",
      "Requirement already satisfied: ipykernel>=5.1.2; python_version >= \"3.4\" in c:\\users\\nancy\\anaconda3\\lib\\site-packages (from pydeck>=0.1.dev5->streamlit) (5.1.2)\n",
      "Requirement already satisfied: decorator>=3.4.0 in c:\\users\\nancy\\anaconda3\\lib\\site-packages (from validators->streamlit) (4.4.0)\n",
      "Requirement already satisfied: pyrsistent>=0.14.0 in c:\\users\\nancy\\anaconda3\\lib\\site-packages (from jsonschema->altair>=3.2.0->streamlit) (0.15.4)\n",
      "Requirement already satisfied: attrs>=17.4.0 in c:\\users\\nancy\\anaconda3\\lib\\site-packages (from jsonschema->altair>=3.2.0->streamlit) (19.2.0)\n",
      "Requirement already satisfied: MarkupSafe>=0.23 in c:\\users\\nancy\\anaconda3\\lib\\site-packages (from jinja2->altair>=3.2.0->streamlit) (1.1.1)\n",
      "Requirement already satisfied: ipython>=4.0.0; python_version >= \"3.3\" in c:\\users\\nancy\\anaconda3\\lib\\site-packages (from ipywidgets>=7.0.0->pydeck>=0.1.dev5->streamlit) (7.8.0)\n",
      "Requirement already satisfied: nbformat>=4.2.0 in c:\\users\\nancy\\anaconda3\\lib\\site-packages (from ipywidgets>=7.0.0->pydeck>=0.1.dev5->streamlit) (4.4.0)\n",
      "Requirement already satisfied: widgetsnbextension~=3.5.0 in c:\\users\\nancy\\anaconda3\\lib\\site-packages (from ipywidgets>=7.0.0->pydeck>=0.1.dev5->streamlit) (3.5.1)\n",
      "Requirement already satisfied: ipython-genutils in c:\\users\\nancy\\anaconda3\\lib\\site-packages (from traitlets>=4.3.2->pydeck>=0.1.dev5->streamlit) (0.2.0)\n",
      "Requirement already satisfied: jupyter-client in c:\\users\\nancy\\anaconda3\\lib\\site-packages (from ipykernel>=5.1.2; python_version >= \"3.4\"->pydeck>=0.1.dev5->streamlit) (5.3.3)\n",
      "Requirement already satisfied: prompt-toolkit<2.1.0,>=2.0.0 in c:\\users\\nancy\\anaconda3\\lib\\site-packages (from ipython>=4.0.0; python_version >= \"3.3\"->ipywidgets>=7.0.0->pydeck>=0.1.dev5->streamlit) (2.0.10)\n",
      "Requirement already satisfied: pickleshare in c:\\users\\nancy\\anaconda3\\lib\\site-packages (from ipython>=4.0.0; python_version >= \"3.3\"->ipywidgets>=7.0.0->pydeck>=0.1.dev5->streamlit) (0.7.5)\n",
      "Requirement already satisfied: colorama; sys_platform == \"win32\" in c:\\users\\nancy\\anaconda3\\lib\\site-packages (from ipython>=4.0.0; python_version >= \"3.3\"->ipywidgets>=7.0.0->pydeck>=0.1.dev5->streamlit) (0.4.1)\n",
      "Requirement already satisfied: jedi>=0.10 in c:\\users\\nancy\\anaconda3\\lib\\site-packages (from ipython>=4.0.0; python_version >= \"3.3\"->ipywidgets>=7.0.0->pydeck>=0.1.dev5->streamlit) (0.15.1)\n",
      "Requirement already satisfied: pygments in c:\\users\\nancy\\anaconda3\\lib\\site-packages (from ipython>=4.0.0; python_version >= \"3.3\"->ipywidgets>=7.0.0->pydeck>=0.1.dev5->streamlit) (2.4.2)\n",
      "Requirement already satisfied: backcall in c:\\users\\nancy\\anaconda3\\lib\\site-packages (from ipython>=4.0.0; python_version >= \"3.3\"->ipywidgets>=7.0.0->pydeck>=0.1.dev5->streamlit) (0.1.0)\n",
      "Requirement already satisfied: jupyter-core in c:\\users\\nancy\\anaconda3\\lib\\site-packages (from nbformat>=4.2.0->ipywidgets>=7.0.0->pydeck>=0.1.dev5->streamlit) (4.5.0)\n",
      "Requirement already satisfied: notebook>=4.4.1 in c:\\users\\nancy\\anaconda3\\lib\\site-packages (from widgetsnbextension~=3.5.0->ipywidgets>=7.0.0->pydeck>=0.1.dev5->streamlit) (6.0.1)\n",
      "Requirement already satisfied: pyzmq>=13 in c:\\users\\nancy\\anaconda3\\lib\\site-packages (from jupyter-client->ipykernel>=5.1.2; python_version >= \"3.4\"->pydeck>=0.1.dev5->streamlit) (18.1.0)\n",
      "Requirement already satisfied: pywin32>=1.0; sys_platform == \"win32\" in c:\\users\\nancy\\anaconda3\\lib\\site-packages (from jupyter-client->ipykernel>=5.1.2; python_version >= \"3.4\"->pydeck>=0.1.dev5->streamlit) (223)\n",
      "Requirement already satisfied: wcwidth in c:\\users\\nancy\\anaconda3\\lib\\site-packages (from prompt-toolkit<2.1.0,>=2.0.0->ipython>=4.0.0; python_version >= \"3.3\"->ipywidgets>=7.0.0->pydeck>=0.1.dev5->streamlit) (0.1.7)\n",
      "Requirement already satisfied: parso>=0.5.0 in c:\\users\\nancy\\anaconda3\\lib\\site-packages (from jedi>=0.10->ipython>=4.0.0; python_version >= \"3.3\"->ipywidgets>=7.0.0->pydeck>=0.1.dev5->streamlit) (0.5.1)\n",
      "Requirement already satisfied: nbconvert in c:\\users\\nancy\\anaconda3\\lib\\site-packages (from notebook>=4.4.1->widgetsnbextension~=3.5.0->ipywidgets>=7.0.0->pydeck>=0.1.dev5->streamlit) (5.6.0)\n",
      "Requirement already satisfied: terminado>=0.8.1 in c:\\users\\nancy\\anaconda3\\lib\\site-packages (from notebook>=4.4.1->widgetsnbextension~=3.5.0->ipywidgets>=7.0.0->pydeck>=0.1.dev5->streamlit) (0.8.2)\n",
      "Requirement already satisfied: Send2Trash in c:\\users\\nancy\\anaconda3\\lib\\site-packages (from notebook>=4.4.1->widgetsnbextension~=3.5.0->ipywidgets>=7.0.0->pydeck>=0.1.dev5->streamlit) (1.5.0)\n",
      "Requirement already satisfied: prometheus-client in c:\\users\\nancy\\anaconda3\\lib\\site-packages (from notebook>=4.4.1->widgetsnbextension~=3.5.0->ipywidgets>=7.0.0->pydeck>=0.1.dev5->streamlit) (0.7.1)\n",
      "Requirement already satisfied: defusedxml in c:\\users\\nancy\\anaconda3\\lib\\site-packages (from nbconvert->notebook>=4.4.1->widgetsnbextension~=3.5.0->ipywidgets>=7.0.0->pydeck>=0.1.dev5->streamlit) (0.6.0)\n",
      "Requirement already satisfied: testpath in c:\\users\\nancy\\anaconda3\\lib\\site-packages (from nbconvert->notebook>=4.4.1->widgetsnbextension~=3.5.0->ipywidgets>=7.0.0->pydeck>=0.1.dev5->streamlit) (0.4.2)\n",
      "Requirement already satisfied: mistune<2,>=0.8.1 in c:\\users\\nancy\\anaconda3\\lib\\site-packages (from nbconvert->notebook>=4.4.1->widgetsnbextension~=3.5.0->ipywidgets>=7.0.0->pydeck>=0.1.dev5->streamlit) (0.8.4)\n",
      "Requirement already satisfied: pandocfilters>=1.4.1 in c:\\users\\nancy\\anaconda3\\lib\\site-packages (from nbconvert->notebook>=4.4.1->widgetsnbextension~=3.5.0->ipywidgets>=7.0.0->pydeck>=0.1.dev5->streamlit) (1.4.2)\n",
      "Requirement already satisfied: bleach in c:\\users\\nancy\\anaconda3\\lib\\site-packages (from nbconvert->notebook>=4.4.1->widgetsnbextension~=3.5.0->ipywidgets>=7.0.0->pydeck>=0.1.dev5->streamlit) (3.1.0)\n",
      "Requirement already satisfied: webencodings in c:\\users\\nancy\\anaconda3\\lib\\site-packages (from bleach->nbconvert->notebook>=4.4.1->widgetsnbextension~=3.5.0->ipywidgets>=7.0.0->pydeck>=0.1.dev5->streamlit) (0.5.1)\n",
      "Building wheels for collected packages: watchdog, validators, pathtools\n",
      "  Building wheel for watchdog (setup.py): started\n",
      "  Building wheel for watchdog (setup.py): finished with status 'done'\n",
      "  Created wheel for watchdog: filename=watchdog-0.10.2-py3-none-any.whl size=73609 sha256=7c27c010d322997d3fa879d7715c81f9e7eae5485bd5b290f1b15ec45cfb7029\n",
      "  Stored in directory: c:\\users\\nancy\\appdata\\local\\pip\\cache\\wheels\\36\\93\\24\\29e375ee74e0f178889e6906cb73e693e9f06a5f589dcee6b9\n",
      "  Building wheel for validators (setup.py): started\n",
      "  Building wheel for validators (setup.py): finished with status 'done'\n",
      "  Created wheel for validators: filename=validators-0.14.2-py3-none-any.whl size=17253 sha256=c8c5fc4b21fb70f10c34705918aac57b14731942cece4c83830ffbaa0de228d8\n",
      "  Stored in directory: c:\\users\\nancy\\appdata\\local\\pip\\cache\\wheels\\30\\4a\\3f\\ad9d09a4300d04182b4dfc8b125dacef510ab79d955fd78a6b\n",
      "  Building wheel for pathtools (setup.py): started\n",
      "  Building wheel for pathtools (setup.py): finished with status 'done'\n",
      "  Created wheel for pathtools: filename=pathtools-0.1.2-py3-none-any.whl size=8790 sha256=3c17aee7cc6a203ad13d6e5eea57621f9853847ebce89d4ef514ab0ad790feca\n",
      "  Stored in directory: c:\\users\\nancy\\appdata\\local\\pip\\cache\\wheels\\3e\\31\\09\\fa59cef12cdcfecc627b3d24273699f390e71828921b2cbba2\n",
      "Successfully built watchdog validators pathtools\n",
      "Installing collected packages: tzlocal, enum-compat, altair, base58, tornado, pathtools, watchdog, pydeck, validators, streamlit\n",
      "  Attempting uninstall: tornado\n",
      "    Found existing installation: tornado 6.0.3\n",
      "    Uninstalling tornado-6.0.3:\n",
      "      Successfully uninstalled tornado-6.0.3\n"
     ]
    },
    {
     "name": "stderr",
     "output_type": "stream",
     "text": [
      "ERROR: Could not install packages due to an EnvironmentError: [WinError 5] Access is denied: 'c:\\\\users\\\\nancy\\\\anaconda3\\\\lib\\\\site-packages\\\\~ornado\\\\speedups.cp37-win_amd64.pyd'\n",
      "Consider using the `--user` option or check the permissions.\n",
      "\n"
     ]
    }
   ],
   "source": [
    "!pip install streamlit"
   ]
  },
  {
   "cell_type": "code",
   "execution_count": 44,
   "metadata": {},
   "outputs": [],
   "source": [
    "df = pd.read_csv('SnackDataset.csv', encoding = \"ISO-8859-1\", engine='python')"
   ]
  },
  {
   "cell_type": "code",
   "execution_count": 45,
   "metadata": {
    "scrolled": true
   },
   "outputs": [
    {
     "data": {
      "image/png": "[encoded data removed]",
      "text/plain": [
       "<Figure size 432x288 with 1 Axes>"
      ]
     },
     "metadata": {},
     "output_type": "display_data"
    }
   ],
   "source": [
    "null_values = pd.DataFrame(df.isnull().sum(),columns=['count_value'])\n",
    "ax = sns.barplot(null_values.count_value,null_values.index)"
   ]
  },
  {
   "cell_type": "code",
   "execution_count": 46,
   "metadata": {},
   "outputs": [
    {
     "data": {
      "text/html": [
       "<div>\n",
       "<style scoped>\n",
       "    .dataframe tbody tr th:only-of-type {\n",
       "        vertical-align: middle;\n",
       "    }\n",
       "\n",
       "    .dataframe tbody tr th {\n",
       "        vertical-align: top;\n",
       "    }\n",
       "\n",
       "    .dataframe thead th {\n",
       "        text-align: right;\n",
       "    }\n",
       "</style>\n",
       "<table border=\"1\" class=\"dataframe\">\n",
       "  <thead>\n",
       "    <tr style=\"text-align: right;\">\n",
       "      <th></th>\n",
       "      <th>SnackBox_ID</th>\n",
       "      <th>SnackBox_Name</th>\n",
       "      <th>Category</th>\n",
       "      <th>Cust_Id</th>\n",
       "      <th>Price</th>\n",
       "      <th>Coupon</th>\n",
       "      <th>Discount(%)</th>\n",
       "      <th>Description</th>\n",
       "      <th>Month</th>\n",
       "      <th>Year</th>\n",
       "      <th>Purchase Made</th>\n",
       "    </tr>\n",
       "  </thead>\n",
       "  <tbody>\n",
       "    <tr>\n",
       "      <th>0</th>\n",
       "      <td>104179</td>\n",
       "      <td>Snakku</td>\n",
       "      <td>Japanese snack</td>\n",
       "      <td>C00146</td>\n",
       "      <td>38.95</td>\n",
       "      <td>Y</td>\n",
       "      <td>10</td>\n",
       "      <td>Authentic snacks made by Japanese snack makers...</td>\n",
       "      <td>Jan</td>\n",
       "      <td>2018</td>\n",
       "      <td>Y</td>\n",
       "    </tr>\n",
       "    <tr>\n",
       "      <th>1</th>\n",
       "      <td>104180</td>\n",
       "      <td>Love With Food</td>\n",
       "      <td>Asian snack</td>\n",
       "      <td>C00147</td>\n",
       "      <td>9.99</td>\n",
       "      <td>N</td>\n",
       "      <td>0</td>\n",
       "      <td>Love With Food is committed to healthy snacki...</td>\n",
       "      <td>Feb</td>\n",
       "      <td>2019</td>\n",
       "      <td>N</td>\n",
       "    </tr>\n",
       "    <tr>\n",
       "      <th>2</th>\n",
       "      <td>104181</td>\n",
       "      <td>Candy Club</td>\n",
       "      <td>Candies</td>\n",
       "      <td>C00148</td>\n",
       "      <td>39.99</td>\n",
       "      <td>Y</td>\n",
       "      <td>5</td>\n",
       "      <td>Pure sugary fun! In every shipment, Candy Club...</td>\n",
       "      <td>Dec</td>\n",
       "      <td>2019</td>\n",
       "      <td>N</td>\n",
       "    </tr>\n",
       "    <tr>\n",
       "      <th>3</th>\n",
       "      <td>104182</td>\n",
       "      <td>NatureBox</td>\n",
       "      <td>Asian snack</td>\n",
       "      <td>C00149</td>\n",
       "      <td>5</td>\n",
       "      <td>Y</td>\n",
       "      <td>5</td>\n",
       "      <td>All NatureBox snacks are minimally processed,...</td>\n",
       "      <td>Apr</td>\n",
       "      <td>2019</td>\n",
       "      <td>N</td>\n",
       "    </tr>\n",
       "    <tr>\n",
       "      <th>4</th>\n",
       "      <td>104183</td>\n",
       "      <td>SnackNation</td>\n",
       "      <td>American snack</td>\n",
       "      <td>C00150</td>\n",
       "      <td>9.99</td>\n",
       "      <td>Y</td>\n",
       "      <td>10</td>\n",
       "      <td>Fun, healthy snacks! SnackNation guarantees th...</td>\n",
       "      <td>Nov</td>\n",
       "      <td>2018</td>\n",
       "      <td>N</td>\n",
       "    </tr>\n",
       "  </tbody>\n",
       "</table>\n",
       "</div>"
      ],
      "text/plain": [
       "   SnackBox_ID   SnackBox_Name        Category Cust_Id   Price Coupon  \\\n",
       "0       104179          Snakku  Japanese snack  C00146   38.95      Y   \n",
       "1       104180  Love With Food     Asian snack  C00147   9.99       N   \n",
       "2       104181      Candy Club        Candies   C00148  39.99       Y   \n",
       "3       104182       NatureBox     Asian snack  C00149       5      Y   \n",
       "4       104183     SnackNation  American snack  C00150   9.99       Y   \n",
       "\n",
       "   Discount(%)                                        Description Month  Year  \\\n",
       "0           10  Authentic snacks made by Japanese snack makers...   Jan  2018   \n",
       "1            0   Love With Food is committed to healthy snacki...   Feb  2019   \n",
       "2            5  Pure sugary fun! In every shipment, Candy Club...   Dec  2019   \n",
       "3            5   All NatureBox snacks are minimally processed,...   Apr  2019   \n",
       "4           10  Fun, healthy snacks! SnackNation guarantees th...   Nov  2018   \n",
       "\n",
       "  Purchase Made  \n",
       "0             Y  \n",
       "1             N  \n",
       "2             N  \n",
       "3             N  \n",
       "4             N  "
      ]
     },
     "execution_count": 46,
     "metadata": {},
     "output_type": "execute_result"
    }
   ],
   "source": [
    "df.head()"
   ]
  },
  {
   "cell_type": "code",
   "execution_count": 47,
   "metadata": {},
   "outputs": [
    {
     "data": {
      "text/plain": [
       "0    Authentic snacks made by Japanese snack makers...\n",
       "1     Love With Food is committed to healthy snacki...\n",
       "2    Pure sugary fun! In every shipment, Candy Club...\n",
       "3     All NatureBox snacks are minimally processed,...\n",
       "4    Fun, healthy snacks! SnackNation guarantees th...\n",
       "Name: Description, dtype: object"
      ]
     },
     "execution_count": 47,
     "metadata": {},
     "output_type": "execute_result"
    }
   ],
   "source": [
    "df['Description'].head(5)"
   ]
  },
  {
   "cell_type": "code",
   "execution_count": 48,
   "metadata": {},
   "outputs": [
    {
     "data": {
      "text/plain": [
       "(100, 11)"
      ]
     },
     "execution_count": 48,
     "metadata": {},
     "output_type": "execute_result"
    }
   ],
   "source": [
    "df.shape"
   ]
  },
  {
   "cell_type": "code",
   "execution_count": 49,
   "metadata": {},
   "outputs": [
    {
     "data": {
      "text/plain": [
       "(100, 154)"
      ]
     },
     "execution_count": 49,
     "metadata": {},
     "output_type": "execute_result"
    }
   ],
   "source": [
    "#Import TfIdfVectorizer from scikit-learn\n",
    "from sklearn.feature_extraction.text import TfidfVectorizer\n",
    "\n",
    "#Define a TF-IDF Vectorizer Object. Remove all english stop words such as 'the', 'a'\n",
    "tfidf = TfidfVectorizer(stop_words='english')\n",
    "\n",
    "#Replace NaN with an empty string\n",
    "df['Description'] = df['Description'].fillna('')\n",
    "\n",
    "#Construct the required TF-IDF matrix by fitting and transforming the data\n",
    "tfidf_matrix = tfidf.fit_transform(df['Description'])\n",
    "\n",
    "#Output the shape of tfidf_matrix\n",
    "tfidf_matrix.shape"
   ]
  },
  {
   "cell_type": "code",
   "execution_count": 50,
   "metadata": {},
   "outputs": [],
   "source": [
    "# Import linear_kernel\n",
    "from sklearn.metrics.pairwise import linear_kernel\n",
    "\n",
    "# Compute the cosine similarity matrix\n",
    "cosine_sim = linear_kernel(tfidf_matrix,tfidf_matrix)"
   ]
  },
  {
   "cell_type": "code",
   "execution_count": 51,
   "metadata": {},
   "outputs": [
    {
     "data": {
      "text/plain": [
       "15"
      ]
     },
     "execution_count": 51,
     "metadata": {},
     "output_type": "execute_result"
    }
   ],
   "source": [
    "#Construct a reverse map of indices and movie titles\n",
    "\n",
    "df_indices = df.drop_duplicates('SnackBox_Name', keep = \"first\")\n",
    "indices = pd.Series(df_indices.index, index=df_indices['SnackBox_Name'])\n",
    "len(indices)"
   ]
  },
  {
   "cell_type": "code",
   "execution_count": 52,
   "metadata": {},
   "outputs": [
    {
     "data": {
      "text/plain": [
       "SnackBox_Name\n",
       "Snakku                         0\n",
       "Love With Food                 1\n",
       "Candy Club                     2\n",
       "NatureBox                      3\n",
       "SnackNation                    4\n",
       "ZenPop                         5\n",
       "Yummy Bazaar World Sampler     6\n",
       "FitSnack                       7\n",
       "Bokksu                         8\n",
       "MunchPak                       9\n",
       "Keto Krate                    10\n",
       "Universal Yums                11\n",
       " Vegan Cuts Snack Box         12\n",
       "TokyoTreat                    13\n",
       "Try the World Snacks          14\n",
       "dtype: int64"
      ]
     },
     "execution_count": 52,
     "metadata": {},
     "output_type": "execute_result"
    }
   ],
   "source": [
    "indices"
   ]
  },
  {
   "cell_type": "code",
   "execution_count": 37,
   "metadata": {},
   "outputs": [
    {
     "data": {
      "text/html": [
       "<div>\n",
       "<style scoped>\n",
       "    .dataframe tbody tr th:only-of-type {\n",
       "        vertical-align: middle;\n",
       "    }\n",
       "\n",
       "    .dataframe tbody tr th {\n",
       "        vertical-align: top;\n",
       "    }\n",
       "\n",
       "    .dataframe thead th {\n",
       "        text-align: right;\n",
       "    }\n",
       "</style>\n",
       "<table border=\"1\" class=\"dataframe\">\n",
       "  <thead>\n",
       "    <tr style=\"text-align: right;\">\n",
       "      <th></th>\n",
       "      <th>SnackBox_ID</th>\n",
       "      <th>SnackBox_Name</th>\n",
       "      <th>Category</th>\n",
       "      <th>Cust_Id</th>\n",
       "      <th>Price</th>\n",
       "      <th>Coupon</th>\n",
       "      <th>Discount(%)</th>\n",
       "      <th>Description</th>\n",
       "      <th>Month</th>\n",
       "      <th>Year</th>\n",
       "      <th>Purchase Made</th>\n",
       "    </tr>\n",
       "  </thead>\n",
       "  <tbody>\n",
       "    <tr>\n",
       "      <th>5</th>\n",
       "      <td>104184</td>\n",
       "      <td>ZenPop</td>\n",
       "      <td>Japanese snack</td>\n",
       "      <td>C00151</td>\n",
       "      <td>24.50</td>\n",
       "      <td>Y</td>\n",
       "      <td>7</td>\n",
       "      <td>Sweet and savory Japanese snacks! ZenPop boxes...</td>\n",
       "      <td>Apr</td>\n",
       "      <td>2018</td>\n",
       "      <td>Y</td>\n",
       "    </tr>\n",
       "    <tr>\n",
       "      <th>32</th>\n",
       "      <td>104184</td>\n",
       "      <td>ZenPop</td>\n",
       "      <td>Japanese snack</td>\n",
       "      <td>C00148</td>\n",
       "      <td>24.50</td>\n",
       "      <td>Y</td>\n",
       "      <td>7</td>\n",
       "      <td>Sweet and savory Japanese snacks! ZenPop boxes...</td>\n",
       "      <td>May</td>\n",
       "      <td>2018</td>\n",
       "      <td>Y</td>\n",
       "    </tr>\n",
       "    <tr>\n",
       "      <th>60</th>\n",
       "      <td>104184</td>\n",
       "      <td>ZenPop</td>\n",
       "      <td>Japanese snack</td>\n",
       "      <td>C00151</td>\n",
       "      <td>24.50</td>\n",
       "      <td>Y</td>\n",
       "      <td>7</td>\n",
       "      <td>Sweet and savory Japanese snacks! ZenPop boxes...</td>\n",
       "      <td>Apr</td>\n",
       "      <td>2018</td>\n",
       "      <td>Y</td>\n",
       "    </tr>\n",
       "    <tr>\n",
       "      <th>90</th>\n",
       "      <td>104184</td>\n",
       "      <td>ZenPop</td>\n",
       "      <td>Japanese snack</td>\n",
       "      <td>C00145</td>\n",
       "      <td>24.50</td>\n",
       "      <td>Y</td>\n",
       "      <td>7</td>\n",
       "      <td>Sweet and savory Japanese snacks! ZenPop boxes...</td>\n",
       "      <td>May</td>\n",
       "      <td>2018</td>\n",
       "      <td>Y</td>\n",
       "    </tr>\n",
       "  </tbody>\n",
       "</table>\n",
       "</div>"
      ],
      "text/plain": [
       "    SnackBox_ID SnackBox_Name        Category Cust_Id   Price Coupon  \\\n",
       "5        104184        ZenPop  Japanese snack  C00151  24.50       Y   \n",
       "32       104184        ZenPop  Japanese snack  C00148  24.50       Y   \n",
       "60       104184        ZenPop  Japanese snack  C00151  24.50       Y   \n",
       "90       104184        ZenPop  Japanese snack  C00145  24.50       Y   \n",
       "\n",
       "    Discount(%)                                        Description Month  \\\n",
       "5             7  Sweet and savory Japanese snacks! ZenPop boxes...   Apr   \n",
       "32            7  Sweet and savory Japanese snacks! ZenPop boxes...   May   \n",
       "60            7  Sweet and savory Japanese snacks! ZenPop boxes...   Apr   \n",
       "90            7  Sweet and savory Japanese snacks! ZenPop boxes...   May   \n",
       "\n",
       "    Year Purchase Made  \n",
       "5   2018             Y  \n",
       "32  2018             Y  \n",
       "60  2018             Y  \n",
       "90  2018             Y  "
      ]
     },
     "execution_count": 37,
     "metadata": {},
     "output_type": "execute_result"
    }
   ],
   "source": [
    "df[df['SnackBox_Name']=='ZenPop']"
   ]
  },
  {
   "cell_type": "code",
   "execution_count": 38,
   "metadata": {},
   "outputs": [],
   "source": [
    "# Function that takes in movie title as input and outputs most similar movies\n",
    "def get_recommendations(SnackBox_Name, cosine_sim=cosine_sim):\n",
    "    # Get the index of the movie that matches the title\n",
    "    idx = indices[SnackBox_Name]\n",
    "\n",
    "    # Get the pairwsie similarity scores of all movies with that movie\n",
    "    sim_scores = list(enumerate(cosine_sim[idx]))\n",
    "\n",
    "    # Sort the movies based on the similarity scores\n",
    "    sim_scores = sorted(sim_scores, key=lambda x: x[1] , reverse=True)\n",
    "    # sim_scores = sorted(sim_scores, reverse=True)\n",
    "    \n",
    "    # Get the scores of the 3 most similar movies\n",
    "    sim_scores = sim_scores[1:5]\n",
    "\n",
    "    # Get the movie indices\n",
    "    product_indices = [i[0] for i in sim_scores]\n",
    "\n",
    "    # Return the top 10 most similar movies\n",
    "    return df['SnackBox_Name'].iloc[product_indices]"
   ]
  },
  {
   "cell_type": "code",
   "execution_count": 43,
   "metadata": {},
   "outputs": [
    {
     "data": {
      "text/plain": [
       "18                      MunchPak\n",
       "42    Yummy Bazaar World Sampler\n",
       "56                Love With Food\n",
       "65                    Keto Krate\n",
       "Name: SnackBox_Name, dtype: object"
      ]
     },
     "execution_count": 43,
     "metadata": {},
     "output_type": "execute_result"
    }
   ],
   "source": [
    "get_recommendations('MunchPak')"
   ]
  }
 ],
 "metadata": {
  "kernelspec": {
   "display_name": "Python 3",
   "language": "python",
   "name": "python3"
  },
  "language_info": {
   "codemirror_mode": {
    "name": "ipython",
    "version": 3
   },
   "file_extension": ".py",
   "mimetype": "text/x-python",
   "name": "python",
   "nbconvert_exporter": "python",
   "pygments_lexer": "ipython3",
   "version": "3.7.4"
  }
 },
 "nbformat": 4,
 "nbformat_minor": 2
}
