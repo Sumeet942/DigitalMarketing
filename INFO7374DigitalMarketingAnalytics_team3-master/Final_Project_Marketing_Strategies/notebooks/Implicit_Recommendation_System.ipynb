{
 "cells": [
  {
   "cell_type": "markdown",
   "metadata": {},
   "source": [
    "## Collaborative Filtering for Implicit Feedback Datasets\n",
    "\n",
    "Article for the math behind the code: http://yifanhu.net/PUB/cf.pdf\n",
    "\n",
    "The number of interactions are calculated each time the user interacts with the item.\n",
    "Based on the interactions sparse martics are generated for the user interaction \n",
    "\n",
    "#### User Item preference matrix:\n",
    "\n",
    "We make a matrix which tells us which brand has been seen by the user. If the user has interacted with the product of a brand :\n",
    "\n",
    "$$\n",
    "p_{ui} =    \\begin{cases}\n",
    "    1, &amp; r_{ui} &gt; 0.\\\\\n",
    "    0, &amp; r_{ui} = 0.\n",
    "  \\end{cases}\n",
    "  $$\n",
    "$r_{ui}$: user $u$ clicked(or other interaction) number of times on item $i$\n",
    "\n",
    "$p_{ui}$: user $u$ consumed item $i$ $(r_{ui} &gt; 0)$, then we have an indication that $u$ likes $i$ $(p_{ui} = 1)$. On the other hand, if $u$ never consumed $i$, we believe no preference $(p_{ui} = 0)$."
   ]
  },
  {
   "cell_type": "code",
   "execution_count": 1,
   "metadata": {},
   "outputs": [],
   "source": [
    "import pandas as pd\n",
    "from sklearn.model_selection import train_test_split\n",
    "import scipy.sparse as sparse\n",
    "import implicit\n",
    "import numpy as np\n",
    "from operator import itemgetter\n",
    "import time"
   ]
  },
  {
   "cell_type": "code",
   "execution_count": 2,
   "metadata": {},
   "outputs": [],
   "source": [
    "class RecSys():\n",
    "    def __init__(self):\n",
    "        self.user_id = None\n",
    "        self.user_dict = None\n",
    "        self.item_dict = None\n",
    "        self.interaction_sparse_matrix = None\n",
    "        self.predicted_preference = None\n",
    "        self.recommended_items = None\n",
    "        self.users = None\n",
    "        self.items = None\n",
    "        self.agg_df = None\n",
    "        self.interaction_index_to_replace = None\n",
    "        self.predicted_df = None\n",
    "        self.compare_df = None\n",
    "\n",
    "        print('Preparing recommender engine...')\n",
    "\n",
    "    def build_recsys(self, alpha = 40, factors = 100, regularization = 0.01, iterations = 10):\n",
    "        self.alpha = alpha\n",
    "        self.factors = factors\n",
    "        self.regularization = regularization\n",
    "        self.iterations = iterations\n",
    "\n",
    "        # output parameters\n",
    "        print('This Implicit Collaborative Filtering model is built using the following parameter values: ')\n",
    "        print('alpha = ' + str(alpha))\n",
    "        print('factors = ' + str(factors))\n",
    "        print('regularization = ' + str(regularization))\n",
    "        print('no of iterations = ' + str(iterations))\n",
    "\n",
    "        # create a sparse coordinate matrix\n",
    "        interaction_sparse_matrix = self.get_item_user_sparse_matrix()\n",
    "\n",
    "        # create the training data\n",
    "        train_matrix = self.create_training_set(interaction_sparse_matrix)\n",
    "\n",
    "        # build item-user confidence matrix weighted by alpha\n",
    "        item_user_confidence = alpha * train_matrix\n",
    "\n",
    "        # create the ALS model using the Cython package 'implicit' which allows parallelisation\n",
    "        als_model = implicit.als.AlternatingLeastSquares(factors=factors,\n",
    "                                                         regularization=regularization,\n",
    "                                                         iterations=iterations)\n",
    "\n",
    "        # train the ALS model on the training data - confidence matrix\n",
    "        # this step will initialise the user-factors and item-factors vectors\n",
    "        als_model.fit(item_users=item_user_confidence)\n",
    "\n",
    "        # build our predicted preference matrix\n",
    "        user_factors = als_model.user_factors\n",
    "        item_factors = als_model.item_factors\n",
    "        predicted_preference = user_factors.dot(item_factors.T)\n",
    "\n",
    "        # return the predicted preference matrix\n",
    "        self.predicted_preference = predicted_preference\n",
    "        print('The recommender engine is ready!')\n",
    "        print('================================')\n",
    "\n",
    "    def get_item_user_sparse_matrix(self, data='C:/Users/harini/Desktop/NEUCourses/ADM/Project/e_commerce_synthetic_data.csv'):\n",
    "        '''\n",
    "        :param data: path to csv file containing the data\n",
    "        :return: item-user sparse matrix\n",
    "        '''\n",
    "\n",
    "        self.data = data\n",
    "\n",
    "        # load the csv file\n",
    "        df = pd.read_csv(filepath_or_buffer=data)\n",
    "\n",
    "        # getting specific columns\n",
    "        df = df[['user_id','brand', 'event_type']]\n",
    "\n",
    "        # aggregate data so each row is user-item pair interaction\n",
    "        agg_df = df.groupby(['user_id', 'brand']).count().reset_index()\n",
    "        agg_df.rename(columns = {'event_type' :'user_item_interaction_count'}, inplace = True)\n",
    "        agg_df = agg_df.sort_values('user_item_interaction_count', ascending=False)\n",
    "\n",
    "        self.agg_df = agg_df\n",
    "\n",
    "        ## map each item and user to a unique numeric value\n",
    "        items = agg_df.brand.astype('category')\n",
    "        users = agg_df.user_id.astype('category')\n",
    "\n",
    "        self.items = items\n",
    "        self.users = users\n",
    "\n",
    "        ### create mapping dictionary\n",
    "        item_dict = dict(enumerate(items.cat.categories))\n",
    "        user_dict = dict(enumerate(users.cat.categories))\n",
    "\n",
    "        self.item_dict = item_dict\n",
    "        self.user_dict = user_dict\n",
    "\n",
    "        ## map no of interaction to integer\n",
    "        interactions = agg_df.user_item_interaction_count.astype('int')\n",
    "\n",
    "        # build the item-user matrix\n",
    "        ## since we are using the implicit library, the rows of the matrix will be items and columns will be users\n",
    "        sparse_rows = items.cat.codes\n",
    "        sparse_columns = users.cat.codes\n",
    "\n",
    "        # create a sparse coordinate matrix\n",
    "        interaction_sparse_matrix = sparse.csr_matrix((interactions, (sparse_rows, sparse_columns)))\n",
    "\n",
    "        return interaction_sparse_matrix\n",
    "\n",
    "    def create_training_set(self, interaction_sparse_matrix, seed_no=9257, percent_masked = 0.2):\n",
    "        '''\n",
    "        :param interaction_sparse_matrix: item-user CSR sparse matrix\n",
    "        :param seed_no: this is for reproducibility\n",
    "        :param percent_masked: proportion of user-item interactions to be masked\n",
    "        :return: training set matrix on which the model is trained\n",
    "        '''\n",
    "\n",
    "        self.interaction_sparse_matrix = interaction_sparse_matrix\n",
    "        self.seed_no = seed_no\n",
    "        self.percent_masked = percent_masked\n",
    "\n",
    "        # set seed for reproducibility\n",
    "        np.random.seed(seed_no)\n",
    "\n",
    "        # copy the original matrix to training matrix\n",
    "        train_matrix = interaction_sparse_matrix.copy()\n",
    "\n",
    "        # identify indices of the purchase sparse matrix where the element is not zero\n",
    "        existing_interaction_index = np.transpose(np.nonzero(train_matrix))\n",
    "\n",
    "        interaction_index_to_replace = train_test_split(existing_interaction_index,\n",
    "                                                        test_size=percent_masked)[1]  # mask % of user-item interactions\n",
    "        interaction_index_to_replace = np.transpose(interaction_index_to_replace) # so we can subset our matrix\n",
    "\n",
    "        self.interaction_index_to_replace = interaction_index_to_replace\n",
    "\n",
    "        # replace with 0's\n",
    "        train_matrix[interaction_index_to_replace[0], interaction_index_to_replace[1]] = 0\n",
    "\n",
    "        return train_matrix"
   ]
  },
  {
   "cell_type": "markdown",
   "metadata": {},
   "source": [
    "### Model buildig and Prediction"
   ]
  },
  {
   "cell_type": "code",
   "execution_count": 3,
   "metadata": {},
   "outputs": [
    {
     "name": "stdout",
     "output_type": "stream",
     "text": [
      "Preparing recommender engine...\n"
     ]
    }
   ],
   "source": [
    "r = RecSys() # initiate the recsys class"
   ]
  },
  {
   "cell_type": "code",
   "execution_count": 4,
   "metadata": {
    "scrolled": true
   },
   "outputs": [
    {
     "name": "stdout",
     "output_type": "stream",
     "text": [
      "This Implicit Collaborative Filtering model is built using the following parameter values: \n",
      "alpha = 40\n",
      "factors = 100\n",
      "regularization = 0.01\n",
      "no of iterations = 10\n"
     ]
    },
    {
     "name": "stderr",
     "output_type": "stream",
     "text": [
      "WARNING:root:Intel MKL BLAS detected. Its highly recommend to set the environment variable 'export MKL_NUM_THREADS=1' to disable its internal multithreading\n",
      "100%|████████████████████████████████████████████████████████████████████████████████| 10.0/10 [00:27<00:00,  2.71s/it]\n"
     ]
    },
    {
     "name": "stdout",
     "output_type": "stream",
     "text": [
      "The recommender engine is ready!\n",
      "================================\n"
     ]
    }
   ],
   "source": [
    "r.build_recsys() # build the model"
   ]
  },
  {
   "cell_type": "code",
   "execution_count": 5,
   "metadata": {
    "scrolled": false
   },
   "outputs": [
    {
     "data": {
      "text/plain": [
       "['airnails',\n",
       " 'polarus',\n",
       " 'yoko',\n",
       " 'trind',\n",
       " 'godefroy',\n",
       " 'inm',\n",
       " 'milv',\n",
       " 'runail',\n",
       " 'de.lux',\n",
       " 'masura']"
      ]
     },
     "execution_count": 5,
     "metadata": {},
     "output_type": "execute_result"
    }
   ],
   "source": [
    "r.recommend_items(550388516)"
   ]
  },
  {
   "cell_type": "code",
   "execution_count": 50,
   "metadata": {},
   "outputs": [],
   "source": [
    "agg_df = r.agg_df"
   ]
  },
  {
   "cell_type": "code",
   "execution_count": 53,
   "metadata": {},
   "outputs": [],
   "source": [
    "agg_df = agg_df[agg_df['user_id'].isin(Recommendation_df['user_id'])]"
   ]
  },
  {
   "cell_type": "code",
   "execution_count": 57,
   "metadata": {},
   "outputs": [],
   "source": [
    "agg_df_to_compare = agg_df.loc[:, ['user_id', 'brand']]\n",
    "agg_df_to_compare.sort_values('user_id', inplace=True)"
   ]
  },
  {
   "cell_type": "code",
   "execution_count": 59,
   "metadata": {},
   "outputs": [],
   "source": [
    "rows = []\n",
    "_ = Recommendation_df.apply(lambda row: [rows.append([row['user_id'], nn]) \n",
    "                         for nn in row.recommended_brands], axis=1)"
   ]
  },
  {
   "cell_type": "code",
   "execution_count": 61,
   "metadata": {},
   "outputs": [],
   "source": [
    "Recommendation_df_new = pd.DataFrame(rows, columns=['user_id','brand'])"
   ]
  },
  {
   "cell_type": "code",
   "execution_count": 62,
   "metadata": {
    "scrolled": true
   },
   "outputs": [
    {
     "data": {
      "text/html": [
       "<div>\n",
       "<style scoped>\n",
       "    .dataframe tbody tr th:only-of-type {\n",
       "        vertical-align: middle;\n",
       "    }\n",
       "\n",
       "    .dataframe tbody tr th {\n",
       "        vertical-align: top;\n",
       "    }\n",
       "\n",
       "    .dataframe thead th {\n",
       "        text-align: right;\n",
       "    }\n",
       "</style>\n",
       "<table border=\"1\" class=\"dataframe\">\n",
       "  <thead>\n",
       "    <tr style=\"text-align: right;\">\n",
       "      <th></th>\n",
       "      <th>user_id</th>\n",
       "      <th>brand</th>\n",
       "    </tr>\n",
       "  </thead>\n",
       "  <tbody>\n",
       "    <tr>\n",
       "      <th>0</th>\n",
       "      <td>407458156</td>\n",
       "      <td>freedecor</td>\n",
       "    </tr>\n",
       "    <tr>\n",
       "      <th>1</th>\n",
       "      <td>407458156</td>\n",
       "      <td>smart</td>\n",
       "    </tr>\n",
       "    <tr>\n",
       "      <th>2</th>\n",
       "      <td>407458156</td>\n",
       "      <td>pole</td>\n",
       "    </tr>\n",
       "    <tr>\n",
       "      <th>3</th>\n",
       "      <td>407458156</td>\n",
       "      <td>severina</td>\n",
       "    </tr>\n",
       "    <tr>\n",
       "      <th>4</th>\n",
       "      <td>407458156</td>\n",
       "      <td>milv</td>\n",
       "    </tr>\n",
       "  </tbody>\n",
       "</table>\n",
       "</div>"
      ],
      "text/plain": [
       "     user_id      brand\n",
       "0  407458156  freedecor\n",
       "1  407458156      smart\n",
       "2  407458156       pole\n",
       "3  407458156   severina\n",
       "4  407458156       milv"
      ]
     },
     "execution_count": 62,
     "metadata": {},
     "output_type": "execute_result"
    }
   ],
   "source": [
    "Recommendation_df_new.head()"
   ]
  },
  {
   "cell_type": "code",
   "execution_count": 64,
   "metadata": {},
   "outputs": [],
   "source": [
    "compare_df = pd.merge(agg_df_to_compare, Recommendation_df_new, on=['user_id', 'brand'],\n",
    "                              how='left', indicator='predicted')"
   ]
  },
  {
   "cell_type": "code",
   "execution_count": 6,
   "metadata": {},
   "outputs": [],
   "source": [
    "df = pd.read_csv('C:/Users/harini/Desktop/NEUCourses/ADM/Project/RFM_Uplift_data.csv')"
   ]
  },
  {
   "cell_type": "code",
   "execution_count": 10,
   "metadata": {},
   "outputs": [
    {
     "data": {
      "text/plain": [
       "Index(['user_id', 'product_id', 'campaign', 'promotion', 'conversion',\n",
       "       'campaign_group', 'target_class', 'Monetary_cluster', 'uplift_score',\n",
       "       'Recency', 'Frequency', 'Monetary', 'cluster', 'Status'],\n",
       "      dtype='object')"
      ]
     },
     "execution_count": 10,
     "metadata": {},
     "output_type": "execute_result"
    }
   ],
   "source": [
    "df.columns"
   ]
  },
  {
   "cell_type": "code",
   "execution_count": 15,
   "metadata": {
    "scrolled": true
   },
   "outputs": [
    {
     "data": {
      "text/plain": [
       "45833"
      ]
     },
     "execution_count": 15,
     "metadata": {},
     "output_type": "execute_result"
    }
   ],
   "source": [
    "len(df[df['cluster']== 0]['user_id'].unique())"
   ]
  },
  {
   "cell_type": "code",
   "execution_count": 16,
   "metadata": {},
   "outputs": [
    {
     "data": {
      "text/plain": [
       "48167"
      ]
     },
     "execution_count": 16,
     "metadata": {},
     "output_type": "execute_result"
    }
   ],
   "source": [
    "len(df[df['cluster']== 1]['user_id'].unique())"
   ]
  },
  {
   "cell_type": "code",
   "execution_count": 17,
   "metadata": {},
   "outputs": [
    {
     "data": {
      "text/plain": [
       "4458"
      ]
     },
     "execution_count": 17,
     "metadata": {},
     "output_type": "execute_result"
    }
   ],
   "source": [
    "len(df[df['cluster']== 2]['user_id'].unique())"
   ]
  },
  {
   "cell_type": "code",
   "execution_count": 18,
   "metadata": {},
   "outputs": [],
   "source": [
    "Recommendation_df = pd.DataFrame(df[df['cluster']== 2]['user_id'].unique())\n",
    "Recommendation_df.columns = ['user_id']"
   ]
  },
  {
   "cell_type": "code",
   "execution_count": 19,
   "metadata": {
    "scrolled": false
   },
   "outputs": [
    {
     "data": {
      "text/html": [
       "<div>\n",
       "<style scoped>\n",
       "    .dataframe tbody tr th:only-of-type {\n",
       "        vertical-align: middle;\n",
       "    }\n",
       "\n",
       "    .dataframe tbody tr th {\n",
       "        vertical-align: top;\n",
       "    }\n",
       "\n",
       "    .dataframe thead th {\n",
       "        text-align: right;\n",
       "    }\n",
       "</style>\n",
       "<table border=\"1\" class=\"dataframe\">\n",
       "  <thead>\n",
       "    <tr style=\"text-align: right;\">\n",
       "      <th></th>\n",
       "      <th>user_id</th>\n",
       "    </tr>\n",
       "  </thead>\n",
       "  <tbody>\n",
       "    <tr>\n",
       "      <th>0</th>\n",
       "      <td>407458156</td>\n",
       "    </tr>\n",
       "    <tr>\n",
       "      <th>1</th>\n",
       "      <td>548228624</td>\n",
       "    </tr>\n",
       "    <tr>\n",
       "      <th>2</th>\n",
       "      <td>433063720</td>\n",
       "    </tr>\n",
       "    <tr>\n",
       "      <th>3</th>\n",
       "      <td>547853931</td>\n",
       "    </tr>\n",
       "    <tr>\n",
       "      <th>4</th>\n",
       "      <td>516199419</td>\n",
       "    </tr>\n",
       "  </tbody>\n",
       "</table>\n",
       "</div>"
      ],
      "text/plain": [
       "     user_id\n",
       "0  407458156\n",
       "1  548228624\n",
       "2  433063720\n",
       "3  547853931\n",
       "4  516199419"
      ]
     },
     "execution_count": 19,
     "metadata": {},
     "output_type": "execute_result"
    }
   ],
   "source": [
    "Recommendation_df.head()"
   ]
  },
  {
   "cell_type": "code",
   "execution_count": 27,
   "metadata": {},
   "outputs": [],
   "source": [
    "users = [576802932,412120092,494077766,348405118,560109803]\n",
    "recommendations = []"
   ]
  },
  {
   "cell_type": "code",
   "execution_count": 29,
   "metadata": {},
   "outputs": [],
   "source": [
    "for i in users:\n",
    "    recommendations.append(r.recommend_items(i))"
   ]
  },
  {
   "cell_type": "code",
   "execution_count": 20,
   "metadata": {},
   "outputs": [],
   "source": [
    "Recommendation_df['recommended_brands'] = Recommendation_df['user_id'].apply(lambda x: r.recommend_items(x))"
   ]
  },
  {
   "cell_type": "code",
   "execution_count": 21,
   "metadata": {
    "scrolled": false
   },
   "outputs": [
    {
     "data": {
      "text/html": [
       "<div>\n",
       "<style scoped>\n",
       "    .dataframe tbody tr th:only-of-type {\n",
       "        vertical-align: middle;\n",
       "    }\n",
       "\n",
       "    .dataframe tbody tr th {\n",
       "        vertical-align: top;\n",
       "    }\n",
       "\n",
       "    .dataframe thead th {\n",
       "        text-align: right;\n",
       "    }\n",
       "</style>\n",
       "<table border=\"1\" class=\"dataframe\">\n",
       "  <thead>\n",
       "    <tr style=\"text-align: right;\">\n",
       "      <th></th>\n",
       "      <th>user_id</th>\n",
       "      <th>recommended_brands</th>\n",
       "    </tr>\n",
       "  </thead>\n",
       "  <tbody>\n",
       "    <tr>\n",
       "      <th>0</th>\n",
       "      <td>407458156</td>\n",
       "      <td>[freedecor, smart, pole, severina, milv, irisk...</td>\n",
       "    </tr>\n",
       "    <tr>\n",
       "      <th>1</th>\n",
       "      <td>548228624</td>\n",
       "      <td>[bpw.style, freedecor, runail, grattol, de.lux...</td>\n",
       "    </tr>\n",
       "    <tr>\n",
       "      <th>2</th>\n",
       "      <td>433063720</td>\n",
       "      <td>[cnd, irisk, oniq, freedecor, uno, staleks, yo...</td>\n",
       "    </tr>\n",
       "    <tr>\n",
       "      <th>3</th>\n",
       "      <td>547853931</td>\n",
       "      <td>[nagaraku, art-visage, italwax, solomeya, arte...</td>\n",
       "    </tr>\n",
       "    <tr>\n",
       "      <th>4</th>\n",
       "      <td>516199419</td>\n",
       "      <td>[freedecor, airnails, smart, yoko, masura, lia...</td>\n",
       "    </tr>\n",
       "  </tbody>\n",
       "</table>\n",
       "</div>"
      ],
      "text/plain": [
       "     user_id                                 recommended_brands\n",
       "0  407458156  [freedecor, smart, pole, severina, milv, irisk...\n",
       "1  548228624  [bpw.style, freedecor, runail, grattol, de.lux...\n",
       "2  433063720  [cnd, irisk, oniq, freedecor, uno, staleks, yo...\n",
       "3  547853931  [nagaraku, art-visage, italwax, solomeya, arte...\n",
       "4  516199419  [freedecor, airnails, smart, yoko, masura, lia..."
      ]
     },
     "execution_count": 21,
     "metadata": {},
     "output_type": "execute_result"
    }
   ],
   "source": [
    "Recommendation_df.head()"
   ]
  },
  {
   "cell_type": "code",
   "execution_count": 23,
   "metadata": {},
   "outputs": [],
   "source": [
    "Recommendation_df_0 = pd.DataFrame(df[df['cluster']== 0]['user_id'].unique())\n",
    "Recommendation_df_0.columns = ['user_id']"
   ]
  },
  {
   "cell_type": "code",
   "execution_count": 24,
   "metadata": {},
   "outputs": [],
   "source": [
    "Recommendation_df_0['recommended_brands'] = Recommendation_df_0['user_id'].apply(lambda x: r.recommend_items(x))"
   ]
  },
  {
   "cell_type": "code",
   "execution_count": 73,
   "metadata": {
    "scrolled": false
   },
   "outputs": [
    {
     "data": {
      "text/html": [
       "<div>\n",
       "<style scoped>\n",
       "    .dataframe tbody tr th:only-of-type {\n",
       "        vertical-align: middle;\n",
       "    }\n",
       "\n",
       "    .dataframe tbody tr th {\n",
       "        vertical-align: top;\n",
       "    }\n",
       "\n",
       "    .dataframe thead th {\n",
       "        text-align: right;\n",
       "    }\n",
       "</style>\n",
       "<table border=\"1\" class=\"dataframe\">\n",
       "  <thead>\n",
       "    <tr style=\"text-align: right;\">\n",
       "      <th></th>\n",
       "      <th>user_id</th>\n",
       "      <th>recommended_brands</th>\n",
       "    </tr>\n",
       "  </thead>\n",
       "  <tbody>\n",
       "    <tr>\n",
       "      <th>0</th>\n",
       "      <td>579752970</td>\n",
       "      <td>[yoko, nagaraku, kapous, lovely, irisk, domix,...</td>\n",
       "    </tr>\n",
       "    <tr>\n",
       "      <th>1</th>\n",
       "      <td>513026898</td>\n",
       "      <td>[bluesky, ingarden, freedecor, bpw.style, iris...</td>\n",
       "    </tr>\n",
       "    <tr>\n",
       "      <th>2</th>\n",
       "      <td>569278192</td>\n",
       "      <td>[roubloff, metzger, smart, airnails, de.lux, c...</td>\n",
       "    </tr>\n",
       "    <tr>\n",
       "      <th>3</th>\n",
       "      <td>451312379</td>\n",
       "      <td>[irisk, uno, runail, ingarden, bpw.style, blue...</td>\n",
       "    </tr>\n",
       "    <tr>\n",
       "      <th>4</th>\n",
       "      <td>555042132</td>\n",
       "      <td>[bpw.style, irisk, runail, uno, jessnail, grat...</td>\n",
       "    </tr>\n",
       "  </tbody>\n",
       "</table>\n",
       "</div>"
      ],
      "text/plain": [
       "     user_id                                 recommended_brands\n",
       "0  579752970  [yoko, nagaraku, kapous, lovely, irisk, domix,...\n",
       "1  513026898  [bluesky, ingarden, freedecor, bpw.style, iris...\n",
       "2  569278192  [roubloff, metzger, smart, airnails, de.lux, c...\n",
       "3  451312379  [irisk, uno, runail, ingarden, bpw.style, blue...\n",
       "4  555042132  [bpw.style, irisk, runail, uno, jessnail, grat..."
      ]
     },
     "execution_count": 73,
     "metadata": {},
     "output_type": "execute_result"
    }
   ],
   "source": [
    "Recommendation_df_0.head()"
   ]
  },
  {
   "cell_type": "code",
   "execution_count": 31,
   "metadata": {},
   "outputs": [],
   "source": [
    "Recommendation_final = pd.concat([Recommendation_df_0,Recommendation_df]).reset_index(drop = True)"
   ]
  },
  {
   "cell_type": "code",
   "execution_count": 41,
   "metadata": {},
   "outputs": [],
   "source": [
    "Recommendation_final.to_csv('C:/Users/harini/Desktop/NEUCourses/ADM/Project/Recommendation_data.csv', index = False, encoding = 'utf-8')"
   ]
  },
  {
   "cell_type": "code",
   "execution_count": 35,
   "metadata": {},
   "outputs": [],
   "source": [
    "Recommendation_final[['Rec 1','Rec 2', 'Rec 3', 'Rec 4', 'Rec 5', 'Rec 6', 'Rec 7', 'Rec 8', 'Rec 9', 'Rec 10']] = pd.DataFrame(Recommendation_final['recommended_brands'].values.tolist(), index= Recommendation_final.index)"
   ]
  },
  {
   "cell_type": "markdown",
   "metadata": {},
   "source": [
    "## Accuracy mertics"
   ]
  },
  {
   "cell_type": "code",
   "execution_count": 72,
   "metadata": {},
   "outputs": [
    {
     "name": "stdout",
     "output_type": "stream",
     "text": [
      "Recall : 41.1 \n",
      "Precision : 78.5\n"
     ]
    }
   ],
   "source": [
    "recall_accuracy = round(sum(compare_df.predicted == 'both') / agg_df_to_compare.shape[0] * 100, 1)\n",
    "precision = round(sum(compare_df.predicted == 'both') / Recommendation_df_new.shape[0] * 100, 1)\n",
    "print('Recall :',recall_accuracy, '\\nPrecision :',precision)"
   ]
  },
  {
   "cell_type": "code",
   "execution_count": 37,
   "metadata": {},
   "outputs": [],
   "source": [
    "Recommendation_final = Recommendation_final.drop('recommended_brands', axis =1)"
   ]
  }
 ],
 "metadata": {
  "kernelspec": {
   "display_name": "Python 3",
   "language": "python",
   "name": "python3"
  },
  "language_info": {
   "codemirror_mode": {
    "name": "ipython",
    "version": 3
   },
   "file_extension": ".py",
   "mimetype": "text/x-python",
   "name": "python",
   "nbconvert_exporter": "python",
   "pygments_lexer": "ipython3",
   "version": "3.6.5"
  }
 },
 "nbformat": 4,
 "nbformat_minor": 2
}
