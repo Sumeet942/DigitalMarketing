{
 "cells": [
  {
   "cell_type": "markdown",
   "metadata": {},
   "source": [
    "## Customer Segmentation\n",
    "\n",
    "The customers are segmented into 3 categories Silver, Gold and Platinum based on the \n",
    "Recency - How recently the customer made a purchase\n",
    "Frequency - How frequently the customer is making the purchase\n",
    "Monetary Value - How much revenue the user is generating"
   ]
  },
  {
   "cell_type": "code",
   "execution_count": 1,
   "metadata": {
    "scrolled": true
   },
   "outputs": [],
   "source": [
    "import numpy as np # linear algebra\n",
    "import pandas as pd # data processing, CSV file I/O (e.g. pd.read_csv)\n",
    "import sklearn\n",
    "import xgboost as xgb\n",
    "import warnings\n",
    "warnings.filterwarnings(\"ignore\")\n",
    "import seaborn as sns\n",
    "from sklearn.model_selection import KFold, cross_val_score, train_test_split\n",
    "\n",
    "# import libraries\n",
    "from datetime import datetime, timedelta\n",
    "%matplotlib inline\n",
    "import matplotlib.pyplot as plt\n",
    "#from __future__ import division\n",
    "\n",
    "#import plotly.plotly as py\n",
    "#import plotly.offline as pyoff\n",
    "#import plotly.graph_objs as go\n",
    "\n",
    "#inititate Plotly\n",
    "#pyoff.init_notebook_mode()"
   ]
  },
  {
   "cell_type": "code",
   "execution_count": 126,
   "metadata": {},
   "outputs": [],
   "source": [
    "df = pd.read_csv('C:/Users/harini/Desktop/NEUCourses/ADM/Project/e_commerce_synthetic_data.csv')"
   ]
  },
  {
   "cell_type": "code",
   "execution_count": 127,
   "metadata": {},
   "outputs": [
    {
     "data": {
      "text/plain": [
       "Index(['user_id', 'product_id', 'ratings', 'Unnamed: 0', 'user_session',\n",
       "       'campaign', 'promotion', 'channel', 'discount', 'Street Address',\n",
       "       'City', 'State', 'ZipCode', 'event_time', 'event_type', 'category_id',\n",
       "       'category_code', 'brand', 'price', 'selling_price'],\n",
       "      dtype='object')"
      ]
     },
     "execution_count": 127,
     "metadata": {},
     "output_type": "execute_result"
    }
   ],
   "source": [
    "df.columns"
   ]
  },
  {
   "cell_type": "code",
   "execution_count": 128,
   "metadata": {},
   "outputs": [],
   "source": [
    "df = df.drop(['Unnamed: 0'],axis =1)"
   ]
  },
  {
   "cell_type": "code",
   "execution_count": 129,
   "metadata": {},
   "outputs": [
    {
     "data": {
      "text/plain": [
       "4.816527274001879"
      ]
     },
     "execution_count": 129,
     "metadata": {},
     "output_type": "execute_result"
    }
   ],
   "source": [
    "df[df['event_type'] == 'purchase']['selling_price'].mean()"
   ]
  },
  {
   "cell_type": "code",
   "execution_count": 95,
   "metadata": {},
   "outputs": [],
   "source": [
    "idx = df.groupby(['user_id','product_id'])['event_time'].transform(max) == df['event_time']"
   ]
  },
  {
   "cell_type": "code",
   "execution_count": 96,
   "metadata": {},
   "outputs": [],
   "source": [
    "df1 = df[idx][['user_id','product_id','campaign','promotion','event_type']]"
   ]
  },
  {
   "cell_type": "code",
   "execution_count": 97,
   "metadata": {},
   "outputs": [
    {
     "data": {
      "text/plain": [
       "count    1.193275e+07\n",
       "mean     9.469737e+00\n",
       "std      2.150771e+01\n",
       "min      0.000000e+00\n",
       "25%      2.210000e+00\n",
       "50%      4.110000e+00\n",
       "75%      7.140000e+00\n",
       "max      3.277800e+02\n",
       "Name: price, dtype: float64"
      ]
     },
     "execution_count": 97,
     "metadata": {},
     "output_type": "execute_result"
    }
   ],
   "source": [
    "df.price.describe()"
   ]
  },
  {
   "cell_type": "code",
   "execution_count": 7,
   "metadata": {},
   "outputs": [
    {
     "data": {
      "image/png": "[encoded data removed]",
      "text/plain": [
       "<Figure size 432x288 with 1 Axes>"
      ]
     },
     "metadata": {},
     "output_type": "display_data"
    }
   ],
   "source": [
    "null_values = pd.DataFrame(100*(df.isnull().sum()/len(df)),columns=['count_value'])\n",
    "ax = sns.barplot(null_values.count_value,null_values.index)"
   ]
  },
  {
   "cell_type": "code",
   "execution_count": 74,
   "metadata": {},
   "outputs": [],
   "source": [
    "# df = df.drop(['category_code'],axis =1)"
   ]
  },
  {
   "cell_type": "code",
   "execution_count": 48,
   "metadata": {},
   "outputs": [],
   "source": [
    "df_purchased = df[df.event_type == 'purchase'].reset_index(drop = True)"
   ]
  },
  {
   "cell_type": "code",
   "execution_count": 49,
   "metadata": {
    "scrolled": false
   },
   "outputs": [
    {
     "name": "stdout",
     "output_type": "stream",
     "text": [
      "<class 'pandas.core.frame.DataFrame'>\n",
      "RangeIndex: 737314 entries, 0 to 737313\n",
      "Data columns (total 19 columns):\n",
      "user_id           737314 non-null int64\n",
      "product_id        737314 non-null int64\n",
      "ratings           737314 non-null int64\n",
      "user_session      737314 non-null object\n",
      "campaign          737314 non-null object\n",
      "promotion         737314 non-null object\n",
      "channel           737314 non-null object\n",
      "discount          737314 non-null int64\n",
      "Street Address    737314 non-null object\n",
      "City              737314 non-null object\n",
      "State             737314 non-null object\n",
      "ZipCode           737314 non-null int64\n",
      "event_time        737314 non-null object\n",
      "event_type        737314 non-null object\n",
      "category_id       737314 non-null int64\n",
      "category_code     13847 non-null object\n",
      "brand             737314 non-null object\n",
      "price             737314 non-null float64\n",
      "selling_price     737314 non-null float64\n",
      "dtypes: float64(2), int64(6), object(11)\n",
      "memory usage: 106.9+ MB\n"
     ]
    }
   ],
   "source": [
    "df_purchased.info() "
   ]
  },
  {
   "cell_type": "code",
   "execution_count": 50,
   "metadata": {},
   "outputs": [],
   "source": [
    "#create a generic user dataframe to keep CustomerID and new segmentation scores\n",
    "df_users_purchased = pd.DataFrame(df_purchased['user_id'].unique())"
   ]
  },
  {
   "cell_type": "code",
   "execution_count": 51,
   "metadata": {},
   "outputs": [],
   "source": [
    "df_users_purchased.columns = ['user_id']"
   ]
  },
  {
   "cell_type": "code",
   "execution_count": 52,
   "metadata": {},
   "outputs": [
    {
     "data": {
      "text/plain": [
       "98458"
      ]
     },
     "execution_count": 52,
     "metadata": {},
     "output_type": "execute_result"
    }
   ],
   "source": [
    "len(df_users_purchased)"
   ]
  },
  {
   "cell_type": "code",
   "execution_count": 53,
   "metadata": {},
   "outputs": [],
   "source": [
    "recency_df = df_purchased.groupby('user_id').event_time.max().reset_index()\n",
    "recency_df.columns = ['user_id','LastPurchaseDate']"
   ]
  },
  {
   "cell_type": "code",
   "execution_count": 54,
   "metadata": {},
   "outputs": [
    {
     "data": {
      "text/plain": [
       "98458"
      ]
     },
     "execution_count": 54,
     "metadata": {},
     "output_type": "execute_result"
    }
   ],
   "source": [
    "len(recency_df)"
   ]
  },
  {
   "cell_type": "code",
   "execution_count": 55,
   "metadata": {},
   "outputs": [
    {
     "name": "stdout",
     "output_type": "stream",
     "text": [
      "<class 'pandas.core.frame.DataFrame'>\n",
      "RangeIndex: 98458 entries, 0 to 98457\n",
      "Data columns (total 2 columns):\n",
      "user_id             98458 non-null int64\n",
      "LastPurchaseDate    98458 non-null object\n",
      "dtypes: int64(1), object(1)\n",
      "memory usage: 1.5+ MB\n"
     ]
    }
   ],
   "source": [
    "recency_df.info()"
   ]
  },
  {
   "cell_type": "code",
   "execution_count": 56,
   "metadata": {},
   "outputs": [],
   "source": [
    "recency_df['LastPurchaseDate'] = pd.to_datetime(recency_df['LastPurchaseDate'])"
   ]
  },
  {
   "cell_type": "code",
   "execution_count": 57,
   "metadata": {},
   "outputs": [],
   "source": [
    "recency_df['LastPurchaseDate'] = recency_df['LastPurchaseDate'].dt.tz_localize(None)"
   ]
  },
  {
   "cell_type": "code",
   "execution_count": 58,
   "metadata": {},
   "outputs": [
    {
     "data": {
      "text/plain": [
       "Timestamp('2020-02-29 23:54:44')"
      ]
     },
     "execution_count": 58,
     "metadata": {},
     "output_type": "execute_result"
    }
   ],
   "source": [
    "recency_df['LastPurchaseDate'].max()"
   ]
  },
  {
   "cell_type": "code",
   "execution_count": 59,
   "metadata": {},
   "outputs": [],
   "source": [
    "import datetime as dt\n",
    "# import timezones\n",
    "# from datetime import datetime, timezone\n",
    "\n",
    "now = datetime(2020, 3, 1, 0, 0, 0)"
   ]
  },
  {
   "cell_type": "code",
   "execution_count": 60,
   "metadata": {},
   "outputs": [],
   "source": [
    "recency_df['Recency'] = recency_df.LastPurchaseDate.apply(lambda x : (now - x).days)"
   ]
  },
  {
   "cell_type": "code",
   "execution_count": 61,
   "metadata": {},
   "outputs": [
    {
     "data": {
      "text/html": [
       "<div>\n",
       "<style scoped>\n",
       "    .dataframe tbody tr th:only-of-type {\n",
       "        vertical-align: middle;\n",
       "    }\n",
       "\n",
       "    .dataframe tbody tr th {\n",
       "        vertical-align: top;\n",
       "    }\n",
       "\n",
       "    .dataframe thead th {\n",
       "        text-align: right;\n",
       "    }\n",
       "</style>\n",
       "<table border=\"1\" class=\"dataframe\">\n",
       "  <thead>\n",
       "    <tr style=\"text-align: right;\">\n",
       "      <th></th>\n",
       "      <th>user_id</th>\n",
       "      <th>LastPurchaseDate</th>\n",
       "      <th>Recency</th>\n",
       "    </tr>\n",
       "  </thead>\n",
       "  <tbody>\n",
       "    <tr>\n",
       "      <th>0</th>\n",
       "      <td>9794320</td>\n",
       "      <td>2019-11-25 05:07:13</td>\n",
       "      <td>96</td>\n",
       "    </tr>\n",
       "    <tr>\n",
       "      <th>1</th>\n",
       "      <td>10079204</td>\n",
       "      <td>2019-11-06 10:43:30</td>\n",
       "      <td>115</td>\n",
       "    </tr>\n",
       "    <tr>\n",
       "      <th>2</th>\n",
       "      <td>10280338</td>\n",
       "      <td>2020-02-19 15:21:31</td>\n",
       "      <td>10</td>\n",
       "    </tr>\n",
       "    <tr>\n",
       "      <th>3</th>\n",
       "      <td>12055855</td>\n",
       "      <td>2019-12-20 12:05:29</td>\n",
       "      <td>71</td>\n",
       "    </tr>\n",
       "    <tr>\n",
       "      <th>4</th>\n",
       "      <td>12936739</td>\n",
       "      <td>2020-01-17 07:51:19</td>\n",
       "      <td>43</td>\n",
       "    </tr>\n",
       "  </tbody>\n",
       "</table>\n",
       "</div>"
      ],
      "text/plain": [
       "    user_id    LastPurchaseDate  Recency\n",
       "0   9794320 2019-11-25 05:07:13       96\n",
       "1  10079204 2019-11-06 10:43:30      115\n",
       "2  10280338 2020-02-19 15:21:31       10\n",
       "3  12055855 2019-12-20 12:05:29       71\n",
       "4  12936739 2020-01-17 07:51:19       43"
      ]
     },
     "execution_count": 61,
     "metadata": {},
     "output_type": "execute_result"
    }
   ],
   "source": [
    "recency_df.head()"
   ]
  },
  {
   "cell_type": "code",
   "execution_count": 62,
   "metadata": {},
   "outputs": [
    {
     "data": {
      "text/plain": [
       "98458"
      ]
     },
     "execution_count": 62,
     "metadata": {},
     "output_type": "execute_result"
    }
   ],
   "source": [
    "len(recency_df.user_id)"
   ]
  },
  {
   "cell_type": "code",
   "execution_count": 63,
   "metadata": {},
   "outputs": [],
   "source": [
    "df_purchased['event_time'] = pd.to_datetime(df_purchased['event_time'])"
   ]
  },
  {
   "cell_type": "code",
   "execution_count": 64,
   "metadata": {},
   "outputs": [],
   "source": [
    "df_purchased['event_time'] = df_purchased['event_time'].dt.tz_localize(None)"
   ]
  },
  {
   "cell_type": "code",
   "execution_count": 65,
   "metadata": {
    "scrolled": true
   },
   "outputs": [
    {
     "data": {
      "text/html": [
       "<div>\n",
       "<style scoped>\n",
       "    .dataframe tbody tr th:only-of-type {\n",
       "        vertical-align: middle;\n",
       "    }\n",
       "\n",
       "    .dataframe tbody tr th {\n",
       "        vertical-align: top;\n",
       "    }\n",
       "\n",
       "    .dataframe thead th {\n",
       "        text-align: right;\n",
       "    }\n",
       "</style>\n",
       "<table border=\"1\" class=\"dataframe\">\n",
       "  <thead>\n",
       "    <tr style=\"text-align: right;\">\n",
       "      <th></th>\n",
       "      <th>user_id</th>\n",
       "      <th>Frequency</th>\n",
       "    </tr>\n",
       "  </thead>\n",
       "  <tbody>\n",
       "    <tr>\n",
       "      <th>0</th>\n",
       "      <td>9794320</td>\n",
       "      <td>1</td>\n",
       "    </tr>\n",
       "    <tr>\n",
       "      <th>1</th>\n",
       "      <td>10079204</td>\n",
       "      <td>1</td>\n",
       "    </tr>\n",
       "    <tr>\n",
       "      <th>2</th>\n",
       "      <td>10280338</td>\n",
       "      <td>5</td>\n",
       "    </tr>\n",
       "    <tr>\n",
       "      <th>3</th>\n",
       "      <td>12055855</td>\n",
       "      <td>1</td>\n",
       "    </tr>\n",
       "    <tr>\n",
       "      <th>4</th>\n",
       "      <td>12936739</td>\n",
       "      <td>1</td>\n",
       "    </tr>\n",
       "  </tbody>\n",
       "</table>\n",
       "</div>"
      ],
      "text/plain": [
       "    user_id  Frequency\n",
       "0   9794320          1\n",
       "1  10079204          1\n",
       "2  10280338          5\n",
       "3  12055855          1\n",
       "4  12936739          1"
      ]
     },
     "execution_count": 65,
     "metadata": {},
     "output_type": "execute_result"
    }
   ],
   "source": [
    "#check frequency of customer means how many transaction has been done..\n",
    "\n",
    "frequency_df = df_purchased.copy()\n",
    "frequency_df.drop_duplicates(subset=['user_id','event_time'], keep=\"first\", inplace=True) \n",
    "frequency_df = frequency_df.groupby('user_id',as_index=False)['event_time'].count()\n",
    "frequency_df.columns = ['user_id','Frequency']\n",
    "frequency_df.head()"
   ]
  },
  {
   "cell_type": "code",
   "execution_count": 28,
   "metadata": {},
   "outputs": [
    {
     "data": {
      "text/plain": [
       "98458"
      ]
     },
     "execution_count": 28,
     "metadata": {},
     "output_type": "execute_result"
    }
   ],
   "source": [
    "len(frequency_df.user_id.unique())"
   ]
  },
  {
   "cell_type": "code",
   "execution_count": 66,
   "metadata": {},
   "outputs": [],
   "source": [
    "monetary_df=df_purchased.groupby(['user_id'],as_index=False)['selling_price'].sum()\n",
    "monetary_df.columns = ['user_id','Monetary']"
   ]
  },
  {
   "cell_type": "code",
   "execution_count": 67,
   "metadata": {},
   "outputs": [
    {
     "data": {
      "text/plain": [
       "count    98458.000000\n",
       "mean        36.069116\n",
       "std         56.513231\n",
       "min          0.051000\n",
       "25%          9.639000\n",
       "50%         19.411500\n",
       "75%         40.180000\n",
       "max       2357.095000\n",
       "Name: Monetary, dtype: float64"
      ]
     },
     "execution_count": 67,
     "metadata": {},
     "output_type": "execute_result"
    }
   ],
   "source": [
    "monetary_df.Monetary.describe()"
   ]
  },
  {
   "cell_type": "code",
   "execution_count": 68,
   "metadata": {},
   "outputs": [
    {
     "data": {
      "text/html": [
       "<div>\n",
       "<style scoped>\n",
       "    .dataframe tbody tr th:only-of-type {\n",
       "        vertical-align: middle;\n",
       "    }\n",
       "\n",
       "    .dataframe tbody tr th {\n",
       "        vertical-align: top;\n",
       "    }\n",
       "\n",
       "    .dataframe thead th {\n",
       "        text-align: right;\n",
       "    }\n",
       "</style>\n",
       "<table border=\"1\" class=\"dataframe\">\n",
       "  <thead>\n",
       "    <tr style=\"text-align: right;\">\n",
       "      <th></th>\n",
       "      <th>LastPurchaseDate</th>\n",
       "      <th>Recency</th>\n",
       "      <th>Frequency</th>\n",
       "      <th>Monetary</th>\n",
       "    </tr>\n",
       "    <tr>\n",
       "      <th>user_id</th>\n",
       "      <th></th>\n",
       "      <th></th>\n",
       "      <th></th>\n",
       "      <th></th>\n",
       "    </tr>\n",
       "  </thead>\n",
       "  <tbody>\n",
       "    <tr>\n",
       "      <th>9794320</th>\n",
       "      <td>2019-11-25 05:07:13</td>\n",
       "      <td>96</td>\n",
       "      <td>1</td>\n",
       "      <td>10.778</td>\n",
       "    </tr>\n",
       "    <tr>\n",
       "      <th>10079204</th>\n",
       "      <td>2019-11-06 10:43:30</td>\n",
       "      <td>115</td>\n",
       "      <td>1</td>\n",
       "      <td>20.648</td>\n",
       "    </tr>\n",
       "    <tr>\n",
       "      <th>10280338</th>\n",
       "      <td>2020-02-19 15:21:31</td>\n",
       "      <td>10</td>\n",
       "      <td>5</td>\n",
       "      <td>62.616</td>\n",
       "    </tr>\n",
       "    <tr>\n",
       "      <th>12055855</th>\n",
       "      <td>2019-12-20 12:05:29</td>\n",
       "      <td>71</td>\n",
       "      <td>1</td>\n",
       "      <td>16.540</td>\n",
       "    </tr>\n",
       "    <tr>\n",
       "      <th>12936739</th>\n",
       "      <td>2020-01-17 07:51:19</td>\n",
       "      <td>43</td>\n",
       "      <td>1</td>\n",
       "      <td>26.970</td>\n",
       "    </tr>\n",
       "  </tbody>\n",
       "</table>\n",
       "</div>"
      ],
      "text/plain": [
       "            LastPurchaseDate  Recency  Frequency  Monetary\n",
       "user_id                                                   \n",
       "9794320  2019-11-25 05:07:13       96          1    10.778\n",
       "10079204 2019-11-06 10:43:30      115          1    20.648\n",
       "10280338 2020-02-19 15:21:31       10          5    62.616\n",
       "12055855 2019-12-20 12:05:29       71          1    16.540\n",
       "12936739 2020-01-17 07:51:19       43          1    26.970"
      ]
     },
     "execution_count": 68,
     "metadata": {},
     "output_type": "execute_result"
    }
   ],
   "source": [
    "#Combine all together all dataframe in so we have recency, frequency and monetary values together..\n",
    "\n",
    "#combine first recency and frequency.\n",
    "rf = recency_df.merge(frequency_df,on='user_id')\n",
    "\n",
    "#combibe rf frame with monetary values.\n",
    "\n",
    "rfm = rf.merge(monetary_df,left_on='user_id',right_on='user_id')\n",
    "\n",
    "rfm.set_index('user_id',inplace=True)\n",
    "\n",
    "rfm.head()"
   ]
  },
  {
   "cell_type": "code",
   "execution_count": 69,
   "metadata": {},
   "outputs": [],
   "source": [
    "rfm = rfm.drop(['LastPurchaseDate'], axis=1)"
   ]
  },
  {
   "cell_type": "code",
   "execution_count": 70,
   "metadata": {},
   "outputs": [],
   "source": [
    "rfm_segmentation = rfm.copy()"
   ]
  },
  {
   "cell_type": "code",
   "execution_count": 71,
   "metadata": {
    "scrolled": true
   },
   "outputs": [
    {
     "data": {
      "text/html": [
       "<div>\n",
       "<style scoped>\n",
       "    .dataframe tbody tr th:only-of-type {\n",
       "        vertical-align: middle;\n",
       "    }\n",
       "\n",
       "    .dataframe tbody tr th {\n",
       "        vertical-align: top;\n",
       "    }\n",
       "\n",
       "    .dataframe thead th {\n",
       "        text-align: right;\n",
       "    }\n",
       "</style>\n",
       "<table border=\"1\" class=\"dataframe\">\n",
       "  <thead>\n",
       "    <tr style=\"text-align: right;\">\n",
       "      <th></th>\n",
       "      <th>Recency</th>\n",
       "      <th>Frequency</th>\n",
       "      <th>Monetary</th>\n",
       "    </tr>\n",
       "    <tr>\n",
       "      <th>user_id</th>\n",
       "      <th></th>\n",
       "      <th></th>\n",
       "      <th></th>\n",
       "    </tr>\n",
       "  </thead>\n",
       "  <tbody>\n",
       "    <tr>\n",
       "      <th>9794320</th>\n",
       "      <td>96</td>\n",
       "      <td>1</td>\n",
       "      <td>10.778</td>\n",
       "    </tr>\n",
       "    <tr>\n",
       "      <th>10079204</th>\n",
       "      <td>115</td>\n",
       "      <td>1</td>\n",
       "      <td>20.648</td>\n",
       "    </tr>\n",
       "    <tr>\n",
       "      <th>10280338</th>\n",
       "      <td>10</td>\n",
       "      <td>5</td>\n",
       "      <td>62.616</td>\n",
       "    </tr>\n",
       "    <tr>\n",
       "      <th>12055855</th>\n",
       "      <td>71</td>\n",
       "      <td>1</td>\n",
       "      <td>16.540</td>\n",
       "    </tr>\n",
       "    <tr>\n",
       "      <th>12936739</th>\n",
       "      <td>43</td>\n",
       "      <td>1</td>\n",
       "      <td>26.970</td>\n",
       "    </tr>\n",
       "  </tbody>\n",
       "</table>\n",
       "</div>"
      ],
      "text/plain": [
       "          Recency  Frequency  Monetary\n",
       "user_id                               \n",
       "9794320        96          1    10.778\n",
       "10079204      115          1    20.648\n",
       "10280338       10          5    62.616\n",
       "12055855       71          1    16.540\n",
       "12936739       43          1    26.970"
      ]
     },
     "execution_count": 71,
     "metadata": {},
     "output_type": "execute_result"
    }
   ],
   "source": [
    "rfm_segmentation.head()"
   ]
  },
  {
   "cell_type": "markdown",
   "metadata": {},
   "source": [
    "We are going to apply K-means clustering to assign a recency score. But we should tell how many clusters we need to K-means algorithm. To find it out, we will apply Elbow Method. Elbow Method simply tells the optimal cluster number for optimal inertia"
   ]
  },
  {
   "cell_type": "code",
   "execution_count": 72,
   "metadata": {},
   "outputs": [
    {
     "data": {
      "image/png": "[encoded data removed]",
      "text/plain": [
       "<Figure size 432x288 with 1 Axes>"
      ]
     },
     "metadata": {},
     "output_type": "display_data"
    }
   ],
   "source": [
    "from sklearn.cluster import KMeans\n",
    "# get right number of cluster for K-means so we neeed to loop from 1 to 20 number of cluster and check score.\n",
    "#Elbow method is used to represnt that. \n",
    "Nc = range(1, 10)\n",
    "kmeans = [KMeans(n_clusters=i) for i in Nc]\n",
    "score = [kmeans[i].fit(rfm_segmentation).score(rfm_segmentation) for i in range(len(kmeans))]\n",
    "plt.plot(Nc,score)\n",
    "plt.xlabel('Number of Clusters')\n",
    "plt.ylabel('Score')\n",
    "plt.title('Elbow Curve')\n",
    "plt.show()"
   ]
  },
  {
   "cell_type": "code",
   "execution_count": 74,
   "metadata": {},
   "outputs": [],
   "source": [
    "#fitting data in Kmeans theorem.\n",
    "kmeans = KMeans(n_clusters=3, random_state=0).fit(rfm_segmentation)"
   ]
  },
  {
   "cell_type": "code",
   "execution_count": 75,
   "metadata": {},
   "outputs": [],
   "source": [
    "# this creates a new column called cluster which has cluster number for each row respectively.\n",
    "rfm_segmentation['cluster'] = kmeans.labels_"
   ]
  },
  {
   "cell_type": "code",
   "execution_count": 76,
   "metadata": {},
   "outputs": [
    {
     "data": {
      "text/plain": [
       "1    48167\n",
       "0    45833\n",
       "2     4458\n",
       "Name: cluster, dtype: int64"
      ]
     },
     "execution_count": 76,
     "metadata": {},
     "output_type": "execute_result"
    }
   ],
   "source": [
    "#check our hypothesis\n",
    "\n",
    "rfm_segmentation.cluster.value_counts()"
   ]
  },
  {
   "cell_type": "code",
   "execution_count": 77,
   "metadata": {},
   "outputs": [
    {
     "data": {
      "text/html": [
       "<div>\n",
       "<style scoped>\n",
       "    .dataframe tbody tr th:only-of-type {\n",
       "        vertical-align: middle;\n",
       "    }\n",
       "\n",
       "    .dataframe tbody tr th {\n",
       "        vertical-align: top;\n",
       "    }\n",
       "\n",
       "    .dataframe thead th {\n",
       "        text-align: right;\n",
       "    }\n",
       "</style>\n",
       "<table border=\"1\" class=\"dataframe\">\n",
       "  <thead>\n",
       "    <tr style=\"text-align: right;\">\n",
       "      <th></th>\n",
       "      <th>Recency</th>\n",
       "      <th>Frequency</th>\n",
       "      <th>Monetary</th>\n",
       "      <th>cluster</th>\n",
       "    </tr>\n",
       "    <tr>\n",
       "      <th>user_id</th>\n",
       "      <th></th>\n",
       "      <th></th>\n",
       "      <th></th>\n",
       "      <th></th>\n",
       "    </tr>\n",
       "  </thead>\n",
       "  <tbody>\n",
       "    <tr>\n",
       "      <th>9794320</th>\n",
       "      <td>96</td>\n",
       "      <td>1</td>\n",
       "      <td>10.778</td>\n",
       "      <td>1</td>\n",
       "    </tr>\n",
       "    <tr>\n",
       "      <th>10079204</th>\n",
       "      <td>115</td>\n",
       "      <td>1</td>\n",
       "      <td>20.648</td>\n",
       "      <td>1</td>\n",
       "    </tr>\n",
       "    <tr>\n",
       "      <th>10280338</th>\n",
       "      <td>10</td>\n",
       "      <td>5</td>\n",
       "      <td>62.616</td>\n",
       "      <td>0</td>\n",
       "    </tr>\n",
       "    <tr>\n",
       "      <th>12055855</th>\n",
       "      <td>71</td>\n",
       "      <td>1</td>\n",
       "      <td>16.540</td>\n",
       "      <td>1</td>\n",
       "    </tr>\n",
       "    <tr>\n",
       "      <th>12936739</th>\n",
       "      <td>43</td>\n",
       "      <td>1</td>\n",
       "      <td>26.970</td>\n",
       "      <td>0</td>\n",
       "    </tr>\n",
       "  </tbody>\n",
       "</table>\n",
       "</div>"
      ],
      "text/plain": [
       "          Recency  Frequency  Monetary  cluster\n",
       "user_id                                        \n",
       "9794320        96          1    10.778        1\n",
       "10079204      115          1    20.648        1\n",
       "10280338       10          5    62.616        0\n",
       "12055855       71          1    16.540        1\n",
       "12936739       43          1    26.970        0"
      ]
     },
     "execution_count": 77,
     "metadata": {},
     "output_type": "execute_result"
    }
   ],
   "source": [
    "rfm_segmentation.head()"
   ]
  },
  {
   "cell_type": "code",
   "execution_count": 78,
   "metadata": {},
   "outputs": [],
   "source": [
    "rfm_segmentation = rfm_segmentation.reset_index()"
   ]
  },
  {
   "cell_type": "code",
   "execution_count": 79,
   "metadata": {},
   "outputs": [
    {
     "data": {
      "text/html": [
       "<div>\n",
       "<style scoped>\n",
       "    .dataframe tbody tr th:only-of-type {\n",
       "        vertical-align: middle;\n",
       "    }\n",
       "\n",
       "    .dataframe tbody tr th {\n",
       "        vertical-align: top;\n",
       "    }\n",
       "\n",
       "    .dataframe thead th {\n",
       "        text-align: right;\n",
       "    }\n",
       "</style>\n",
       "<table border=\"1\" class=\"dataframe\">\n",
       "  <thead>\n",
       "    <tr style=\"text-align: right;\">\n",
       "      <th></th>\n",
       "      <th>user_id</th>\n",
       "      <th>Recency</th>\n",
       "      <th>Frequency</th>\n",
       "      <th>Monetary</th>\n",
       "      <th>cluster</th>\n",
       "    </tr>\n",
       "  </thead>\n",
       "  <tbody>\n",
       "    <tr>\n",
       "      <th>0</th>\n",
       "      <td>9794320</td>\n",
       "      <td>96</td>\n",
       "      <td>1</td>\n",
       "      <td>10.778</td>\n",
       "      <td>1</td>\n",
       "    </tr>\n",
       "    <tr>\n",
       "      <th>1</th>\n",
       "      <td>10079204</td>\n",
       "      <td>115</td>\n",
       "      <td>1</td>\n",
       "      <td>20.648</td>\n",
       "      <td>1</td>\n",
       "    </tr>\n",
       "    <tr>\n",
       "      <th>2</th>\n",
       "      <td>10280338</td>\n",
       "      <td>10</td>\n",
       "      <td>5</td>\n",
       "      <td>62.616</td>\n",
       "      <td>0</td>\n",
       "    </tr>\n",
       "    <tr>\n",
       "      <th>3</th>\n",
       "      <td>12055855</td>\n",
       "      <td>71</td>\n",
       "      <td>1</td>\n",
       "      <td>16.540</td>\n",
       "      <td>1</td>\n",
       "    </tr>\n",
       "    <tr>\n",
       "      <th>4</th>\n",
       "      <td>12936739</td>\n",
       "      <td>43</td>\n",
       "      <td>1</td>\n",
       "      <td>26.970</td>\n",
       "      <td>0</td>\n",
       "    </tr>\n",
       "  </tbody>\n",
       "</table>\n",
       "</div>"
      ],
      "text/plain": [
       "    user_id  Recency  Frequency  Monetary  cluster\n",
       "0   9794320       96          1    10.778        1\n",
       "1  10079204      115          1    20.648        1\n",
       "2  10280338       10          5    62.616        0\n",
       "3  12055855       71          1    16.540        1\n",
       "4  12936739       43          1    26.970        0"
      ]
     },
     "execution_count": 79,
     "metadata": {},
     "output_type": "execute_result"
    }
   ],
   "source": [
    "rfm_segmentation.head()"
   ]
  },
  {
   "cell_type": "code",
   "execution_count": 80,
   "metadata": {
    "scrolled": true
   },
   "outputs": [
    {
     "data": {
      "text/html": [
       "<div>\n",
       "<style scoped>\n",
       "    .dataframe tbody tr th:only-of-type {\n",
       "        vertical-align: middle;\n",
       "    }\n",
       "\n",
       "    .dataframe tbody tr th {\n",
       "        vertical-align: top;\n",
       "    }\n",
       "\n",
       "    .dataframe thead th {\n",
       "        text-align: right;\n",
       "    }\n",
       "</style>\n",
       "<table border=\"1\" class=\"dataframe\">\n",
       "  <thead>\n",
       "    <tr style=\"text-align: right;\">\n",
       "      <th></th>\n",
       "      <th>user_id</th>\n",
       "    </tr>\n",
       "  </thead>\n",
       "  <tbody>\n",
       "    <tr>\n",
       "      <th>0</th>\n",
       "      <td>9794320</td>\n",
       "    </tr>\n",
       "    <tr>\n",
       "      <th>1</th>\n",
       "      <td>10079204</td>\n",
       "    </tr>\n",
       "    <tr>\n",
       "      <th>2</th>\n",
       "      <td>10280338</td>\n",
       "    </tr>\n",
       "    <tr>\n",
       "      <th>3</th>\n",
       "      <td>12055855</td>\n",
       "    </tr>\n",
       "    <tr>\n",
       "      <th>4</th>\n",
       "      <td>12936739</td>\n",
       "    </tr>\n",
       "  </tbody>\n",
       "</table>\n",
       "</div>"
      ],
      "text/plain": [
       "    user_id\n",
       "0   9794320\n",
       "1  10079204\n",
       "2  10280338\n",
       "3  12055855\n",
       "4  12936739"
      ]
     },
     "execution_count": 80,
     "metadata": {},
     "output_type": "execute_result"
    }
   ],
   "source": [
    "rfm_segmentation_users = pd.DataFrame(rfm_segmentation.user_id)\n",
    "rfm_segmentation_users.head()"
   ]
  },
  {
   "cell_type": "code",
   "execution_count": 81,
   "metadata": {},
   "outputs": [
    {
     "data": {
      "text/html": [
       "<div>\n",
       "<style scoped>\n",
       "    .dataframe tbody tr th:only-of-type {\n",
       "        vertical-align: middle;\n",
       "    }\n",
       "\n",
       "    .dataframe tbody tr th {\n",
       "        vertical-align: top;\n",
       "    }\n",
       "\n",
       "    .dataframe thead th {\n",
       "        text-align: right;\n",
       "    }\n",
       "</style>\n",
       "<table border=\"1\" class=\"dataframe\">\n",
       "  <thead>\n",
       "    <tr style=\"text-align: right;\">\n",
       "      <th></th>\n",
       "      <th>Recency</th>\n",
       "      <th>Frequency</th>\n",
       "      <th>Monetary</th>\n",
       "      <th>cluster</th>\n",
       "    </tr>\n",
       "  </thead>\n",
       "  <tbody>\n",
       "    <tr>\n",
       "      <th>0</th>\n",
       "      <td>96</td>\n",
       "      <td>1</td>\n",
       "      <td>10.778</td>\n",
       "      <td>1</td>\n",
       "    </tr>\n",
       "    <tr>\n",
       "      <th>1</th>\n",
       "      <td>115</td>\n",
       "      <td>1</td>\n",
       "      <td>20.648</td>\n",
       "      <td>1</td>\n",
       "    </tr>\n",
       "    <tr>\n",
       "      <th>2</th>\n",
       "      <td>10</td>\n",
       "      <td>5</td>\n",
       "      <td>62.616</td>\n",
       "      <td>0</td>\n",
       "    </tr>\n",
       "    <tr>\n",
       "      <th>3</th>\n",
       "      <td>71</td>\n",
       "      <td>1</td>\n",
       "      <td>16.540</td>\n",
       "      <td>1</td>\n",
       "    </tr>\n",
       "    <tr>\n",
       "      <th>4</th>\n",
       "      <td>43</td>\n",
       "      <td>1</td>\n",
       "      <td>26.970</td>\n",
       "      <td>0</td>\n",
       "    </tr>\n",
       "  </tbody>\n",
       "</table>\n",
       "</div>"
      ],
      "text/plain": [
       "   Recency  Frequency  Monetary  cluster\n",
       "0       96          1    10.778        1\n",
       "1      115          1    20.648        1\n",
       "2       10          5    62.616        0\n",
       "3       71          1    16.540        1\n",
       "4       43          1    26.970        0"
      ]
     },
     "execution_count": 81,
     "metadata": {},
     "output_type": "execute_result"
    }
   ],
   "source": [
    "rfm_segmentation = rfm_segmentation.drop(['user_id'],axis =1)\n",
    "rfm_segmentation.head()"
   ]
  },
  {
   "cell_type": "code",
   "execution_count": 413,
   "metadata": {},
   "outputs": [],
   "source": [
    "rfm_segmentation['Status'] = rfm_segmentation['cluster'].apply(lambda x : 'Silver' if x == 0 \n",
    "                                                              else 'Gold' if x == 1\n",
    "                                                              else 'Platinum')"
   ]
  },
  {
   "cell_type": "code",
   "execution_count": 415,
   "metadata": {},
   "outputs": [
    {
     "data": {
      "text/plain": [
       "Gold        48167\n",
       "Silver      45833\n",
       "Platinum     4458\n",
       "Name: Status, dtype: int64"
      ]
     },
     "execution_count": 415,
     "metadata": {},
     "output_type": "execute_result"
    }
   ],
   "source": [
    "rfm_segmentation.Status.value_counts()"
   ]
  },
  {
   "cell_type": "code",
   "execution_count": 82,
   "metadata": {
    "scrolled": true
   },
   "outputs": [],
   "source": [
    "rfm_segmentation = pd.merge(rfm_segmentation_users,rfm_segmentation, left_index=True, right_index=True)"
   ]
  },
  {
   "cell_type": "code",
   "execution_count": 83,
   "metadata": {},
   "outputs": [
    {
     "data": {
      "text/html": [
       "<div>\n",
       "<style scoped>\n",
       "    .dataframe tbody tr th:only-of-type {\n",
       "        vertical-align: middle;\n",
       "    }\n",
       "\n",
       "    .dataframe tbody tr th {\n",
       "        vertical-align: top;\n",
       "    }\n",
       "\n",
       "    .dataframe thead th {\n",
       "        text-align: right;\n",
       "    }\n",
       "</style>\n",
       "<table border=\"1\" class=\"dataframe\">\n",
       "  <thead>\n",
       "    <tr style=\"text-align: right;\">\n",
       "      <th></th>\n",
       "      <th>user_id</th>\n",
       "      <th>Recency</th>\n",
       "      <th>Frequency</th>\n",
       "      <th>Monetary</th>\n",
       "      <th>cluster</th>\n",
       "    </tr>\n",
       "  </thead>\n",
       "  <tbody>\n",
       "    <tr>\n",
       "      <th>0</th>\n",
       "      <td>9794320</td>\n",
       "      <td>96</td>\n",
       "      <td>1</td>\n",
       "      <td>10.778</td>\n",
       "      <td>1</td>\n",
       "    </tr>\n",
       "    <tr>\n",
       "      <th>1</th>\n",
       "      <td>10079204</td>\n",
       "      <td>115</td>\n",
       "      <td>1</td>\n",
       "      <td>20.648</td>\n",
       "      <td>1</td>\n",
       "    </tr>\n",
       "    <tr>\n",
       "      <th>2</th>\n",
       "      <td>10280338</td>\n",
       "      <td>10</td>\n",
       "      <td>5</td>\n",
       "      <td>62.616</td>\n",
       "      <td>0</td>\n",
       "    </tr>\n",
       "    <tr>\n",
       "      <th>3</th>\n",
       "      <td>12055855</td>\n",
       "      <td>71</td>\n",
       "      <td>1</td>\n",
       "      <td>16.540</td>\n",
       "      <td>1</td>\n",
       "    </tr>\n",
       "    <tr>\n",
       "      <th>4</th>\n",
       "      <td>12936739</td>\n",
       "      <td>43</td>\n",
       "      <td>1</td>\n",
       "      <td>26.970</td>\n",
       "      <td>0</td>\n",
       "    </tr>\n",
       "  </tbody>\n",
       "</table>\n",
       "</div>"
      ],
      "text/plain": [
       "    user_id  Recency  Frequency  Monetary  cluster\n",
       "0   9794320       96          1    10.778        1\n",
       "1  10079204      115          1    20.648        1\n",
       "2  10280338       10          5    62.616        0\n",
       "3  12055855       71          1    16.540        1\n",
       "4  12936739       43          1    26.970        0"
      ]
     },
     "execution_count": 83,
     "metadata": {},
     "output_type": "execute_result"
    }
   ],
   "source": [
    "rfm_segmentation.head()"
   ]
  },
  {
   "cell_type": "code",
   "execution_count": 84,
   "metadata": {},
   "outputs": [],
   "source": [
    "del  df_purchased,df_users_purchased, recency_df, frequency_df, monetary_df, rf, rfm"
   ]
  },
  {
   "cell_type": "code",
   "execution_count": 329,
   "metadata": {},
   "outputs": [],
   "source": [
    "df = pd.merge(df1, rfm_segmentation, on = 'user_id')"
   ]
  },
  {
   "cell_type": "code",
   "execution_count": 330,
   "metadata": {
    "scrolled": true
   },
   "outputs": [
    {
     "data": {
      "text/html": [
       "<div>\n",
       "<style scoped>\n",
       "    .dataframe tbody tr th:only-of-type {\n",
       "        vertical-align: middle;\n",
       "    }\n",
       "\n",
       "    .dataframe tbody tr th {\n",
       "        vertical-align: top;\n",
       "    }\n",
       "\n",
       "    .dataframe thead th {\n",
       "        text-align: right;\n",
       "    }\n",
       "</style>\n",
       "<table border=\"1\" class=\"dataframe\">\n",
       "  <thead>\n",
       "    <tr style=\"text-align: right;\">\n",
       "      <th></th>\n",
       "      <th>user_id</th>\n",
       "      <th>product_id</th>\n",
       "      <th>campaign</th>\n",
       "      <th>promotion</th>\n",
       "      <th>event_type</th>\n",
       "      <th>Recency</th>\n",
       "      <th>Frequency</th>\n",
       "      <th>Monetary</th>\n",
       "      <th>cluster</th>\n",
       "    </tr>\n",
       "  </thead>\n",
       "  <tbody>\n",
       "    <tr>\n",
       "      <th>0</th>\n",
       "      <td>576802932</td>\n",
       "      <td>5712790</td>\n",
       "      <td>Social Media</td>\n",
       "      <td>Discount</td>\n",
       "      <td>remove_from_cart</td>\n",
       "      <td>90</td>\n",
       "      <td>1</td>\n",
       "      <td>106.01</td>\n",
       "      <td>1</td>\n",
       "    </tr>\n",
       "    <tr>\n",
       "      <th>1</th>\n",
       "      <td>576802932</td>\n",
       "      <td>5650294</td>\n",
       "      <td>Social Media</td>\n",
       "      <td>Discount</td>\n",
       "      <td>remove_from_cart</td>\n",
       "      <td>90</td>\n",
       "      <td>1</td>\n",
       "      <td>106.01</td>\n",
       "      <td>1</td>\n",
       "    </tr>\n",
       "    <tr>\n",
       "      <th>2</th>\n",
       "      <td>576802932</td>\n",
       "      <td>5692261</td>\n",
       "      <td>Social Media</td>\n",
       "      <td>Discount</td>\n",
       "      <td>remove_from_cart</td>\n",
       "      <td>90</td>\n",
       "      <td>1</td>\n",
       "      <td>106.01</td>\n",
       "      <td>1</td>\n",
       "    </tr>\n",
       "    <tr>\n",
       "      <th>3</th>\n",
       "      <td>576802932</td>\n",
       "      <td>5694628</td>\n",
       "      <td>Social Media</td>\n",
       "      <td>Discount</td>\n",
       "      <td>remove_from_cart</td>\n",
       "      <td>90</td>\n",
       "      <td>1</td>\n",
       "      <td>106.01</td>\n",
       "      <td>1</td>\n",
       "    </tr>\n",
       "    <tr>\n",
       "      <th>4</th>\n",
       "      <td>576802932</td>\n",
       "      <td>5817779</td>\n",
       "      <td>Social Media</td>\n",
       "      <td>Discount</td>\n",
       "      <td>remove_from_cart</td>\n",
       "      <td>90</td>\n",
       "      <td>1</td>\n",
       "      <td>106.01</td>\n",
       "      <td>1</td>\n",
       "    </tr>\n",
       "  </tbody>\n",
       "</table>\n",
       "</div>"
      ],
      "text/plain": [
       "     user_id  product_id      campaign promotion        event_type  Recency  \\\n",
       "0  576802932     5712790  Social Media  Discount  remove_from_cart       90   \n",
       "1  576802932     5650294  Social Media  Discount  remove_from_cart       90   \n",
       "2  576802932     5692261  Social Media  Discount  remove_from_cart       90   \n",
       "3  576802932     5694628  Social Media  Discount  remove_from_cart       90   \n",
       "4  576802932     5817779  Social Media  Discount  remove_from_cart       90   \n",
       "\n",
       "   Frequency  Monetary  cluster  \n",
       "0          1    106.01        1  \n",
       "1          1    106.01        1  \n",
       "2          1    106.01        1  \n",
       "3          1    106.01        1  \n",
       "4          1    106.01        1  "
      ]
     },
     "execution_count": 330,
     "metadata": {},
     "output_type": "execute_result"
    }
   ],
   "source": [
    "df.head()"
   ]
  },
  {
   "cell_type": "code",
   "execution_count": 383,
   "metadata": {},
   "outputs": [],
   "source": [
    "data = df.drop(['cluster','Frequency'], axis = 1)"
   ]
  },
  {
   "cell_type": "code",
   "execution_count": 384,
   "metadata": {
    "scrolled": true
   },
   "outputs": [
    {
     "data": {
      "text/html": [
       "<div>\n",
       "<style scoped>\n",
       "    .dataframe tbody tr th:only-of-type {\n",
       "        vertical-align: middle;\n",
       "    }\n",
       "\n",
       "    .dataframe tbody tr th {\n",
       "        vertical-align: top;\n",
       "    }\n",
       "\n",
       "    .dataframe thead th {\n",
       "        text-align: right;\n",
       "    }\n",
       "</style>\n",
       "<table border=\"1\" class=\"dataframe\">\n",
       "  <thead>\n",
       "    <tr style=\"text-align: right;\">\n",
       "      <th></th>\n",
       "      <th>user_id</th>\n",
       "      <th>product_id</th>\n",
       "      <th>campaign</th>\n",
       "      <th>promotion</th>\n",
       "      <th>event_type</th>\n",
       "      <th>Recency</th>\n",
       "      <th>Monetary</th>\n",
       "    </tr>\n",
       "  </thead>\n",
       "  <tbody>\n",
       "    <tr>\n",
       "      <th>0</th>\n",
       "      <td>576802932</td>\n",
       "      <td>5712790</td>\n",
       "      <td>Social Media</td>\n",
       "      <td>Discount</td>\n",
       "      <td>remove_from_cart</td>\n",
       "      <td>90</td>\n",
       "      <td>106.01</td>\n",
       "    </tr>\n",
       "    <tr>\n",
       "      <th>1</th>\n",
       "      <td>576802932</td>\n",
       "      <td>5650294</td>\n",
       "      <td>Social Media</td>\n",
       "      <td>Discount</td>\n",
       "      <td>remove_from_cart</td>\n",
       "      <td>90</td>\n",
       "      <td>106.01</td>\n",
       "    </tr>\n",
       "    <tr>\n",
       "      <th>2</th>\n",
       "      <td>576802932</td>\n",
       "      <td>5692261</td>\n",
       "      <td>Social Media</td>\n",
       "      <td>Discount</td>\n",
       "      <td>remove_from_cart</td>\n",
       "      <td>90</td>\n",
       "      <td>106.01</td>\n",
       "    </tr>\n",
       "    <tr>\n",
       "      <th>3</th>\n",
       "      <td>576802932</td>\n",
       "      <td>5694628</td>\n",
       "      <td>Social Media</td>\n",
       "      <td>Discount</td>\n",
       "      <td>remove_from_cart</td>\n",
       "      <td>90</td>\n",
       "      <td>106.01</td>\n",
       "    </tr>\n",
       "    <tr>\n",
       "      <th>4</th>\n",
       "      <td>576802932</td>\n",
       "      <td>5817779</td>\n",
       "      <td>Social Media</td>\n",
       "      <td>Discount</td>\n",
       "      <td>remove_from_cart</td>\n",
       "      <td>90</td>\n",
       "      <td>106.01</td>\n",
       "    </tr>\n",
       "  </tbody>\n",
       "</table>\n",
       "</div>"
      ],
      "text/plain": [
       "     user_id  product_id      campaign promotion        event_type  Recency  \\\n",
       "0  576802932     5712790  Social Media  Discount  remove_from_cart       90   \n",
       "1  576802932     5650294  Social Media  Discount  remove_from_cart       90   \n",
       "2  576802932     5692261  Social Media  Discount  remove_from_cart       90   \n",
       "3  576802932     5694628  Social Media  Discount  remove_from_cart       90   \n",
       "4  576802932     5817779  Social Media  Discount  remove_from_cart       90   \n",
       "\n",
       "   Monetary  \n",
       "0    106.01  \n",
       "1    106.01  \n",
       "2    106.01  \n",
       "3    106.01  \n",
       "4    106.01  "
      ]
     },
     "execution_count": 384,
     "metadata": {},
     "output_type": "execute_result"
    }
   ],
   "source": [
    "data.head()"
   ]
  },
  {
   "cell_type": "markdown",
   "metadata": {},
   "source": [
    "## Uplift Modeling\n",
    "\n",
    "The uplift model help in targeting promotion to customers who are most like to respond which will help increase the conversion rate with less promotional costs.\n",
    "\n",
    "We have used 4 Quadrant Uplift model to calculate the uplift score for each user"
   ]
  },
  {
   "cell_type": "code",
   "execution_count": 103,
   "metadata": {
    "scrolled": false
   },
   "outputs": [
    {
     "data": {
      "text/plain": [
       "array(['remove_from_cart', 'purchase', 'view', 'cart'], dtype=object)"
      ]
     },
     "execution_count": 103,
     "metadata": {},
     "output_type": "execute_result"
    }
   ],
   "source": [
    "data.event_type.unique()"
   ]
  },
  {
   "cell_type": "code",
   "execution_count": 107,
   "metadata": {},
   "outputs": [
    {
     "data": {
      "text/plain": [
       "array(['Social Media', 'Referal', 'E-mail', 'Web Search'], dtype=object)"
      ]
     },
     "execution_count": 107,
     "metadata": {},
     "output_type": "execute_result"
    }
   ],
   "source": [
    "data.campaign.unique()"
   ]
  },
  {
   "cell_type": "code",
   "execution_count": 135,
   "metadata": {},
   "outputs": [
    {
     "data": {
      "text/plain": [
       "array(['Discount', 'Buy One Get One', 'Free Sample', 'No Promotion'],\n",
       "      dtype=object)"
      ]
     },
     "execution_count": 135,
     "metadata": {},
     "output_type": "execute_result"
    }
   ],
   "source": [
    "data.promotion.unique()"
   ]
  },
  {
   "cell_type": "code",
   "execution_count": 385,
   "metadata": {},
   "outputs": [],
   "source": [
    "data['conversion'] = data['event_type'].apply(lambda x : 1 if x == 'purchase' else 0)"
   ]
  },
  {
   "cell_type": "code",
   "execution_count": 386,
   "metadata": {},
   "outputs": [],
   "source": [
    "data['used_discount'] = data['promotion'].apply(lambda x: 1 if x == 'Discount' else 0)\n",
    "data['used_bogo'] = data['promotion'].apply(lambda x: 1 if x == 'Buy One Get One' else 0)\n",
    "data['used_free_sample'] = data['promotion'].apply(lambda x: 1 if x == 'Free Sample' else 0)"
   ]
  },
  {
   "cell_type": "code",
   "execution_count": 387,
   "metadata": {},
   "outputs": [],
   "source": [
    "data = data.drop(['event_type'], axis = 1)"
   ]
  },
  {
   "cell_type": "code",
   "execution_count": 388,
   "metadata": {},
   "outputs": [
    {
     "data": {
      "text/plain": [
       "0.22734837140904757"
      ]
     },
     "execution_count": 388,
     "metadata": {},
     "output_type": "execute_result"
    }
   ],
   "source": [
    "data.conversion.mean()"
   ]
  },
  {
   "cell_type": "code",
   "execution_count": 277,
   "metadata": {},
   "outputs": [],
   "source": [
    "def calc_uplift(df):\n",
    "    avg_order_value = 5\n",
    "    \n",
    "    #calculate conversions for each offer type\n",
    "    base_conv = df[df.promotion == 'No Promotion']['conversion'].mean()\n",
    "    disc_conv = df[df.promotion == 'Discount']['conversion'].mean()\n",
    "    bogo_conv = df[df.promotion == 'Buy One Get One']['conversion'].mean()\n",
    "    fs_conv = df[df.promotion == 'Free Sample']['conversion'].mean()\n",
    "    \n",
    "    #calculate conversion uplift for discount and bogo\n",
    "    disc_conv_uplift = disc_conv - base_conv\n",
    "    bogo_conv_uplift = bogo_conv - base_conv\n",
    "    fs_conv_uplift = fs_conv - base_conv\n",
    "    \n",
    "    #calculate order uplift\n",
    "    disc_order_uplift = disc_conv_uplift * len(df[df.promotion == 'Discount']['conversion'])\n",
    "    bogo_order_uplift = bogo_conv_uplift * len(df[df.promotion == 'Buy One Get One']['conversion'])\n",
    "    fs_order_uplift = fs_conv_uplift * len(df[df.promotion == 'Free Sample']['conversion'])\n",
    "    \n",
    "    #calculate revenue uplift\n",
    "    disc_rev_uplift = disc_order_uplift * avg_order_value\n",
    "    bogo_rev_uplift = bogo_order_uplift * avg_order_value\n",
    "    fs_rev_uplift = fs_order_uplift * avg_order_value\n",
    "    \n",
    "    \n",
    "    print('Discount Conversion Uplift: {0}%'.format(np.round(disc_conv_uplift*100,2)))\n",
    "    print('Discount Order Uplift: {0}'.format(np.round(disc_order_uplift,2)))\n",
    "    print('Discount Revenue Uplift: ${0}\\n'.format(np.round(disc_rev_uplift,2)))\n",
    "    \n",
    "    if len(df[df.promotion == 'Buy One Get One']['conversion']) > 0:\n",
    "          \n",
    "        print('-------------- \\n')\n",
    "        print('BOGO Conversion Uplift: {0}%'.format(np.round(bogo_conv_uplift*100,2)))\n",
    "        print('BOGO Order Uplift: {0}'.format(np.round(bogo_order_uplift,2)))\n",
    "        print('BOGO Revenue Uplift: ${0}'.format(np.round(bogo_rev_uplift,2)))\n",
    "        \n",
    "    if len(df[df.promotion == 'Free Sample']['conversion']) > 0:\n",
    "          \n",
    "        print('-------------- \\n')\n",
    "        print('FS Conversion Uplift: {0}%'.format(np.round(fs_conv_uplift*100,2)))\n",
    "        print('FS Order Uplift: {0}'.format(np.round(fs_order_uplift,2)))\n",
    "        print('FS Revenue Uplift: ${0}'.format(np.round(fs_rev_uplift,2)))\n",
    "        "
   ]
  },
  {
   "cell_type": "code",
   "execution_count": 278,
   "metadata": {
    "scrolled": true
   },
   "outputs": [
    {
     "name": "stdout",
     "output_type": "stream",
     "text": [
      "Discount Conversion Uplift: 0.09%\n",
      "Discount Order Uplift: 1103.08\n",
      "Discount Revenue Uplift: $5515.38\n",
      "\n",
      "-------------- \n",
      "\n",
      "BOGO Conversion Uplift: 0.01%\n",
      "BOGO Order Uplift: 58.52\n",
      "BOGO Revenue Uplift: $292.62\n",
      "-------------- \n",
      "\n",
      "FS Conversion Uplift: 0.27%\n",
      "FS Order Uplift: 604.16\n",
      "FS Revenue Uplift: $3020.82\n"
     ]
    }
   ],
   "source": [
    "calc_uplift(data)"
   ]
  },
  {
   "cell_type": "code",
   "execution_count": 389,
   "metadata": {},
   "outputs": [],
   "source": [
    "#Creating Column campgaign_group for dividing control and treatment groups\n",
    "data['campaign_group'] = 'treatment'\n",
    "data.loc[data.promotion == 'No Promotion', 'campaign_group'] = 'control'"
   ]
  },
  {
   "cell_type": "code",
   "execution_count": 390,
   "metadata": {},
   "outputs": [],
   "source": [
    "#Control Non-Responders\n",
    "data['target_class'] = 0\n",
    "\n",
    "#Control Responders\n",
    "data.loc[(data.campaign_group == 'control') & (data.conversion > 0),'target_class'] = 1\n",
    "\n",
    "#Treatment Non-Responders\n",
    "data.loc[(data.campaign_group == 'treatment') & (data.conversion == 0),'target_class'] = 2\n",
    "\n",
    "#Treatment Responders\n",
    "data.loc[(data.campaign_group == 'treatment') & (data.conversion > 0),'target_class'] = 3"
   ]
  },
  {
   "cell_type": "code",
   "execution_count": 340,
   "metadata": {},
   "outputs": [
    {
     "data": {
      "text/plain": [
       "2    1685823\n",
       "0     500965\n",
       "3     496567\n",
       "1     146883\n",
       "Name: target_class, dtype: int64"
      ]
     },
     "execution_count": 340,
     "metadata": {},
     "output_type": "execute_result"
    }
   ],
   "source": [
    "data.target_class.value_counts()"
   ]
  },
  {
   "cell_type": "code",
   "execution_count": 341,
   "metadata": {},
   "outputs": [
    {
     "data": {
      "text/plain": [
       "2    0.595647\n",
       "0    0.177005\n",
       "3    0.175451\n",
       "1    0.051898\n",
       "Name: target_class, dtype: float64"
      ]
     },
     "execution_count": 341,
     "metadata": {},
     "output_type": "execute_result"
    }
   ],
   "source": [
    "data.target_class.value_counts()/len(data)"
   ]
  },
  {
   "cell_type": "code",
   "execution_count": 391,
   "metadata": {},
   "outputs": [],
   "source": [
    "kmeans = KMeans(n_clusters=5)\n",
    "kmeans.fit(data[['Monetary']])\n",
    "data['Monetary_cluster'] = kmeans.predict(data[['Monetary']])"
   ]
  },
  {
   "cell_type": "code",
   "execution_count": 392,
   "metadata": {},
   "outputs": [],
   "source": [
    "def order_cluster(cluster_field_name, target_field_name,df,ascending):\n",
    "    new_cluster_field_name = 'new_' + cluster_field_name\n",
    "    df_new = df.groupby(cluster_field_name)[target_field_name].mean().reset_index()\n",
    "    df_new = df_new.sort_values(by=target_field_name,ascending=ascending).reset_index(drop=True)\n",
    "    df_new['index'] = df_new.index\n",
    "    df_final = pd.merge(df,df_new[[cluster_field_name,'index']], on=cluster_field_name)\n",
    "    df_final = df_final.drop([cluster_field_name],axis=1)\n",
    "    df_final = df_final.rename(columns={\"index\":cluster_field_name})\n",
    "    return df_final"
   ]
  },
  {
   "cell_type": "code",
   "execution_count": 393,
   "metadata": {},
   "outputs": [],
   "source": [
    "data = order_cluster('Monetary_cluster', 'Monetary',data,True)"
   ]
  },
  {
   "cell_type": "code",
   "execution_count": 394,
   "metadata": {},
   "outputs": [
    {
     "data": {
      "text/html": [
       "<div>\n",
       "<style scoped>\n",
       "    .dataframe tbody tr th:only-of-type {\n",
       "        vertical-align: middle;\n",
       "    }\n",
       "\n",
       "    .dataframe tbody tr th {\n",
       "        vertical-align: top;\n",
       "    }\n",
       "\n",
       "    .dataframe thead th {\n",
       "        text-align: right;\n",
       "    }\n",
       "</style>\n",
       "<table border=\"1\" class=\"dataframe\">\n",
       "  <thead>\n",
       "    <tr style=\"text-align: right;\">\n",
       "      <th></th>\n",
       "      <th>user_id</th>\n",
       "      <th>product_id</th>\n",
       "      <th>campaign</th>\n",
       "      <th>promotion</th>\n",
       "      <th>Recency</th>\n",
       "      <th>Monetary</th>\n",
       "      <th>conversion</th>\n",
       "      <th>used_discount</th>\n",
       "      <th>used_bogo</th>\n",
       "      <th>used_free_sample</th>\n",
       "      <th>campaign_group</th>\n",
       "      <th>target_class</th>\n",
       "      <th>Monetary_cluster</th>\n",
       "    </tr>\n",
       "  </thead>\n",
       "  <tbody>\n",
       "    <tr>\n",
       "      <th>0</th>\n",
       "      <td>576802932</td>\n",
       "      <td>5712790</td>\n",
       "      <td>Social Media</td>\n",
       "      <td>Discount</td>\n",
       "      <td>90</td>\n",
       "      <td>106.01</td>\n",
       "      <td>0</td>\n",
       "      <td>1</td>\n",
       "      <td>0</td>\n",
       "      <td>0</td>\n",
       "      <td>treatment</td>\n",
       "      <td>2</td>\n",
       "      <td>1</td>\n",
       "    </tr>\n",
       "    <tr>\n",
       "      <th>1</th>\n",
       "      <td>576802932</td>\n",
       "      <td>5650294</td>\n",
       "      <td>Social Media</td>\n",
       "      <td>Discount</td>\n",
       "      <td>90</td>\n",
       "      <td>106.01</td>\n",
       "      <td>0</td>\n",
       "      <td>1</td>\n",
       "      <td>0</td>\n",
       "      <td>0</td>\n",
       "      <td>treatment</td>\n",
       "      <td>2</td>\n",
       "      <td>1</td>\n",
       "    </tr>\n",
       "    <tr>\n",
       "      <th>2</th>\n",
       "      <td>576802932</td>\n",
       "      <td>5692261</td>\n",
       "      <td>Social Media</td>\n",
       "      <td>Discount</td>\n",
       "      <td>90</td>\n",
       "      <td>106.01</td>\n",
       "      <td>0</td>\n",
       "      <td>1</td>\n",
       "      <td>0</td>\n",
       "      <td>0</td>\n",
       "      <td>treatment</td>\n",
       "      <td>2</td>\n",
       "      <td>1</td>\n",
       "    </tr>\n",
       "    <tr>\n",
       "      <th>3</th>\n",
       "      <td>576802932</td>\n",
       "      <td>5694628</td>\n",
       "      <td>Social Media</td>\n",
       "      <td>Discount</td>\n",
       "      <td>90</td>\n",
       "      <td>106.01</td>\n",
       "      <td>0</td>\n",
       "      <td>1</td>\n",
       "      <td>0</td>\n",
       "      <td>0</td>\n",
       "      <td>treatment</td>\n",
       "      <td>2</td>\n",
       "      <td>1</td>\n",
       "    </tr>\n",
       "    <tr>\n",
       "      <th>4</th>\n",
       "      <td>576802932</td>\n",
       "      <td>5817779</td>\n",
       "      <td>Social Media</td>\n",
       "      <td>Discount</td>\n",
       "      <td>90</td>\n",
       "      <td>106.01</td>\n",
       "      <td>0</td>\n",
       "      <td>1</td>\n",
       "      <td>0</td>\n",
       "      <td>0</td>\n",
       "      <td>treatment</td>\n",
       "      <td>2</td>\n",
       "      <td>1</td>\n",
       "    </tr>\n",
       "  </tbody>\n",
       "</table>\n",
       "</div>"
      ],
      "text/plain": [
       "     user_id  product_id      campaign promotion  Recency  Monetary  \\\n",
       "0  576802932     5712790  Social Media  Discount       90    106.01   \n",
       "1  576802932     5650294  Social Media  Discount       90    106.01   \n",
       "2  576802932     5692261  Social Media  Discount       90    106.01   \n",
       "3  576802932     5694628  Social Media  Discount       90    106.01   \n",
       "4  576802932     5817779  Social Media  Discount       90    106.01   \n",
       "\n",
       "   conversion  used_discount  used_bogo  used_free_sample campaign_group  \\\n",
       "0           0              1          0                 0      treatment   \n",
       "1           0              1          0                 0      treatment   \n",
       "2           0              1          0                 0      treatment   \n",
       "3           0              1          0                 0      treatment   \n",
       "4           0              1          0                 0      treatment   \n",
       "\n",
       "   target_class  Monetary_cluster  \n",
       "0             2                 1  \n",
       "1             2                 1  \n",
       "2             2                 1  \n",
       "3             2                 1  \n",
       "4             2                 1  "
      ]
     },
     "execution_count": 394,
     "metadata": {},
     "output_type": "execute_result"
    }
   ],
   "source": [
    "data.head()"
   ]
  },
  {
   "cell_type": "code",
   "execution_count": 395,
   "metadata": {},
   "outputs": [],
   "source": [
    "df_model = data.drop(['promotion','campaign_group','conversion'],axis=1)\n",
    "df_model = pd.get_dummies(df_model)"
   ]
  },
  {
   "cell_type": "code",
   "execution_count": 396,
   "metadata": {
    "scrolled": true
   },
   "outputs": [
    {
     "data": {
      "text/html": [
       "<div>\n",
       "<style scoped>\n",
       "    .dataframe tbody tr th:only-of-type {\n",
       "        vertical-align: middle;\n",
       "    }\n",
       "\n",
       "    .dataframe tbody tr th {\n",
       "        vertical-align: top;\n",
       "    }\n",
       "\n",
       "    .dataframe thead th {\n",
       "        text-align: right;\n",
       "    }\n",
       "</style>\n",
       "<table border=\"1\" class=\"dataframe\">\n",
       "  <thead>\n",
       "    <tr style=\"text-align: right;\">\n",
       "      <th></th>\n",
       "      <th>user_id</th>\n",
       "      <th>product_id</th>\n",
       "      <th>Recency</th>\n",
       "      <th>Monetary</th>\n",
       "      <th>used_discount</th>\n",
       "      <th>used_bogo</th>\n",
       "      <th>used_free_sample</th>\n",
       "      <th>target_class</th>\n",
       "      <th>Monetary_cluster</th>\n",
       "      <th>campaign_E-mail</th>\n",
       "      <th>campaign_Referal</th>\n",
       "      <th>campaign_Social Media</th>\n",
       "      <th>campaign_Web Search</th>\n",
       "    </tr>\n",
       "  </thead>\n",
       "  <tbody>\n",
       "    <tr>\n",
       "      <th>0</th>\n",
       "      <td>576802932</td>\n",
       "      <td>5712790</td>\n",
       "      <td>90</td>\n",
       "      <td>106.01</td>\n",
       "      <td>1</td>\n",
       "      <td>0</td>\n",
       "      <td>0</td>\n",
       "      <td>2</td>\n",
       "      <td>1</td>\n",
       "      <td>0</td>\n",
       "      <td>0</td>\n",
       "      <td>1</td>\n",
       "      <td>0</td>\n",
       "    </tr>\n",
       "    <tr>\n",
       "      <th>1</th>\n",
       "      <td>576802932</td>\n",
       "      <td>5650294</td>\n",
       "      <td>90</td>\n",
       "      <td>106.01</td>\n",
       "      <td>1</td>\n",
       "      <td>0</td>\n",
       "      <td>0</td>\n",
       "      <td>2</td>\n",
       "      <td>1</td>\n",
       "      <td>0</td>\n",
       "      <td>0</td>\n",
       "      <td>1</td>\n",
       "      <td>0</td>\n",
       "    </tr>\n",
       "    <tr>\n",
       "      <th>2</th>\n",
       "      <td>576802932</td>\n",
       "      <td>5692261</td>\n",
       "      <td>90</td>\n",
       "      <td>106.01</td>\n",
       "      <td>1</td>\n",
       "      <td>0</td>\n",
       "      <td>0</td>\n",
       "      <td>2</td>\n",
       "      <td>1</td>\n",
       "      <td>0</td>\n",
       "      <td>0</td>\n",
       "      <td>1</td>\n",
       "      <td>0</td>\n",
       "    </tr>\n",
       "    <tr>\n",
       "      <th>3</th>\n",
       "      <td>576802932</td>\n",
       "      <td>5694628</td>\n",
       "      <td>90</td>\n",
       "      <td>106.01</td>\n",
       "      <td>1</td>\n",
       "      <td>0</td>\n",
       "      <td>0</td>\n",
       "      <td>2</td>\n",
       "      <td>1</td>\n",
       "      <td>0</td>\n",
       "      <td>0</td>\n",
       "      <td>1</td>\n",
       "      <td>0</td>\n",
       "    </tr>\n",
       "    <tr>\n",
       "      <th>4</th>\n",
       "      <td>576802932</td>\n",
       "      <td>5817779</td>\n",
       "      <td>90</td>\n",
       "      <td>106.01</td>\n",
       "      <td>1</td>\n",
       "      <td>0</td>\n",
       "      <td>0</td>\n",
       "      <td>2</td>\n",
       "      <td>1</td>\n",
       "      <td>0</td>\n",
       "      <td>0</td>\n",
       "      <td>1</td>\n",
       "      <td>0</td>\n",
       "    </tr>\n",
       "  </tbody>\n",
       "</table>\n",
       "</div>"
      ],
      "text/plain": [
       "     user_id  product_id  Recency  Monetary  used_discount  used_bogo  \\\n",
       "0  576802932     5712790       90    106.01              1          0   \n",
       "1  576802932     5650294       90    106.01              1          0   \n",
       "2  576802932     5692261       90    106.01              1          0   \n",
       "3  576802932     5694628       90    106.01              1          0   \n",
       "4  576802932     5817779       90    106.01              1          0   \n",
       "\n",
       "   used_free_sample  target_class  Monetary_cluster  campaign_E-mail  \\\n",
       "0                 0             2                 1                0   \n",
       "1                 0             2                 1                0   \n",
       "2                 0             2                 1                0   \n",
       "3                 0             2                 1                0   \n",
       "4                 0             2                 1                0   \n",
       "\n",
       "   campaign_Referal  campaign_Social Media  campaign_Web Search  \n",
       "0                 0                      1                    0  \n",
       "1                 0                      1                    0  \n",
       "2                 0                      1                    0  \n",
       "3                 0                      1                    0  \n",
       "4                 0                      1                    0  "
      ]
     },
     "execution_count": 396,
     "metadata": {},
     "output_type": "execute_result"
    }
   ],
   "source": [
    "df_model.head()"
   ]
  },
  {
   "cell_type": "code",
   "execution_count": 349,
   "metadata": {},
   "outputs": [],
   "source": [
    "#create feature set and labels\n",
    "X = df_model.drop(['target_class'],axis=1)\n",
    "y = df_model.target_class"
   ]
  },
  {
   "cell_type": "code",
   "execution_count": 398,
   "metadata": {},
   "outputs": [],
   "source": [
    "X_train, X_test, y_train, y_test = train_test_split(X, y, test_size=0.45, random_state=56)"
   ]
  },
  {
   "cell_type": "code",
   "execution_count": 362,
   "metadata": {},
   "outputs": [],
   "source": [
    "xgb_model = xgb.XGBClassifier().fit(X_train, y_train)"
   ]
  },
  {
   "cell_type": "code",
   "execution_count": 399,
   "metadata": {},
   "outputs": [
    {
     "data": {
      "text/plain": [
       "array([0.00108893, 0.00116519, 0.7845392 , 0.21320663], dtype=float32)"
      ]
     },
     "execution_count": 399,
     "metadata": {},
     "output_type": "execute_result"
    }
   ],
   "source": [
    "class_probs = xgb_model.predict_proba(X_test)\n",
    "class_probs[0]"
   ]
  },
  {
   "cell_type": "markdown",
   "metadata": {},
   "source": [
    "For this specific customer, we can map the probabilities as below:\n",
    "\n",
    "CN: 84%\n",
    "CR: 15.8%\n",
    "TN: 0.1%\n",
    "TR: 0.1%\n",
    "So the uplift score for this customer is:\n",
    "\n",
    "Uplift Score = CN + TR - TN - CR \n",
    "\n",
    "0.84 + 0.001- 0.001- 0.15.8 = 0.68\n",
    "\n",
    "Let’s apply this to all users and calculate the uplift score:"
   ]
  },
  {
   "cell_type": "code",
   "execution_count": 400,
   "metadata": {},
   "outputs": [],
   "source": [
    "X_test['proba_CN'] = class_probs[:,0] \n",
    "X_test['proba_CR'] = class_probs[:,1] \n",
    "X_test['proba_TN'] = class_probs[:,2] \n",
    "X_test['proba_TR'] = class_probs[:,3]"
   ]
  },
  {
   "cell_type": "code",
   "execution_count": 401,
   "metadata": {},
   "outputs": [],
   "source": [
    "X_test['uplift_score'] = X_test.eval('proba_CN + proba_TR - proba_TN - proba_CR')"
   ]
  },
  {
   "cell_type": "code",
   "execution_count": 402,
   "metadata": {},
   "outputs": [
    {
     "data": {
      "text/html": [
       "<div>\n",
       "<style scoped>\n",
       "    .dataframe tbody tr th:only-of-type {\n",
       "        vertical-align: middle;\n",
       "    }\n",
       "\n",
       "    .dataframe tbody tr th {\n",
       "        vertical-align: top;\n",
       "    }\n",
       "\n",
       "    .dataframe thead th {\n",
       "        text-align: right;\n",
       "    }\n",
       "</style>\n",
       "<table border=\"1\" class=\"dataframe\">\n",
       "  <thead>\n",
       "    <tr style=\"text-align: right;\">\n",
       "      <th></th>\n",
       "      <th>user_id</th>\n",
       "      <th>product_id</th>\n",
       "      <th>Recency</th>\n",
       "      <th>Monetary</th>\n",
       "      <th>used_discount</th>\n",
       "      <th>used_bogo</th>\n",
       "      <th>used_free_sample</th>\n",
       "      <th>Monetary_cluster</th>\n",
       "      <th>campaign_E-mail</th>\n",
       "      <th>campaign_Referal</th>\n",
       "      <th>campaign_Social Media</th>\n",
       "      <th>campaign_Web Search</th>\n",
       "      <th>proba_CN</th>\n",
       "      <th>proba_CR</th>\n",
       "      <th>proba_TN</th>\n",
       "      <th>proba_TR</th>\n",
       "      <th>uplift_score</th>\n",
       "    </tr>\n",
       "  </thead>\n",
       "  <tbody>\n",
       "    <tr>\n",
       "      <th>1454130</th>\n",
       "      <td>589264541</td>\n",
       "      <td>5815789</td>\n",
       "      <td>68</td>\n",
       "      <td>4.7160</td>\n",
       "      <td>0</td>\n",
       "      <td>1</td>\n",
       "      <td>0</td>\n",
       "      <td>0</td>\n",
       "      <td>0</td>\n",
       "      <td>0</td>\n",
       "      <td>1</td>\n",
       "      <td>0</td>\n",
       "      <td>0.001089</td>\n",
       "      <td>0.001165</td>\n",
       "      <td>0.784539</td>\n",
       "      <td>0.213207</td>\n",
       "      <td>-0.571409</td>\n",
       "    </tr>\n",
       "    <tr>\n",
       "      <th>423163</th>\n",
       "      <td>480237908</td>\n",
       "      <td>5884341</td>\n",
       "      <td>118</td>\n",
       "      <td>169.2695</td>\n",
       "      <td>0</td>\n",
       "      <td>0</td>\n",
       "      <td>1</td>\n",
       "      <td>1</td>\n",
       "      <td>1</td>\n",
       "      <td>0</td>\n",
       "      <td>0</td>\n",
       "      <td>0</td>\n",
       "      <td>0.003611</td>\n",
       "      <td>0.003931</td>\n",
       "      <td>0.761018</td>\n",
       "      <td>0.231440</td>\n",
       "      <td>-0.529899</td>\n",
       "    </tr>\n",
       "    <tr>\n",
       "      <th>2151666</th>\n",
       "      <td>558779782</td>\n",
       "      <td>5686807</td>\n",
       "      <td>138</td>\n",
       "      <td>43.7300</td>\n",
       "      <td>0</td>\n",
       "      <td>0</td>\n",
       "      <td>0</td>\n",
       "      <td>0</td>\n",
       "      <td>1</td>\n",
       "      <td>0</td>\n",
       "      <td>0</td>\n",
       "      <td>0</td>\n",
       "      <td>0.743983</td>\n",
       "      <td>0.230046</td>\n",
       "      <td>0.009862</td>\n",
       "      <td>0.016109</td>\n",
       "      <td>0.520183</td>\n",
       "    </tr>\n",
       "    <tr>\n",
       "      <th>1497469</th>\n",
       "      <td>513141520</td>\n",
       "      <td>5696173</td>\n",
       "      <td>70</td>\n",
       "      <td>26.1375</td>\n",
       "      <td>1</td>\n",
       "      <td>0</td>\n",
       "      <td>0</td>\n",
       "      <td>0</td>\n",
       "      <td>0</td>\n",
       "      <td>0</td>\n",
       "      <td>1</td>\n",
       "      <td>0</td>\n",
       "      <td>0.000939</td>\n",
       "      <td>0.000939</td>\n",
       "      <td>0.793003</td>\n",
       "      <td>0.205119</td>\n",
       "      <td>-0.587884</td>\n",
       "    </tr>\n",
       "    <tr>\n",
       "      <th>2059037</th>\n",
       "      <td>510658105</td>\n",
       "      <td>5808554</td>\n",
       "      <td>132</td>\n",
       "      <td>43.9600</td>\n",
       "      <td>0</td>\n",
       "      <td>0</td>\n",
       "      <td>0</td>\n",
       "      <td>0</td>\n",
       "      <td>0</td>\n",
       "      <td>0</td>\n",
       "      <td>1</td>\n",
       "      <td>0</td>\n",
       "      <td>0.774876</td>\n",
       "      <td>0.201871</td>\n",
       "      <td>0.010248</td>\n",
       "      <td>0.013006</td>\n",
       "      <td>0.575763</td>\n",
       "    </tr>\n",
       "  </tbody>\n",
       "</table>\n",
       "</div>"
      ],
      "text/plain": [
       "           user_id  product_id  Recency  Monetary  used_discount  used_bogo  \\\n",
       "1454130  589264541     5815789       68    4.7160              0          1   \n",
       "423163   480237908     5884341      118  169.2695              0          0   \n",
       "2151666  558779782     5686807      138   43.7300              0          0   \n",
       "1497469  513141520     5696173       70   26.1375              1          0   \n",
       "2059037  510658105     5808554      132   43.9600              0          0   \n",
       "\n",
       "         used_free_sample  Monetary_cluster  campaign_E-mail  \\\n",
       "1454130                 0                 0                0   \n",
       "423163                  1                 1                1   \n",
       "2151666                 0                 0                1   \n",
       "1497469                 0                 0                0   \n",
       "2059037                 0                 0                0   \n",
       "\n",
       "         campaign_Referal  campaign_Social Media  campaign_Web Search  \\\n",
       "1454130                 0                      1                    0   \n",
       "423163                  0                      0                    0   \n",
       "2151666                 0                      0                    0   \n",
       "1497469                 0                      1                    0   \n",
       "2059037                 0                      1                    0   \n",
       "\n",
       "         proba_CN  proba_CR  proba_TN  proba_TR  uplift_score  \n",
       "1454130  0.001089  0.001165  0.784539  0.213207     -0.571409  \n",
       "423163   0.003611  0.003931  0.761018  0.231440     -0.529899  \n",
       "2151666  0.743983  0.230046  0.009862  0.016109      0.520183  \n",
       "1497469  0.000939  0.000939  0.793003  0.205119     -0.587884  \n",
       "2059037  0.774876  0.201871  0.010248  0.013006      0.575763  "
      ]
     },
     "execution_count": 402,
     "metadata": {},
     "output_type": "execute_result"
    }
   ],
   "source": [
    "X_test.head()"
   ]
  },
  {
   "cell_type": "code",
   "execution_count": 403,
   "metadata": {},
   "outputs": [],
   "source": [
    "#probabilities for all customers\n",
    "overall_proba = xgb_model.predict_proba(df_model.drop(['target_class'],axis=1))"
   ]
  },
  {
   "cell_type": "code",
   "execution_count": 404,
   "metadata": {},
   "outputs": [],
   "source": [
    "#assign probabilities to 4 different columns\n",
    "df_model['proba_CN'] = overall_proba[:,0] \n",
    "df_model['proba_CR'] = overall_proba[:,1] \n",
    "df_model['proba_TN'] = overall_proba[:,2] \n",
    "df_model['proba_TR'] = overall_proba[:,3]"
   ]
  },
  {
   "cell_type": "code",
   "execution_count": 405,
   "metadata": {},
   "outputs": [],
   "source": [
    "#calculate uplift score for all customers\n",
    "df_model['uplift_score'] = df_model.eval('proba_CN + proba_TR - proba_TN - proba_CR')"
   ]
  },
  {
   "cell_type": "code",
   "execution_count": 406,
   "metadata": {},
   "outputs": [],
   "source": [
    "#assign it back to main dataframe\n",
    "data['uplift_score'] = df_model['uplift_score']"
   ]
  },
  {
   "cell_type": "markdown",
   "metadata": {},
   "source": [
    "Mean Uplift Scores for both offers and non offer"
   ]
  },
  {
   "cell_type": "code",
   "execution_count": 407,
   "metadata": {},
   "outputs": [
    {
     "data": {
      "text/plain": [
       "promotion\n",
       "Buy One Get One   -0.549524\n",
       "Discount          -0.546900\n",
       "Free Sample       -0.546554\n",
       "No Promotion       0.549302\n",
       "Name: uplift_score, dtype: float32"
      ]
     },
     "execution_count": 407,
     "metadata": {},
     "output_type": "execute_result"
    }
   ],
   "source": [
    "data.groupby('promotion').uplift_score.mean()"
   ]
  },
  {
   "cell_type": "markdown",
   "metadata": {},
   "source": [
    "#### Model Evaluation\n",
    "\n",
    "To evaluate our model, we will create two different groups and compare them with our benchmark. Groups are:\n",
    "\n",
    "1- High Uplift Score: Customers have uplift score > 3rd quantile\n",
    "\n",
    "2- Low Uplift Score: Customers have uplift score < 2nd quantile"
   ]
  },
  {
   "cell_type": "code",
   "execution_count": 408,
   "metadata": {},
   "outputs": [],
   "source": [
    "df_data_lift = data.copy()\n",
    "uplift_q_75 = df_data_lift.uplift_score.quantile(0.75)\n",
    "df_data_lift = df_data_lift[(df_data_lift.uplift_score > uplift_q_75)].reset_index(drop=True)"
   ]
  },
  {
   "cell_type": "code",
   "execution_count": 409,
   "metadata": {},
   "outputs": [
    {
     "data": {
      "text/plain": [
       "-0.279233455657959"
      ]
     },
     "execution_count": 409,
     "metadata": {},
     "output_type": "execute_result"
    }
   ],
   "source": [
    "data.uplift_score.quantile(0.75)"
   ]
  },
  {
   "cell_type": "code",
   "execution_count": 410,
   "metadata": {
    "scrolled": false
   },
   "outputs": [
    {
     "name": "stdout",
     "output_type": "stream",
     "text": [
      "Discount Conversion Uplift: 25.42%\n",
      "Discount Order Uplift: 9572.14\n",
      "Discount Revenue Uplift: $47860.72\n",
      "\n",
      "-------------- \n",
      "\n",
      "BOGO Conversion Uplift: 28.73%\n",
      "BOGO Order Uplift: 5808.76\n",
      "BOGO Revenue Uplift: $29043.82\n",
      "-------------- \n",
      "\n",
      "FS Conversion Uplift: 41.63%\n",
      "FS Order Uplift: 763.96\n",
      "FS Revenue Uplift: $3819.8\n"
     ]
    }
   ],
   "source": [
    "calc_uplift(df_data_lift)"
   ]
  },
  {
   "cell_type": "code",
   "execution_count": 376,
   "metadata": {},
   "outputs": [],
   "source": [
    "df_data_lift = data.copy()\n",
    "uplift_q_5 = df_data_lift.uplift_score.quantile(0.5)\n",
    "df_data_lift = df_data_lift[(df_data_lift.uplift_score > uplift_q_5)].reset_index(drop=True)"
   ]
  },
  {
   "cell_type": "code",
   "execution_count": 377,
   "metadata": {},
   "outputs": [
    {
     "data": {
      "text/plain": [
       "-0.515627384185791"
      ]
     },
     "execution_count": 377,
     "metadata": {},
     "output_type": "execute_result"
    }
   ],
   "source": [
    "data.uplift_score.quantile(0.5)"
   ]
  },
  {
   "cell_type": "code",
   "execution_count": 378,
   "metadata": {
    "scrolled": true
   },
   "outputs": [
    {
     "name": "stdout",
     "output_type": "stream",
     "text": [
      "Discount Conversion Uplift: 9.44%\n",
      "Discount Order Uplift: 38989.23\n",
      "Discount Revenue Uplift: $194946.14\n",
      "\n",
      "-------------- \n",
      "\n",
      "BOGO Conversion Uplift: 9.73%\n",
      "BOGO Order Uplift: 26732.9\n",
      "BOGO Revenue Uplift: $133664.49\n",
      "-------------- \n",
      "\n",
      "FS Conversion Uplift: 10.65%\n",
      "FS Order Uplift: 8454.29\n",
      "FS Revenue Uplift: $42271.46\n"
     ]
    }
   ],
   "source": [
    "calc_uplift(df_data_lift)"
   ]
  },
  {
   "cell_type": "code",
   "execution_count": 411,
   "metadata": {
    "scrolled": true
   },
   "outputs": [
    {
     "data": {
      "text/html": [
       "<div>\n",
       "<style scoped>\n",
       "    .dataframe tbody tr th:only-of-type {\n",
       "        vertical-align: middle;\n",
       "    }\n",
       "\n",
       "    .dataframe tbody tr th {\n",
       "        vertical-align: top;\n",
       "    }\n",
       "\n",
       "    .dataframe thead th {\n",
       "        text-align: right;\n",
       "    }\n",
       "</style>\n",
       "<table border=\"1\" class=\"dataframe\">\n",
       "  <thead>\n",
       "    <tr style=\"text-align: right;\">\n",
       "      <th></th>\n",
       "      <th>user_id</th>\n",
       "      <th>product_id</th>\n",
       "      <th>campaign</th>\n",
       "      <th>promotion</th>\n",
       "      <th>Recency</th>\n",
       "      <th>Monetary</th>\n",
       "      <th>conversion</th>\n",
       "      <th>used_discount</th>\n",
       "      <th>used_bogo</th>\n",
       "      <th>used_free_sample</th>\n",
       "      <th>campaign_group</th>\n",
       "      <th>target_class</th>\n",
       "      <th>Monetary_cluster</th>\n",
       "      <th>uplift_score</th>\n",
       "    </tr>\n",
       "  </thead>\n",
       "  <tbody>\n",
       "    <tr>\n",
       "      <th>0</th>\n",
       "      <td>576802932</td>\n",
       "      <td>5712790</td>\n",
       "      <td>Social Media</td>\n",
       "      <td>Discount</td>\n",
       "      <td>90</td>\n",
       "      <td>106.01</td>\n",
       "      <td>0</td>\n",
       "      <td>1</td>\n",
       "      <td>0</td>\n",
       "      <td>0</td>\n",
       "      <td>treatment</td>\n",
       "      <td>2</td>\n",
       "      <td>1</td>\n",
       "      <td>-0.291733</td>\n",
       "    </tr>\n",
       "    <tr>\n",
       "      <th>1</th>\n",
       "      <td>576802932</td>\n",
       "      <td>5650294</td>\n",
       "      <td>Social Media</td>\n",
       "      <td>Discount</td>\n",
       "      <td>90</td>\n",
       "      <td>106.01</td>\n",
       "      <td>0</td>\n",
       "      <td>1</td>\n",
       "      <td>0</td>\n",
       "      <td>0</td>\n",
       "      <td>treatment</td>\n",
       "      <td>2</td>\n",
       "      <td>1</td>\n",
       "      <td>-0.281304</td>\n",
       "    </tr>\n",
       "    <tr>\n",
       "      <th>2</th>\n",
       "      <td>576802932</td>\n",
       "      <td>5692261</td>\n",
       "      <td>Social Media</td>\n",
       "      <td>Discount</td>\n",
       "      <td>90</td>\n",
       "      <td>106.01</td>\n",
       "      <td>0</td>\n",
       "      <td>1</td>\n",
       "      <td>0</td>\n",
       "      <td>0</td>\n",
       "      <td>treatment</td>\n",
       "      <td>2</td>\n",
       "      <td>1</td>\n",
       "      <td>-0.281304</td>\n",
       "    </tr>\n",
       "    <tr>\n",
       "      <th>3</th>\n",
       "      <td>576802932</td>\n",
       "      <td>5694628</td>\n",
       "      <td>Social Media</td>\n",
       "      <td>Discount</td>\n",
       "      <td>90</td>\n",
       "      <td>106.01</td>\n",
       "      <td>0</td>\n",
       "      <td>1</td>\n",
       "      <td>0</td>\n",
       "      <td>0</td>\n",
       "      <td>treatment</td>\n",
       "      <td>2</td>\n",
       "      <td>1</td>\n",
       "      <td>-0.281304</td>\n",
       "    </tr>\n",
       "    <tr>\n",
       "      <th>4</th>\n",
       "      <td>576802932</td>\n",
       "      <td>5817779</td>\n",
       "      <td>Social Media</td>\n",
       "      <td>Discount</td>\n",
       "      <td>90</td>\n",
       "      <td>106.01</td>\n",
       "      <td>0</td>\n",
       "      <td>1</td>\n",
       "      <td>0</td>\n",
       "      <td>0</td>\n",
       "      <td>treatment</td>\n",
       "      <td>2</td>\n",
       "      <td>1</td>\n",
       "      <td>-0.297483</td>\n",
       "    </tr>\n",
       "  </tbody>\n",
       "</table>\n",
       "</div>"
      ],
      "text/plain": [
       "     user_id  product_id      campaign promotion  Recency  Monetary  \\\n",
       "0  576802932     5712790  Social Media  Discount       90    106.01   \n",
       "1  576802932     5650294  Social Media  Discount       90    106.01   \n",
       "2  576802932     5692261  Social Media  Discount       90    106.01   \n",
       "3  576802932     5694628  Social Media  Discount       90    106.01   \n",
       "4  576802932     5817779  Social Media  Discount       90    106.01   \n",
       "\n",
       "   conversion  used_discount  used_bogo  used_free_sample campaign_group  \\\n",
       "0           0              1          0                 0      treatment   \n",
       "1           0              1          0                 0      treatment   \n",
       "2           0              1          0                 0      treatment   \n",
       "3           0              1          0                 0      treatment   \n",
       "4           0              1          0                 0      treatment   \n",
       "\n",
       "   target_class  Monetary_cluster  uplift_score  \n",
       "0             2                 1     -0.291733  \n",
       "1             2                 1     -0.281304  \n",
       "2             2                 1     -0.281304  \n",
       "3             2                 1     -0.281304  \n",
       "4             2                 1     -0.297483  "
      ]
     },
     "execution_count": 411,
     "metadata": {},
     "output_type": "execute_result"
    }
   ],
   "source": [
    "data.head()"
   ]
  },
  {
   "cell_type": "code",
   "execution_count": 416,
   "metadata": {},
   "outputs": [
    {
     "data": {
      "text/plain": [
       "Index(['user_id', 'product_id', 'campaign', 'promotion', 'Recency', 'Monetary',\n",
       "       'conversion', 'used_discount', 'used_bogo', 'used_free_sample',\n",
       "       'campaign_group', 'target_class', 'Monetary_cluster', 'uplift_score'],\n",
       "      dtype='object')"
      ]
     },
     "execution_count": 416,
     "metadata": {},
     "output_type": "execute_result"
    }
   ],
   "source": [
    "data.columns"
   ]
  },
  {
   "cell_type": "code",
   "execution_count": 417,
   "metadata": {},
   "outputs": [],
   "source": [
    "data_1 = data.drop(['Recency', 'Monetary','used_discount', 'used_bogo', 'used_free_sample'], axis = 1)"
   ]
  },
  {
   "cell_type": "code",
   "execution_count": 419,
   "metadata": {},
   "outputs": [],
   "source": [
    "final_data = pd.merge(data_1,rfm_segmentation , on  ='user_id')"
   ]
  },
  {
   "cell_type": "code",
   "execution_count": 12,
   "metadata": {},
   "outputs": [],
   "source": [
    "final_data.to_csv('C:/Users/harini/Desktop/NEUCourses/ADM/Project/RFM_Uplift_data.csv', index = False, encoding = 'utf-8')"
   ]
  }
 ],
 "metadata": {
  "kernelspec": {
   "display_name": "Python 3",
   "language": "python",
   "name": "python3"
  },
  "language_info": {
   "codemirror_mode": {
    "name": "ipython",
    "version": 3
   },
   "file_extension": ".py",
   "mimetype": "text/x-python",
   "name": "python",
   "nbconvert_exporter": "python",
   "pygments_lexer": "ipython3",
   "version": "3.6.5"
  }
 },
 "nbformat": 4,
 "nbformat_minor": 4
}
