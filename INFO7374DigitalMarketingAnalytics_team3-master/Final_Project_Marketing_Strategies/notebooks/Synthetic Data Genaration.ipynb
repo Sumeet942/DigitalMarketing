{
 "cells": [
  {
   "cell_type": "code",
   "execution_count": 2,
   "metadata": {},
   "outputs": [],
   "source": [
    "import numpy as np # linear algebra\n",
    "import pandas as pd # data processing, CSV file I/O (e.g. pd.read_csv)\n",
    "import seaborn as sns # visualizations\n",
    "import os\n",
    "from faker import Faker\n",
    "import csv\n",
    "import random\n",
    "fake = Faker('en_US')\n",
    "Faker.seed(0)\n",
    "from matplotlib import pyplot as plt\n",
    "import warnings\n",
    "warnings.simplefilter(\"ignore\")"
   ]
  },
  {
   "cell_type": "code",
   "execution_count": 3,
   "metadata": {},
   "outputs": [],
   "source": [
    "df1 = pd.read_csv('C:/Users/harini/Desktop/NEUCourses/ADM/Project/2019-Dec.csv')\n",
    "df2 = pd.read_csv('C:/Users/harini/Desktop/NEUCourses/ADM/Project/2019-Nov.csv')\n",
    "df3 = pd.read_csv('C:/Users/harini/Desktop/NEUCourses/ADM/Project/2019-Oct.csv')\n",
    "df4 = pd.read_csv('C:/Users/harini/Desktop/NEUCourses/ADM/Project/2020-Jan.csv')\n",
    "df5 = pd.read_csv('C:/Users/harini/Desktop/NEUCourses/ADM/Project/2020-Feb.csv')"
   ]
  },
  {
   "cell_type": "code",
   "execution_count": 4,
   "metadata": {},
   "outputs": [],
   "source": [
    "df = pd.concat([df1,df2,df3,df4,df5], ignore_index=True)"
   ]
  },
  {
   "cell_type": "code",
   "execution_count": 5,
   "metadata": {
    "scrolled": false
   },
   "outputs": [
    {
     "data": {
      "text/plain": [
       "Index(['event_time', 'event_type', 'product_id', 'category_id',\n",
       "       'category_code', 'brand', 'price', 'user_id', 'user_session'],\n",
       "      dtype='object')"
      ]
     },
     "execution_count": 5,
     "metadata": {},
     "output_type": "execute_result"
    }
   ],
   "source": [
    "df.columns"
   ]
  },
  {
   "cell_type": "code",
   "execution_count": 6,
   "metadata": {},
   "outputs": [
    {
     "data": {
      "text/plain": [
       "(20692840, 9)"
      ]
     },
     "execution_count": 6,
     "metadata": {},
     "output_type": "execute_result"
    }
   ],
   "source": [
    "df.shape"
   ]
  },
  {
   "cell_type": "code",
   "execution_count": 6,
   "metadata": {
    "scrolled": true
   },
   "outputs": [
    {
     "data": {
      "text/plain": [
       "event_time              0\n",
       "event_type              0\n",
       "product_id              0\n",
       "category_id             0\n",
       "category_code    20339246\n",
       "brand             8757117\n",
       "price                   0\n",
       "user_id                 0\n",
       "user_session         4598\n",
       "dtype: int64"
      ]
     },
     "execution_count": 6,
     "metadata": {},
     "output_type": "execute_result"
    }
   ],
   "source": [
    "df.isnull().sum()"
   ]
  },
  {
   "cell_type": "code",
   "execution_count": 7,
   "metadata": {},
   "outputs": [
    {
     "data": {
      "text/plain": [
       "<matplotlib.axes._subplots.AxesSubplot at 0x1d921c9e8d0>"
      ]
     },
     "execution_count": 7,
     "metadata": {},
     "output_type": "execute_result"
    },
    {
     "data": {
      "image/png": "[encoded data removed]",
      "text/plain": [
       "<Figure size 576x576 with 1 Axes>"
      ]
     },
     "metadata": {},
     "output_type": "display_data"
    }
   ],
   "source": [
    "# Deal with missing values. First, calculate the percentage of\n",
    "# missing values for every column, and plot them as a bar chart\n",
    "\n",
    "null_vals = df.isnull().sum()/len(df)*100\n",
    "null_vals = pd.DataFrame(null_vals)\n",
    "null_vals.reset_index(inplace = True)\n",
    "null_vals.columns = [\"Feature\",\"Percent missing\"]\n",
    "plt.figure(figsize = (8,8))\n",
    "plt.xticks(rotation=45)\n",
    "sns.barplot(x = \"Feature\",y =\"Percent missing\",data = null_vals)"
   ]
  },
  {
   "cell_type": "code",
   "execution_count": 7,
   "metadata": {},
   "outputs": [],
   "source": [
    "# deleting rows with null values in brand and user session\n",
    "\n",
    "df = df[df['brand'].notna()]\n",
    "df = df[df['user_session'].notna()]"
   ]
  },
  {
   "cell_type": "code",
   "execution_count": 8,
   "metadata": {},
   "outputs": [
    {
     "data": {
      "text/plain": [
       "(11932754, 9)"
      ]
     },
     "execution_count": 8,
     "metadata": {},
     "output_type": "execute_result"
    }
   ],
   "source": [
    "df.shape"
   ]
  },
  {
   "cell_type": "code",
   "execution_count": 10,
   "metadata": {},
   "outputs": [
    {
     "data": {
      "text/plain": [
       "event_time              0\n",
       "event_type              0\n",
       "product_id              0\n",
       "category_id             0\n",
       "category_code    11666045\n",
       "brand                   0\n",
       "price                   0\n",
       "user_id                 0\n",
       "user_session            0\n",
       "dtype: int64"
      ]
     },
     "execution_count": 10,
     "metadata": {},
     "output_type": "execute_result"
    }
   ],
   "source": [
    "df.isnull().sum()"
   ]
  },
  {
   "cell_type": "code",
   "execution_count": 9,
   "metadata": {},
   "outputs": [],
   "source": [
    "user_df = pd.DataFrame(df['user_id'].unique())"
   ]
  },
  {
   "cell_type": "code",
   "execution_count": 10,
   "metadata": {},
   "outputs": [
    {
     "data": {
      "text/plain": [
       "(1204164, 1)"
      ]
     },
     "execution_count": 10,
     "metadata": {},
     "output_type": "execute_result"
    }
   ],
   "source": [
    "user_df.shape"
   ]
  },
  {
   "cell_type": "code",
   "execution_count": 11,
   "metadata": {},
   "outputs": [],
   "source": [
    "user_df.columns = ['user_id']"
   ]
  },
  {
   "cell_type": "code",
   "execution_count": 12,
   "metadata": {},
   "outputs": [],
   "source": [
    "# Generating User Profiles\n",
    "\n",
    "user_df['Street Address'] = [fake.street_address() for i in range(len(df['user_id'].unique()))]\n",
    "user_df['City'] = [fake.city() for i in range(len(df['user_id'].unique()))]\n",
    "user_df['State'] = [fake.state() for i in range(len(df['user_id'].unique()))]\n",
    "user_df['ZipCode'] = [fake.zipcode() for i in range(len(df['user_id'].unique()))]"
   ]
  },
  {
   "cell_type": "code",
   "execution_count": 15,
   "metadata": {},
   "outputs": [
    {
     "data": {
      "text/html": [
       "<div>\n",
       "<style scoped>\n",
       "    .dataframe tbody tr th:only-of-type {\n",
       "        vertical-align: middle;\n",
       "    }\n",
       "\n",
       "    .dataframe tbody tr th {\n",
       "        vertical-align: top;\n",
       "    }\n",
       "\n",
       "    .dataframe thead th {\n",
       "        text-align: right;\n",
       "    }\n",
       "</style>\n",
       "<table border=\"1\" class=\"dataframe\">\n",
       "  <thead>\n",
       "    <tr style=\"text-align: right;\">\n",
       "      <th></th>\n",
       "      <th>user_id</th>\n",
       "      <th>Street Address</th>\n",
       "      <th>City</th>\n",
       "      <th>State</th>\n",
       "      <th>ZipCode</th>\n",
       "    </tr>\n",
       "  </thead>\n",
       "  <tbody>\n",
       "    <tr>\n",
       "      <th>0</th>\n",
       "      <td>576802932</td>\n",
       "      <td>604 Tucker Valley Suite 759</td>\n",
       "      <td>Sharonhaven</td>\n",
       "      <td>Ohio</td>\n",
       "      <td>67847</td>\n",
       "    </tr>\n",
       "    <tr>\n",
       "      <th>1</th>\n",
       "      <td>412120092</td>\n",
       "      <td>24219 Archer Mountain Suite 924</td>\n",
       "      <td>South Ryan</td>\n",
       "      <td>New Hampshire</td>\n",
       "      <td>82353</td>\n",
       "    </tr>\n",
       "    <tr>\n",
       "      <th>2</th>\n",
       "      <td>494077766</td>\n",
       "      <td>57815 Cheryl Unions</td>\n",
       "      <td>Vanessaburgh</td>\n",
       "      <td>Oklahoma</td>\n",
       "      <td>97659</td>\n",
       "    </tr>\n",
       "    <tr>\n",
       "      <th>3</th>\n",
       "      <td>348405118</td>\n",
       "      <td>8408 Davis Streets Suite 097</td>\n",
       "      <td>Port Tamara</td>\n",
       "      <td>New Mexico</td>\n",
       "      <td>91720</td>\n",
       "    </tr>\n",
       "    <tr>\n",
       "      <th>4</th>\n",
       "      <td>560109803</td>\n",
       "      <td>51393 Tammy Squares Apt. 158</td>\n",
       "      <td>Kristopherchester</td>\n",
       "      <td>Minnesota</td>\n",
       "      <td>76138</td>\n",
       "    </tr>\n",
       "  </tbody>\n",
       "</table>\n",
       "</div>"
      ],
      "text/plain": [
       "     user_id                   Street Address               City  \\\n",
       "0  576802932      604 Tucker Valley Suite 759        Sharonhaven   \n",
       "1  412120092  24219 Archer Mountain Suite 924         South Ryan   \n",
       "2  494077766              57815 Cheryl Unions       Vanessaburgh   \n",
       "3  348405118     8408 Davis Streets Suite 097        Port Tamara   \n",
       "4  560109803     51393 Tammy Squares Apt. 158  Kristopherchester   \n",
       "\n",
       "           State ZipCode  \n",
       "0           Ohio   67847  \n",
       "1  New Hampshire   82353  \n",
       "2       Oklahoma   97659  \n",
       "3     New Mexico   91720  \n",
       "4      Minnesota   76138  "
      ]
     },
     "execution_count": 15,
     "metadata": {},
     "output_type": "execute_result"
    }
   ],
   "source": [
    "user_df.head()"
   ]
  },
  {
   "cell_type": "markdown",
   "metadata": {},
   "source": [
    "#### Creating campaigns and Promotions\n",
    "\n"
   ]
  },
  {
   "cell_type": "code",
   "execution_count": 69,
   "metadata": {},
   "outputs": [],
   "source": [
    "campaigns = ['Social Media','Web Search','E-mail', 'Referal']\n",
    "promotions = ['Discount','Free Sample','No Promotion','Buy One Get One']\n",
    "channels = ['Desktop','Phone']"
   ]
  },
  {
   "cell_type": "code",
   "execution_count": 17,
   "metadata": {},
   "outputs": [],
   "source": [
    "session_df = pd.DataFrame(df['user_session'].unique())\n",
    "session_df.columns = ['user_session']"
   ]
  },
  {
   "cell_type": "code",
   "execution_count": 19,
   "metadata": {},
   "outputs": [
    {
     "data": {
      "text/plain": [
       "3066720"
      ]
     },
     "execution_count": 19,
     "metadata": {},
     "output_type": "execute_result"
    }
   ],
   "source": [
    "len(pd.DataFrame(df['user_session'].unique()).drop_duplicates())"
   ]
  },
  {
   "cell_type": "code",
   "execution_count": 20,
   "metadata": {},
   "outputs": [],
   "source": [
    "df_len = len(session_df)"
   ]
  },
  {
   "cell_type": "code",
   "execution_count": 38,
   "metadata": {},
   "outputs": [],
   "source": [
    "# funtion to generate randon fractions summing to 1\n",
    "# These fractions are used to split the data\n",
    "\n",
    "def sum_to_one(n):\n",
    "    values = [0.0, 1.0] + [round(random.random(),2) for _ in range(n - 1)]\n",
    "    values.sort()\n",
    "    return [round(values[i+1] - values[i],2) for i in range(n)]\n"
   ]
  },
  {
   "cell_type": "code",
   "execution_count": 45,
   "metadata": {},
   "outputs": [],
   "source": [
    "camp_parts = sum_to_one(4)"
   ]
  },
  {
   "cell_type": "code",
   "execution_count": 48,
   "metadata": {
    "scrolled": true
   },
   "outputs": [
    {
     "data": {
      "text/plain": [
       "[0.41, 0.04, 0.38, 0.17]"
      ]
     },
     "execution_count": 48,
     "metadata": {},
     "output_type": "execute_result"
    }
   ],
   "source": [
    "camp_parts"
   ]
  },
  {
   "cell_type": "code",
   "execution_count": 49,
   "metadata": {},
   "outputs": [],
   "source": [
    "index_list = session_df.index.values.tolist()"
   ]
  },
  {
   "cell_type": "code",
   "execution_count": 50,
   "metadata": {},
   "outputs": [
    {
     "data": {
      "text/plain": [
       "3066720"
      ]
     },
     "execution_count": 50,
     "metadata": {},
     "output_type": "execute_result"
    }
   ],
   "source": [
    "len(index_list)"
   ]
  },
  {
   "cell_type": "code",
   "execution_count": 51,
   "metadata": {},
   "outputs": [],
   "source": [
    "camp = [int(round(i * df_len)) for i in camp_parts]"
   ]
  },
  {
   "cell_type": "code",
   "execution_count": 52,
   "metadata": {},
   "outputs": [],
   "source": [
    "from itertools import islice \n",
    "Inputt = iter(index_list) \n",
    "Output = [list(islice(Inputt, elem)) \n",
    "          for elem in camp] "
   ]
  },
  {
   "cell_type": "code",
   "execution_count": 54,
   "metadata": {},
   "outputs": [],
   "source": [
    "a = session_df.iloc[Output[0]]\n",
    "b = session_df.iloc[Output[1]]\n",
    "c = session_df.iloc[Output[2]]\n",
    "d = session_df.iloc[Output[3]]"
   ]
  },
  {
   "cell_type": "code",
   "execution_count": 55,
   "metadata": {
    "scrolled": false
   },
   "outputs": [
    {
     "name": "stdout",
     "output_type": "stream",
     "text": [
      "3066720\n",
      "1257355 122669 1165354 521342\n"
     ]
    }
   ],
   "source": [
    "print(len(a)+len(b)+len(c)+len(d))\n",
    "print(len(a),len(b),len(c),len(d))"
   ]
  },
  {
   "cell_type": "code",
   "execution_count": 56,
   "metadata": {},
   "outputs": [],
   "source": [
    "a['campaign'] = campaigns[0]\n",
    "b['campaign'] = campaigns[1]\n",
    "c['campaign'] = campaigns[2]\n",
    "d['campaign'] = campaigns[3]"
   ]
  },
  {
   "cell_type": "code",
   "execution_count": 57,
   "metadata": {},
   "outputs": [],
   "source": [
    "session_df = pd.concat([a,b,c,d], ignore_index=True)"
   ]
  },
  {
   "cell_type": "code",
   "execution_count": 58,
   "metadata": {
    "scrolled": false
   },
   "outputs": [
    {
     "data": {
      "text/plain": [
       "<matplotlib.axes._subplots.AxesSubplot at 0x1d96b7b8b38>"
      ]
     },
     "execution_count": 58,
     "metadata": {},
     "output_type": "execute_result"
    },
    {
     "data": {
      "image/png": "[encoded data removed]",
      "text/plain": [
       "<Figure size 432x288 with 1 Axes>"
      ]
     },
     "metadata": {},
     "output_type": "display_data"
    }
   ],
   "source": [
    "session_df.campaign.value_counts().plot(kind='bar')"
   ]
  },
  {
   "cell_type": "code",
   "execution_count": 62,
   "metadata": {},
   "outputs": [
    {
     "data": {
      "text/plain": [
       "Index(['user_session', 'campaign'], dtype='object')"
      ]
     },
     "execution_count": 62,
     "metadata": {},
     "output_type": "execute_result"
    }
   ],
   "source": [
    "session_df.columns"
   ]
  },
  {
   "cell_type": "code",
   "execution_count": 67,
   "metadata": {},
   "outputs": [],
   "source": [
    "prom_parts = sum_to_one(4)"
   ]
  },
  {
   "cell_type": "code",
   "execution_count": 68,
   "metadata": {
    "scrolled": false
   },
   "outputs": [
    {
     "data": {
      "text/plain": [
       "[0.42, 0.08, 0.23, 0.27]"
      ]
     },
     "execution_count": 68,
     "metadata": {},
     "output_type": "execute_result"
    }
   ],
   "source": [
    "prom_parts"
   ]
  },
  {
   "cell_type": "code",
   "execution_count": 71,
   "metadata": {},
   "outputs": [],
   "source": [
    "prom = [int(round(i * df_len)) for i in prom_parts]"
   ]
  },
  {
   "cell_type": "code",
   "execution_count": 78,
   "metadata": {},
   "outputs": [],
   "source": [
    "random.shuffle(index_list)"
   ]
  },
  {
   "cell_type": "code",
   "execution_count": 79,
   "metadata": {},
   "outputs": [],
   "source": [
    "Inputt = iter(index_list) \n",
    "Output = [list(islice(Inputt, elem)) \n",
    "          for elem in prom] "
   ]
  },
  {
   "cell_type": "code",
   "execution_count": 83,
   "metadata": {},
   "outputs": [],
   "source": [
    "a = session_df.iloc[Output[0]]\n",
    "b = session_df.iloc[Output[1]]\n",
    "c = session_df.iloc[Output[2]]\n",
    "d = session_df.iloc[Output[3]]"
   ]
  },
  {
   "cell_type": "code",
   "execution_count": 84,
   "metadata": {},
   "outputs": [
    {
     "name": "stdout",
     "output_type": "stream",
     "text": [
      "3066720\n",
      "1288022 245338 705346 828014\n"
     ]
    }
   ],
   "source": [
    "print(len(a)+len(b)+len(c)+len(d))\n",
    "print(len(a),len(b),len(c),len(d))"
   ]
  },
  {
   "cell_type": "code",
   "execution_count": 85,
   "metadata": {},
   "outputs": [],
   "source": [
    "a['promotion'] = promotions[0]\n",
    "b['promotion'] = promotions[1]\n",
    "c['promotion'] = promotions[2]\n",
    "d['promotion'] = promotions[3]"
   ]
  },
  {
   "cell_type": "code",
   "execution_count": 86,
   "metadata": {},
   "outputs": [],
   "source": [
    "session_df = pd.concat([a, b,c,d], ignore_index=True)"
   ]
  },
  {
   "cell_type": "code",
   "execution_count": 176,
   "metadata": {},
   "outputs": [],
   "source": [
    "# session_df = session_df.sample(frac=1)\n",
    "# a = session_df.sample(frac=prom_parts[0], replace=False, random_state=1)\n",
    "# b = session_df.sample(frac=prom_parts[1], replace=False, random_state=1)\n",
    "# c = session_df.sample(frac=prom_parts[2], replace=False, random_state=1)\n",
    "# d = session_df.sample(frac=prom_parts[3], replace=False, random_state=1)"
   ]
  },
  {
   "cell_type": "code",
   "execution_count": 88,
   "metadata": {},
   "outputs": [
    {
     "data": {
      "text/plain": [
       "<matplotlib.axes._subplots.AxesSubplot at 0x1d960697e80>"
      ]
     },
     "execution_count": 88,
     "metadata": {},
     "output_type": "execute_result"
    },
    {
     "data": {
      "image/png": "[encoded data removed]",
      "text/plain": [
       "<Figure size 432x288 with 1 Axes>"
      ]
     },
     "metadata": {},
     "output_type": "display_data"
    }
   ],
   "source": [
    "session_df.promotion.value_counts().plot(kind='bar')"
   ]
  },
  {
   "cell_type": "code",
   "execution_count": 89,
   "metadata": {
    "scrolled": true
   },
   "outputs": [
    {
     "data": {
      "text/html": [
       "<div>\n",
       "<style scoped>\n",
       "    .dataframe tbody tr th:only-of-type {\n",
       "        vertical-align: middle;\n",
       "    }\n",
       "\n",
       "    .dataframe tbody tr th {\n",
       "        vertical-align: top;\n",
       "    }\n",
       "\n",
       "    .dataframe thead th {\n",
       "        text-align: right;\n",
       "    }\n",
       "</style>\n",
       "<table border=\"1\" class=\"dataframe\">\n",
       "  <thead>\n",
       "    <tr style=\"text-align: right;\">\n",
       "      <th></th>\n",
       "      <th>user_session</th>\n",
       "      <th>campaign</th>\n",
       "      <th>promotion</th>\n",
       "    </tr>\n",
       "  </thead>\n",
       "  <tbody>\n",
       "    <tr>\n",
       "      <th>0</th>\n",
       "      <td>a905a403-16d3-b9a6-91b2-b881bab7e2fc</td>\n",
       "      <td>Referal</td>\n",
       "      <td>Discount</td>\n",
       "    </tr>\n",
       "    <tr>\n",
       "      <th>1</th>\n",
       "      <td>a6a34d87-d8b6-42f2-96f0-cab75219d3d5</td>\n",
       "      <td>Referal</td>\n",
       "      <td>Discount</td>\n",
       "    </tr>\n",
       "    <tr>\n",
       "      <th>2</th>\n",
       "      <td>3c089e7f-ac98-4679-aa0a-69e5313bce1a</td>\n",
       "      <td>Social Media</td>\n",
       "      <td>Discount</td>\n",
       "    </tr>\n",
       "    <tr>\n",
       "      <th>3</th>\n",
       "      <td>227cdacd-d4dd-0ea7-6ecb-c53535a4ac47</td>\n",
       "      <td>Referal</td>\n",
       "      <td>Discount</td>\n",
       "    </tr>\n",
       "    <tr>\n",
       "      <th>4</th>\n",
       "      <td>362d1c74-a642-4403-8d28-cd272429c2d7</td>\n",
       "      <td>Referal</td>\n",
       "      <td>Discount</td>\n",
       "    </tr>\n",
       "  </tbody>\n",
       "</table>\n",
       "</div>"
      ],
      "text/plain": [
       "                           user_session      campaign promotion\n",
       "0  a905a403-16d3-b9a6-91b2-b881bab7e2fc       Referal  Discount\n",
       "1  a6a34d87-d8b6-42f2-96f0-cab75219d3d5       Referal  Discount\n",
       "2  3c089e7f-ac98-4679-aa0a-69e5313bce1a  Social Media  Discount\n",
       "3  227cdacd-d4dd-0ea7-6ecb-c53535a4ac47       Referal  Discount\n",
       "4  362d1c74-a642-4403-8d28-cd272429c2d7       Referal  Discount"
      ]
     },
     "execution_count": 89,
     "metadata": {},
     "output_type": "execute_result"
    }
   ],
   "source": [
    "session_df.head()"
   ]
  },
  {
   "cell_type": "code",
   "execution_count": 90,
   "metadata": {},
   "outputs": [
    {
     "data": {
      "text/plain": [
       "(3066720, 3)"
      ]
     },
     "execution_count": 90,
     "metadata": {},
     "output_type": "execute_result"
    }
   ],
   "source": [
    "session_df.shape"
   ]
  },
  {
   "cell_type": "code",
   "execution_count": 95,
   "metadata": {
    "scrolled": false
   },
   "outputs": [
    {
     "data": {
      "text/html": [
       "<div>\n",
       "<style scoped>\n",
       "    .dataframe tbody tr th:only-of-type {\n",
       "        vertical-align: middle;\n",
       "    }\n",
       "\n",
       "    .dataframe tbody tr th {\n",
       "        vertical-align: top;\n",
       "    }\n",
       "\n",
       "    .dataframe thead th {\n",
       "        text-align: right;\n",
       "    }\n",
       "</style>\n",
       "<table border=\"1\" class=\"dataframe\">\n",
       "  <thead>\n",
       "    <tr style=\"text-align: right;\">\n",
       "      <th></th>\n",
       "      <th></th>\n",
       "      <th>user_session</th>\n",
       "    </tr>\n",
       "    <tr>\n",
       "      <th>campaign</th>\n",
       "      <th>promotion</th>\n",
       "      <th></th>\n",
       "    </tr>\n",
       "  </thead>\n",
       "  <tbody>\n",
       "    <tr>\n",
       "      <th rowspan=\"4\" valign=\"top\">E-mail</th>\n",
       "      <th>Buy One Get One</th>\n",
       "      <td>314474</td>\n",
       "    </tr>\n",
       "    <tr>\n",
       "      <th>Discount</th>\n",
       "      <td>489805</td>\n",
       "    </tr>\n",
       "    <tr>\n",
       "      <th>Free Sample</th>\n",
       "      <td>93045</td>\n",
       "    </tr>\n",
       "    <tr>\n",
       "      <th>No Promotion</th>\n",
       "      <td>268030</td>\n",
       "    </tr>\n",
       "    <tr>\n",
       "      <th rowspan=\"4\" valign=\"top\">Referal</th>\n",
       "      <th>Buy One Get One</th>\n",
       "      <td>140818</td>\n",
       "    </tr>\n",
       "    <tr>\n",
       "      <th>Discount</th>\n",
       "      <td>218787</td>\n",
       "    </tr>\n",
       "    <tr>\n",
       "      <th>Free Sample</th>\n",
       "      <td>42009</td>\n",
       "    </tr>\n",
       "    <tr>\n",
       "      <th>No Promotion</th>\n",
       "      <td>119728</td>\n",
       "    </tr>\n",
       "    <tr>\n",
       "      <th rowspan=\"4\" valign=\"top\">Social Media</th>\n",
       "      <th>Buy One Get One</th>\n",
       "      <td>339306</td>\n",
       "    </tr>\n",
       "    <tr>\n",
       "      <th>Discount</th>\n",
       "      <td>527847</td>\n",
       "    </tr>\n",
       "    <tr>\n",
       "      <th>Free Sample</th>\n",
       "      <td>100575</td>\n",
       "    </tr>\n",
       "    <tr>\n",
       "      <th>No Promotion</th>\n",
       "      <td>289627</td>\n",
       "    </tr>\n",
       "    <tr>\n",
       "      <th rowspan=\"4\" valign=\"top\">Web Search</th>\n",
       "      <th>Buy One Get One</th>\n",
       "      <td>33416</td>\n",
       "    </tr>\n",
       "    <tr>\n",
       "      <th>Discount</th>\n",
       "      <td>51583</td>\n",
       "    </tr>\n",
       "    <tr>\n",
       "      <th>Free Sample</th>\n",
       "      <td>9709</td>\n",
       "    </tr>\n",
       "    <tr>\n",
       "      <th>No Promotion</th>\n",
       "      <td>27961</td>\n",
       "    </tr>\n",
       "  </tbody>\n",
       "</table>\n",
       "</div>"
      ],
      "text/plain": [
       "                              user_session\n",
       "campaign     promotion                    \n",
       "E-mail       Buy One Get One        314474\n",
       "             Discount               489805\n",
       "             Free Sample             93045\n",
       "             No Promotion           268030\n",
       "Referal      Buy One Get One        140818\n",
       "             Discount               218787\n",
       "             Free Sample             42009\n",
       "             No Promotion           119728\n",
       "Social Media Buy One Get One        339306\n",
       "             Discount               527847\n",
       "             Free Sample            100575\n",
       "             No Promotion           289627\n",
       "Web Search   Buy One Get One         33416\n",
       "             Discount                51583\n",
       "             Free Sample              9709\n",
       "             No Promotion            27961"
      ]
     },
     "execution_count": 95,
     "metadata": {},
     "output_type": "execute_result"
    }
   ],
   "source": [
    "session_df.groupby(['campaign','promotion']).count()"
   ]
  },
  {
   "cell_type": "code",
   "execution_count": 97,
   "metadata": {
    "scrolled": true
   },
   "outputs": [
    {
     "data": {
      "text/plain": [
       "[0.38, 0.62]"
      ]
     },
     "execution_count": 97,
     "metadata": {},
     "output_type": "execute_result"
    }
   ],
   "source": [
    "channel_parts = sum_to_one(2)\n",
    "channel_parts"
   ]
  },
  {
   "cell_type": "code",
   "execution_count": 98,
   "metadata": {},
   "outputs": [],
   "source": [
    "random.shuffle(index_list)\n",
    "chan = [int(round(i * df_len)) for i in channel_parts]\n",
    "Inputt = iter(index_list) \n",
    "Output = [list(islice(Inputt, elem)) \n",
    "          for elem in chan] "
   ]
  },
  {
   "cell_type": "code",
   "execution_count": 100,
   "metadata": {},
   "outputs": [],
   "source": [
    "a = session_df.iloc[Output[0]]\n",
    "b = session_df.iloc[Output[1]]"
   ]
  },
  {
   "cell_type": "code",
   "execution_count": 101,
   "metadata": {},
   "outputs": [
    {
     "name": "stdout",
     "output_type": "stream",
     "text": [
      "1165354 1901366\n",
      "3066720\n"
     ]
    }
   ],
   "source": [
    "print(len(a),len(b))\n",
    "print(len(a)+len(b))"
   ]
  },
  {
   "cell_type": "code",
   "execution_count": 102,
   "metadata": {},
   "outputs": [],
   "source": [
    "a['channel'] = channels[0]\n",
    "b['channel'] = channels[1]"
   ]
  },
  {
   "cell_type": "code",
   "execution_count": 185,
   "metadata": {},
   "outputs": [],
   "source": [
    "# session_df = session_df.sample(frac=1)\n",
    "# a = session_df.sample(frac=channel_parts[0], replace=False, random_state=1)\n",
    "# b = session_df.sample(frac=channel_parts[1], replace=False, random_state=1)\n",
    "# a['channel'] = channels[0]\n",
    "# b['channel'] = channels[1]"
   ]
  },
  {
   "cell_type": "code",
   "execution_count": 103,
   "metadata": {},
   "outputs": [],
   "source": [
    "session_df = pd.concat([a, b], ignore_index=True)"
   ]
  },
  {
   "cell_type": "code",
   "execution_count": 104,
   "metadata": {
    "scrolled": false
   },
   "outputs": [
    {
     "data": {
      "text/plain": [
       "<matplotlib.axes._subplots.AxesSubplot at 0x1d9621a1c50>"
      ]
     },
     "execution_count": 104,
     "metadata": {},
     "output_type": "execute_result"
    },
    {
     "data": {
      "image/png": "[encoded data removed]",
      "text/plain": [
       "<Figure size 432x288 with 1 Axes>"
      ]
     },
     "metadata": {},
     "output_type": "display_data"
    }
   ],
   "source": [
    "session_df.channel.value_counts().plot(kind='bar')"
   ]
  },
  {
   "cell_type": "code",
   "execution_count": 107,
   "metadata": {},
   "outputs": [],
   "source": [
    "discount_sessions = session_df[session_df['promotion'] == 'Discount']"
   ]
  },
  {
   "cell_type": "code",
   "execution_count": 108,
   "metadata": {},
   "outputs": [],
   "source": [
    "non_discount_sessions = session_df[session_df['promotion'] != 'Discount']"
   ]
  },
  {
   "cell_type": "code",
   "execution_count": 109,
   "metadata": {},
   "outputs": [],
   "source": [
    "discount_sessions['discount'] = [fake.random_int(0,32) for i in range(len(discount_sessions))]"
   ]
  },
  {
   "cell_type": "code",
   "execution_count": 110,
   "metadata": {},
   "outputs": [],
   "source": [
    "discount_sessions['discount']=discount_sessions['discount'].apply(lambda x : 10 if (x>=0 and x<=9)  \n",
    "                                                                              else 15 if (x>=10 and x<=23)  \n",
    "                                                                              else 20 if (x>=24 and x<=32)  \n",
    "                                                                              else x)"
   ]
  },
  {
   "cell_type": "code",
   "execution_count": 111,
   "metadata": {},
   "outputs": [
    {
     "data": {
      "text/plain": [
       "<matplotlib.axes._subplots.AxesSubplot at 0x1d9606eda58>"
      ]
     },
     "execution_count": 111,
     "metadata": {},
     "output_type": "execute_result"
    },
    {
     "data": {
      "image/png": "[encoded data removed]",
      "text/plain": [
       "<Figure size 432x288 with 1 Axes>"
      ]
     },
     "metadata": {},
     "output_type": "display_data"
    }
   ],
   "source": [
    "discount_sessions.discount.value_counts().plot(kind='bar')"
   ]
  },
  {
   "cell_type": "code",
   "execution_count": 112,
   "metadata": {},
   "outputs": [],
   "source": [
    "non_discount_sessions['discount'] = 0"
   ]
  },
  {
   "cell_type": "code",
   "execution_count": 113,
   "metadata": {},
   "outputs": [],
   "source": [
    "session_df = pd.concat([discount_sessions, non_discount_sessions], ignore_index=True)"
   ]
  },
  {
   "cell_type": "code",
   "execution_count": 114,
   "metadata": {
    "scrolled": true
   },
   "outputs": [
    {
     "data": {
      "text/plain": [
       "<matplotlib.axes._subplots.AxesSubplot at 0x1d96205beb8>"
      ]
     },
     "execution_count": 114,
     "metadata": {},
     "output_type": "execute_result"
    },
    {
     "data": {
      "image/png": "[encoded data removed]",
      "text/plain": [
       "<Figure size 432x288 with 1 Axes>"
      ]
     },
     "metadata": {},
     "output_type": "display_data"
    }
   ],
   "source": [
    "session_df.discount.value_counts().plot(kind='bar')"
   ]
  },
  {
   "cell_type": "code",
   "execution_count": 115,
   "metadata": {},
   "outputs": [
    {
     "data": {
      "text/html": [
       "<div>\n",
       "<style scoped>\n",
       "    .dataframe tbody tr th:only-of-type {\n",
       "        vertical-align: middle;\n",
       "    }\n",
       "\n",
       "    .dataframe tbody tr th {\n",
       "        vertical-align: top;\n",
       "    }\n",
       "\n",
       "    .dataframe thead th {\n",
       "        text-align: right;\n",
       "    }\n",
       "</style>\n",
       "<table border=\"1\" class=\"dataframe\">\n",
       "  <thead>\n",
       "    <tr style=\"text-align: right;\">\n",
       "      <th></th>\n",
       "      <th>user_session</th>\n",
       "      <th>campaign</th>\n",
       "      <th>promotion</th>\n",
       "      <th>channel</th>\n",
       "      <th>discount</th>\n",
       "    </tr>\n",
       "  </thead>\n",
       "  <tbody>\n",
       "    <tr>\n",
       "      <th>1771095</th>\n",
       "      <td>00000dd2-0f5d-4fc9-9d6b-2fc8c7514b04</td>\n",
       "      <td>Social Media</td>\n",
       "      <td>Buy One Get One</td>\n",
       "      <td>Desktop</td>\n",
       "      <td>0</td>\n",
       "    </tr>\n",
       "  </tbody>\n",
       "</table>\n",
       "</div>"
      ],
      "text/plain": [
       "                                 user_session      campaign        promotion  \\\n",
       "1771095  00000dd2-0f5d-4fc9-9d6b-2fc8c7514b04  Social Media  Buy One Get One   \n",
       "\n",
       "         channel  discount  \n",
       "1771095  Desktop         0  "
      ]
     },
     "execution_count": 115,
     "metadata": {},
     "output_type": "execute_result"
    }
   ],
   "source": [
    "session_df[session_df.user_session== '00000dd2-0f5d-4fc9-9d6b-2fc8c7514b04']"
   ]
  },
  {
   "cell_type": "code",
   "execution_count": 116,
   "metadata": {
    "scrolled": true
   },
   "outputs": [
    {
     "data": {
      "text/html": [
       "<div>\n",
       "<style scoped>\n",
       "    .dataframe tbody tr th:only-of-type {\n",
       "        vertical-align: middle;\n",
       "    }\n",
       "\n",
       "    .dataframe tbody tr th {\n",
       "        vertical-align: top;\n",
       "    }\n",
       "\n",
       "    .dataframe thead th {\n",
       "        text-align: right;\n",
       "    }\n",
       "</style>\n",
       "<table border=\"1\" class=\"dataframe\">\n",
       "  <thead>\n",
       "    <tr style=\"text-align: right;\">\n",
       "      <th></th>\n",
       "      <th></th>\n",
       "      <th>promotion</th>\n",
       "      <th>channel</th>\n",
       "      <th>discount</th>\n",
       "    </tr>\n",
       "    <tr>\n",
       "      <th>user_session</th>\n",
       "      <th>campaign</th>\n",
       "      <th></th>\n",
       "      <th></th>\n",
       "      <th></th>\n",
       "    </tr>\n",
       "  </thead>\n",
       "  <tbody>\n",
       "    <tr>\n",
       "      <th>0000061d-f3e9-484b-8c73-e54f355032a3</th>\n",
       "      <th>E-mail</th>\n",
       "      <td>1</td>\n",
       "      <td>1</td>\n",
       "      <td>1</td>\n",
       "    </tr>\n",
       "    <tr>\n",
       "      <th>00000ac8-0015-4f12-996a-be2896323738</th>\n",
       "      <th>E-mail</th>\n",
       "      <td>1</td>\n",
       "      <td>1</td>\n",
       "      <td>1</td>\n",
       "    </tr>\n",
       "    <tr>\n",
       "      <th>00000dd2-0f5d-4fc9-9d6b-2fc8c7514b04</th>\n",
       "      <th>Social Media</th>\n",
       "      <td>1</td>\n",
       "      <td>1</td>\n",
       "      <td>1</td>\n",
       "    </tr>\n",
       "    <tr>\n",
       "      <th>000013d6-68a4-40cf-9452-6577dbfab515</th>\n",
       "      <th>E-mail</th>\n",
       "      <td>1</td>\n",
       "      <td>1</td>\n",
       "      <td>1</td>\n",
       "    </tr>\n",
       "    <tr>\n",
       "      <th>00001bc6-1e04-4861-be5d-1bc73929c21a</th>\n",
       "      <th>Social Media</th>\n",
       "      <td>1</td>\n",
       "      <td>1</td>\n",
       "      <td>1</td>\n",
       "    </tr>\n",
       "    <tr>\n",
       "      <th>00001ca1-f2df-4572-b0b8-e752e2064aae</th>\n",
       "      <th>E-mail</th>\n",
       "      <td>1</td>\n",
       "      <td>1</td>\n",
       "      <td>1</td>\n",
       "    </tr>\n",
       "    <tr>\n",
       "      <th>00002b0e-d7f7-454e-8386-431c4021a9f6</th>\n",
       "      <th>Social Media</th>\n",
       "      <td>1</td>\n",
       "      <td>1</td>\n",
       "      <td>1</td>\n",
       "    </tr>\n",
       "    <tr>\n",
       "      <th>00002db7-16b6-4db2-bf8b-7a1cb6bd0e7f</th>\n",
       "      <th>E-mail</th>\n",
       "      <td>1</td>\n",
       "      <td>1</td>\n",
       "      <td>1</td>\n",
       "    </tr>\n",
       "    <tr>\n",
       "      <th>00002f36-401d-4bc5-bac6-1a683f52ac2b</th>\n",
       "      <th>Social Media</th>\n",
       "      <td>1</td>\n",
       "      <td>1</td>\n",
       "      <td>1</td>\n",
       "    </tr>\n",
       "    <tr>\n",
       "      <th>00003443-8504-4e24-8e86-e8e86d486826</th>\n",
       "      <th>E-mail</th>\n",
       "      <td>1</td>\n",
       "      <td>1</td>\n",
       "      <td>1</td>\n",
       "    </tr>\n",
       "    <tr>\n",
       "      <th>000035aa-dc4c-4703-aa6e-042ce96c6aef</th>\n",
       "      <th>Social Media</th>\n",
       "      <td>1</td>\n",
       "      <td>1</td>\n",
       "      <td>1</td>\n",
       "    </tr>\n",
       "    <tr>\n",
       "      <th>00004a32-6d8e-d767-9e96-4bae83be8d4b</th>\n",
       "      <th>E-mail</th>\n",
       "      <td>1</td>\n",
       "      <td>1</td>\n",
       "      <td>1</td>\n",
       "    </tr>\n",
       "    <tr>\n",
       "      <th>00004e6a-00f4-49e0-8ec8-f688a2e61250</th>\n",
       "      <th>Social Media</th>\n",
       "      <td>1</td>\n",
       "      <td>1</td>\n",
       "      <td>1</td>\n",
       "    </tr>\n",
       "    <tr>\n",
       "      <th>0000597b-de39-4a77-9fe5-02c8792ca14e</th>\n",
       "      <th>Social Media</th>\n",
       "      <td>1</td>\n",
       "      <td>1</td>\n",
       "      <td>1</td>\n",
       "    </tr>\n",
       "    <tr>\n",
       "      <th>00005ac0-5c22-4756-bb12-31b90af75fa3</th>\n",
       "      <th>Social Media</th>\n",
       "      <td>1</td>\n",
       "      <td>1</td>\n",
       "      <td>1</td>\n",
       "    </tr>\n",
       "    <tr>\n",
       "      <th>0000645a-8160-4a3d-91bf-154bff0a22e3</th>\n",
       "      <th>Social Media</th>\n",
       "      <td>1</td>\n",
       "      <td>1</td>\n",
       "      <td>1</td>\n",
       "    </tr>\n",
       "    <tr>\n",
       "      <th>000066fc-499b-4ad9-8e42-214d64ce9be1</th>\n",
       "      <th>Social Media</th>\n",
       "      <td>1</td>\n",
       "      <td>1</td>\n",
       "      <td>1</td>\n",
       "    </tr>\n",
       "    <tr>\n",
       "      <th>0000763c-7baf-45fd-aad3-ca2076aea17d</th>\n",
       "      <th>Social Media</th>\n",
       "      <td>1</td>\n",
       "      <td>1</td>\n",
       "      <td>1</td>\n",
       "    </tr>\n",
       "    <tr>\n",
       "      <th>00007819-3646-099d-f895-f36bb77191c9</th>\n",
       "      <th>Social Media</th>\n",
       "      <td>1</td>\n",
       "      <td>1</td>\n",
       "      <td>1</td>\n",
       "    </tr>\n",
       "    <tr>\n",
       "      <th>00007c91-c17d-4798-bbc7-107f86e8adcc</th>\n",
       "      <th>Social Media</th>\n",
       "      <td>1</td>\n",
       "      <td>1</td>\n",
       "      <td>1</td>\n",
       "    </tr>\n",
       "    <tr>\n",
       "      <th>00008836-6d96-4580-8527-173d4e1b2889</th>\n",
       "      <th>Social Media</th>\n",
       "      <td>1</td>\n",
       "      <td>1</td>\n",
       "      <td>1</td>\n",
       "    </tr>\n",
       "    <tr>\n",
       "      <th>00008a21-4711-4dec-b8bc-ca7caeb9d41a</th>\n",
       "      <th>Social Media</th>\n",
       "      <td>1</td>\n",
       "      <td>1</td>\n",
       "      <td>1</td>\n",
       "    </tr>\n",
       "    <tr>\n",
       "      <th>000090e1-da13-42b1-a31b-91a9ee5e6a88</th>\n",
       "      <th>E-mail</th>\n",
       "      <td>1</td>\n",
       "      <td>1</td>\n",
       "      <td>1</td>\n",
       "    </tr>\n",
       "    <tr>\n",
       "      <th>00009c81-a51c-49dc-97b6-2a4f180a3b51</th>\n",
       "      <th>Social Media</th>\n",
       "      <td>1</td>\n",
       "      <td>1</td>\n",
       "      <td>1</td>\n",
       "    </tr>\n",
       "    <tr>\n",
       "      <th>0000a4ee-e357-459f-975f-6f8b30f1bdb8</th>\n",
       "      <th>Referal</th>\n",
       "      <td>1</td>\n",
       "      <td>1</td>\n",
       "      <td>1</td>\n",
       "    </tr>\n",
       "    <tr>\n",
       "      <th>0000a8bd-7cb7-45ed-913a-e2aa0cd0f397</th>\n",
       "      <th>E-mail</th>\n",
       "      <td>1</td>\n",
       "      <td>1</td>\n",
       "      <td>1</td>\n",
       "    </tr>\n",
       "    <tr>\n",
       "      <th>0000b3cb-5422-4bf2-b8fe-5c1831d0dc1b</th>\n",
       "      <th>E-mail</th>\n",
       "      <td>1</td>\n",
       "      <td>1</td>\n",
       "      <td>1</td>\n",
       "    </tr>\n",
       "    <tr>\n",
       "      <th>0000b977-340c-45e1-9588-2bb26fda52eb</th>\n",
       "      <th>E-mail</th>\n",
       "      <td>1</td>\n",
       "      <td>1</td>\n",
       "      <td>1</td>\n",
       "    </tr>\n",
       "    <tr>\n",
       "      <th>0000d04d-3516-42ea-bdb9-584e92ce619e</th>\n",
       "      <th>Referal</th>\n",
       "      <td>1</td>\n",
       "      <td>1</td>\n",
       "      <td>1</td>\n",
       "    </tr>\n",
       "    <tr>\n",
       "      <th>0000d083-4f1b-4f1f-a64b-c237b93ace8c</th>\n",
       "      <th>E-mail</th>\n",
       "      <td>1</td>\n",
       "      <td>1</td>\n",
       "      <td>1</td>\n",
       "    </tr>\n",
       "    <tr>\n",
       "      <th>...</th>\n",
       "      <th>...</th>\n",
       "      <td>...</td>\n",
       "      <td>...</td>\n",
       "      <td>...</td>\n",
       "    </tr>\n",
       "    <tr>\n",
       "      <th>ffff2616-7e66-44fd-9991-5297d728d2a5</th>\n",
       "      <th>Web Search</th>\n",
       "      <td>1</td>\n",
       "      <td>1</td>\n",
       "      <td>1</td>\n",
       "    </tr>\n",
       "    <tr>\n",
       "      <th>ffff32c5-9d45-4db0-98b5-8ef9e417f833</th>\n",
       "      <th>Social Media</th>\n",
       "      <td>1</td>\n",
       "      <td>1</td>\n",
       "      <td>1</td>\n",
       "    </tr>\n",
       "    <tr>\n",
       "      <th>ffff3395-7667-4c44-b57d-8226abadb95b</th>\n",
       "      <th>Referal</th>\n",
       "      <td>1</td>\n",
       "      <td>1</td>\n",
       "      <td>1</td>\n",
       "    </tr>\n",
       "    <tr>\n",
       "      <th>ffff3540-3210-4069-8ed7-37d5fcea5b44</th>\n",
       "      <th>Social Media</th>\n",
       "      <td>1</td>\n",
       "      <td>1</td>\n",
       "      <td>1</td>\n",
       "    </tr>\n",
       "    <tr>\n",
       "      <th>ffff43f5-765c-406f-8dd1-5486d3ae62e2</th>\n",
       "      <th>Social Media</th>\n",
       "      <td>1</td>\n",
       "      <td>1</td>\n",
       "      <td>1</td>\n",
       "    </tr>\n",
       "    <tr>\n",
       "      <th>ffff4402-79bc-43b5-8e94-9b015f3aed0f</th>\n",
       "      <th>Social Media</th>\n",
       "      <td>1</td>\n",
       "      <td>1</td>\n",
       "      <td>1</td>\n",
       "    </tr>\n",
       "    <tr>\n",
       "      <th>ffff47ea-b4ec-4943-8e8a-34592992cb5e</th>\n",
       "      <th>E-mail</th>\n",
       "      <td>1</td>\n",
       "      <td>1</td>\n",
       "      <td>1</td>\n",
       "    </tr>\n",
       "    <tr>\n",
       "      <th>ffff5954-5b7f-4dd8-9fa1-078ae32e684f</th>\n",
       "      <th>Social Media</th>\n",
       "      <td>1</td>\n",
       "      <td>1</td>\n",
       "      <td>1</td>\n",
       "    </tr>\n",
       "    <tr>\n",
       "      <th>ffff5bf8-9971-4ee3-9255-f7c8eb238315</th>\n",
       "      <th>Referal</th>\n",
       "      <td>1</td>\n",
       "      <td>1</td>\n",
       "      <td>1</td>\n",
       "    </tr>\n",
       "    <tr>\n",
       "      <th>ffff6adf-7416-4ab7-a7bf-29d829c17a8d</th>\n",
       "      <th>Referal</th>\n",
       "      <td>1</td>\n",
       "      <td>1</td>\n",
       "      <td>1</td>\n",
       "    </tr>\n",
       "    <tr>\n",
       "      <th>ffff78e3-1e8f-4eda-bb42-95749ab4f42e</th>\n",
       "      <th>Referal</th>\n",
       "      <td>1</td>\n",
       "      <td>1</td>\n",
       "      <td>1</td>\n",
       "    </tr>\n",
       "    <tr>\n",
       "      <th>ffff7b96-9751-4eaa-806e-fe979cc00dc8</th>\n",
       "      <th>E-mail</th>\n",
       "      <td>1</td>\n",
       "      <td>1</td>\n",
       "      <td>1</td>\n",
       "    </tr>\n",
       "    <tr>\n",
       "      <th>ffff7d69-b706-4c64-9d6d-da57a04bc32b</th>\n",
       "      <th>E-mail</th>\n",
       "      <td>1</td>\n",
       "      <td>1</td>\n",
       "      <td>1</td>\n",
       "    </tr>\n",
       "    <tr>\n",
       "      <th>ffff80e2-ad33-4704-9ffe-d6c612e9641f</th>\n",
       "      <th>E-mail</th>\n",
       "      <td>1</td>\n",
       "      <td>1</td>\n",
       "      <td>1</td>\n",
       "    </tr>\n",
       "    <tr>\n",
       "      <th>ffff8182-d5fc-4ed3-b63a-5ee992746182</th>\n",
       "      <th>Social Media</th>\n",
       "      <td>1</td>\n",
       "      <td>1</td>\n",
       "      <td>1</td>\n",
       "    </tr>\n",
       "    <tr>\n",
       "      <th>ffff8529-58c1-4ec8-933e-77f535718061</th>\n",
       "      <th>E-mail</th>\n",
       "      <td>1</td>\n",
       "      <td>1</td>\n",
       "      <td>1</td>\n",
       "    </tr>\n",
       "    <tr>\n",
       "      <th>ffff8da3-b79a-48f2-888c-117f2d1a7793</th>\n",
       "      <th>E-mail</th>\n",
       "      <td>1</td>\n",
       "      <td>1</td>\n",
       "      <td>1</td>\n",
       "    </tr>\n",
       "    <tr>\n",
       "      <th>ffff9835-7a1d-4b60-8371-d529d2082e18</th>\n",
       "      <th>E-mail</th>\n",
       "      <td>1</td>\n",
       "      <td>1</td>\n",
       "      <td>1</td>\n",
       "    </tr>\n",
       "    <tr>\n",
       "      <th>ffffa1ef-6a9a-45cf-8150-6f781499e6e3</th>\n",
       "      <th>E-mail</th>\n",
       "      <td>1</td>\n",
       "      <td>1</td>\n",
       "      <td>1</td>\n",
       "    </tr>\n",
       "    <tr>\n",
       "      <th>ffffa82e-f8d4-4d09-9e99-a987472533ef</th>\n",
       "      <th>Referal</th>\n",
       "      <td>1</td>\n",
       "      <td>1</td>\n",
       "      <td>1</td>\n",
       "    </tr>\n",
       "    <tr>\n",
       "      <th>ffffad11-3292-4843-a3dd-06ea95b8e355</th>\n",
       "      <th>Referal</th>\n",
       "      <td>1</td>\n",
       "      <td>1</td>\n",
       "      <td>1</td>\n",
       "    </tr>\n",
       "    <tr>\n",
       "      <th>ffffb778-b06d-4927-ace1-141505c15ec2</th>\n",
       "      <th>E-mail</th>\n",
       "      <td>1</td>\n",
       "      <td>1</td>\n",
       "      <td>1</td>\n",
       "    </tr>\n",
       "    <tr>\n",
       "      <th>ffffb87b-2c35-478e-8475-ad3a73d584ec</th>\n",
       "      <th>Referal</th>\n",
       "      <td>1</td>\n",
       "      <td>1</td>\n",
       "      <td>1</td>\n",
       "    </tr>\n",
       "    <tr>\n",
       "      <th>ffffb896-e09d-4127-8984-95d088401529</th>\n",
       "      <th>Social Media</th>\n",
       "      <td>1</td>\n",
       "      <td>1</td>\n",
       "      <td>1</td>\n",
       "    </tr>\n",
       "    <tr>\n",
       "      <th>ffffc26a-25d5-4cf9-9fea-90fdd385c5dd</th>\n",
       "      <th>E-mail</th>\n",
       "      <td>1</td>\n",
       "      <td>1</td>\n",
       "      <td>1</td>\n",
       "    </tr>\n",
       "    <tr>\n",
       "      <th>ffffca9d-a07f-4432-87b9-50b9564dc9a0</th>\n",
       "      <th>Referal</th>\n",
       "      <td>1</td>\n",
       "      <td>1</td>\n",
       "      <td>1</td>\n",
       "    </tr>\n",
       "    <tr>\n",
       "      <th>ffffdc50-3bbc-4c9e-af33-e6d33b76498a</th>\n",
       "      <th>Referal</th>\n",
       "      <td>1</td>\n",
       "      <td>1</td>\n",
       "      <td>1</td>\n",
       "    </tr>\n",
       "    <tr>\n",
       "      <th>ffffeed4-b0dd-499c-ba8c-213a1ab9f50d</th>\n",
       "      <th>Social Media</th>\n",
       "      <td>1</td>\n",
       "      <td>1</td>\n",
       "      <td>1</td>\n",
       "    </tr>\n",
       "    <tr>\n",
       "      <th>fffff319-41b2-4937-96bb-ac4aace7c300</th>\n",
       "      <th>Social Media</th>\n",
       "      <td>1</td>\n",
       "      <td>1</td>\n",
       "      <td>1</td>\n",
       "    </tr>\n",
       "    <tr>\n",
       "      <th>fffffc08-81e3-4050-9cd6-a5301f79f6f1</th>\n",
       "      <th>Referal</th>\n",
       "      <td>1</td>\n",
       "      <td>1</td>\n",
       "      <td>1</td>\n",
       "    </tr>\n",
       "  </tbody>\n",
       "</table>\n",
       "<p>3066720 rows × 3 columns</p>\n",
       "</div>"
      ],
      "text/plain": [
       "                                                   promotion  channel  \\\n",
       "user_session                         campaign                           \n",
       "0000061d-f3e9-484b-8c73-e54f355032a3 E-mail                1        1   \n",
       "00000ac8-0015-4f12-996a-be2896323738 E-mail                1        1   \n",
       "00000dd2-0f5d-4fc9-9d6b-2fc8c7514b04 Social Media          1        1   \n",
       "000013d6-68a4-40cf-9452-6577dbfab515 E-mail                1        1   \n",
       "00001bc6-1e04-4861-be5d-1bc73929c21a Social Media          1        1   \n",
       "00001ca1-f2df-4572-b0b8-e752e2064aae E-mail                1        1   \n",
       "00002b0e-d7f7-454e-8386-431c4021a9f6 Social Media          1        1   \n",
       "00002db7-16b6-4db2-bf8b-7a1cb6bd0e7f E-mail                1        1   \n",
       "00002f36-401d-4bc5-bac6-1a683f52ac2b Social Media          1        1   \n",
       "00003443-8504-4e24-8e86-e8e86d486826 E-mail                1        1   \n",
       "000035aa-dc4c-4703-aa6e-042ce96c6aef Social Media          1        1   \n",
       "00004a32-6d8e-d767-9e96-4bae83be8d4b E-mail                1        1   \n",
       "00004e6a-00f4-49e0-8ec8-f688a2e61250 Social Media          1        1   \n",
       "0000597b-de39-4a77-9fe5-02c8792ca14e Social Media          1        1   \n",
       "00005ac0-5c22-4756-bb12-31b90af75fa3 Social Media          1        1   \n",
       "0000645a-8160-4a3d-91bf-154bff0a22e3 Social Media          1        1   \n",
       "000066fc-499b-4ad9-8e42-214d64ce9be1 Social Media          1        1   \n",
       "0000763c-7baf-45fd-aad3-ca2076aea17d Social Media          1        1   \n",
       "00007819-3646-099d-f895-f36bb77191c9 Social Media          1        1   \n",
       "00007c91-c17d-4798-bbc7-107f86e8adcc Social Media          1        1   \n",
       "00008836-6d96-4580-8527-173d4e1b2889 Social Media          1        1   \n",
       "00008a21-4711-4dec-b8bc-ca7caeb9d41a Social Media          1        1   \n",
       "000090e1-da13-42b1-a31b-91a9ee5e6a88 E-mail                1        1   \n",
       "00009c81-a51c-49dc-97b6-2a4f180a3b51 Social Media          1        1   \n",
       "0000a4ee-e357-459f-975f-6f8b30f1bdb8 Referal               1        1   \n",
       "0000a8bd-7cb7-45ed-913a-e2aa0cd0f397 E-mail                1        1   \n",
       "0000b3cb-5422-4bf2-b8fe-5c1831d0dc1b E-mail                1        1   \n",
       "0000b977-340c-45e1-9588-2bb26fda52eb E-mail                1        1   \n",
       "0000d04d-3516-42ea-bdb9-584e92ce619e Referal               1        1   \n",
       "0000d083-4f1b-4f1f-a64b-c237b93ace8c E-mail                1        1   \n",
       "...                                                      ...      ...   \n",
       "ffff2616-7e66-44fd-9991-5297d728d2a5 Web Search            1        1   \n",
       "ffff32c5-9d45-4db0-98b5-8ef9e417f833 Social Media          1        1   \n",
       "ffff3395-7667-4c44-b57d-8226abadb95b Referal               1        1   \n",
       "ffff3540-3210-4069-8ed7-37d5fcea5b44 Social Media          1        1   \n",
       "ffff43f5-765c-406f-8dd1-5486d3ae62e2 Social Media          1        1   \n",
       "ffff4402-79bc-43b5-8e94-9b015f3aed0f Social Media          1        1   \n",
       "ffff47ea-b4ec-4943-8e8a-34592992cb5e E-mail                1        1   \n",
       "ffff5954-5b7f-4dd8-9fa1-078ae32e684f Social Media          1        1   \n",
       "ffff5bf8-9971-4ee3-9255-f7c8eb238315 Referal               1        1   \n",
       "ffff6adf-7416-4ab7-a7bf-29d829c17a8d Referal               1        1   \n",
       "ffff78e3-1e8f-4eda-bb42-95749ab4f42e Referal               1        1   \n",
       "ffff7b96-9751-4eaa-806e-fe979cc00dc8 E-mail                1        1   \n",
       "ffff7d69-b706-4c64-9d6d-da57a04bc32b E-mail                1        1   \n",
       "ffff80e2-ad33-4704-9ffe-d6c612e9641f E-mail                1        1   \n",
       "ffff8182-d5fc-4ed3-b63a-5ee992746182 Social Media          1        1   \n",
       "ffff8529-58c1-4ec8-933e-77f535718061 E-mail                1        1   \n",
       "ffff8da3-b79a-48f2-888c-117f2d1a7793 E-mail                1        1   \n",
       "ffff9835-7a1d-4b60-8371-d529d2082e18 E-mail                1        1   \n",
       "ffffa1ef-6a9a-45cf-8150-6f781499e6e3 E-mail                1        1   \n",
       "ffffa82e-f8d4-4d09-9e99-a987472533ef Referal               1        1   \n",
       "ffffad11-3292-4843-a3dd-06ea95b8e355 Referal               1        1   \n",
       "ffffb778-b06d-4927-ace1-141505c15ec2 E-mail                1        1   \n",
       "ffffb87b-2c35-478e-8475-ad3a73d584ec Referal               1        1   \n",
       "ffffb896-e09d-4127-8984-95d088401529 Social Media          1        1   \n",
       "ffffc26a-25d5-4cf9-9fea-90fdd385c5dd E-mail                1        1   \n",
       "ffffca9d-a07f-4432-87b9-50b9564dc9a0 Referal               1        1   \n",
       "ffffdc50-3bbc-4c9e-af33-e6d33b76498a Referal               1        1   \n",
       "ffffeed4-b0dd-499c-ba8c-213a1ab9f50d Social Media          1        1   \n",
       "fffff319-41b2-4937-96bb-ac4aace7c300 Social Media          1        1   \n",
       "fffffc08-81e3-4050-9cd6-a5301f79f6f1 Referal               1        1   \n",
       "\n",
       "                                                   discount  \n",
       "user_session                         campaign                \n",
       "0000061d-f3e9-484b-8c73-e54f355032a3 E-mail               1  \n",
       "00000ac8-0015-4f12-996a-be2896323738 E-mail               1  \n",
       "00000dd2-0f5d-4fc9-9d6b-2fc8c7514b04 Social Media         1  \n",
       "000013d6-68a4-40cf-9452-6577dbfab515 E-mail               1  \n",
       "00001bc6-1e04-4861-be5d-1bc73929c21a Social Media         1  \n",
       "00001ca1-f2df-4572-b0b8-e752e2064aae E-mail               1  \n",
       "00002b0e-d7f7-454e-8386-431c4021a9f6 Social Media         1  \n",
       "00002db7-16b6-4db2-bf8b-7a1cb6bd0e7f E-mail               1  \n",
       "00002f36-401d-4bc5-bac6-1a683f52ac2b Social Media         1  \n",
       "00003443-8504-4e24-8e86-e8e86d486826 E-mail               1  \n",
       "000035aa-dc4c-4703-aa6e-042ce96c6aef Social Media         1  \n",
       "00004a32-6d8e-d767-9e96-4bae83be8d4b E-mail               1  \n",
       "00004e6a-00f4-49e0-8ec8-f688a2e61250 Social Media         1  \n",
       "0000597b-de39-4a77-9fe5-02c8792ca14e Social Media         1  \n",
       "00005ac0-5c22-4756-bb12-31b90af75fa3 Social Media         1  \n",
       "0000645a-8160-4a3d-91bf-154bff0a22e3 Social Media         1  \n",
       "000066fc-499b-4ad9-8e42-214d64ce9be1 Social Media         1  \n",
       "0000763c-7baf-45fd-aad3-ca2076aea17d Social Media         1  \n",
       "00007819-3646-099d-f895-f36bb77191c9 Social Media         1  \n",
       "00007c91-c17d-4798-bbc7-107f86e8adcc Social Media         1  \n",
       "00008836-6d96-4580-8527-173d4e1b2889 Social Media         1  \n",
       "00008a21-4711-4dec-b8bc-ca7caeb9d41a Social Media         1  \n",
       "000090e1-da13-42b1-a31b-91a9ee5e6a88 E-mail               1  \n",
       "00009c81-a51c-49dc-97b6-2a4f180a3b51 Social Media         1  \n",
       "0000a4ee-e357-459f-975f-6f8b30f1bdb8 Referal              1  \n",
       "0000a8bd-7cb7-45ed-913a-e2aa0cd0f397 E-mail               1  \n",
       "0000b3cb-5422-4bf2-b8fe-5c1831d0dc1b E-mail               1  \n",
       "0000b977-340c-45e1-9588-2bb26fda52eb E-mail               1  \n",
       "0000d04d-3516-42ea-bdb9-584e92ce619e Referal              1  \n",
       "0000d083-4f1b-4f1f-a64b-c237b93ace8c E-mail               1  \n",
       "...                                                     ...  \n",
       "ffff2616-7e66-44fd-9991-5297d728d2a5 Web Search           1  \n",
       "ffff32c5-9d45-4db0-98b5-8ef9e417f833 Social Media         1  \n",
       "ffff3395-7667-4c44-b57d-8226abadb95b Referal              1  \n",
       "ffff3540-3210-4069-8ed7-37d5fcea5b44 Social Media         1  \n",
       "ffff43f5-765c-406f-8dd1-5486d3ae62e2 Social Media         1  \n",
       "ffff4402-79bc-43b5-8e94-9b015f3aed0f Social Media         1  \n",
       "ffff47ea-b4ec-4943-8e8a-34592992cb5e E-mail               1  \n",
       "ffff5954-5b7f-4dd8-9fa1-078ae32e684f Social Media         1  \n",
       "ffff5bf8-9971-4ee3-9255-f7c8eb238315 Referal              1  \n",
       "ffff6adf-7416-4ab7-a7bf-29d829c17a8d Referal              1  \n",
       "ffff78e3-1e8f-4eda-bb42-95749ab4f42e Referal              1  \n",
       "ffff7b96-9751-4eaa-806e-fe979cc00dc8 E-mail               1  \n",
       "ffff7d69-b706-4c64-9d6d-da57a04bc32b E-mail               1  \n",
       "ffff80e2-ad33-4704-9ffe-d6c612e9641f E-mail               1  \n",
       "ffff8182-d5fc-4ed3-b63a-5ee992746182 Social Media         1  \n",
       "ffff8529-58c1-4ec8-933e-77f535718061 E-mail               1  \n",
       "ffff8da3-b79a-48f2-888c-117f2d1a7793 E-mail               1  \n",
       "ffff9835-7a1d-4b60-8371-d529d2082e18 E-mail               1  \n",
       "ffffa1ef-6a9a-45cf-8150-6f781499e6e3 E-mail               1  \n",
       "ffffa82e-f8d4-4d09-9e99-a987472533ef Referal              1  \n",
       "ffffad11-3292-4843-a3dd-06ea95b8e355 Referal              1  \n",
       "ffffb778-b06d-4927-ace1-141505c15ec2 E-mail               1  \n",
       "ffffb87b-2c35-478e-8475-ad3a73d584ec Referal              1  \n",
       "ffffb896-e09d-4127-8984-95d088401529 Social Media         1  \n",
       "ffffc26a-25d5-4cf9-9fea-90fdd385c5dd E-mail               1  \n",
       "ffffca9d-a07f-4432-87b9-50b9564dc9a0 Referal              1  \n",
       "ffffdc50-3bbc-4c9e-af33-e6d33b76498a Referal              1  \n",
       "ffffeed4-b0dd-499c-ba8c-213a1ab9f50d Social Media         1  \n",
       "fffff319-41b2-4937-96bb-ac4aace7c300 Social Media         1  \n",
       "fffffc08-81e3-4050-9cd6-a5301f79f6f1 Referal              1  \n",
       "\n",
       "[3066720 rows x 3 columns]"
      ]
     },
     "execution_count": 116,
     "metadata": {},
     "output_type": "execute_result"
    }
   ],
   "source": [
    "session_df.groupby(['user_session','campaign']).count()"
   ]
  },
  {
   "cell_type": "code",
   "execution_count": 13,
   "metadata": {},
   "outputs": [],
   "source": [
    "df = pd.read_csv('C:/Users/harini/Desktop/NEUCourses/ADM/Project/e_commerce_synthetic_data.csv')"
   ]
  },
  {
   "cell_type": "code",
   "execution_count": 14,
   "metadata": {},
   "outputs": [],
   "source": [
    "rating_df = df[['user_id','product_id']]"
   ]
  },
  {
   "cell_type": "code",
   "execution_count": 15,
   "metadata": {},
   "outputs": [],
   "source": [
    "rating_df = rating_df.drop_duplicates().reset_index(drop = True)"
   ]
  },
  {
   "cell_type": "code",
   "execution_count": 16,
   "metadata": {},
   "outputs": [],
   "source": [
    "rating_df['ratings'] = [fake.random_int(1,5) for i in range(len(rating_df))]"
   ]
  },
  {
   "cell_type": "code",
   "execution_count": 17,
   "metadata": {},
   "outputs": [
    {
     "data": {
      "text/plain": [
       "<matplotlib.axes._subplots.AxesSubplot at 0x2167779d4a8>"
      ]
     },
     "execution_count": 17,
     "metadata": {},
     "output_type": "execute_result"
    },
    {
     "data": {
      "image/png": "[encoded data removed]",
      "text/plain": [
       "<Figure size 432x288 with 1 Axes>"
      ]
     },
     "metadata": {},
     "output_type": "display_data"
    }
   ],
   "source": [
    "rating_df.ratings.value_counts().plot(kind='bar')"
   ]
  },
  {
   "cell_type": "code",
   "execution_count": 19,
   "metadata": {},
   "outputs": [],
   "source": [
    "df = df.drop('ratings', axis = 1)"
   ]
  },
  {
   "cell_type": "code",
   "execution_count": 20,
   "metadata": {},
   "outputs": [],
   "source": [
    "df = pd.merge(rating_df,df, on= ['user_id', 'product_id'])"
   ]
  },
  {
   "cell_type": "code",
   "execution_count": 148,
   "metadata": {},
   "outputs": [],
   "source": [
    "df_final = pd.merge(user_df,df, on='user_id')\n",
    "df_final = pd.merge(session_df,df_final, on='user_session')\n",
    "df_final = pd.merge(rating_df,df_final, on= ['user_id', 'product_id'])"
   ]
  },
  {
   "cell_type": "code",
   "execution_count": 149,
   "metadata": {
    "scrolled": false
   },
   "outputs": [],
   "source": [
    "df_final['selling_price'] = df_final['price'] - (df_final['discount']/100*df_final['price'])"
   ]
  },
  {
   "cell_type": "code",
   "execution_count": 150,
   "metadata": {},
   "outputs": [
    {
     "data": {
      "text/html": [
       "<div>\n",
       "<style scoped>\n",
       "    .dataframe tbody tr th:only-of-type {\n",
       "        vertical-align: middle;\n",
       "    }\n",
       "\n",
       "    .dataframe tbody tr th {\n",
       "        vertical-align: top;\n",
       "    }\n",
       "\n",
       "    .dataframe thead th {\n",
       "        text-align: right;\n",
       "    }\n",
       "</style>\n",
       "<table border=\"1\" class=\"dataframe\">\n",
       "  <thead>\n",
       "    <tr style=\"text-align: right;\">\n",
       "      <th></th>\n",
       "      <th>user_id</th>\n",
       "      <th>product_id</th>\n",
       "      <th>ratings</th>\n",
       "      <th>user_session</th>\n",
       "      <th>campaign</th>\n",
       "      <th>promotion</th>\n",
       "      <th>channel</th>\n",
       "      <th>discount</th>\n",
       "      <th>Street Address</th>\n",
       "      <th>City</th>\n",
       "      <th>State</th>\n",
       "      <th>ZipCode</th>\n",
       "      <th>event_time</th>\n",
       "      <th>event_type</th>\n",
       "      <th>category_id</th>\n",
       "      <th>category_code</th>\n",
       "      <th>brand</th>\n",
       "      <th>price</th>\n",
       "      <th>selling_price</th>\n",
       "    </tr>\n",
       "  </thead>\n",
       "  <tbody>\n",
       "    <tr>\n",
       "      <th>0</th>\n",
       "      <td>576802932</td>\n",
       "      <td>5712790</td>\n",
       "      <td>1</td>\n",
       "      <td>51d85cb0-897f-48d2-918b-ad63965c12dc</td>\n",
       "      <td>Social Media</td>\n",
       "      <td>Discount</td>\n",
       "      <td>Desktop</td>\n",
       "      <td>15</td>\n",
       "      <td>604 Tucker Valley Suite 759</td>\n",
       "      <td>Sharonhaven</td>\n",
       "      <td>Ohio</td>\n",
       "      <td>67847</td>\n",
       "      <td>2019-12-01 00:00:00 UTC</td>\n",
       "      <td>remove_from_cart</td>\n",
       "      <td>1487580005268456287</td>\n",
       "      <td>NaN</td>\n",
       "      <td>f.o.x</td>\n",
       "      <td>6.27</td>\n",
       "      <td>5.3295</td>\n",
       "    </tr>\n",
       "    <tr>\n",
       "      <th>1</th>\n",
       "      <td>576802932</td>\n",
       "      <td>5712790</td>\n",
       "      <td>1</td>\n",
       "      <td>792333bf-15c7-473e-a0e9-04f4e1a1bc34</td>\n",
       "      <td>Social Media</td>\n",
       "      <td>Discount</td>\n",
       "      <td>Phone</td>\n",
       "      <td>20</td>\n",
       "      <td>604 Tucker Valley Suite 759</td>\n",
       "      <td>Sharonhaven</td>\n",
       "      <td>Ohio</td>\n",
       "      <td>67847</td>\n",
       "      <td>2019-11-30 21:15:29 UTC</td>\n",
       "      <td>cart</td>\n",
       "      <td>1487580005268456287</td>\n",
       "      <td>NaN</td>\n",
       "      <td>f.o.x</td>\n",
       "      <td>6.08</td>\n",
       "      <td>4.8640</td>\n",
       "    </tr>\n",
       "    <tr>\n",
       "      <th>2</th>\n",
       "      <td>576802932</td>\n",
       "      <td>5712790</td>\n",
       "      <td>1</td>\n",
       "      <td>7cef0bfa-ac71-4926-8ed8-098353cc991c</td>\n",
       "      <td>Social Media</td>\n",
       "      <td>No Promotion</td>\n",
       "      <td>Phone</td>\n",
       "      <td>0</td>\n",
       "      <td>604 Tucker Valley Suite 759</td>\n",
       "      <td>Sharonhaven</td>\n",
       "      <td>Ohio</td>\n",
       "      <td>67847</td>\n",
       "      <td>2019-11-30 23:58:42 UTC</td>\n",
       "      <td>view</td>\n",
       "      <td>1487580005268456287</td>\n",
       "      <td>NaN</td>\n",
       "      <td>f.o.x</td>\n",
       "      <td>6.27</td>\n",
       "      <td>6.2700</td>\n",
       "    </tr>\n",
       "    <tr>\n",
       "      <th>3</th>\n",
       "      <td>576802932</td>\n",
       "      <td>5712790</td>\n",
       "      <td>1</td>\n",
       "      <td>b9405308-54cd-4ac9-b13e-94878d36fe1b</td>\n",
       "      <td>Social Media</td>\n",
       "      <td>No Promotion</td>\n",
       "      <td>Phone</td>\n",
       "      <td>0</td>\n",
       "      <td>604 Tucker Valley Suite 759</td>\n",
       "      <td>Sharonhaven</td>\n",
       "      <td>Ohio</td>\n",
       "      <td>67847</td>\n",
       "      <td>2019-11-30 23:59:03 UTC</td>\n",
       "      <td>view</td>\n",
       "      <td>1487580005268456287</td>\n",
       "      <td>NaN</td>\n",
       "      <td>f.o.x</td>\n",
       "      <td>6.27</td>\n",
       "      <td>6.2700</td>\n",
       "    </tr>\n",
       "    <tr>\n",
       "      <th>4</th>\n",
       "      <td>412120092</td>\n",
       "      <td>5764655</td>\n",
       "      <td>3</td>\n",
       "      <td>8adff31e-2051-4894-9758-224bfa8aec18</td>\n",
       "      <td>Social Media</td>\n",
       "      <td>Discount</td>\n",
       "      <td>Phone</td>\n",
       "      <td>10</td>\n",
       "      <td>24219 Archer Mountain Suite 924</td>\n",
       "      <td>South Ryan</td>\n",
       "      <td>New Hampshire</td>\n",
       "      <td>82353</td>\n",
       "      <td>2019-12-01 00:00:00 UTC</td>\n",
       "      <td>view</td>\n",
       "      <td>1487580005411062629</td>\n",
       "      <td>NaN</td>\n",
       "      <td>cnd</td>\n",
       "      <td>29.05</td>\n",
       "      <td>26.1450</td>\n",
       "    </tr>\n",
       "  </tbody>\n",
       "</table>\n",
       "</div>"
      ],
      "text/plain": [
       "     user_id  product_id  ratings                          user_session  \\\n",
       "0  576802932     5712790        1  51d85cb0-897f-48d2-918b-ad63965c12dc   \n",
       "1  576802932     5712790        1  792333bf-15c7-473e-a0e9-04f4e1a1bc34   \n",
       "2  576802932     5712790        1  7cef0bfa-ac71-4926-8ed8-098353cc991c   \n",
       "3  576802932     5712790        1  b9405308-54cd-4ac9-b13e-94878d36fe1b   \n",
       "4  412120092     5764655        3  8adff31e-2051-4894-9758-224bfa8aec18   \n",
       "\n",
       "       campaign     promotion  channel  discount  \\\n",
       "0  Social Media      Discount  Desktop        15   \n",
       "1  Social Media      Discount    Phone        20   \n",
       "2  Social Media  No Promotion    Phone         0   \n",
       "3  Social Media  No Promotion    Phone         0   \n",
       "4  Social Media      Discount    Phone        10   \n",
       "\n",
       "                    Street Address         City          State ZipCode  \\\n",
       "0      604 Tucker Valley Suite 759  Sharonhaven           Ohio   67847   \n",
       "1      604 Tucker Valley Suite 759  Sharonhaven           Ohio   67847   \n",
       "2      604 Tucker Valley Suite 759  Sharonhaven           Ohio   67847   \n",
       "3      604 Tucker Valley Suite 759  Sharonhaven           Ohio   67847   \n",
       "4  24219 Archer Mountain Suite 924   South Ryan  New Hampshire   82353   \n",
       "\n",
       "                event_time        event_type          category_id  \\\n",
       "0  2019-12-01 00:00:00 UTC  remove_from_cart  1487580005268456287   \n",
       "1  2019-11-30 21:15:29 UTC              cart  1487580005268456287   \n",
       "2  2019-11-30 23:58:42 UTC              view  1487580005268456287   \n",
       "3  2019-11-30 23:59:03 UTC              view  1487580005268456287   \n",
       "4  2019-12-01 00:00:00 UTC              view  1487580005411062629   \n",
       "\n",
       "  category_code  brand  price  selling_price  \n",
       "0           NaN  f.o.x   6.27         5.3295  \n",
       "1           NaN  f.o.x   6.08         4.8640  \n",
       "2           NaN  f.o.x   6.27         6.2700  \n",
       "3           NaN  f.o.x   6.27         6.2700  \n",
       "4           NaN    cnd  29.05        26.1450  "
      ]
     },
     "execution_count": 150,
     "metadata": {},
     "output_type": "execute_result"
    }
   ],
   "source": [
    "df_final.head()"
   ]
  },
  {
   "cell_type": "code",
   "execution_count": 151,
   "metadata": {},
   "outputs": [
    {
     "data": {
      "text/plain": [
       "user_id                  0\n",
       "product_id               0\n",
       "ratings                  0\n",
       "user_session             0\n",
       "campaign                 0\n",
       "promotion                0\n",
       "channel                  0\n",
       "discount                 0\n",
       "Street Address           0\n",
       "City                     0\n",
       "State                    0\n",
       "ZipCode                  0\n",
       "event_time               0\n",
       "event_type               0\n",
       "category_id              0\n",
       "category_code     11666045\n",
       "brand                    0\n",
       "price                    0\n",
       "selling_price            0\n",
       "dtype: int64"
      ]
     },
     "execution_count": 151,
     "metadata": {},
     "output_type": "execute_result"
    }
   ],
   "source": [
    "df_final.isnull().sum()"
   ]
  },
  {
   "cell_type": "code",
   "execution_count": 21,
   "metadata": {},
   "outputs": [],
   "source": [
    "df.to_csv('C:/Users/harini/Desktop/NEUCourses/ADM/Project/e_commerce_synthetic_data.csv', index = False)"
   ]
  }
 ],
 "metadata": {
  "kernelspec": {
   "display_name": "Python 3",
   "language": "python",
   "name": "python3"
  },
  "language_info": {
   "codemirror_mode": {
    "name": "ipython",
    "version": 3
   },
   "file_extension": ".py",
   "mimetype": "text/x-python",
   "name": "python",
   "nbconvert_exporter": "python",
   "pygments_lexer": "ipython3",
   "version": "3.6.5"
  }
 },
 "nbformat": 4,
 "nbformat_minor": 2
}
