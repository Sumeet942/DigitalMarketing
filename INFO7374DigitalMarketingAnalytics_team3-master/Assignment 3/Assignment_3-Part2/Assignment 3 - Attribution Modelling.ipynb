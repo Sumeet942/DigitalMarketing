{
 "cells": [
  {
   "cell_type": "markdown",
   "metadata": {},
   "source": [
    "# Attribution Modelling "
   ]
  },
  {
   "cell_type": "markdown",
   "metadata": {},
   "source": [
    "<h3> Dataset Description </h3>\n",
    "\n",
    "This dataset represents a sample of 30 days of Criteo live traffic data. Each line corresponds to one impression (a banner) that was displayed to a user. For each banner we have detailed information about the context, if it was clicked, if it led to a conversion and if it led to a conversion that was attributed to Criteo or not. Data has been sub-sampled and anonymized so as not to disclose proprietary elements.\n",
    "\n",
    "Here is a detailed description of the fields (they are tab-separated in the file):\n",
    "\n",
    "timestamp: timestamp of the impression (starting from 0 for the first impression). The dataset is sorted according to timestamp.\n",
    "\n",
    "uid: a unique user identifier\n",
    "\n",
    "campaign: a unique identifier for the campaign\n",
    "\n",
    "conversion: 1 if there was a conversion in the 30 days after the impression (independently of whether this impression was last click or not)\n",
    "\n",
    "conversion_timestamp: the timestamp of the conversion or -1 if no conversion was observed\n",
    "\n",
    "conversion_id: a unique identifier for each conversion (so that timelines can be reconstructed if needed). -1 if there was no conversion\n",
    "\n",
    "attribution: 1 if the conversion was attributed to Criteo, 0 otherwise\n",
    "\n",
    "click: 1 if the impression was clicked, 0 otherwise\n",
    "\n",
    "click_pos: the position of the click before a conversion (0 for first-click)\n",
    "\n",
    "click_nb: number of clicks. More than 1 if there was several clicks before a conversion\n",
    "\n",
    "cost: the price paid by Criteo for this display (disclaimer: not the real price, only a transformed version of it)\n",
    "\n",
    "cpo: the cost-per-order in case of attributed conversion (disclaimer: not the real price, only a transformed version of it)\n",
    "\n",
    "time_since_last_click: the time since the last click (in s) for the given impression\n",
    "\n",
    "cat(1-9): contextual features associated to the display. Can be used to learn the click/conversion models. We do not disclose the meaning of these features but it is not relevant for this study. Each column is a categorical variable. In the experiments, they are mapped to a fixed dimensionality space using the Hashing Trick (see paper for reference)."
   ]
  },
  {
   "cell_type": "markdown",
   "metadata": {},
   "source": [
    "<h3> Importing dependencies </h3>"
   ]
  },
  {
   "cell_type": "code",
   "execution_count": 1,
   "metadata": {},
   "outputs": [],
   "source": [
    "import pandas as pd\n",
    "import matplotlib.pyplot as plt \n",
    "import numpy as np\n",
    "\n",
    "from sklearn.utils import resample\n",
    "from sklearn.preprocessing import MinMaxScaler\n",
    "from sklearn.model_selection import train_test_split\n",
    "\n",
    "\n",
    "plt.style.use('ggplot')"
   ]
  },
  {
   "cell_type": "markdown",
   "metadata": {},
   "source": [
    "<h3> Data pre-processing and preparation </h3>"
   ]
  },
  {
   "cell_type": "code",
   "execution_count": 2,
   "metadata": {},
   "outputs": [
    {
     "name": "stdout",
     "output_type": "stream",
     "text": [
      "643712\n",
      "[324339, 319373]\n"
     ]
    }
   ],
   "source": [
    "# Initial data preparation\n",
    "\n",
    "def add_derived_columns(df):\n",
    "    df_ext = df.copy()\n",
    "    df_ext['jid'] = df_ext['uid'].map(str) + '_' + df_ext['conversion_id'].map(str)\n",
    "    \n",
    "    min_max_scaler = MinMaxScaler()\n",
    "    for cname in ('timestamp', 'time_since_last_click'):\n",
    "        x = df_ext[cname].values.reshape(-1, 1) \n",
    "        df_ext[cname + '_norm'] = min_max_scaler.fit_transform(x)\n",
    "    \n",
    "    return df_ext\n",
    "\n",
    "def filter_journeys_by_length(df, min_touchpoints):\n",
    "    if min_touchpoints <= 1:\n",
    "        return df\n",
    "    else:\n",
    "        grouped = df.groupby(['jid'])['uid'].count().reset_index(name=\"count\")\n",
    "        return df[df['jid'].isin( grouped[grouped['count'] >= min_touchpoints]['jid'].values )]\n",
    "\n",
    "def sample_campaigns(df, n_campaigns):    \n",
    "    campaigns = np.random.choice( df['campaign'].unique(), n_campaigns, replace = False )\n",
    "    return df[ df['campaign'].isin(campaigns) ]\n",
    "\n",
    "def balance_conversions(df):\n",
    "    df_minority = df[df.conversion == 1]\n",
    "    df_majority = df[df.conversion == 0]\n",
    "    \n",
    "    df_majority_jids = np.array_split(df_majority['jid'].unique(), 100 * df_majority.shape[0]/df_minority.shape[0] )\n",
    "    \n",
    "    df_majority_sampled = pd.DataFrame(data=None, columns=df.columns)\n",
    "    for jid_chunk in df_majority_jids:\n",
    "        df_majority_sampled = pd.concat([df_majority_sampled, df_majority[df_majority.jid.isin(jid_chunk)]])\n",
    "        if df_majority_sampled.shape[0] > df_minority.shape[0]:\n",
    "            break\n",
    "    \n",
    "    return pd.concat([df_majority_sampled, df_minority]).sample(frac=1).reset_index(drop=True)\n",
    "\n",
    "def map_one_hot(df, column_names, result_column_name):\n",
    "    mapper = {} \n",
    "    for i, col_name in enumerate(column_names):\n",
    "        for val in df[col_name].unique():\n",
    "            mapper[str(val) + str(i)] = len(mapper)\n",
    "         \n",
    "    df_ext = df.copy()\n",
    "    \n",
    "    def one_hot(values):\n",
    "        v = np.zeros( len(mapper) )\n",
    "        for i, val in enumerate(values): \n",
    "            v[ mapper[str(val) + str(i)] ] = 1\n",
    "        return v    \n",
    "    \n",
    "    df_ext[result_column_name] = df_ext[column_names].values.tolist()\n",
    "    df_ext[result_column_name] = df_ext[result_column_name].map(one_hot)\n",
    "    \n",
    "    return df_ext\n",
    "    \n",
    "data_file = 'criteo_attribution_dataset.tsv.gz'\n",
    "df0 = pd.read_csv(data_file, sep='\\t', compression='gzip')\n",
    "\n",
    "n_campaigns = 400\n",
    "\n",
    "df1 = add_derived_columns(df0)\n",
    "df2 = sample_campaigns(df1, n_campaigns)\n",
    "df3 = filter_journeys_by_length(df2, 2)\n",
    "df4 = balance_conversions(df3)\n",
    "df5 = map_one_hot(df4, ['cat1', 'cat2', 'cat3', 'cat4', 'cat5', 'cat6', 'cat8'], 'cats')\n",
    "df6 = map_one_hot(df5, ['campaign'], 'campaigns').sort_values(by=['timestamp_norm'])\n",
    "\n",
    "print(df6.shape[0])\n",
    "print([df6[df6.conversion == 0].shape[0], df6[df6.conversion == 1].shape[0]])"
   ]
  },
  {
   "cell_type": "markdown",
   "metadata": {},
   "source": [
    "<h3> Last Touch Atrribution </h3>"
   ]
  },
  {
   "cell_type": "code",
   "execution_count": 3,
   "metadata": {},
   "outputs": [
    {
     "name": "stdout",
     "output_type": "stream",
     "text": [
      "[0.09875609 0.15702341 0.1733945  0.03495261 0.10203651 0.07416709\n",
      " 0.19849179 0.05288754 0.02855443 0.13968579 0.07606347 0.13669881\n",
      " 0.25284683 0.09560724 0.23159278 0.05702648 0.17608837 0.05748007\n",
      " 0.10356286 0.17735226 0.10948905 0.16745773 0.16097279 0.30580357\n",
      " 0.00996933 0.25064599 0.25384615 0.13956848 0.20971914 0.19779438\n",
      " 0.13549832 0.08247191 0.13842924 0.14575375 0.05531295 0.08436725\n",
      " 0.07823961 0.09787234 0.09424965 0.1445702  0.12901786 0.14037985\n",
      " 0.09183673 0.16977174 0.11585682 0.06127389 0.16903313 0.20991254\n",
      " 0.17272727 0.09869119 0.17893871 0.07539683 0.08888181 0.11413748\n",
      " 0.20069204 0.09611452 0.04633205 0.08888889 0.17355591 0.11521548\n",
      " 0.09054086 0.05593923 0.15128826 0.23463687 0.09942775 0.05762082\n",
      " 0.01680672 0.07860262 0.05718824 0.11661862 0.13892365 0.1289161\n",
      " 0.342723   0.11661808 0.07936508 0.13780025 0.15570809 0.28571429\n",
      " 0.09662577 0.12815534 0.27553617 0.09650181 0.2115869  0.07917597\n",
      " 0.07037037 0.20408163 0.34731935 0.06036942 0.10357918 0.17798817\n",
      " 0.03053435 0.12091503 0.06060606 0.18613139 0.20786517 0.14739318\n",
      " 0.19475655 0.0371567  0.0247093  0.11462545 0.039783   0.07587769\n",
      " 0.09210526 0.0942029  0.0804829  0.12       0.16766867 0.09129383\n",
      " 0.33752418 0.24267468 0.12993321 0.18108108 0.06802721 0.06144781\n",
      " 0.08857939 0.11688312 0.0753012  0.01677852 0.11724138 0.12629534\n",
      " 0.12367491 0.10212766 0.09462544 0.12048193 0.11097744 0.23920863\n",
      " 0.16139657 0.30060423 0.15873016 0.06020067 0.1459854  0.18469861\n",
      " 0.14181818 0.1804878  0.10067707 0.13793103 0.0610687  0.02321083\n",
      " 0.11186903 0.10649819 0.27559055 0.14596671 0.04722793 0.19515571\n",
      " 0.13169643 0.14215686 0.09504132 0.06521739 0.03686983 0.03404792\n",
      " 0.11496881 0.05381166 0.03083004 0.0236149  0.08294601 0.0615016\n",
      " 0.10821806 0.05562743 0.11748634 0.03181818 0.14195184 0.1727542\n",
      " 0.0990099  0.180798   0.0785124  0.17440225 0.02262443 0.17287234\n",
      " 0.03039514 0.03296703 0.13475177 0.09414758 0.18495298 0.26598174\n",
      " 0.19908815 0.07118056 0.12       0.06138614 0.13190184 0.13166144\n",
      " 0.01654412 0.19170984 0.13944223 0.13245413 0.14725698 0.24537037\n",
      " 0.06629834 0.0920398  0.06775807 0.15883669 0.28435115 0.04745763\n",
      " 0.0459364  0.16176471 0.10650888 0.11505682 0.1399177  0.13167939\n",
      " 0.07261411 0.13440406 0.31215162 0.1094663  0.08686441 0.0785124\n",
      " 0.07068063 0.04672058 0.14514609 0.109319   0.05032823 0.18695652\n",
      " 0.19154676 0.09943715 0.12207152 0.13580247 0.0601244  0.10628019\n",
      " 0.13818182 0.09333333 0.11914894 0.10526316 0.08685969 0.22245322\n",
      " 0.09090909 0.05545617 0.15315315 0.07103825 0.12572534 0.19366197\n",
      " 0.08780488 0.03448276 0.11717172 0.07394366 0.06398537 0.03370787\n",
      " 0.12418301 0.13178295 0.0719697  0.17333333 0.09471366 0.02964255\n",
      " 0.21634615 0.05802048 0.12711864 0.08877722 0.07692308 0.07671958\n",
      " 0.17431193 0.12942989 0.08543689 0.08554572 0.07101281 0.15714286\n",
      " 0.22540984 0.07302231 0.08092486 0.1447619  0.15322581 0.13290113\n",
      " 0.12863071 0.22535211 0.09384164 0.12686567 0.08614232 0.06018519\n",
      " 0.10933333 0.1280389  0.21       0.12560386 0.17154812 0.15625\n",
      " 0.07174888 0.0899654  0.13013699 0.16393443 0.04195804 0.06690141\n",
      " 0.17045455 0.28103044 0.0495283  0.10287081 0.19457014 0.05152672\n",
      " 0.03571429 0.13176895 0.16216216 0.15517241 0.09230769 0.05232558\n",
      " 0.070626   0.10820896 0.07368421 0.30617978 0.12267658 0.09896907\n",
      " 0.15547703 0.18636364 0.17318436 0.19047619 0.15730337 0.14438503\n",
      " 0.06280193 0.0862069  0.24242424 0.03013699 0.10132159 0.2173913\n",
      " 0.14226804 0.25396825 0.03952569 0.07142857 0.11666667 0.06521739\n",
      " 0.10810811 0.16666667 0.06870229 0.09545455 0.16342412 0.26153846\n",
      " 0.17054264 0.11272727 0.1025641  0.18811881 0.28387097 0.03133159\n",
      " 0.18009479 0.13227513 0.12105263 0.09459459 0.12751678 0.16806723\n",
      " 0.01626016 0.14569536 0.192      0.17159763 0.04705882 0.31865285\n",
      " 0.17275748 0.12420382 0.09090909 0.1884058  0.05294118 0.1462141\n",
      " 0.13114754 0.10179641 0.14220183 0.10077519 0.11415525 0.19178082\n",
      " 0.14893617 0.02862254 0.0859375  0.09803922 0.08888889 0.19083969\n",
      " 0.24590164 0.08823529 0.04739336 0.20670391 0.28070175 0.10909091\n",
      " 0.15853659 0.05555556 0.11764706 0.2283105  0.09615385 0.17959184\n",
      " 0.13793103 0.16666667 0.10322581 0.20338983 0.10294118 0.3125\n",
      " 0.28971963 0.21782178 0.04411765 0.10958904 0.03157895 0.19631902\n",
      " 0.0739726  0.07874016 0.35849057 0.17460317 0.2        0.\n",
      " 0.32352941 0.14102564 0.16216216 0.14864865 0.14457831 0.08474576\n",
      " 0.26       0.         0.         0.27777778 0.11627907 0.06666667\n",
      " 0.02777778 0.05405405 0.375      0.33333333]\n"
     ]
    }
   ],
   "source": [
    "def last_touch_attribution(df):\n",
    "    \n",
    "    def count_by_campaign(df):\n",
    "        counters = np.zeros(n_campaigns)\n",
    "        for campaign_one_hot in df['campaigns'].values:\n",
    "            campaign_id = np.argmax(campaign_one_hot)\n",
    "            counters[campaign_id] = counters[campaign_id] + 1\n",
    "        return counters\n",
    "        \n",
    "    campaign_impressions = count_by_campaign(df)\n",
    "    \n",
    "    df_converted = df[df['conversion'] == 1]\n",
    "    idx = df_converted.groupby(['jid'])['timestamp_norm'].transform(max) == df_converted['timestamp_norm']\n",
    "    campaign_conversions = count_by_campaign(df_converted[idx])\n",
    "        \n",
    "    return campaign_conversions / campaign_impressions\n",
    "    \n",
    "lta = last_touch_attribution(df6)\n",
    "print(lta)"
   ]
  },
  {
   "cell_type": "code",
   "execution_count": 4,
   "metadata": {},
   "outputs": [
    {
     "data": {
      "image/png": "[encoded data removed]",
      "text/plain": [
       "<Figure size 1080x288 with 1 Axes>"
      ]
     },
     "metadata": {
      "needs_background": "light"
     },
     "output_type": "display_data"
    }
   ],
   "source": [
    "# Visualization of the attribution scores\n",
    "\n",
    "campaign_idx = range(150, 200)\n",
    "\n",
    "fig = plt.figure(figsize=(15,4))\n",
    "ax = fig.add_subplot(111)\n",
    "plt.bar( range(len(lta[campaign_idx])), lta[campaign_idx], label='LTA' )\n",
    "plt.xlabel('Campaign ID')\n",
    "plt.ylabel('Return per impression')\n",
    "plt.legend(loc='upper left')\n",
    "plt.show()"
   ]
  },
  {
   "cell_type": "markdown",
   "metadata": {},
   "source": [
    "<h3> First Touch Attribution </h3>"
   ]
  },
  {
   "cell_type": "code",
   "execution_count": 24,
   "metadata": {},
   "outputs": [
    {
     "name": "stdout",
     "output_type": "stream",
     "text": [
      "400\n"
     ]
    }
   ],
   "source": [
    "def first_touch_attribution(df):\n",
    "    campaign_count = len(df['campaign'].unique())\n",
    "    print(campaign_count)\n",
    "    \n",
    "    def count_by_campaign(df):\n",
    "        counters = np.zeros(n_campaigns)\n",
    "        for campaign_one_hot in df['campaigns'].values:\n",
    "            campaign_id = np.argmax(campaign_one_hot)\n",
    "            counters[campaign_id] = counters[campaign_id] + 1\n",
    "        return counters\n",
    "        \n",
    "    campaign_impressions = count_by_campaign(df)\n",
    "    \n",
    "    df_converted = df[df['conversion'] == 1]\n",
    "    idx = df_converted.groupby(['jid'])['timestamp_norm'].transform(min) == df_converted['timestamp_norm']\n",
    "    campaign_conversions = count_by_campaign(df_converted[idx])\n",
    "        \n",
    "    return campaign_conversions / campaign_impressions\n",
    "    \n",
    "fta = first_touch_attribution(df6)\n"
   ]
  },
  {
   "cell_type": "markdown",
   "metadata": {},
   "source": [
    "<h3> Visualisation of both LTA and FTA attribution scores </h3>"
   ]
  },
  {
   "cell_type": "code",
   "execution_count": 7,
   "metadata": {},
   "outputs": [
    {
     "data": {
      "image/png": "[encoded data removed]",
      "text/plain": [
       "<Figure size 1080x288 with 1 Axes>"
      ]
     },
     "metadata": {
      "needs_background": "light"
     },
     "output_type": "display_data"
    }
   ],
   "source": [
    "fig = plt.figure(figsize=(15, 4))\n",
    "ax = fig.add_subplot(111)\n",
    "campaign_idx = range(0, 300)\n",
    "#ratio = max(lta[idx]) / max(fta[idx])\n",
    "plt.plot(np.linspace(0, len(campaign_idx), len(campaign_idx)), lta[campaign_idx], label='LTA' )\n",
    "plt.plot(np.linspace(0, len(campaign_idx), len(campaign_idx)) - 0.3, fta[campaign_idx], label='FTA' )\n",
    "plt.xlabel('Campaign ID')\n",
    "plt.ylabel('Contribution')\n",
    "plt.legend(loc='upper left')\n",
    "plt.show()"
   ]
  },
  {
   "cell_type": "code",
   "execution_count": 8,
   "metadata": {},
   "outputs": [
    {
     "data": {
      "image/png": "[encoded data removed]",
      "text/plain": [
       "<Figure size 1080x288 with 1 Axes>"
      ]
     },
     "metadata": {
      "needs_background": "light"
     },
     "output_type": "display_data"
    }
   ],
   "source": [
    "# Visualization of the attribution scores\n",
    "\n",
    "campaign_idx = range(0, 200)\n",
    "\n",
    "fig = plt.figure(figsize=(15,4))\n",
    "ax = fig.add_subplot(111)\n",
    "plt.bar( range(len(fta[campaign_idx])), fta[campaign_idx], label='FTA' )\n",
    "plt.xlabel('Campaign ID')\n",
    "plt.ylabel('Return per impression')\n",
    "plt.legend(loc='upper left')\n",
    "plt.show()"
   ]
  },
  {
   "cell_type": "code",
   "execution_count": 9,
   "metadata": {},
   "outputs": [
    {
     "data": {
      "text/plain": [
       "array([0.09875609, 0.15702341, 0.1733945 , 0.03495261, 0.10203651,\n",
       "       0.07416709, 0.19849179, 0.05288754, 0.02855443, 0.13968579,\n",
       "       0.07606347, 0.13669881, 0.25284683, 0.09560724, 0.23159278,\n",
       "       0.05702648, 0.17608837, 0.05748007, 0.10356286, 0.17735226,\n",
       "       0.10948905, 0.16745773, 0.16097279, 0.30580357, 0.00996933,\n",
       "       0.25064599, 0.25384615, 0.13956848, 0.20971914, 0.19779438,\n",
       "       0.13549832, 0.08247191, 0.13842924, 0.14575375, 0.05531295,\n",
       "       0.08436725, 0.07823961, 0.09787234, 0.09424965, 0.1445702 ,\n",
       "       0.12901786, 0.14037985, 0.09183673, 0.16977174, 0.11585682,\n",
       "       0.06127389, 0.16903313, 0.20991254, 0.17272727, 0.09869119,\n",
       "       0.17893871, 0.07539683, 0.08888181, 0.11413748, 0.20069204,\n",
       "       0.09611452, 0.04633205, 0.08888889, 0.17355591, 0.11521548,\n",
       "       0.09054086, 0.05593923, 0.15128826, 0.23463687, 0.09942775,\n",
       "       0.05762082, 0.01680672, 0.07860262, 0.05718824, 0.11661862,\n",
       "       0.13892365, 0.1289161 , 0.342723  , 0.11661808, 0.07936508,\n",
       "       0.13780025, 0.15570809, 0.28571429, 0.09662577, 0.12815534,\n",
       "       0.27553617, 0.09650181, 0.2115869 , 0.07917597, 0.07037037,\n",
       "       0.20408163, 0.34731935, 0.06036942, 0.10357918, 0.17798817,\n",
       "       0.03053435, 0.12091503, 0.06060606, 0.18613139, 0.20786517,\n",
       "       0.14739318, 0.19475655, 0.0371567 , 0.0247093 , 0.11462545,\n",
       "       0.039783  , 0.07587769, 0.09210526, 0.0942029 , 0.0804829 ,\n",
       "       0.12      , 0.16766867, 0.09129383, 0.33752418, 0.24267468,\n",
       "       0.12993321, 0.18108108, 0.06802721, 0.06144781, 0.08857939,\n",
       "       0.11688312, 0.0753012 , 0.01677852, 0.11724138, 0.12629534,\n",
       "       0.12367491, 0.10212766, 0.09462544, 0.12048193, 0.11097744,\n",
       "       0.23920863, 0.16139657, 0.30060423, 0.15873016, 0.06020067,\n",
       "       0.1459854 , 0.18469861, 0.14181818, 0.1804878 , 0.10067707,\n",
       "       0.13793103, 0.0610687 , 0.02321083, 0.11186903, 0.10649819,\n",
       "       0.27559055, 0.14596671, 0.04722793, 0.19515571, 0.13169643,\n",
       "       0.14215686, 0.09504132, 0.06521739, 0.03686983, 0.03404792,\n",
       "       0.11496881, 0.05381166, 0.03083004, 0.0236149 , 0.08294601,\n",
       "       0.0615016 , 0.10821806, 0.05562743, 0.11748634, 0.03181818,\n",
       "       0.14195184, 0.1727542 , 0.0990099 , 0.180798  , 0.0785124 ,\n",
       "       0.17440225, 0.02262443, 0.17287234, 0.03039514, 0.03296703,\n",
       "       0.13475177, 0.09414758, 0.18495298, 0.26598174, 0.19908815,\n",
       "       0.07118056, 0.12      , 0.06138614, 0.13190184, 0.13166144,\n",
       "       0.01654412, 0.19170984, 0.13944223, 0.13245413, 0.14725698,\n",
       "       0.24537037, 0.06629834, 0.0920398 , 0.06775807, 0.15883669,\n",
       "       0.28435115, 0.04745763, 0.0459364 , 0.16176471, 0.10650888,\n",
       "       0.11505682, 0.1399177 , 0.13167939, 0.07261411, 0.13440406,\n",
       "       0.31215162, 0.1094663 , 0.08686441, 0.0785124 , 0.07068063,\n",
       "       0.04672058, 0.14514609, 0.109319  , 0.05032823, 0.18695652,\n",
       "       0.19154676, 0.09943715, 0.12207152, 0.13580247, 0.0601244 ,\n",
       "       0.10628019, 0.13818182, 0.09333333, 0.11914894, 0.10526316,\n",
       "       0.08685969, 0.22245322, 0.09090909, 0.05545617, 0.15315315,\n",
       "       0.07103825, 0.12572534, 0.19366197, 0.08780488, 0.03448276,\n",
       "       0.11717172, 0.07394366, 0.06398537, 0.03370787, 0.12418301,\n",
       "       0.13178295, 0.0719697 , 0.17333333, 0.09471366, 0.02964255,\n",
       "       0.21634615, 0.05802048, 0.12711864, 0.08877722, 0.07692308,\n",
       "       0.07671958, 0.17431193, 0.12942989, 0.08543689, 0.08554572,\n",
       "       0.07101281, 0.15714286, 0.22540984, 0.07302231, 0.08092486,\n",
       "       0.1447619 , 0.15322581, 0.13290113, 0.12863071, 0.22535211,\n",
       "       0.09384164, 0.12686567, 0.08614232, 0.06018519, 0.10933333,\n",
       "       0.1280389 , 0.21      , 0.12560386, 0.17154812, 0.15625   ,\n",
       "       0.07174888, 0.0899654 , 0.13013699, 0.16393443, 0.04195804,\n",
       "       0.06690141, 0.17045455, 0.28103044, 0.0495283 , 0.10287081,\n",
       "       0.19457014, 0.05152672, 0.03571429, 0.13176895, 0.16216216,\n",
       "       0.15517241, 0.09230769, 0.05232558, 0.070626  , 0.10820896,\n",
       "       0.07368421, 0.30617978, 0.12267658, 0.09896907, 0.15547703,\n",
       "       0.18636364, 0.17318436, 0.19047619, 0.15730337, 0.14438503,\n",
       "       0.06280193, 0.0862069 , 0.24242424, 0.03013699, 0.10132159,\n",
       "       0.2173913 , 0.14226804, 0.25396825, 0.03952569, 0.07142857,\n",
       "       0.11666667, 0.06521739, 0.10810811, 0.16666667, 0.06870229,\n",
       "       0.09545455, 0.16342412, 0.26153846, 0.17054264, 0.11272727,\n",
       "       0.1025641 , 0.18811881, 0.28387097, 0.03133159, 0.18009479,\n",
       "       0.13227513, 0.12105263, 0.09459459, 0.12751678, 0.16806723,\n",
       "       0.01626016, 0.14569536, 0.192     , 0.17159763, 0.04705882,\n",
       "       0.31865285, 0.17275748, 0.12420382, 0.09090909, 0.1884058 ,\n",
       "       0.05294118, 0.1462141 , 0.13114754, 0.10179641, 0.14220183,\n",
       "       0.10077519, 0.11415525, 0.19178082, 0.14893617, 0.02862254,\n",
       "       0.0859375 , 0.09803922, 0.08888889, 0.19083969, 0.24590164,\n",
       "       0.08823529, 0.04739336, 0.20670391, 0.28070175, 0.10909091,\n",
       "       0.15853659, 0.05555556, 0.11764706, 0.2283105 , 0.09615385,\n",
       "       0.17959184, 0.13793103, 0.16666667, 0.10322581, 0.20338983,\n",
       "       0.10294118, 0.3125    , 0.28971963, 0.21782178, 0.04411765,\n",
       "       0.10958904, 0.03157895, 0.19631902, 0.0739726 , 0.07874016,\n",
       "       0.35849057, 0.17460317, 0.2       , 0.        , 0.32352941,\n",
       "       0.14102564, 0.16216216, 0.14864865, 0.14457831, 0.08474576,\n",
       "       0.26      , 0.        , 0.        , 0.27777778, 0.11627907,\n",
       "       0.06666667, 0.02777778, 0.05405405, 0.375     , 0.33333333])"
      ]
     },
     "execution_count": 9,
     "metadata": {},
     "output_type": "execute_result"
    }
   ],
   "source": [
    "fta"
   ]
  },
  {
   "cell_type": "markdown",
   "metadata": {},
   "source": [
    "<b> Testing whether LTA and FTA are same </b>"
   ]
  },
  {
   "cell_type": "code",
   "execution_count": 25,
   "metadata": {},
   "outputs": [
    {
     "data": {
      "text/plain": [
       "True"
      ]
     },
     "execution_count": 25,
     "metadata": {},
     "output_type": "execute_result"
    }
   ],
   "source": [
    "np.array_equal(fta,lta)"
   ]
  },
  {
   "cell_type": "markdown",
   "metadata": {},
   "source": [
    "<h3> Linear Attribution </h3>"
   ]
  },
  {
   "cell_type": "code",
   "execution_count": 10,
   "metadata": {},
   "outputs": [
    {
     "name": "stdout",
     "output_type": "stream",
     "text": [
      "400\n"
     ]
    },
    {
     "name": "stderr",
     "output_type": "stream",
     "text": [
      "C:\\Users\\nancy\\Anaconda3\\lib\\site-packages\\ipykernel_launcher.py:15: SettingWithCopyWarning: \n",
      "A value is trying to be set on a copy of a slice from a DataFrame.\n",
      "Try using .loc[row_indexer,col_indexer] = value instead\n",
      "\n",
      "See the caveats in the documentation: http://pandas.pydata.org/pandas-docs/stable/user_guide/indexing.html#returning-a-view-versus-a-copy\n",
      "  from ipykernel import kernelapp as app\n",
      "C:\\Users\\nancy\\Anaconda3\\lib\\site-packages\\ipykernel_launcher.py:16: SettingWithCopyWarning: \n",
      "A value is trying to be set on a copy of a slice from a DataFrame.\n",
      "Try using .loc[row_indexer,col_indexer] = value instead\n",
      "\n",
      "See the caveats in the documentation: http://pandas.pydata.org/pandas-docs/stable/user_guide/indexing.html#returning-a-view-versus-a-copy\n",
      "  app.launch_new_instance()\n",
      "C:\\Users\\nancy\\Anaconda3\\lib\\site-packages\\ipykernel_launcher.py:17: SettingWithCopyWarning: \n",
      "A value is trying to be set on a copy of a slice from a DataFrame.\n",
      "Try using .loc[row_indexer,col_indexer] = value instead\n",
      "\n",
      "See the caveats in the documentation: http://pandas.pydata.org/pandas-docs/stable/user_guide/indexing.html#returning-a-view-versus-a-copy\n"
     ]
    }
   ],
   "source": [
    "def linear_attribution(df):\n",
    "    campaign_count = len(df['campaign'].unique())\n",
    "    print(campaign_count)\n",
    "    \n",
    "    def count_by_campaign(df):\n",
    "        counters = np.zeros(campaign_count)\n",
    "        for campaign_one_hot in df['campaigns'].values:\n",
    "            campaign_id = np.argmax(campaign_one_hot)\n",
    "            counters[campaign_id]  = counters[campaign_id] + campaign_one_hot[campaign_id]\n",
    "        return counters\n",
    "        \n",
    "    campaign_impressions = count_by_campaign(df)\n",
    "    \n",
    "    df_converted = df[df['conversion'] == 1]\n",
    "    df_converted['count'] = df_converted.groupby(['jid']).transform('count')['timestamp']\n",
    "    df_converted['linear'] = df_converted['count'].transform(lambda x: 1/x)\n",
    "    df_converted['campaigns'] = df_converted['campaigns'] * df_converted['linear']\n",
    "    campaign_conversions = count_by_campaign(df_converted)\n",
    "        \n",
    "    return campaign_conversions / campaign_impressions\n",
    "    \n",
    "la = linear_attribution(df6)"
   ]
  },
  {
   "cell_type": "code",
   "execution_count": 12,
   "metadata": {},
   "outputs": [
    {
     "data": {
      "image/png": "[encoded data removed]",
      "text/plain": [
       "<Figure size 1080x288 with 1 Axes>"
      ]
     },
     "metadata": {
      "needs_background": "light"
     },
     "output_type": "display_data"
    }
   ],
   "source": [
    "# Visualization of the attribution scores\n",
    "\n",
    "campaign_idx = range(150, 200)\n",
    "\n",
    "fig = plt.figure(figsize=(15,4))\n",
    "ax = fig.add_subplot(111)\n",
    "plt.bar( range(len(la[campaign_idx])), la[campaign_idx], label='LA' )\n",
    "plt.xlabel('Campaign ID')\n",
    "plt.ylabel('Return per impression')\n",
    "plt.legend(loc='upper left')\n",
    "plt.show()"
   ]
  },
  {
   "cell_type": "code",
   "execution_count": 13,
   "metadata": {},
   "outputs": [
    {
     "data": {
      "text/plain": [
       "array([0.09875609, 0.15702341, 0.1733945 , 0.03495261, 0.10203651,\n",
       "       0.07416709, 0.19849179, 0.05288754, 0.02855443, 0.13968579,\n",
       "       0.07606347, 0.13669881, 0.25284683, 0.09560724, 0.23159278,\n",
       "       0.05702648, 0.17608837, 0.05748007, 0.10356286, 0.17735226,\n",
       "       0.10948905, 0.16745773, 0.16097279, 0.30580357, 0.00996933,\n",
       "       0.25064599, 0.25384615, 0.13956848, 0.20971914, 0.19779438,\n",
       "       0.13549832, 0.08247191, 0.13842924, 0.14575375, 0.05531295,\n",
       "       0.08436725, 0.07823961, 0.09787234, 0.09424965, 0.1445702 ,\n",
       "       0.12901786, 0.14037985, 0.09183673, 0.16977174, 0.11585682,\n",
       "       0.06127389, 0.16903313, 0.20991254, 0.17272727, 0.09869119,\n",
       "       0.17893871, 0.07539683, 0.08888181, 0.11413748, 0.20069204,\n",
       "       0.09611452, 0.04633205, 0.08888889, 0.17355591, 0.11521548,\n",
       "       0.09054086, 0.05593923, 0.15128826, 0.23463687, 0.09942775,\n",
       "       0.05762082, 0.01680672, 0.07860262, 0.05718824, 0.11661862,\n",
       "       0.13892365, 0.1289161 , 0.342723  , 0.11661808, 0.07936508,\n",
       "       0.13780025, 0.15570809, 0.28571429, 0.09662577, 0.12815534,\n",
       "       0.27553617, 0.09650181, 0.2115869 , 0.07917597, 0.07037037,\n",
       "       0.20408163, 0.34731935, 0.06036942, 0.10357918, 0.17798817,\n",
       "       0.03053435, 0.12091503, 0.06060606, 0.18613139, 0.20786517,\n",
       "       0.14739318, 0.19475655, 0.0371567 , 0.0247093 , 0.11462545,\n",
       "       0.039783  , 0.07587769, 0.09210526, 0.0942029 , 0.0804829 ,\n",
       "       0.12      , 0.16766867, 0.09129383, 0.33752418, 0.24267468,\n",
       "       0.12993321, 0.18108108, 0.06802721, 0.06144781, 0.08857939,\n",
       "       0.11688312, 0.0753012 , 0.01677852, 0.11724138, 0.12629534,\n",
       "       0.12367491, 0.10212766, 0.09462544, 0.12048193, 0.11097744,\n",
       "       0.23920863, 0.16139657, 0.30060423, 0.15873016, 0.06020067,\n",
       "       0.1459854 , 0.18469861, 0.14181818, 0.1804878 , 0.10067707,\n",
       "       0.13793103, 0.0610687 , 0.02321083, 0.11186903, 0.10649819,\n",
       "       0.27559055, 0.14596671, 0.04722793, 0.19515571, 0.13169643,\n",
       "       0.14215686, 0.09504132, 0.06521739, 0.03686983, 0.03404792,\n",
       "       0.11496881, 0.05381166, 0.03083004, 0.0236149 , 0.08294601,\n",
       "       0.0615016 , 0.10821806, 0.05562743, 0.11748634, 0.03181818,\n",
       "       0.14195184, 0.1727542 , 0.0990099 , 0.180798  , 0.0785124 ,\n",
       "       0.17440225, 0.02262443, 0.17287234, 0.03039514, 0.03296703,\n",
       "       0.13475177, 0.09414758, 0.18495298, 0.26598174, 0.19908815,\n",
       "       0.07118056, 0.12      , 0.06138614, 0.13190184, 0.13166144,\n",
       "       0.01654412, 0.19170984, 0.13944223, 0.13245413, 0.14725698,\n",
       "       0.24537037, 0.06629834, 0.0920398 , 0.06775807, 0.15883669,\n",
       "       0.28435115, 0.04745763, 0.0459364 , 0.16176471, 0.10650888,\n",
       "       0.11505682, 0.1399177 , 0.13167939, 0.07261411, 0.13440406,\n",
       "       0.31215162, 0.1094663 , 0.08686441, 0.0785124 , 0.07068063,\n",
       "       0.04672058, 0.14514609, 0.109319  , 0.05032823, 0.18695652,\n",
       "       0.19154676, 0.09943715, 0.12207152, 0.13580247, 0.0601244 ,\n",
       "       0.10628019, 0.13818182, 0.09333333, 0.11914894, 0.10526316,\n",
       "       0.08685969, 0.22245322, 0.09090909, 0.05545617, 0.15315315,\n",
       "       0.07103825, 0.12572534, 0.19366197, 0.08780488, 0.03448276,\n",
       "       0.11717172, 0.07394366, 0.06398537, 0.03370787, 0.12418301,\n",
       "       0.13178295, 0.0719697 , 0.17333333, 0.09471366, 0.02964255,\n",
       "       0.21634615, 0.05802048, 0.12711864, 0.08877722, 0.07692308,\n",
       "       0.07671958, 0.17431193, 0.12942989, 0.08543689, 0.08554572,\n",
       "       0.07101281, 0.15714286, 0.22540984, 0.07302231, 0.08092486,\n",
       "       0.1447619 , 0.15322581, 0.13290113, 0.12863071, 0.22535211,\n",
       "       0.09384164, 0.12686567, 0.08614232, 0.06018519, 0.10933333,\n",
       "       0.1280389 , 0.21      , 0.12560386, 0.17154812, 0.15625   ,\n",
       "       0.07174888, 0.0899654 , 0.13013699, 0.16393443, 0.04195804,\n",
       "       0.06690141, 0.17045455, 0.28103044, 0.0495283 , 0.10287081,\n",
       "       0.19457014, 0.05152672, 0.03571429, 0.13176895, 0.16216216,\n",
       "       0.15517241, 0.09230769, 0.05232558, 0.070626  , 0.10820896,\n",
       "       0.07368421, 0.30617978, 0.12267658, 0.09896907, 0.15547703,\n",
       "       0.18636364, 0.17318436, 0.19047619, 0.15730337, 0.14438503,\n",
       "       0.06280193, 0.0862069 , 0.24242424, 0.03013699, 0.10132159,\n",
       "       0.2173913 , 0.14226804, 0.25396825, 0.03952569, 0.07142857,\n",
       "       0.11666667, 0.06521739, 0.10810811, 0.16666667, 0.06870229,\n",
       "       0.09545455, 0.16342412, 0.26153846, 0.17054264, 0.11272727,\n",
       "       0.1025641 , 0.18811881, 0.28387097, 0.03133159, 0.18009479,\n",
       "       0.13227513, 0.12105263, 0.09459459, 0.12751678, 0.16806723,\n",
       "       0.01626016, 0.14569536, 0.192     , 0.17159763, 0.04705882,\n",
       "       0.31865285, 0.17275748, 0.12420382, 0.09090909, 0.1884058 ,\n",
       "       0.05294118, 0.1462141 , 0.13114754, 0.10179641, 0.14220183,\n",
       "       0.10077519, 0.11415525, 0.19178082, 0.14893617, 0.02862254,\n",
       "       0.0859375 , 0.09803922, 0.08888889, 0.19083969, 0.24590164,\n",
       "       0.08823529, 0.04739336, 0.20670391, 0.28070175, 0.10909091,\n",
       "       0.15853659, 0.05555556, 0.11764706, 0.2283105 , 0.09615385,\n",
       "       0.17959184, 0.13793103, 0.16666667, 0.10322581, 0.20338983,\n",
       "       0.10294118, 0.3125    , 0.28971963, 0.21782178, 0.04411765,\n",
       "       0.10958904, 0.03157895, 0.19631902, 0.0739726 , 0.07874016,\n",
       "       0.35849057, 0.17460317, 0.2       , 0.        , 0.32352941,\n",
       "       0.14102564, 0.16216216, 0.14864865, 0.14457831, 0.08474576,\n",
       "       0.26      , 0.        , 0.        , 0.27777778, 0.11627907,\n",
       "       0.06666667, 0.02777778, 0.05405405, 0.375     , 0.33333333])"
      ]
     },
     "execution_count": 13,
     "metadata": {},
     "output_type": "execute_result"
    }
   ],
   "source": [
    "la"
   ]
  },
  {
   "cell_type": "markdown",
   "metadata": {},
   "source": [
    "<b> Testing whether LA and LTA are same </b>"
   ]
  },
  {
   "cell_type": "code",
   "execution_count": 28,
   "metadata": {},
   "outputs": [
    {
     "data": {
      "text/plain": [
       "False"
      ]
     },
     "execution_count": 28,
     "metadata": {},
     "output_type": "execute_result"
    }
   ],
   "source": [
    "np.array_equal(la,lta)"
   ]
  },
  {
   "cell_type": "markdown",
   "metadata": {},
   "source": [
    "<h3> U Shaped Attribution </h3>"
   ]
  },
  {
   "cell_type": "code",
   "execution_count": 29,
   "metadata": {},
   "outputs": [
    {
     "name": "stderr",
     "output_type": "stream",
     "text": [
      "C:\\Users\\nancy\\Anaconda3\\lib\\site-packages\\ipykernel_launcher.py:14: SettingWithCopyWarning: \n",
      "A value is trying to be set on a copy of a slice from a DataFrame.\n",
      "Try using .loc[row_indexer,col_indexer] = value instead\n",
      "\n",
      "See the caveats in the documentation: http://pandas.pydata.org/pandas-docs/stable/user_guide/indexing.html#returning-a-view-versus-a-copy\n",
      "  \n",
      "C:\\Users\\nancy\\Anaconda3\\lib\\site-packages\\ipykernel_launcher.py:24: SettingWithCopyWarning: \n",
      "A value is trying to be set on a copy of a slice from a DataFrame.\n",
      "Try using .loc[row_indexer,col_indexer] = value instead\n",
      "\n",
      "See the caveats in the documentation: http://pandas.pydata.org/pandas-docs/stable/user_guide/indexing.html#returning-a-view-versus-a-copy\n"
     ]
    }
   ],
   "source": [
    "def U_touch_attribution(df):\n",
    "    campaign_count = len(df['campaign'].unique())\n",
    "    \n",
    "    def count_by_campaign(df):\n",
    "        counters = np.zeros(campaign_count)\n",
    "        for campaign_one_hot in df['campaigns'].values:\n",
    "            campaign_id = np.argmax(campaign_one_hot)\n",
    "            counters[campaign_id]  = counters[campaign_id] + campaign_one_hot[campaign_id]\n",
    "        return counters\n",
    "        \n",
    "    campaign_impressions = count_by_campaign(df)\n",
    "    \n",
    "    df_converted = df[df['conversion'] == 1]\n",
    "    df_converted['count'] = df_converted.groupby(['jid']).transform('count')['timestamp']\n",
    "    #print(df_converted['count'])\n",
    "    df_converted.loc[df_converted['count']>2,'U_attribution'] = (0.2/(df_converted['count']-2))\n",
    "    idx_min = df_converted.groupby(['jid'])['timestamp_norm'].transform(min) == df_converted['timestamp_norm']\n",
    "    idx_max = df_converted.groupby(['jid'])['timestamp_norm'].transform(max) == df_converted['timestamp_norm']\n",
    "    idx_min = idx_min.reset_index()\n",
    "    idx_max = idx_max.reset_index()\n",
    "    df_converted.loc[idx_min[idx_min['timestamp_norm'] == True]['index'].values,'U_attribution'] = 0.4\n",
    "    df_converted.loc[idx_max[idx_max['timestamp_norm'] == True]['index'].values,'U_attribution'] = 0.4\n",
    "    df_converted.loc[df_converted['count']<3,'U_attribution'] = 1/df_converted['count']\n",
    "    df_converted['campaigns'] = df_converted['campaigns'] * df_converted['U_attribution']\n",
    "        \n",
    "    campaign_conversions = count_by_campaign(df_converted)\n",
    "        \n",
    "    return campaign_conversions / campaign_impressions\n",
    "    \n",
    "uta = U_touch_attribution(df6)"
   ]
  },
  {
   "cell_type": "code",
   "execution_count": 32,
   "metadata": {},
   "outputs": [
    {
     "data": {
      "image/png": "[encoded data removed]",
      "text/plain": [
       "<Figure size 1080x288 with 1 Axes>"
      ]
     },
     "metadata": {
      "needs_background": "light"
     },
     "output_type": "display_data"
    }
   ],
   "source": [
    "# Visualization of the attribution scores\n",
    "\n",
    "campaign_idx = range(150, 200)\n",
    "\n",
    "fig = plt.figure(figsize=(15,4))\n",
    "ax = fig.add_subplot(111)\n",
    "plt.bar( range(len(uta[campaign_idx])), uta[campaign_idx], label='UTA' )\n",
    "plt.xlabel('Campaign ID')\n",
    "plt.ylabel('Return per impression')\n",
    "plt.legend(loc='upper left')\n",
    "plt.show()"
   ]
  },
  {
   "cell_type": "code",
   "execution_count": 16,
   "metadata": {},
   "outputs": [
    {
     "data": {
      "text/plain": [
       "array([0.09875609, 0.15702341, 0.1733945 , 0.03495261, 0.10203651,\n",
       "       0.07416709, 0.19849179, 0.05288754, 0.02855443, 0.13968579,\n",
       "       0.07606347, 0.13669881, 0.25284683, 0.09560724, 0.23159278,\n",
       "       0.05702648, 0.17608837, 0.05748007, 0.10356286, 0.17735226,\n",
       "       0.10948905, 0.16745773, 0.16097279, 0.30580357, 0.00996933,\n",
       "       0.25064599, 0.25384615, 0.13956848, 0.20971914, 0.19779438,\n",
       "       0.13549832, 0.08247191, 0.13842924, 0.14575375, 0.05531295,\n",
       "       0.08436725, 0.07823961, 0.09787234, 0.09424965, 0.1445702 ,\n",
       "       0.12901786, 0.14037985, 0.09183673, 0.16977174, 0.11585682,\n",
       "       0.06127389, 0.16903313, 0.20991254, 0.17272727, 0.09869119,\n",
       "       0.17893871, 0.07539683, 0.08888181, 0.11413748, 0.20069204,\n",
       "       0.09611452, 0.04633205, 0.08888889, 0.17355591, 0.11521548,\n",
       "       0.09054086, 0.05593923, 0.15128826, 0.23463687, 0.09942775,\n",
       "       0.05762082, 0.01680672, 0.07860262, 0.05718824, 0.11661862,\n",
       "       0.13892365, 0.1289161 , 0.342723  , 0.11661808, 0.07936508,\n",
       "       0.13780025, 0.15570809, 0.28571429, 0.09662577, 0.12815534,\n",
       "       0.27553617, 0.09650181, 0.2115869 , 0.07917597, 0.07037037,\n",
       "       0.20408163, 0.34731935, 0.06036942, 0.10357918, 0.17798817,\n",
       "       0.03053435, 0.12091503, 0.06060606, 0.18613139, 0.20786517,\n",
       "       0.14739318, 0.19475655, 0.0371567 , 0.0247093 , 0.11462545,\n",
       "       0.039783  , 0.07587769, 0.09210526, 0.0942029 , 0.0804829 ,\n",
       "       0.12      , 0.16766867, 0.09129383, 0.33752418, 0.24267468,\n",
       "       0.12993321, 0.18108108, 0.06802721, 0.06144781, 0.08857939,\n",
       "       0.11688312, 0.0753012 , 0.01677852, 0.11724138, 0.12629534,\n",
       "       0.12367491, 0.10212766, 0.09462544, 0.12048193, 0.11097744,\n",
       "       0.23920863, 0.16139657, 0.30060423, 0.15873016, 0.06020067,\n",
       "       0.1459854 , 0.18469861, 0.14181818, 0.1804878 , 0.10067707,\n",
       "       0.13793103, 0.0610687 , 0.02321083, 0.11186903, 0.10649819,\n",
       "       0.27559055, 0.14596671, 0.04722793, 0.19515571, 0.13169643,\n",
       "       0.14215686, 0.09504132, 0.06521739, 0.03686983, 0.03404792,\n",
       "       0.11496881, 0.05381166, 0.03083004, 0.0236149 , 0.08294601,\n",
       "       0.0615016 , 0.10821806, 0.05562743, 0.11748634, 0.03181818,\n",
       "       0.14195184, 0.1727542 , 0.0990099 , 0.180798  , 0.0785124 ,\n",
       "       0.17440225, 0.02262443, 0.17287234, 0.03039514, 0.03296703,\n",
       "       0.13475177, 0.09414758, 0.18495298, 0.26598174, 0.19908815,\n",
       "       0.07118056, 0.12      , 0.06138614, 0.13190184, 0.13166144,\n",
       "       0.01654412, 0.19170984, 0.13944223, 0.13245413, 0.14725698,\n",
       "       0.24537037, 0.06629834, 0.0920398 , 0.06775807, 0.15883669,\n",
       "       0.28435115, 0.04745763, 0.0459364 , 0.16176471, 0.10650888,\n",
       "       0.11505682, 0.1399177 , 0.13167939, 0.07261411, 0.13440406,\n",
       "       0.31215162, 0.1094663 , 0.08686441, 0.0785124 , 0.07068063,\n",
       "       0.04672058, 0.14514609, 0.109319  , 0.05032823, 0.18695652,\n",
       "       0.19154676, 0.09943715, 0.12207152, 0.13580247, 0.0601244 ,\n",
       "       0.10628019, 0.13818182, 0.09333333, 0.11914894, 0.10526316,\n",
       "       0.08685969, 0.22245322, 0.09090909, 0.05545617, 0.15315315,\n",
       "       0.07103825, 0.12572534, 0.19366197, 0.08780488, 0.03448276,\n",
       "       0.11717172, 0.07394366, 0.06398537, 0.03370787, 0.12418301,\n",
       "       0.13178295, 0.0719697 , 0.17333333, 0.09471366, 0.02964255,\n",
       "       0.21634615, 0.05802048, 0.12711864, 0.08877722, 0.07692308,\n",
       "       0.07671958, 0.17431193, 0.12942989, 0.08543689, 0.08554572,\n",
       "       0.07101281, 0.15714286, 0.22540984, 0.07302231, 0.08092486,\n",
       "       0.1447619 , 0.15322581, 0.13290113, 0.12863071, 0.22535211,\n",
       "       0.09384164, 0.12686567, 0.08614232, 0.06018519, 0.10933333,\n",
       "       0.1280389 , 0.21      , 0.12560386, 0.17154812, 0.15625   ,\n",
       "       0.07174888, 0.0899654 , 0.13013699, 0.16393443, 0.04195804,\n",
       "       0.06690141, 0.17045455, 0.28103044, 0.0495283 , 0.10287081,\n",
       "       0.19457014, 0.05152672, 0.03571429, 0.13176895, 0.16216216,\n",
       "       0.15517241, 0.09230769, 0.05232558, 0.070626  , 0.10820896,\n",
       "       0.07368421, 0.30617978, 0.12267658, 0.09896907, 0.15547703,\n",
       "       0.18636364, 0.17318436, 0.19047619, 0.15730337, 0.14438503,\n",
       "       0.06280193, 0.0862069 , 0.24242424, 0.03013699, 0.10132159,\n",
       "       0.2173913 , 0.14226804, 0.25396825, 0.03952569, 0.07142857,\n",
       "       0.11666667, 0.06521739, 0.10810811, 0.16666667, 0.06870229,\n",
       "       0.09545455, 0.16342412, 0.26153846, 0.17054264, 0.11272727,\n",
       "       0.1025641 , 0.18811881, 0.28387097, 0.03133159, 0.18009479,\n",
       "       0.13227513, 0.12105263, 0.09459459, 0.12751678, 0.16806723,\n",
       "       0.01626016, 0.14569536, 0.192     , 0.17159763, 0.04705882,\n",
       "       0.31865285, 0.17275748, 0.12420382, 0.09090909, 0.1884058 ,\n",
       "       0.05294118, 0.1462141 , 0.13114754, 0.10179641, 0.14220183,\n",
       "       0.10077519, 0.11415525, 0.19178082, 0.14893617, 0.02862254,\n",
       "       0.0859375 , 0.09803922, 0.08888889, 0.19083969, 0.24590164,\n",
       "       0.08823529, 0.04739336, 0.20670391, 0.28070175, 0.10909091,\n",
       "       0.15853659, 0.05555556, 0.11764706, 0.2283105 , 0.09615385,\n",
       "       0.17959184, 0.13793103, 0.16666667, 0.10322581, 0.20338983,\n",
       "       0.10294118, 0.3125    , 0.28971963, 0.21782178, 0.04411765,\n",
       "       0.10958904, 0.03157895, 0.19631902, 0.0739726 , 0.07874016,\n",
       "       0.35849057, 0.17460317, 0.2       , 0.        , 0.32352941,\n",
       "       0.14102564, 0.16216216, 0.14864865, 0.14457831, 0.08474576,\n",
       "       0.26      , 0.        , 0.        , 0.27777778, 0.11627907,\n",
       "       0.06666667, 0.02777778, 0.05405405, 0.375     , 0.33333333])"
      ]
     },
     "execution_count": 16,
     "metadata": {},
     "output_type": "execute_result"
    }
   ],
   "source": [
    "uta"
   ]
  },
  {
   "cell_type": "markdown",
   "metadata": {},
   "source": [
    "<h3> Time decay Attribution </h3>"
   ]
  },
  {
   "cell_type": "markdown",
   "metadata": {},
   "source": [
    "The days are calculated by taking the difference between conversion timestamp and the timestamp event"
   ]
  },
  {
   "cell_type": "code",
   "execution_count": 17,
   "metadata": {},
   "outputs": [],
   "source": [
    "df6['days_time'] = df6['conversion_timestamp'] - df6['timestamp']\n",
    "df6['day'] = np.floor(df6.days_time / 86400.).astype(int)"
   ]
  },
  {
   "cell_type": "code",
   "execution_count": 18,
   "metadata": {},
   "outputs": [
    {
     "name": "stderr",
     "output_type": "stream",
     "text": [
      "C:\\Users\\nancy\\Anaconda3\\lib\\site-packages\\ipykernel_launcher.py:15: SettingWithCopyWarning: \n",
      "A value is trying to be set on a copy of a slice from a DataFrame.\n",
      "Try using .loc[row_indexer,col_indexer] = value instead\n",
      "\n",
      "See the caveats in the documentation: http://pandas.pydata.org/pandas-docs/stable/user_guide/indexing.html#returning-a-view-versus-a-copy\n",
      "  from ipykernel import kernelapp as app\n",
      "C:\\Users\\nancy\\Anaconda3\\lib\\site-packages\\ipykernel_launcher.py:16: SettingWithCopyWarning: \n",
      "A value is trying to be set on a copy of a slice from a DataFrame.\n",
      "Try using .loc[row_indexer,col_indexer] = value instead\n",
      "\n",
      "See the caveats in the documentation: http://pandas.pydata.org/pandas-docs/stable/user_guide/indexing.html#returning-a-view-versus-a-copy\n",
      "  app.launch_new_instance()\n"
     ]
    }
   ],
   "source": [
    "def time_decay(df):\n",
    "    campaign_count = len(df['campaign'].unique())\n",
    "    \n",
    "    def count_by_campaign(df):\n",
    "        counters = np.zeros(campaign_count)\n",
    "        for campaign_one_hot in df['campaigns'].values:\n",
    "            campaign_id = np.argmax(campaign_one_hot)\n",
    "            counters[campaign_id]  = counters[campaign_id] + campaign_one_hot[campaign_id]\n",
    "        return counters\n",
    "        \n",
    "    campaign_impressions = count_by_campaign(df)\n",
    "    \n",
    "    df_converted = df[df['conversion'] == 1]\n",
    "    #df_converted['timestamp_max'] = df_converted.groupby(['jid'])['timestamp'].transform(max)    \n",
    "    df_converted['time_decay'] = df_converted['day'].transform(lambda x: 2**(-x/7))\n",
    "    df_converted['campaigns'] = df_converted['campaigns'] * df_converted['time_decay']\n",
    "\n",
    "    campaign_conversions = count_by_campaign(df_converted)\n",
    "        \n",
    "    return campaign_conversions / campaign_impressions\n",
    "    \n",
    "tda = time_decay(df6)"
   ]
  },
  {
   "cell_type": "code",
   "execution_count": 33,
   "metadata": {},
   "outputs": [
    {
     "data": {
      "image/png": "[encoded data removed]",
      "text/plain": [
       "<Figure size 1080x288 with 1 Axes>"
      ]
     },
     "metadata": {
      "needs_background": "light"
     },
     "output_type": "display_data"
    }
   ],
   "source": [
    "# Visualization of the attribution scores\n",
    "\n",
    "campaign_idx = range(150, 200)\n",
    "\n",
    "fig = plt.figure(figsize=(15,4))\n",
    "ax = fig.add_subplot(111)\n",
    "plt.bar( range(len(tda[campaign_idx])), tda[campaign_idx], label='TDA' )\n",
    "plt.xlabel('Campaign ID')\n",
    "plt.ylabel('Return per impression')\n",
    "plt.legend(loc='upper left')\n",
    "plt.show()"
   ]
  },
  {
   "cell_type": "code",
   "execution_count": 19,
   "metadata": {},
   "outputs": [
    {
     "data": {
      "text/plain": [
       "array([0.21235638, 0.35244658, 0.31253201, 0.06282898, 0.18361357,\n",
       "       0.17961274, 0.32375318, 0.15253402, 0.0596144 , 0.29739702,\n",
       "       0.13976932, 0.27365727, 0.62668171, 0.16226265, 0.49763356,\n",
       "       0.09491459, 0.37390993, 0.28235061, 0.2270074 , 0.34012717,\n",
       "       0.22950006, 0.35756483, 0.25992922, 0.50412216, 0.02029906,\n",
       "       0.45541996, 0.52572546, 0.28946634, 0.38307282, 0.35855023,\n",
       "       0.20239887, 0.25512191, 0.27198765, 0.28870455, 0.11054288,\n",
       "       0.15804328, 0.13928209, 0.17597008, 0.1777461 , 0.33098942,\n",
       "       0.27342706, 0.2784792 , 0.15191505, 0.32023552, 0.27727662,\n",
       "       0.14894631, 0.41691371, 0.37445687, 0.31140084, 0.22529898,\n",
       "       0.47697399, 0.17063603, 0.2963737 , 0.21806392, 0.40788136,\n",
       "       0.26698325, 0.13992579, 0.16621858, 0.56438607, 0.18151373,\n",
       "       0.16766734, 0.09701398, 0.32360854, 0.43268726, 0.32113038,\n",
       "       0.11626917, 0.05060804, 0.17108742, 0.10570987, 0.26896536,\n",
       "       0.25659563, 0.2586325 , 0.58941106, 0.25914315, 0.08865822,\n",
       "       0.23775539, 0.31232056, 0.48528085, 0.19933189, 0.21468823,\n",
       "       0.4960404 , 0.20989849, 0.35026648, 0.15854076, 0.1734116 ,\n",
       "       0.44892383, 0.63484038, 0.09848805, 0.18101028, 0.28558166,\n",
       "       0.06880944, 0.27011872, 0.09342831, 0.29971678, 0.30870137,\n",
       "       0.31625138, 0.31378443, 0.07248256, 0.04724095, 0.37049276,\n",
       "       0.22754461, 0.15059764, 0.25392788, 0.18567168, 0.13383727,\n",
       "       0.1932596 , 0.32231705, 0.17525747, 0.6192152 , 0.39728794,\n",
       "       0.24624154, 0.32142647, 0.11949244, 0.11808486, 0.15613114,\n",
       "       0.29597839, 0.20494282, 0.02565815, 0.34601819, 0.23271514,\n",
       "       0.29807657, 0.2793258 , 0.31963054, 0.22499298, 0.18894133,\n",
       "       0.42033725, 0.37148133, 0.52080065, 0.31910955, 0.1197818 ,\n",
       "       0.28683911, 0.34765367, 0.2654758 , 0.34633507, 0.21512119,\n",
       "       0.21804208, 0.11339425, 0.04084048, 0.18810997, 0.14020062,\n",
       "       0.52065719, 0.25894875, 0.10751408, 0.34093405, 0.199754  ,\n",
       "       0.23272985, 0.1784489 , 0.15863051, 0.09767437, 0.0557542 ,\n",
       "       0.21841555, 0.18224173, 0.06627238, 0.04463974, 0.1638382 ,\n",
       "       0.20680507, 0.30608988, 0.12136491, 0.23430467, 0.08464183,\n",
       "       0.25057132, 0.29573891, 0.1639703 , 0.38473877, 0.21681722,\n",
       "       0.33131189, 0.07493441, 0.34282284, 0.07292224, 0.04505335,\n",
       "       0.23475647, 0.15443371, 0.35186593, 0.42358982, 0.44181691,\n",
       "       0.12185398, 0.22645298, 0.14699654, 0.33514751, 0.27988214,\n",
       "       0.0611357 , 0.5217346 , 0.34998125, 0.22082402, 0.37174119,\n",
       "       0.41300649, 0.10064001, 0.27445376, 0.11556953, 0.25372468,\n",
       "       0.58510572, 0.08498989, 0.12416345, 0.39177604, 0.23129613,\n",
       "       0.1921438 , 0.28847112, 0.3025915 , 0.2131551 , 0.29397826,\n",
       "       0.54063135, 0.21670968, 0.19261421, 0.14445226, 0.1468862 ,\n",
       "       0.09664536, 0.26171481, 0.22467918, 0.12144753, 0.34271234,\n",
       "       0.37451665, 0.2106574 , 0.20762711, 0.21663036, 0.11634374,\n",
       "       0.2538447 , 0.21497097, 0.11879651, 0.23231282, 0.15107128,\n",
       "       0.12723491, 0.37318096, 0.17725352, 0.10263358, 0.27415884,\n",
       "       0.12054463, 0.19799508, 0.30134824, 0.2106034 , 0.04691957,\n",
       "       0.23892975, 0.26820599, 0.121151  , 0.05507863, 0.28211477,\n",
       "       0.2758673 , 0.11536569, 0.32227853, 0.25891497, 0.07059327,\n",
       "       0.42850072, 0.11439377, 0.20181366, 0.16884914, 0.10895297,\n",
       "       0.11554257, 0.36312027, 0.27775828, 0.26616352, 0.17883799,\n",
       "       0.13891905, 0.17651478, 0.37461148, 0.11659633, 0.19193209,\n",
       "       0.35196995, 0.30695066, 0.31790996, 0.30075699, 0.30151857,\n",
       "       0.18185197, 0.31151076, 0.15387923, 0.12722271, 0.1690157 ,\n",
       "       0.2420232 , 0.54650507, 0.31265352, 0.25274328, 0.39200633,\n",
       "       0.20771266, 0.12245308, 0.17948505, 0.31522591, 0.05147756,\n",
       "       0.10541033, 0.23263657, 0.5279215 , 0.06454103, 0.20613571,\n",
       "       0.42970404, 0.1159647 , 0.06989264, 0.19082786, 0.19936353,\n",
       "       0.30872812, 0.18937788, 0.23116164, 0.22224478, 0.24251116,\n",
       "       0.16281078, 0.49887557, 0.20385599, 0.18672724, 0.34209532,\n",
       "       0.34120177, 0.31309213, 0.34550749, 0.23905201, 0.23043482,\n",
       "       0.17974133, 0.14959368, 0.3482996 , 0.04767603, 0.17625074,\n",
       "       0.42574699, 0.24390913, 0.48812815, 0.05390193, 0.15099681,\n",
       "       0.20660852, 0.10186781, 0.1723572 , 0.31789082, 0.09105404,\n",
       "       0.17822357, 0.27161466, 0.58067272, 0.26220495, 0.20627548,\n",
       "       0.28303141, 0.38521911, 0.49385202, 0.07155329, 0.29274133,\n",
       "       0.26766946, 0.30066602, 0.17980276, 0.23342388, 0.29843356,\n",
       "       0.03303796, 0.29192849, 0.31648792, 0.38215802, 0.09042718,\n",
       "       0.52717051, 0.28678271, 0.21850355, 0.15734677, 0.34809406,\n",
       "       0.08208128, 0.24398055, 0.30383077, 0.25123523, 0.27105529,\n",
       "       0.17419247, 0.23977312, 0.37366912, 0.27170776, 0.04545349,\n",
       "       0.14185065, 0.15960639, 0.1797033 , 0.2924588 , 0.40215579,\n",
       "       0.24209268, 0.08842571, 0.55702329, 0.52872554, 0.19126392,\n",
       "       0.22402724, 0.08766411, 0.1703076 , 0.47350906, 0.29223063,\n",
       "       0.30908137, 0.34386076, 0.3319453 , 0.22263482, 0.34474849,\n",
       "       0.2138551 , 0.48946982, 0.53772124, 0.35961219, 0.07634668,\n",
       "       0.24618564, 0.04700675, 0.36231796, 0.25188614, 0.13265975,\n",
       "       0.48671626, 0.34775718, 0.43691013, 0.        , 0.58984179,\n",
       "       0.39329606, 0.37839443, 0.41797345, 0.26105026, 0.12637028,\n",
       "       0.7474062 , 0.        , 0.        , 0.50135441, 0.19188495,\n",
       "       0.09237356, 0.05555556, 0.06747293, 0.46135052, 0.19992762])"
      ]
     },
     "execution_count": 19,
     "metadata": {},
     "output_type": "execute_result"
    }
   ],
   "source": [
    "tda"
   ]
  },
  {
   "cell_type": "markdown",
   "metadata": {},
   "source": [
    "<b> Testing all models attribution weights </b>"
   ]
  },
  {
   "cell_type": "code",
   "execution_count": 31,
   "metadata": {},
   "outputs": [
    {
     "data": {
      "text/plain": [
       "False"
      ]
     },
     "execution_count": 31,
     "metadata": {},
     "output_type": "execute_result"
    }
   ],
   "source": [
    "np.array_equal(lta,fta)\n",
    "np.array_equal(la,uta)\n",
    "np.array_equal(uta,tda)"
   ]
  },
  {
   "cell_type": "markdown",
   "metadata": {},
   "source": [
    "<h3> Logistic Regression </h3>"
   ]
  },
  {
   "cell_type": "code",
   "execution_count": 73,
   "metadata": {},
   "outputs": [],
   "source": [
    "def features_for_logistic_regression(df):\n",
    "\n",
    "    def pairwise_max(series):\n",
    "        return np.max(series.tolist(), axis = 0).tolist()\n",
    "    \n",
    "    aggregation = {\n",
    "        'campaigns': pairwise_max,\n",
    "        'cats': pairwise_max,\n",
    "        'click': 'sum',\n",
    "        'cost': 'sum',\n",
    "        'conversion': 'max'\n",
    "    }\n",
    "    \n",
    "    df_agg = df.groupby(['jid']).agg(aggregation)\n",
    "    \n",
    "    df_agg['features'] = df_agg[['campaigns', 'cats', 'click', 'cost']].values.tolist()\n",
    "    \n",
    "    return (\n",
    "        np.stack(df_agg['features'].map(lambda x: np.hstack(x)).values),\n",
    "        df_agg['conversion'].values\n",
    "    )"
   ]
  },
  {
   "cell_type": "markdown",
   "metadata": {},
   "source": [
    "<h3> Budget Optimization </h3>"
   ]
  },
  {
   "cell_type": "code",
   "execution_count": 20,
   "metadata": {},
   "outputs": [],
   "source": [
    "def get_campaign_id(x_journey_step):\n",
    "    return np.argmax(x_journey_step[0:n_campaigns])\n",
    "\n",
    "def simulate_budget_roi(df, budget_total, attribution, verbose=False):\n",
    "    budgets = np.ceil(attribution * (budget_total / np.sum(attribution)))\n",
    "    \n",
    "    if(verbose):\n",
    "        print(budgets)\n",
    "    \n",
    "    blacklist = set()\n",
    "    conversions = set()\n",
    "    for i in range(df.shape[0]):\n",
    "        campaign_id = get_campaign_id(df.loc[i]['campaigns']) \n",
    "        jid = df.loc[i]['jid']\n",
    "        if jid not in blacklist:\n",
    "            if budgets[campaign_id] >= 1:\n",
    "                budgets[campaign_id] = budgets[campaign_id] - 1\n",
    "                if(df.loc[i]['conversion'] == 1):\n",
    "                    conversions.add(jid)\n",
    "            else:\n",
    "                blacklist.add(jid)\n",
    "        \n",
    "        if(verbose):\n",
    "            if(i % 10000 == 0):\n",
    "                print('{:.2%} : {:.2%} budget spent'.format(i/df.shape[0], 1.0 - np.sum(budgets)/budget_total ))\n",
    "        \n",
    "        if(np.sum(budgets) < budget_total * 0.02):\n",
    "            break\n",
    "            \n",
    "    return len(conversions.difference(blacklist))"
   ]
  },
  {
   "cell_type": "code",
   "execution_count": 22,
   "metadata": {},
   "outputs": [
    {
     "name": "stdout",
     "output_type": "stream",
     "text": [
      "0 0 : 275\n",
      "0 1 : 275\n",
      "0 2 : 275\n",
      "0 3 : 275\n",
      "1 0 : 419\n",
      "1 1 : 419\n",
      "1 2 : 419\n",
      "1 3 : 419\n",
      "2 0 : 543\n",
      "2 1 : 543\n",
      "2 2 : 543\n",
      "2 3 : 543\n"
     ]
    }
   ],
   "source": [
    "pitches = [1.0, 2.0,3.0]\n",
    "attributions = [lta, fta, la, uta]\n",
    "\n",
    "for i, pitch in enumerate(pitches):\n",
    "    for j, attribution in enumerate(attributions):\n",
    "        reward = simulate_budget_roi(df6, 10000, attribution**pitch)\n",
    "        print('{} {} : {}'.format(i, j, reward))"
   ]
  }
 ],
 "metadata": {
  "kernelspec": {
   "display_name": "Python 3",
   "language": "python",
   "name": "python3"
  },
  "language_info": {
   "codemirror_mode": {
    "name": "ipython",
    "version": 3
   },
   "file_extension": ".py",
   "mimetype": "text/x-python",
   "name": "python",
   "nbconvert_exporter": "python",
   "pygments_lexer": "ipython3",
   "version": "3.6.5"
  }
 },
 "nbformat": 4,
 "nbformat_minor": 2
}
