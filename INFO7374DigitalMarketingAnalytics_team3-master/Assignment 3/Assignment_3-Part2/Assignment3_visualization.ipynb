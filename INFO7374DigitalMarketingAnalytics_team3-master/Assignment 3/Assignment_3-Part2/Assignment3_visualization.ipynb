{
 "cells": [
  {
   "cell_type": "code",
   "execution_count": 2,
   "metadata": {},
   "outputs": [
    {
     "name": "stderr",
     "output_type": "stream",
     "text": [
      "Using TensorFlow backend.\n"
     ]
    }
   ],
   "source": [
    "import pandas as pd\n",
    "import matplotlib.pyplot as plt \n",
    "import numpy as np\n",
    "\n",
    "from sklearn.utils import resample\n",
    "from sklearn.preprocessing import MinMaxScaler\n",
    "from sklearn.model_selection import train_test_split\n",
    "\n",
    "import keras\n",
    "\n",
    "import warnings\n",
    "warnings.simplefilter(\"ignore\")\n",
    "\n",
    "plt.style.use('ggplot')"
   ]
  },
  {
   "cell_type": "code",
   "execution_count": null,
   "metadata": {},
   "outputs": [],
   "source": [
    "data_file = 'E:/DigitalMarketing/AssigmnetPart2/criteo_attribution_dataset.tsv.gz'\n",
    "df0 = pd.read_csv(data_file, sep='\\t', compression='gzip')\n",
    "df0.head()"
   ]
  },
  {
   "cell_type": "code",
   "execution_count": 3,
   "metadata": {},
   "outputs": [],
   "source": [
    "df_ext = df0.copy()\n",
    "df_ext['jid'] = df_ext['uid'].map(str) + '_' + df_ext['conversion_id'].map(str)\n",
    "    \n",
    "min_max_scaler = MinMaxScaler()\n",
    "for cname in ('timestamp', 'time_since_last_click'):\n",
    "    x = df_ext[cname].values.reshape(-1, 1) \n",
    "    df_ext[cname + '_norm'] = min_max_scaler.fit_transform(x)"
   ]
  },
  {
   "cell_type": "code",
   "execution_count": 4,
   "metadata": {},
   "outputs": [],
   "source": [
    "# random sampling 400 campaigns\n",
    "n_campaigns = 10\n",
    "campaigns = np.random.choice( df_ext['campaign'].unique(), n_campaigns, replace = False )\n",
    "df_1 = df_ext[ df_ext['campaign'].isin(campaigns) ]"
   ]
  },
  {
   "cell_type": "code",
   "execution_count": 5,
   "metadata": {},
   "outputs": [],
   "source": [
    "# campaings with minimun touchpoints 2\n",
    "\n",
    "min_touchpoints = 2\n",
    "grouped = df_1.groupby(['jid'])['uid'].count().reset_index(name=\"count\")\n",
    "df_2 =  df_1[df_1['jid'].isin( grouped[grouped['count'] >= min_touchpoints]['jid'].values )]"
   ]
  },
  {
   "cell_type": "code",
   "execution_count": 6,
   "metadata": {},
   "outputs": [],
   "source": [
    "# campaign with minimum touchpoints 2 used in our code\n",
    "\n",
    "min_touchpoints = 2\n",
    "df_converted = df_ext[df_ext['conversion'] == 1]\n",
    "conv_group = df_converted.groupby(['uid', 'campaign']).count().reset_index()\n",
    "multi_camps = conv_group.groupby(['uid'])['campaign'].count().reset_index()"
   ]
  },
  {
   "cell_type": "code",
   "execution_count": 7,
   "metadata": {},
   "outputs": [
    {
     "name": "stdout",
     "output_type": "stream",
     "text": [
      "<class 'pandas.core.frame.DataFrame'>\n",
      "RangeIndex: 336748 entries, 0 to 336747\n",
      "Data columns (total 25 columns):\n",
      "uid                           336748 non-null int64\n",
      "campaign                      336748 non-null int64\n",
      "timestamp                     336748 non-null int64\n",
      "conversion                    336748 non-null int64\n",
      "conversion_timestamp          336748 non-null int64\n",
      "conversion_id                 336748 non-null int64\n",
      "attribution                   336748 non-null int64\n",
      "click                         336748 non-null int64\n",
      "click_pos                     336748 non-null int64\n",
      "click_nb                      336748 non-null int64\n",
      "cost                          336748 non-null int64\n",
      "cpo                           336748 non-null int64\n",
      "time_since_last_click         336748 non-null int64\n",
      "cat1                          336748 non-null int64\n",
      "cat2                          336748 non-null int64\n",
      "cat3                          336748 non-null int64\n",
      "cat4                          336748 non-null int64\n",
      "cat5                          336748 non-null int64\n",
      "cat6                          336748 non-null int64\n",
      "cat7                          336748 non-null int64\n",
      "cat8                          336748 non-null int64\n",
      "cat9                          336748 non-null int64\n",
      "jid                           336748 non-null int64\n",
      "timestamp_norm                336748 non-null int64\n",
      "time_since_last_click_norm    336748 non-null int64\n",
      "dtypes: int64(25)\n",
      "memory usage: 64.2 MB\n"
     ]
    }
   ],
   "source": [
    "conv_group.info()"
   ]
  },
  {
   "cell_type": "code",
   "execution_count": 1,
   "metadata": {},
   "outputs": [
    {
     "ename": "NameError",
     "evalue": "name 'multi_camps' is not defined",
     "output_type": "error",
     "traceback": [
      "\u001b[1;31m---------------------------------------------------------------------------\u001b[0m",
      "\u001b[1;31mNameError\u001b[0m                                 Traceback (most recent call last)",
      "\u001b[1;32m<ipython-input-1-4e6f047a0b57>\u001b[0m in \u001b[0;36m<module>\u001b[1;34m\u001b[0m\n\u001b[0;32m      1\u001b[0m \u001b[1;31m# user ID where they have been converted for more than 2 campaigns\u001b[0m\u001b[1;33m\u001b[0m\u001b[1;33m\u001b[0m\u001b[1;33m\u001b[0m\u001b[0m\n\u001b[1;32m----> 2\u001b[1;33m \u001b[0muid_values\u001b[0m \u001b[1;33m=\u001b[0m \u001b[0mmulti_camps\u001b[0m\u001b[1;33m[\u001b[0m\u001b[0mmulti_camps\u001b[0m\u001b[1;33m[\u001b[0m\u001b[1;34m'campaign'\u001b[0m\u001b[1;33m]\u001b[0m \u001b[1;33m>\u001b[0m \u001b[0mmin_touchpoints\u001b[0m\u001b[1;33m]\u001b[0m\u001b[1;33m[\u001b[0m\u001b[1;34m'uid'\u001b[0m\u001b[1;33m]\u001b[0m\u001b[1;33m.\u001b[0m\u001b[0mvalues\u001b[0m\u001b[1;33m\u001b[0m\u001b[1;33m\u001b[0m\u001b[0m\n\u001b[0m\u001b[0;32m      3\u001b[0m \u001b[0mcampaign_values\u001b[0m \u001b[1;33m=\u001b[0m \u001b[0mmulti_camps\u001b[0m\u001b[1;33m[\u001b[0m\u001b[0mmulti_camps\u001b[0m\u001b[1;33m[\u001b[0m\u001b[1;34m'campaign'\u001b[0m\u001b[1;33m]\u001b[0m \u001b[1;33m>\u001b[0m \u001b[0mmin_touchpoints\u001b[0m\u001b[1;33m]\u001b[0m\u001b[1;33m[\u001b[0m\u001b[1;34m'campaign'\u001b[0m\u001b[1;33m]\u001b[0m\u001b[1;33m.\u001b[0m\u001b[0mvalues\u001b[0m\u001b[1;33m\u001b[0m\u001b[1;33m\u001b[0m\u001b[0m\n",
      "\u001b[1;31mNameError\u001b[0m: name 'multi_camps' is not defined"
     ]
    }
   ],
   "source": [
    "# user ID where they have been converted for more than 2 campaigns\n",
    "uid_values = multi_camps[multi_camps['campaign'] > min_touchpoints]['uid'].values\n",
    "campaign_values = multi_camps[multi_camps['campaign'] > min_touchpoints]['campaign'].values"
   ]
  },
  {
   "cell_type": "code",
   "execution_count": 9,
   "metadata": {},
   "outputs": [],
   "source": [
    "# unique user ID and campaign ID\n",
    "uid_unique, uid_indices = np.unique(uid_values, return_inverse=True)\n",
    "campaign_unique, campaign_indices = np.unique(uid_values, return_inverse=True)"
   ]
  },
  {
   "cell_type": "code",
   "execution_count": 10,
   "metadata": {},
   "outputs": [],
   "source": [
    "# sampling data based on UID or Campaign \n",
    "df_attribution_data =  df_ext[(df_ext['uid'].isin( uid_values)) | (df_ext['campaign'].isin(campaign_values))]\n",
    "df_attribution_data = df_attribution_data.reset_index(drop = 1)"
   ]
  },
  {
   "cell_type": "code",
   "execution_count": 11,
   "metadata": {},
   "outputs": [],
   "source": [
    "df_minority = df_attribution_data[df_attribution_data.conversion == 1]\n",
    "df_majority = df_attribution_data[df_attribution_data.conversion == 0]\n",
    "df_minority = df_minority.loc[df_minority.groupby(['uid', 'campaign'])['timestamp'].idxmax()]\n",
    "df_majority = df_majority.loc[df_majority.groupby(['uid', 'campaign'])['timestamp'].idxmax()]"
   ]
  },
  {
   "cell_type": "code",
   "execution_count": 12,
   "metadata": {},
   "outputs": [
    {
     "name": "stdout",
     "output_type": "stream",
     "text": [
      "converted count: 1386 \n",
      "ot converted count: 1743\n"
     ]
    }
   ],
   "source": [
    "print('converted count:',df_minority.shape[0],'\\not converted count:',df_majority.shape[0])"
   ]
  },
  {
   "cell_type": "code",
   "execution_count": 13,
   "metadata": {},
   "outputs": [],
   "source": [
    "df_2 = pd.concat([df_minority, df_majority])"
   ]
  },
  {
   "cell_type": "code",
   "execution_count": 14,
   "metadata": {},
   "outputs": [
    {
     "name": "stdout",
     "output_type": "stream",
     "text": [
      "3129\n",
      "[1743, 1386]\n"
     ]
    }
   ],
   "source": [
    "print(df_2.shape[0])\n",
    "print([df_2[df_2.conversion == 0].shape[0], df_2[df_2.conversion == 1].shape[0]])"
   ]
  },
  {
   "cell_type": "code",
   "execution_count": 15,
   "metadata": {
    "scrolled": true
   },
   "outputs": [
    {
     "data": {
      "text/plain": [
       "10386355    7\n",
       "5453639     6\n",
       "11852675    5\n",
       "5381156     5\n",
       "23581753    5\n",
       "           ..\n",
       "994542      3\n",
       "5592306     3\n",
       "18253044    3\n",
       "10206461    3\n",
       "7723008     3\n",
       "Name: uid, Length: 442, dtype: int64"
      ]
     },
     "execution_count": 15,
     "metadata": {},
     "output_type": "execute_result"
    }
   ],
   "source": [
    "df_2[df_2['conversion'] == 1]['uid'].value_counts()"
   ]
  },
  {
   "cell_type": "code",
   "execution_count": 16,
   "metadata": {},
   "outputs": [],
   "source": [
    "column_names = ['cat1', 'cat2', 'cat3', 'cat4', 'cat5', 'cat6', 'cat8']\n",
    "\n",
    "mapper = {} \n",
    "for i, col_name in enumerate(column_names):\n",
    "    for val in df_ext[col_name].unique():\n",
    "        mapper[str(val) + str(i)] = len(mapper)\n",
    "         \n",
    "df_3 = df_2.copy()\n",
    "    \n",
    "def one_hot(values):\n",
    "    v = np.zeros( len(mapper) )\n",
    "    for i, val in enumerate(values): \n",
    "        v[ mapper[str(val) + str(i)] ] = 1\n",
    "    return v    \n",
    "    \n",
    "df_3['cats'] = df_3[column_names].values.tolist()\n",
    "df_3['cats'] = df_3['cats'].map(one_hot)"
   ]
  },
  {
   "cell_type": "code",
   "execution_count": 17,
   "metadata": {},
   "outputs": [],
   "source": [
    "column_names = ['campaign']\n",
    "\n",
    "mapper = {} \n",
    "for i, col_name in enumerate(column_names):\n",
    "    for val in df_2[col_name].unique():\n",
    "        mapper[str(val) + str(i)] = len(mapper)\n",
    "         \n",
    "df_4 = df_3.copy()\n",
    "    \n",
    "def one_hot(values):\n",
    "    v = np.zeros( len(mapper) )\n",
    "    for i, val in enumerate(values): \n",
    "        v[ mapper[str(val) + str(i)] ] = 1\n",
    "    return v    \n",
    "    \n",
    "df_4['campaigns'] = df_4[column_names].values.tolist()\n",
    "df_4['campaigns'] = df_4['campaigns'].map(one_hot)"
   ]
  },
  {
   "cell_type": "code",
   "execution_count": 18,
   "metadata": {
    "scrolled": false
   },
   "outputs": [
    {
     "name": "stdout",
     "output_type": "stream",
     "text": [
      "3129\n",
      "[1743, 1386]\n"
     ]
    }
   ],
   "source": [
    "print(df_4.shape[0])\n",
    "print([df_4[df_4.conversion == 0].shape[0], df_4[df_4.conversion == 1].shape[0]])"
   ]
  },
  {
   "cell_type": "code",
   "execution_count": 19,
   "metadata": {},
   "outputs": [
    {
     "data": {
      "text/plain": [
       "379"
      ]
     },
     "execution_count": 19,
     "metadata": {},
     "output_type": "execute_result"
    }
   ],
   "source": [
    "len(df_4['campaign'].unique())"
   ]
  },
  {
   "cell_type": "markdown",
   "metadata": {},
   "source": [
    "### Last Touch Attribution"
   ]
  },
  {
   "cell_type": "code",
   "execution_count": 20,
   "metadata": {},
   "outputs": [],
   "source": [
    "def last_touch_attribution(df):\n",
    "    #count campaign unique in DF \n",
    "    campaign_count = len(df['campaign'].unique())\n",
    "    \n",
    "    def count_by_campaign(df):\n",
    "        counters = np.zeros(campaign_count)\n",
    "        for campaign_one_hot in df['campaigns'].values:\n",
    "            campaign_id = np.argmax(campaign_one_hot)\n",
    "            counters[campaign_id] = counters[campaign_id] + 1\n",
    "        return counters\n",
    "        \n",
    "    campaign_impressions = count_by_campaign(df)\n",
    "    \n",
    "    df_converted = df[df['conversion'] == 1]\n",
    "    idx = df_converted.groupby(['uid'])['timestamp_norm'].transform(max) == df_converted['timestamp_norm']\n",
    "    campaign_conversions = count_by_campaign(df_converted[idx])\n",
    "        \n",
    "    return campaign_conversions / campaign_impressions\n",
    "    \n",
    "lta = last_touch_attribution(df_4)"
   ]
  },
  {
   "cell_type": "code",
   "execution_count": 42,
   "metadata": {},
   "outputs": [],
   "source": [
    "# lta"
   ]
  },
  {
   "cell_type": "code",
   "execution_count": 22,
   "metadata": {},
   "outputs": [
    {
     "data": {
      "image/png": "[encoded data removed]",
      "text/plain": [
       "<Figure size 1080x288 with 1 Axes>"
      ]
     },
     "metadata": {
      "needs_background": "light"
     },
     "output_type": "display_data"
    }
   ],
   "source": [
    "# Visualization of the attribution scores\n",
    "\n",
    "campaign_idx = range(0, len(df_4['campaign'].unique()))\n",
    "\n",
    "fig = plt.figure(figsize=(15,4))\n",
    "ax = fig.add_subplot(111)\n",
    "plt.bar( range(len(lta[campaign_idx])), lta[campaign_idx], label='LTA' )\n",
    "plt.xlabel('Campaign ID')\n",
    "plt.ylabel('Return per impression')\n",
    "plt.legend(loc='upper left')\n",
    "plt.show()"
   ]
  },
  {
   "cell_type": "code",
   "execution_count": 192,
   "metadata": {},
   "outputs": [
    {
     "data": {
      "application/vnd.jupyter.widget-view+json": {
       "model_id": "67c968c51bf34db7ba944bb329e7793b",
       "version_major": 2,
       "version_minor": 0
      },
      "text/plain": [
       "VBox(children=(Figure(axes=[Axis(scale=LinearScale()), Axis(orientation='vertical', scale=LinearScale())], fig…"
      ]
     },
     "metadata": {},
     "output_type": "display_data"
    }
   ],
   "source": [
    "fig = plt.figure()\n",
    "x1 = np.linspace(0.0, 379.0, len(plot[\"campaign\"]))\n",
    "y = plot[\"lta\"].cumsum()\n",
    "l2 = plt.plot(x1, y, colors=['hotpink'],labels=['LTA'],display_legend=True)\n",
    "# plt.legend_location['top-right’]\n",
    "plt.show()"
   ]
  },
  {
   "cell_type": "markdown",
   "metadata": {},
   "source": [
    "### First Touch Attribution"
   ]
  },
  {
   "cell_type": "code",
   "execution_count": 23,
   "metadata": {},
   "outputs": [],
   "source": [
    "def first_touch_attribution(df):\n",
    "    campaign_count = len(df['campaign'].unique())\n",
    "    \n",
    "    def count_by_campaign(df):\n",
    "        counters = np.zeros(campaign_count)\n",
    "        for campaign_one_hot in df['campaigns'].values:\n",
    "            campaign_id = np.argmax(campaign_one_hot)\n",
    "            counters[campaign_id] = counters[campaign_id] + 1\n",
    "        return counters\n",
    "        \n",
    "    campaign_impressions = count_by_campaign(df)\n",
    "    \n",
    "    df_converted = df[df['conversion'] == 1]\n",
    "    idx = df_converted.groupby(['uid'])['timestamp_norm'].transform(min) == df_converted['timestamp_norm']\n",
    "    campaign_conversions = count_by_campaign(df_converted[idx])\n",
    "        \n",
    "    return campaign_conversions / campaign_impressions\n",
    "    \n",
    "fta = first_touch_attribution(df_4)"
   ]
  },
  {
   "cell_type": "code",
   "execution_count": 24,
   "metadata": {},
   "outputs": [
    {
     "data": {
      "text/plain": [
       "236"
      ]
     },
     "execution_count": 24,
     "metadata": {},
     "output_type": "execute_result"
    }
   ],
   "source": [
    "np.argmax(lta)"
   ]
  },
  {
   "cell_type": "code",
   "execution_count": 25,
   "metadata": {},
   "outputs": [
    {
     "data": {
      "image/png": "[encoded data removed]",
      "text/plain": [
       "<Figure size 1080x288 with 1 Axes>"
      ]
     },
     "metadata": {
      "needs_background": "light"
     },
     "output_type": "display_data"
    }
   ],
   "source": [
    "# Visualization of the attribution scores\n",
    "\n",
    "campaign_idx = range(0, len(df_4['campaign'].unique()))\n",
    "\n",
    "fig = plt.figure(figsize=(15,4))\n",
    "ax = fig.add_subplot(111)\n",
    "plt.bar( range(len(fta[campaign_idx])), fta[campaign_idx], label='FTA' )\n",
    "plt.xlabel('Campaign ID')\n",
    "plt.ylabel('Return per impression')\n",
    "plt.legend(loc='upper left')\n",
    "plt.show()"
   ]
  },
  {
   "cell_type": "code",
   "execution_count": 195,
   "metadata": {},
   "outputs": [
    {
     "data": {
      "application/vnd.jupyter.widget-view+json": {
       "model_id": "2af51e6c4f48498ea798a3476c1bf352",
       "version_major": 2,
       "version_minor": 0
      },
      "text/plain": [
       "VBox(children=(Figure(axes=[Axis(scale=LinearScale()), Axis(orientation='vertical', scale=LinearScale())], fig…"
      ]
     },
     "metadata": {},
     "output_type": "display_data"
    }
   ],
   "source": [
    "fig = plt.figure()\n",
    "x1 = np.linspace(0.0, 379.0, len(plot[\"campaign\"]))\n",
    "y = plot[\"fta\"].cumsum()\n",
    "l2 = plt.plot(x1, y, colors=['red'],labels=['FTA'],display_legend=True)\n",
    "# plt.legend_location['top-right’]\n",
    "plt.show()"
   ]
  },
  {
   "cell_type": "markdown",
   "metadata": {},
   "source": [
    "### Linear Attribution"
   ]
  },
  {
   "cell_type": "code",
   "execution_count": 26,
   "metadata": {},
   "outputs": [],
   "source": [
    "def linear_attribution(df):\n",
    "    campaign_count = len(df['campaign'].unique())\n",
    "    \n",
    "    def count_by_campaign(df):\n",
    "        counters = np.zeros(campaign_count)\n",
    "        for campaign_one_hot in df['campaigns'].values:\n",
    "            campaign_id = np.argmax(campaign_one_hot)\n",
    "            counters[campaign_id]  = counters[campaign_id] + campaign_one_hot[campaign_id]\n",
    "        return counters\n",
    "        \n",
    "    campaign_impressions = count_by_campaign(df)\n",
    "    \n",
    "    df_converted = df[df['conversion'] == 1]\n",
    "    df_converted['count'] = df_converted.groupby(['uid']).transform('count')['timestamp']\n",
    "    df_converted['U_attribution'] = df_converted['count'].transform(lambda x: 1/x)\n",
    "    df_converted['campaigns'] = df_converted['campaigns'] * df_converted['U_attribution']\n",
    "    campaign_conversions = count_by_campaign(df_converted)\n",
    "        \n",
    "    return campaign_conversions / campaign_impressions\n",
    "    \n",
    "la = linear_attribution(df_4)"
   ]
  },
  {
   "cell_type": "code",
   "execution_count": 27,
   "metadata": {
    "scrolled": false
   },
   "outputs": [
    {
     "data": {
      "image/png": "[encoded data removed]",
      "text/plain": [
       "<Figure size 1080x288 with 1 Axes>"
      ]
     },
     "metadata": {
      "needs_background": "light"
     },
     "output_type": "display_data"
    }
   ],
   "source": [
    "# Visualization of the attribution scores\n",
    "\n",
    "campaign_idx = range(0, len(df_4['campaign'].unique()))\n",
    "\n",
    "fig = plt.figure(figsize=(15,4))\n",
    "ax = fig.add_subplot(111)\n",
    "plt.bar( range(len(la[campaign_idx])), la[campaign_idx], label='LA' )\n",
    "plt.xlabel('Campaign ID')\n",
    "plt.ylabel('Return per impression')\n",
    "plt.legend(loc='upper left')\n",
    "plt.show()"
   ]
  },
  {
   "cell_type": "code",
   "execution_count": 196,
   "metadata": {},
   "outputs": [
    {
     "data": {
      "application/vnd.jupyter.widget-view+json": {
       "model_id": "73d91112f39545948ded0bdea89cb740",
       "version_major": 2,
       "version_minor": 0
      },
      "text/plain": [
       "VBox(children=(Figure(axes=[Axis(scale=LinearScale()), Axis(orientation='vertical', scale=LinearScale())], fig…"
      ]
     },
     "metadata": {},
     "output_type": "display_data"
    }
   ],
   "source": [
    "fig = plt.figure()\n",
    "x1 = np.linspace(0.0, 379.0, len(plot[\"campaign\"]))\n",
    "y = plot[\"la\"].cumsum()\n",
    "l2 = plt.plot(x1, y, colors=['green'],labels=['LA'],display_legend=True)\n",
    "# plt.legend_location['top-right’]\n",
    "plt.show()"
   ]
  },
  {
   "cell_type": "markdown",
   "metadata": {},
   "source": [
    "### U Touch Attribution"
   ]
  },
  {
   "cell_type": "code",
   "execution_count": 28,
   "metadata": {},
   "outputs": [],
   "source": [
    "def U_touch_attribution(df):\n",
    "    campaign_count = len(df['campaign'].unique())\n",
    "    \n",
    "    def count_by_campaign(df):\n",
    "        counters = np.zeros(campaign_count)\n",
    "        for campaign_one_hot in df['campaigns'].values:\n",
    "            campaign_id = np.argmax(campaign_one_hot)\n",
    "            counters[campaign_id]  = counters[campaign_id] + campaign_one_hot[campaign_id]\n",
    "        return counters\n",
    "        \n",
    "    campaign_impressions = count_by_campaign(df)\n",
    "    \n",
    "    df_converted = df[df['conversion'] == 1]\n",
    "    df_converted['count'] = df_converted.groupby(['uid']).transform('count')['timestamp']\n",
    "    df_converted['U_attribution'] = df_converted['count'].transform(lambda x: .2/(x-2))\n",
    "    idx_min = df_converted.groupby(['uid'])['timestamp_norm'].transform(min) == df_converted['timestamp_norm']\n",
    "    idx_max = df_converted.groupby(['uid'])['timestamp_norm'].transform(max) == df_converted['timestamp_norm']\n",
    "    idx_min = idx_min.reset_index()\n",
    "    idx_max = idx_max.reset_index()\n",
    "    df_converted.loc[idx_min[idx_min['timestamp_norm'] == True]['index'].values,'U_attribution'] = 0.4\n",
    "    df_converted.loc[idx_max[idx_max['timestamp_norm'] == True]['index'].values,'U_attribution'] = 0.4\n",
    "    df_converted['campaigns'] = df_converted['campaigns'] * df_converted['U_attribution']\n",
    "\n",
    "    campaign_conversions = count_by_campaign(df_converted)\n",
    "        \n",
    "    return campaign_conversions / campaign_impressions\n",
    "    \n",
    "uta = U_touch_attribution(df_4)"
   ]
  },
  {
   "cell_type": "code",
   "execution_count": 29,
   "metadata": {
    "scrolled": true
   },
   "outputs": [
    {
     "data": {
      "image/png": "[encoded data removed]",
      "text/plain": [
       "<Figure size 1080x288 with 1 Axes>"
      ]
     },
     "metadata": {
      "needs_background": "light"
     },
     "output_type": "display_data"
    }
   ],
   "source": [
    "# Visualization of the attribution scores\n",
    "\n",
    "campaign_idx = range(0, len(df_4['campaign'].unique()))\n",
    "\n",
    "fig = plt.figure(figsize=(15,4))\n",
    "ax = fig.add_subplot(111)\n",
    "plt.bar( range(len(uta[campaign_idx])), uta[campaign_idx], label='UTA' )\n",
    "plt.xlabel('Campaign ID')\n",
    "plt.ylabel('Return per impression')\n",
    "plt.legend(loc='upper left')\n",
    "plt.show()"
   ]
  },
  {
   "cell_type": "code",
   "execution_count": 199,
   "metadata": {},
   "outputs": [
    {
     "data": {
      "application/vnd.jupyter.widget-view+json": {
       "model_id": "a60c54db582d4efe95bc2bc11ea8be71",
       "version_major": 2,
       "version_minor": 0
      },
      "text/plain": [
       "VBox(children=(Figure(axes=[Axis(scale=LinearScale()), Axis(orientation='vertical', scale=LinearScale())], fig…"
      ]
     },
     "metadata": {},
     "output_type": "display_data"
    }
   ],
   "source": [
    "fig = plt.figure()\n",
    "x1 = np.linspace(0.0, 379.0, len(plot[\"campaign\"]))\n",
    "y = plot[\"uta\"].cumsum()\n",
    "l2 = plt.plot(x1, y, colors=['blue'],labels=['UTA'],display_legend=True)\n",
    "# plt.legend_location['top-right’]\n",
    "plt.show()"
   ]
  },
  {
   "cell_type": "markdown",
   "metadata": {},
   "source": [
    "### Time Decay Attribution"
   ]
  },
  {
   "cell_type": "code",
   "execution_count": 30,
   "metadata": {},
   "outputs": [
    {
     "data": {
      "text/plain": [
       "\"import datetime\\n\\ndf_minority['transactionTime'] = pd.to_datetime(df_minority['transactionTime'], unit='s')\\ndf_minority['transactionTime'] = pd.to_datetime(df['transactionTime'], format = '%m/%d/%Y')\""
      ]
     },
     "execution_count": 30,
     "metadata": {},
     "output_type": "execute_result"
    }
   ],
   "source": [
    "'''import datetime\n",
    "\n",
    "df_minority['transactionTime'] = pd.to_datetime(df_minority['transactionTime'], unit='s')\n",
    "df_minority['transactionTime'] = pd.to_datetime(df['transactionTime'], format = '%m/%d/%Y')'''"
   ]
  },
  {
   "cell_type": "code",
   "execution_count": 31,
   "metadata": {
    "scrolled": false
   },
   "outputs": [],
   "source": [
    "#Ushaped testing\n",
    "\n",
    "df_minority = df_4[df_4['conversion'] == 1]\n",
    "df_minority['count'] = df_minority.groupby(['uid']).transform('count')['timestamp']\n",
    "df_minority['U_attribution'] = df_minority['count'].transform(lambda x: .2/(x-2))\n",
    "idx_min = df_minority.groupby(['uid'])['timestamp_norm'].transform(min) == df_minority['timestamp_norm']\n",
    "idx_max = df_minority.groupby(['uid'])['timestamp_norm'].transform(max) == df_minority['timestamp_norm']\n",
    "idx_min = idx_min.reset_index()\n",
    "idx_max = idx_max.reset_index()\n",
    "df_minority.loc[idx_min[idx_min['timestamp_norm'] == True]['index'].values,'U_attribution'] = 0.4\n",
    "df_minority.loc[idx_max[idx_max['timestamp_norm'] == True]['index'].values,'U_attribution'] = 0.4\n",
    "df_minority['campaigns'] = df_minority['campaigns'] * df_minority['U_attribution']"
   ]
  },
  {
   "cell_type": "code",
   "execution_count": 32,
   "metadata": {},
   "outputs": [],
   "source": [
    "# Linear testing\n",
    "df_minority = df_4[df_4['conversion'] == 1]\n",
    "df_minority['count'] = df_minority.groupby(['uid']).transform('count')['timestamp']\n",
    "df_minority['U_attribution'] = df_minority['count'].transform(lambda x: 1/x)\n",
    "# idx_min = df_minority.groupby(['uid'])['timestamp_norm'].transform(min) == df_minority['timestamp_norm']\n",
    "# idx_max = df_minority.groupby(['uid'])['timestamp_norm'].transform(max) == df_minority['timestamp_norm']\n",
    "# idx_min = idx_min.reset_index()\n",
    "# idx_max = idx_max.reset_index()\n",
    "# df_minority.loc[idx_min[idx_min['timestamp_norm'] == True]['index'].values,'U_attribution'] = 0.4\n",
    "# df_minority.loc[idx_max[idx_max['timestamp_norm'] == True]['index'].values,'U_attribution'] = 0.4\n",
    "df_minority['campaigns'] = df_minority['campaigns'] * df_minority['U_attribution']"
   ]
  },
  {
   "cell_type": "code",
   "execution_count": 33,
   "metadata": {
    "scrolled": true
   },
   "outputs": [
    {
     "data": {
      "text/html": [
       "<div>\n",
       "<style scoped>\n",
       "    .dataframe tbody tr th:only-of-type {\n",
       "        vertical-align: middle;\n",
       "    }\n",
       "\n",
       "    .dataframe tbody tr th {\n",
       "        vertical-align: top;\n",
       "    }\n",
       "\n",
       "    .dataframe thead th {\n",
       "        text-align: right;\n",
       "    }\n",
       "</style>\n",
       "<table border=\"1\" class=\"dataframe\">\n",
       "  <thead>\n",
       "    <tr style=\"text-align: right;\">\n",
       "      <th></th>\n",
       "      <th>timestamp</th>\n",
       "      <th>uid</th>\n",
       "      <th>campaign</th>\n",
       "      <th>conversion</th>\n",
       "      <th>conversion_timestamp</th>\n",
       "      <th>conversion_id</th>\n",
       "      <th>attribution</th>\n",
       "      <th>click</th>\n",
       "      <th>click_pos</th>\n",
       "      <th>click_nb</th>\n",
       "      <th>...</th>\n",
       "      <th>cat7</th>\n",
       "      <th>cat8</th>\n",
       "      <th>cat9</th>\n",
       "      <th>jid</th>\n",
       "      <th>timestamp_norm</th>\n",
       "      <th>time_since_last_click_norm</th>\n",
       "      <th>cats</th>\n",
       "      <th>campaigns</th>\n",
       "      <th>count</th>\n",
       "      <th>U_attribution</th>\n",
       "    </tr>\n",
       "  </thead>\n",
       "  <tbody>\n",
       "    <tr>\n",
       "      <td>12466</td>\n",
       "      <td>2304824</td>\n",
       "      <td>273804</td>\n",
       "      <td>29389116</td>\n",
       "      <td>1</td>\n",
       "      <td>2344041</td>\n",
       "      <td>18367791</td>\n",
       "      <td>1</td>\n",
       "      <td>1</td>\n",
       "      <td>2</td>\n",
       "      <td>3</td>\n",
       "      <td>...</td>\n",
       "      <td>17464451</td>\n",
       "      <td>29196072</td>\n",
       "      <td>21091111</td>\n",
       "      <td>273804_18367791</td>\n",
       "      <td>0.862842</td>\n",
       "      <td>0.115959</td>\n",
       "      <td>[0.0, 0.0, 0.0, 0.0, 0.0, 0.0, 0.0, 1.0, 0.0, ...</td>\n",
       "      <td>[0.3333333333333333, 0.0, 0.0, 0.0, 0.0, 0.0, ...</td>\n",
       "      <td>3</td>\n",
       "      <td>0.333333</td>\n",
       "    </tr>\n",
       "    <tr>\n",
       "      <td>12621</td>\n",
       "      <td>2345072</td>\n",
       "      <td>273804</td>\n",
       "      <td>31129938</td>\n",
       "      <td>1</td>\n",
       "      <td>2869520</td>\n",
       "      <td>25187625</td>\n",
       "      <td>1</td>\n",
       "      <td>1</td>\n",
       "      <td>4</td>\n",
       "      <td>7</td>\n",
       "      <td>...</td>\n",
       "      <td>15169534</td>\n",
       "      <td>29196072</td>\n",
       "      <td>8661623</td>\n",
       "      <td>273804_25187625</td>\n",
       "      <td>0.877910</td>\n",
       "      <td>0.205569</td>\n",
       "      <td>[0.0, 1.0, 0.0, 0.0, 0.0, 0.0, 0.0, 0.0, 0.0, ...</td>\n",
       "      <td>[0.0, 0.3333333333333333, 0.0, 0.0, 0.0, 0.0, ...</td>\n",
       "      <td>3</td>\n",
       "      <td>0.333333</td>\n",
       "    </tr>\n",
       "    <tr>\n",
       "      <td>8174</td>\n",
       "      <td>1534653</td>\n",
       "      <td>273804</td>\n",
       "      <td>31129939</td>\n",
       "      <td>1</td>\n",
       "      <td>1812398</td>\n",
       "      <td>7534060</td>\n",
       "      <td>0</td>\n",
       "      <td>1</td>\n",
       "      <td>2</td>\n",
       "      <td>3</td>\n",
       "      <td>...</td>\n",
       "      <td>18788452</td>\n",
       "      <td>29196072</td>\n",
       "      <td>21091111</td>\n",
       "      <td>273804_7534060</td>\n",
       "      <td>0.574518</td>\n",
       "      <td>0.147162</td>\n",
       "      <td>[0.0, 0.0, 0.0, 1.0, 0.0, 0.0, 0.0, 0.0, 0.0, ...</td>\n",
       "      <td>[0.0, 0.0, 0.3333333333333333, 0.0, 0.0, 0.0, ...</td>\n",
       "      <td>3</td>\n",
       "      <td>0.333333</td>\n",
       "    </tr>\n",
       "  </tbody>\n",
       "</table>\n",
       "<p>3 rows × 29 columns</p>\n",
       "</div>"
      ],
      "text/plain": [
       "       timestamp     uid  campaign  conversion  conversion_timestamp  \\\n",
       "12466    2304824  273804  29389116           1               2344041   \n",
       "12621    2345072  273804  31129938           1               2869520   \n",
       "8174     1534653  273804  31129939           1               1812398   \n",
       "\n",
       "       conversion_id  attribution  click  click_pos  click_nb  ...      cat7  \\\n",
       "12466       18367791            1      1          2         3  ...  17464451   \n",
       "12621       25187625            1      1          4         7  ...  15169534   \n",
       "8174         7534060            0      1          2         3  ...  18788452   \n",
       "\n",
       "           cat8      cat9              jid  timestamp_norm  \\\n",
       "12466  29196072  21091111  273804_18367791        0.862842   \n",
       "12621  29196072   8661623  273804_25187625        0.877910   \n",
       "8174   29196072  21091111   273804_7534060        0.574518   \n",
       "\n",
       "       time_since_last_click_norm  \\\n",
       "12466                    0.115959   \n",
       "12621                    0.205569   \n",
       "8174                     0.147162   \n",
       "\n",
       "                                                    cats  \\\n",
       "12466  [0.0, 0.0, 0.0, 0.0, 0.0, 0.0, 0.0, 1.0, 0.0, ...   \n",
       "12621  [0.0, 1.0, 0.0, 0.0, 0.0, 0.0, 0.0, 0.0, 0.0, ...   \n",
       "8174   [0.0, 0.0, 0.0, 1.0, 0.0, 0.0, 0.0, 0.0, 0.0, ...   \n",
       "\n",
       "                                               campaigns  count  U_attribution  \n",
       "12466  [0.3333333333333333, 0.0, 0.0, 0.0, 0.0, 0.0, ...      3       0.333333  \n",
       "12621  [0.0, 0.3333333333333333, 0.0, 0.0, 0.0, 0.0, ...      3       0.333333  \n",
       "8174   [0.0, 0.0, 0.3333333333333333, 0.0, 0.0, 0.0, ...      3       0.333333  \n",
       "\n",
       "[3 rows x 29 columns]"
      ]
     },
     "execution_count": 33,
     "metadata": {},
     "output_type": "execute_result"
    }
   ],
   "source": [
    "df_minority[df_minority['uid'] == 273804]"
   ]
  },
  {
   "cell_type": "code",
   "execution_count": 34,
   "metadata": {},
   "outputs": [],
   "source": [
    "# Time Decay"
   ]
  },
  {
   "cell_type": "code",
   "execution_count": 35,
   "metadata": {
    "scrolled": true
   },
   "outputs": [],
   "source": [
    "df_minority['timestamp_max'] = df_minority.groupby(['uid'])['timestamp'].transform(max)\n",
    "df_minority['days'] = df_minority['timestamp_max'] - df_minority['timestamp']"
   ]
  },
  {
   "cell_type": "code",
   "execution_count": 36,
   "metadata": {},
   "outputs": [],
   "source": [
    "df_minority.astype({'days': 'float64'}).dtypes\n",
    "df_minority['day'] = np.floor(df_minority.days / 86400.).astype(float)"
   ]
  },
  {
   "cell_type": "code",
   "execution_count": 37,
   "metadata": {},
   "outputs": [],
   "source": [
    "df_minority['time_decay_attribution'] =df_minority['days'].transform(lambda x:  2**(-x/7))"
   ]
  },
  {
   "cell_type": "code",
   "execution_count": 38,
   "metadata": {},
   "outputs": [
    {
     "data": {
      "text/html": [
       "<div>\n",
       "<style scoped>\n",
       "    .dataframe tbody tr th:only-of-type {\n",
       "        vertical-align: middle;\n",
       "    }\n",
       "\n",
       "    .dataframe tbody tr th {\n",
       "        vertical-align: top;\n",
       "    }\n",
       "\n",
       "    .dataframe thead th {\n",
       "        text-align: right;\n",
       "    }\n",
       "</style>\n",
       "<table border=\"1\" class=\"dataframe\">\n",
       "  <thead>\n",
       "    <tr style=\"text-align: right;\">\n",
       "      <th></th>\n",
       "      <th>timestamp</th>\n",
       "      <th>uid</th>\n",
       "      <th>campaign</th>\n",
       "      <th>conversion</th>\n",
       "      <th>conversion_timestamp</th>\n",
       "      <th>conversion_id</th>\n",
       "      <th>attribution</th>\n",
       "      <th>click</th>\n",
       "      <th>click_pos</th>\n",
       "      <th>click_nb</th>\n",
       "      <th>...</th>\n",
       "      <th>timestamp_norm</th>\n",
       "      <th>time_since_last_click_norm</th>\n",
       "      <th>cats</th>\n",
       "      <th>campaigns</th>\n",
       "      <th>count</th>\n",
       "      <th>U_attribution</th>\n",
       "      <th>timestamp_max</th>\n",
       "      <th>days</th>\n",
       "      <th>day</th>\n",
       "      <th>time_decay_attribution</th>\n",
       "    </tr>\n",
       "  </thead>\n",
       "  <tbody>\n",
       "    <tr>\n",
       "      <td>12466</td>\n",
       "      <td>2304824</td>\n",
       "      <td>273804</td>\n",
       "      <td>29389116</td>\n",
       "      <td>1</td>\n",
       "      <td>2344041</td>\n",
       "      <td>18367791</td>\n",
       "      <td>1</td>\n",
       "      <td>1</td>\n",
       "      <td>2</td>\n",
       "      <td>3</td>\n",
       "      <td>...</td>\n",
       "      <td>0.862842</td>\n",
       "      <td>0.115959</td>\n",
       "      <td>[0.0, 0.0, 0.0, 0.0, 0.0, 0.0, 0.0, 1.0, 0.0, ...</td>\n",
       "      <td>[0.3333333333333333, 0.0, 0.0, 0.0, 0.0, 0.0, ...</td>\n",
       "      <td>3</td>\n",
       "      <td>0.333333</td>\n",
       "      <td>2345072</td>\n",
       "      <td>40248</td>\n",
       "      <td>0.0</td>\n",
       "      <td>0.0</td>\n",
       "    </tr>\n",
       "    <tr>\n",
       "      <td>12621</td>\n",
       "      <td>2345072</td>\n",
       "      <td>273804</td>\n",
       "      <td>31129938</td>\n",
       "      <td>1</td>\n",
       "      <td>2869520</td>\n",
       "      <td>25187625</td>\n",
       "      <td>1</td>\n",
       "      <td>1</td>\n",
       "      <td>4</td>\n",
       "      <td>7</td>\n",
       "      <td>...</td>\n",
       "      <td>0.877910</td>\n",
       "      <td>0.205569</td>\n",
       "      <td>[0.0, 1.0, 0.0, 0.0, 0.0, 0.0, 0.0, 0.0, 0.0, ...</td>\n",
       "      <td>[0.0, 0.3333333333333333, 0.0, 0.0, 0.0, 0.0, ...</td>\n",
       "      <td>3</td>\n",
       "      <td>0.333333</td>\n",
       "      <td>2345072</td>\n",
       "      <td>0</td>\n",
       "      <td>0.0</td>\n",
       "      <td>1.0</td>\n",
       "    </tr>\n",
       "    <tr>\n",
       "      <td>8174</td>\n",
       "      <td>1534653</td>\n",
       "      <td>273804</td>\n",
       "      <td>31129939</td>\n",
       "      <td>1</td>\n",
       "      <td>1812398</td>\n",
       "      <td>7534060</td>\n",
       "      <td>0</td>\n",
       "      <td>1</td>\n",
       "      <td>2</td>\n",
       "      <td>3</td>\n",
       "      <td>...</td>\n",
       "      <td>0.574518</td>\n",
       "      <td>0.147162</td>\n",
       "      <td>[0.0, 0.0, 0.0, 1.0, 0.0, 0.0, 0.0, 0.0, 0.0, ...</td>\n",
       "      <td>[0.0, 0.0, 0.3333333333333333, 0.0, 0.0, 0.0, ...</td>\n",
       "      <td>3</td>\n",
       "      <td>0.333333</td>\n",
       "      <td>2345072</td>\n",
       "      <td>810419</td>\n",
       "      <td>9.0</td>\n",
       "      <td>0.0</td>\n",
       "    </tr>\n",
       "    <tr>\n",
       "      <td>5524</td>\n",
       "      <td>1056761</td>\n",
       "      <td>292728</td>\n",
       "      <td>11321105</td>\n",
       "      <td>1</td>\n",
       "      <td>1923141</td>\n",
       "      <td>9243110</td>\n",
       "      <td>0</td>\n",
       "      <td>1</td>\n",
       "      <td>0</td>\n",
       "      <td>1</td>\n",
       "      <td>...</td>\n",
       "      <td>0.395613</td>\n",
       "      <td>0.000000</td>\n",
       "      <td>[0.0, 1.0, 0.0, 0.0, 0.0, 0.0, 0.0, 0.0, 0.0, ...</td>\n",
       "      <td>[0.0, 0.0, 0.0, 0.3333333333333333, 0.0, 0.0, ...</td>\n",
       "      <td>3</td>\n",
       "      <td>0.333333</td>\n",
       "      <td>1056761</td>\n",
       "      <td>0</td>\n",
       "      <td>0.0</td>\n",
       "      <td>1.0</td>\n",
       "    </tr>\n",
       "    <tr>\n",
       "      <td>2723</td>\n",
       "      <td>546502</td>\n",
       "      <td>292728</td>\n",
       "      <td>15321102</td>\n",
       "      <td>1</td>\n",
       "      <td>722273</td>\n",
       "      <td>28691136</td>\n",
       "      <td>0</td>\n",
       "      <td>1</td>\n",
       "      <td>0</td>\n",
       "      <td>1</td>\n",
       "      <td>...</td>\n",
       "      <td>0.204591</td>\n",
       "      <td>0.000000</td>\n",
       "      <td>[0.0, 0.0, 0.0, 1.0, 0.0, 0.0, 0.0, 0.0, 0.0, ...</td>\n",
       "      <td>[0.0, 0.0, 0.0, 0.0, 0.3333333333333333, 0.0, ...</td>\n",
       "      <td>3</td>\n",
       "      <td>0.333333</td>\n",
       "      <td>1056761</td>\n",
       "      <td>510259</td>\n",
       "      <td>5.0</td>\n",
       "      <td>0.0</td>\n",
       "    </tr>\n",
       "  </tbody>\n",
       "</table>\n",
       "<p>5 rows × 33 columns</p>\n",
       "</div>"
      ],
      "text/plain": [
       "       timestamp     uid  campaign  conversion  conversion_timestamp  \\\n",
       "12466    2304824  273804  29389116           1               2344041   \n",
       "12621    2345072  273804  31129938           1               2869520   \n",
       "8174     1534653  273804  31129939           1               1812398   \n",
       "5524     1056761  292728  11321105           1               1923141   \n",
       "2723      546502  292728  15321102           1                722273   \n",
       "\n",
       "       conversion_id  attribution  click  click_pos  click_nb  ...  \\\n",
       "12466       18367791            1      1          2         3  ...   \n",
       "12621       25187625            1      1          4         7  ...   \n",
       "8174         7534060            0      1          2         3  ...   \n",
       "5524         9243110            0      1          0         1  ...   \n",
       "2723        28691136            0      1          0         1  ...   \n",
       "\n",
       "       timestamp_norm  time_since_last_click_norm  \\\n",
       "12466        0.862842                    0.115959   \n",
       "12621        0.877910                    0.205569   \n",
       "8174         0.574518                    0.147162   \n",
       "5524         0.395613                    0.000000   \n",
       "2723         0.204591                    0.000000   \n",
       "\n",
       "                                                    cats  \\\n",
       "12466  [0.0, 0.0, 0.0, 0.0, 0.0, 0.0, 0.0, 1.0, 0.0, ...   \n",
       "12621  [0.0, 1.0, 0.0, 0.0, 0.0, 0.0, 0.0, 0.0, 0.0, ...   \n",
       "8174   [0.0, 0.0, 0.0, 1.0, 0.0, 0.0, 0.0, 0.0, 0.0, ...   \n",
       "5524   [0.0, 1.0, 0.0, 0.0, 0.0, 0.0, 0.0, 0.0, 0.0, ...   \n",
       "2723   [0.0, 0.0, 0.0, 1.0, 0.0, 0.0, 0.0, 0.0, 0.0, ...   \n",
       "\n",
       "                                               campaigns  count  \\\n",
       "12466  [0.3333333333333333, 0.0, 0.0, 0.0, 0.0, 0.0, ...      3   \n",
       "12621  [0.0, 0.3333333333333333, 0.0, 0.0, 0.0, 0.0, ...      3   \n",
       "8174   [0.0, 0.0, 0.3333333333333333, 0.0, 0.0, 0.0, ...      3   \n",
       "5524   [0.0, 0.0, 0.0, 0.3333333333333333, 0.0, 0.0, ...      3   \n",
       "2723   [0.0, 0.0, 0.0, 0.0, 0.3333333333333333, 0.0, ...      3   \n",
       "\n",
       "       U_attribution  timestamp_max    days  day  time_decay_attribution  \n",
       "12466       0.333333        2345072   40248  0.0                     0.0  \n",
       "12621       0.333333        2345072       0  0.0                     1.0  \n",
       "8174        0.333333        2345072  810419  9.0                     0.0  \n",
       "5524        0.333333        1056761       0  0.0                     1.0  \n",
       "2723        0.333333        1056761  510259  5.0                     0.0  \n",
       "\n",
       "[5 rows x 33 columns]"
      ]
     },
     "execution_count": 38,
     "metadata": {},
     "output_type": "execute_result"
    }
   ],
   "source": [
    "df_minority.head()"
   ]
  },
  {
   "cell_type": "code",
   "execution_count": 39,
   "metadata": {},
   "outputs": [],
   "source": [
    "# Visualization"
   ]
  },
  {
   "cell_type": "code",
   "execution_count": 59,
   "metadata": {},
   "outputs": [],
   "source": [
    "import ipywidgets as widgets\n",
    "import numpy as np\n",
    "from bqplot import pyplot as plt\n",
    "import bqplot\n",
    "import ipyvuetify as v"
   ]
  },
  {
   "cell_type": "code",
   "execution_count": 114,
   "metadata": {},
   "outputs": [
    {
     "data": {
      "application/vnd.jupyter.widget-view+json": {
       "model_id": "1c8c6f888422464e822cf05d75e5b9b4",
       "version_major": 2,
       "version_minor": 0
      },
      "text/plain": [
       "Figure(axes=[Axis(scale=LinearScale(), side='bottom'), Axis(orientation='vertical', scale=LinearScale(max=1.0,…"
      ]
     },
     "metadata": {},
     "output_type": "display_data"
    }
   ],
   "source": [
    "y = lta\n",
    "x = np.linspace(0, 500, len(df_4['campaign'].unique()))\n",
    "plt.ylim(0.0, 1.0)\n",
    "hist = plt.plot(x, y)\n",
    "# hist.scales['sample'].min = float(y.min())\n",
    "# hist.scales['sample'].max = float(y.max())\n",
    "# fig.layout.width = 'auto'\n",
    "# fig.layout.height = 'auto'\n",
    "# fig.layout.min_height = '300px' # so it shows nicely in the notebook\n",
    "fig"
   ]
  },
  {
   "cell_type": "code",
   "execution_count": 70,
   "metadata": {},
   "outputs": [
    {
     "data": {
      "application/vnd.jupyter.widget-view+json": {
       "model_id": "87435d52e9e34ce5b4319a2bab74539a",
       "version_major": 2,
       "version_minor": 0
      },
      "text/plain": [
       "Slider(class_='px-4', thumb_label='always', v_model=30)"
      ]
     },
     "metadata": {},
     "output_type": "display_data"
    }
   ],
   "source": [
    "slider = v.Slider(thumb_label='always', class_=\"px-4\", v_model=30)\n",
    "widgets.link((slider, 'v_model'), (hist, 'bins'))\n",
    "slider"
   ]
  },
  {
   "cell_type": "code",
   "execution_count": 154,
   "metadata": {},
   "outputs": [],
   "source": [
    "plot = pd.DataFrame(list(zip(df_4['campaign'].unique(), lta, uta, fta, la)), columns = ['campaign','lta', 'uta', 'fta', 'la'])"
   ]
  },
  {
   "cell_type": "code",
   "execution_count": 155,
   "metadata": {},
   "outputs": [
    {
     "data": {
      "text/html": [
       "<div>\n",
       "<style scoped>\n",
       "    .dataframe tbody tr th:only-of-type {\n",
       "        vertical-align: middle;\n",
       "    }\n",
       "\n",
       "    .dataframe tbody tr th {\n",
       "        vertical-align: top;\n",
       "    }\n",
       "\n",
       "    .dataframe thead th {\n",
       "        text-align: right;\n",
       "    }\n",
       "</style>\n",
       "<table border=\"1\" class=\"dataframe\">\n",
       "  <thead>\n",
       "    <tr style=\"text-align: right;\">\n",
       "      <th></th>\n",
       "      <th>campaign</th>\n",
       "      <th>lta</th>\n",
       "      <th>uta</th>\n",
       "      <th>fta</th>\n",
       "      <th>la</th>\n",
       "    </tr>\n",
       "  </thead>\n",
       "  <tbody>\n",
       "    <tr>\n",
       "      <td>0</td>\n",
       "      <td>29389116</td>\n",
       "      <td>0.100000</td>\n",
       "      <td>0.100</td>\n",
       "      <td>0.000000</td>\n",
       "      <td>0.150000</td>\n",
       "    </tr>\n",
       "    <tr>\n",
       "      <td>1</td>\n",
       "      <td>31129938</td>\n",
       "      <td>0.200000</td>\n",
       "      <td>0.180</td>\n",
       "      <td>0.200000</td>\n",
       "      <td>0.150000</td>\n",
       "    </tr>\n",
       "    <tr>\n",
       "      <td>2</td>\n",
       "      <td>31129939</td>\n",
       "      <td>0.000000</td>\n",
       "      <td>0.125</td>\n",
       "      <td>0.250000</td>\n",
       "      <td>0.145833</td>\n",
       "    </tr>\n",
       "    <tr>\n",
       "      <td>3</td>\n",
       "      <td>11321105</td>\n",
       "      <td>0.266667</td>\n",
       "      <td>0.140</td>\n",
       "      <td>0.066667</td>\n",
       "      <td>0.122222</td>\n",
       "    </tr>\n",
       "    <tr>\n",
       "      <td>4</td>\n",
       "      <td>15321102</td>\n",
       "      <td>0.100000</td>\n",
       "      <td>0.120</td>\n",
       "      <td>0.100000</td>\n",
       "      <td>0.133333</td>\n",
       "    </tr>\n",
       "  </tbody>\n",
       "</table>\n",
       "</div>"
      ],
      "text/plain": [
       "   campaign       lta    uta       fta        la\n",
       "0  29389116  0.100000  0.100  0.000000  0.150000\n",
       "1  31129938  0.200000  0.180  0.200000  0.150000\n",
       "2  31129939  0.000000  0.125  0.250000  0.145833\n",
       "3  11321105  0.266667  0.140  0.066667  0.122222\n",
       "4  15321102  0.100000  0.120  0.100000  0.133333"
      ]
     },
     "execution_count": 155,
     "metadata": {},
     "output_type": "execute_result"
    }
   ],
   "source": [
    "plot.head()\n",
    "#srs1[\"lta\"]\n",
    "# srs1[\"campaign\"]"
   ]
  },
  {
   "cell_type": "code",
   "execution_count": 197,
   "metadata": {
    "scrolled": true
   },
   "outputs": [
    {
     "data": {
      "application/vnd.jupyter.widget-view+json": {
       "model_id": "368255b1f7164f37a753ce7bbbb7bced",
       "version_major": 2,
       "version_minor": 0
      },
      "text/plain": [
       "VBox(children=(Figure(axes=[Axis(scale=LinearScale()), Axis(orientation='vertical', scale=LinearScale())], fig…"
      ]
     },
     "metadata": {},
     "output_type": "display_data"
    }
   ],
   "source": [
    "from bqplot import pyplot as plt\n",
    "%matplotlib inline\n",
    "plt.figure(title='Atrribution Comparision')\n",
    "x = np.linspace(0.0, 379.0, len(plot[\"campaign\"]))\n",
    "y1 = plot[\"lta\"].cumsum()\n",
    "y2 = plot[\"uta\"].cumsum()\n",
    "y3 = plot[\"fta\"].cumsum()\n",
    "y4 = plot[\"la\"].cumsum()\n",
    "l1 = plt.plot(x, y1, colors=['hotpink'],labels=['LTA'],display_legend=True)\n",
    "l2 = plt.plot(x, y2, colors=['red'],labels=['UTA'],display_legend=True)\n",
    "l3 = plt.plot(x, y3, colors=['green'],labels=['FTA'],display_legend=True)\n",
    "l4 = plt.plot(x, y4, colors=['blue'],labels=['LA'],display_legend=True)\n",
    "# plt.legend_location['top-right’]\n",
    "plt.show()"
   ]
  },
  {
   "cell_type": "code",
   "execution_count": 167,
   "metadata": {},
   "outputs": [
    {
     "data": {
      "text/plain": [
       "48.219093372941884"
      ]
     },
     "execution_count": 167,
     "metadata": {},
     "output_type": "execute_result"
    }
   ],
   "source": [
    "plot['fta'].sum()"
   ]
  },
  {
   "cell_type": "code",
   "execution_count": null,
   "metadata": {},
   "outputs": [],
   "source": []
  },
  {
   "cell_type": "code",
   "execution_count": null,
   "metadata": {},
   "outputs": [],
   "source": []
  },
  {
   "cell_type": "code",
   "execution_count": null,
   "metadata": {},
   "outputs": [],
   "source": [
    "campaign_idx = range(0, len(df_4['campaign'].unique()))\n",
    "\n",
    "fig = plt.figure(figsize=(15,4))\n",
    "ax = fig.add_subplot(111)\n",
    "plt.bar( range(len(uta[campaign_idx])), uta[campaign_idx], label='UTA' )\n",
    "plt.xlabel('Campaign ID')\n",
    "plt.ylabel('Return per impression')\n",
    "plt.legend(loc='upper left')\n",
    "plt.show()"
   ]
  },
  {
   "cell_type": "code",
   "execution_count": null,
   "metadata": {},
   "outputs": [],
   "source": []
  }
 ],
 "metadata": {
  "kernelspec": {
   "display_name": "Python 3",
   "language": "python",
   "name": "python3"
  },
  "language_info": {
   "codemirror_mode": {
    "name": "ipython",
    "version": 3
   },
   "file_extension": ".py",
   "mimetype": "text/x-python",
   "name": "python",
   "nbconvert_exporter": "python",
   "pygments_lexer": "ipython3",
   "version": "3.7.4"
  }
 },
 "nbformat": 4,
 "nbformat_minor": 2
}
